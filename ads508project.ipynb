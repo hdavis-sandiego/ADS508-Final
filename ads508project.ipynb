{
 "cells": [
  {
   "cell_type": "markdown",
   "id": "5cc98689-261a-44f8-8b69-ad8a06532e9e",
   "metadata": {
    "tags": []
   },
   "source": [
    "# ADS-508 Project Notebook"
   ]
  },
  {
   "cell_type": "code",
   "execution_count": 5,
   "id": "fa2f38a1-4b73-413a-a548-2aa10c99d0e7",
   "metadata": {
    "tags": []
   },
   "outputs": [],
   "source": [
    "import numpy as np\n",
    "import pandas as pd\n",
    "import matplotlib.pyplot as plt\n",
    "import seaborn as sns\n",
    "import matplotlib.ticker as ticker\n",
    "import boto3\n",
    "import sagemaker\n",
    "import csv\n",
    "import pandas as pd"
   ]
  },
  {
   "cell_type": "code",
   "execution_count": 6,
   "id": "ce01e0bc-0db2-455f-89cc-85c5287500ac",
   "metadata": {
    "tags": []
   },
   "outputs": [],
   "source": [
    "sagemaker_session = sagemaker.Session()\n",
    "role = sagemaker.get_execution_role()\n",
    "bucket = sagemaker_session.default_bucket()\n",
    "region = boto3.Session().region_name\n",
    "\n",
    "sm = boto3.Session().client(service_name=\"sagemaker\", region_name=region)"
   ]
  },
  {
   "cell_type": "markdown",
   "id": "51179813-1a07-4524-91af-9f196052bbc0",
   "metadata": {
    "tags": []
   },
   "source": [
    "## Import\n",
    "### Importing Data from S3 Bucket"
   ]
  },
  {
   "cell_type": "code",
   "execution_count": 7,
   "id": "ce0bc125-b7b8-4feb-8c5a-3d98b67a87ff",
   "metadata": {
    "tags": []
   },
   "outputs": [
    {
     "name": "stdout",
     "output_type": "stream",
     "text": [
      "download: s3://aurelia-resort-data/airbnb/neighbourhoods.csv to data/airbnb/neighbourhoods.csv\n",
      "download: s3://aurelia-resort-data/income/disp_income.csv to data/income/disp_income.csv\n",
      "download: s3://aurelia-resort-data/airbnb/listings.csv to data/airbnb/listings.csv\n",
      "download: s3://aurelia-resort-data/travel/airline_2018.csv to data/travel/airline_2018.csv\n",
      "download: s3://aurelia-resort-data/travel/airline_2017.csv to data/travel/airline_2017.csv\n",
      "download: s3://aurelia-resort-data/travel/airline_2016.csv to data/travel/airline_2016.csv\n",
      "download: s3://aurelia-resort-data/travel/airline_2020.csv to data/travel/airline_2020.csv\n",
      "download: s3://aurelia-resort-data/travel/airline_2019.csv to data/travel/airline_2019.csv\n",
      "download: s3://aurelia-resort-data/airbnb/reviews.csv to data/airbnb/reviews.csv\n",
      "download: s3://aurelia-resort-data/travel/airline_2022.csv to data/travel/airline_2022.csv\n",
      "download: s3://aurelia-resort-data/travel/airline_data_archived.csv to data/travel/airline_data_archived.csv\n",
      "download: s3://aurelia-resort-data/travel/airline_2021.csv to data/travel/airline_2021.csv\n",
      "download: s3://aurelia-resort-data/travel/trip_data2.csv to data/travel/trip_data2.csv\n",
      "download: s3://aurelia-resort-data/travel/trip_data.csv to data/travel/trip_data.csv\n"
     ]
    }
   ],
   "source": [
    "!aws s3 cp --recursive s3://aurelia-resort-data/ ./data/"
   ]
  },
  {
   "cell_type": "markdown",
   "id": "49d3bdd4-54f5-477c-b3be-7a9df37caa6a",
   "metadata": {
    "tags": []
   },
   "source": [
    "### Ingesting Data via Pandas"
   ]
  },
  {
   "cell_type": "code",
   "execution_count": 8,
   "id": "74ef427c-32b5-43f5-980c-3b6441654d35",
   "metadata": {
    "tags": []
   },
   "outputs": [],
   "source": [
    "airline = pd.concat(\n",
    "    map(pd.read_csv, [\"./data/travel/airline_2022.csv\", \"./data/travel/airline_2021.csv\",\n",
    "                     \"./data/travel/airline_2020.csv\", \"./data/travel/airline_2019.csv\",\n",
    "                     \"./data/travel/airline_2018.csv\", \"./data/travel/airline_2017.csv\", \n",
    "                     \"./data/travel/airline_2016.csv\"]),\n",
    "    ignore_index=True)\n",
    "\n",
    "tripsurvey = pd.read_csv(\"./data/travel/trip_data2.csv\")\n",
    "\n",
    "airbnb_neigh = pd.read_csv(\"./data/airbnb/neighbourhoods.csv\")\n",
    "\n",
    "airbnb_reviews = pd.read_csv(\"./data/airbnb/reviews.csv\")"
   ]
  },
  {
   "cell_type": "markdown",
   "id": "b2f83de9-20bd-4450-b9d6-0cbb373821e2",
   "metadata": {},
   "source": [
    "## EDA"
   ]
  },
  {
   "cell_type": "markdown",
   "id": "7d6ab03f-ce0d-4f29-b676-eac1aa1fa2d3",
   "metadata": {},
   "source": [
    "### Data Shapes"
   ]
  },
  {
   "cell_type": "code",
   "execution_count": 9,
   "id": "8499b9c6-f2a1-46bb-abbc-94962319eee0",
   "metadata": {
    "tags": []
   },
   "outputs": [
    {
     "data": {
      "text/plain": [
       "(1741433, 12)"
      ]
     },
     "execution_count": 9,
     "metadata": {},
     "output_type": "execute_result"
    }
   ],
   "source": [
    "airline.shape"
   ]
  },
  {
   "cell_type": "code",
   "execution_count": 10,
   "id": "a31110f5-3b31-428c-af98-e2db88d96d03",
   "metadata": {
    "tags": []
   },
   "outputs": [
    {
     "data": {
      "text/plain": [
       "(134148, 19)"
      ]
     },
     "execution_count": 10,
     "metadata": {},
     "output_type": "execute_result"
    }
   ],
   "source": [
    "tripsurvey.shape"
   ]
  },
  {
   "cell_type": "code",
   "execution_count": 11,
   "id": "ff1be66f-1cb5-4c8a-974a-bea507905038",
   "metadata": {
    "tags": []
   },
   "outputs": [
    {
     "data": {
      "text/plain": [
       "(39, 2)"
      ]
     },
     "execution_count": 11,
     "metadata": {},
     "output_type": "execute_result"
    }
   ],
   "source": [
    "airbnb_neigh.shape"
   ]
  },
  {
   "cell_type": "code",
   "execution_count": 12,
   "id": "76589840-7579-4c88-b512-e08ed8f33d9c",
   "metadata": {
    "tags": []
   },
   "outputs": [
    {
     "data": {
      "text/plain": [
       "(321578, 6)"
      ]
     },
     "execution_count": 12,
     "metadata": {},
     "output_type": "execute_result"
    }
   ],
   "source": [
    "airbnb_reviews.shape"
   ]
  },
  {
   "cell_type": "markdown",
   "id": "c48d6f7a-9c9c-4f6f-a092-4a76f579adc0",
   "metadata": {},
   "source": [
    "### Data Previews"
   ]
  },
  {
   "cell_type": "code",
   "execution_count": 13,
   "id": "31c50805-bd66-4c25-9439-6c34b01cdb23",
   "metadata": {
    "tags": []
   },
   "outputs": [
    {
     "data": {
      "text/html": [
       "<div>\n",
       "<style scoped>\n",
       "    .dataframe tbody tr th:only-of-type {\n",
       "        vertical-align: middle;\n",
       "    }\n",
       "\n",
       "    .dataframe tbody tr th {\n",
       "        vertical-align: top;\n",
       "    }\n",
       "\n",
       "    .dataframe thead th {\n",
       "        text-align: right;\n",
       "    }\n",
       "</style>\n",
       "<table border=\"1\" class=\"dataframe\">\n",
       "  <thead>\n",
       "    <tr style=\"text-align: right;\">\n",
       "      <th></th>\n",
       "      <th>PASSENGERS</th>\n",
       "      <th>ORIGIN_CITY_NAME</th>\n",
       "      <th>ORIGIN_STATE_NM</th>\n",
       "      <th>ORIGIN_WAC</th>\n",
       "      <th>DEST</th>\n",
       "      <th>DEST_CITY_NAME</th>\n",
       "      <th>DEST_STATE_NM</th>\n",
       "      <th>YEAR</th>\n",
       "      <th>QUARTER</th>\n",
       "      <th>MONTH</th>\n",
       "      <th>DISTANCE_GROUP</th>\n",
       "      <th>CLASS</th>\n",
       "    </tr>\n",
       "  </thead>\n",
       "  <tbody>\n",
       "    <tr>\n",
       "      <th>0</th>\n",
       "      <td>0.0</td>\n",
       "      <td>Aberdeen, SD</td>\n",
       "      <td>South Dakota</td>\n",
       "      <td>67</td>\n",
       "      <td>FSD</td>\n",
       "      <td>Sioux Falls, SD</td>\n",
       "      <td>South Dakota</td>\n",
       "      <td>2022</td>\n",
       "      <td>1</td>\n",
       "      <td>1</td>\n",
       "      <td>1</td>\n",
       "      <td>G</td>\n",
       "    </tr>\n",
       "    <tr>\n",
       "      <th>1</th>\n",
       "      <td>0.0</td>\n",
       "      <td>Aberdeen, SD</td>\n",
       "      <td>South Dakota</td>\n",
       "      <td>67</td>\n",
       "      <td>FSD</td>\n",
       "      <td>Sioux Falls, SD</td>\n",
       "      <td>South Dakota</td>\n",
       "      <td>2022</td>\n",
       "      <td>1</td>\n",
       "      <td>2</td>\n",
       "      <td>1</td>\n",
       "      <td>G</td>\n",
       "    </tr>\n",
       "    <tr>\n",
       "      <th>2</th>\n",
       "      <td>0.0</td>\n",
       "      <td>Aberdeen, SD</td>\n",
       "      <td>South Dakota</td>\n",
       "      <td>67</td>\n",
       "      <td>FSD</td>\n",
       "      <td>Sioux Falls, SD</td>\n",
       "      <td>South Dakota</td>\n",
       "      <td>2022</td>\n",
       "      <td>1</td>\n",
       "      <td>3</td>\n",
       "      <td>1</td>\n",
       "      <td>G</td>\n",
       "    </tr>\n",
       "    <tr>\n",
       "      <th>3</th>\n",
       "      <td>0.0</td>\n",
       "      <td>Aberdeen, SD</td>\n",
       "      <td>South Dakota</td>\n",
       "      <td>67</td>\n",
       "      <td>FSD</td>\n",
       "      <td>Sioux Falls, SD</td>\n",
       "      <td>South Dakota</td>\n",
       "      <td>2022</td>\n",
       "      <td>2</td>\n",
       "      <td>4</td>\n",
       "      <td>1</td>\n",
       "      <td>G</td>\n",
       "    </tr>\n",
       "    <tr>\n",
       "      <th>4</th>\n",
       "      <td>0.0</td>\n",
       "      <td>Aberdeen, SD</td>\n",
       "      <td>South Dakota</td>\n",
       "      <td>67</td>\n",
       "      <td>FSD</td>\n",
       "      <td>Sioux Falls, SD</td>\n",
       "      <td>South Dakota</td>\n",
       "      <td>2022</td>\n",
       "      <td>2</td>\n",
       "      <td>5</td>\n",
       "      <td>1</td>\n",
       "      <td>G</td>\n",
       "    </tr>\n",
       "  </tbody>\n",
       "</table>\n",
       "</div>"
      ],
      "text/plain": [
       "   PASSENGERS ORIGIN_CITY_NAME ORIGIN_STATE_NM  ORIGIN_WAC DEST  \\\n",
       "0         0.0     Aberdeen, SD    South Dakota          67  FSD   \n",
       "1         0.0     Aberdeen, SD    South Dakota          67  FSD   \n",
       "2         0.0     Aberdeen, SD    South Dakota          67  FSD   \n",
       "3         0.0     Aberdeen, SD    South Dakota          67  FSD   \n",
       "4         0.0     Aberdeen, SD    South Dakota          67  FSD   \n",
       "\n",
       "    DEST_CITY_NAME DEST_STATE_NM  YEAR  QUARTER  MONTH  DISTANCE_GROUP CLASS  \n",
       "0  Sioux Falls, SD  South Dakota  2022        1      1               1     G  \n",
       "1  Sioux Falls, SD  South Dakota  2022        1      2               1     G  \n",
       "2  Sioux Falls, SD  South Dakota  2022        1      3               1     G  \n",
       "3  Sioux Falls, SD  South Dakota  2022        2      4               1     G  \n",
       "4  Sioux Falls, SD  South Dakota  2022        2      5               1     G  "
      ]
     },
     "execution_count": 13,
     "metadata": {},
     "output_type": "execute_result"
    }
   ],
   "source": [
    "airline.head(5)"
   ]
  },
  {
   "cell_type": "code",
   "execution_count": 63,
   "id": "420bc9b5-74d8-473e-a860-cb1f7d98dbf3",
   "metadata": {
    "tags": []
   },
   "outputs": [
    {
     "data": {
      "text/html": [
       "<div>\n",
       "<style scoped>\n",
       "    .dataframe tbody tr th:only-of-type {\n",
       "        vertical-align: middle;\n",
       "    }\n",
       "\n",
       "    .dataframe tbody tr th {\n",
       "        vertical-align: top;\n",
       "    }\n",
       "\n",
       "    .dataframe thead th {\n",
       "        text-align: right;\n",
       "    }\n",
       "</style>\n",
       "<table border=\"1\" class=\"dataframe\">\n",
       "  <thead>\n",
       "    <tr style=\"text-align: right;\">\n",
       "      <th></th>\n",
       "      <th>Level</th>\n",
       "      <th>Date</th>\n",
       "      <th>State FIPS</th>\n",
       "      <th>State Postal Code</th>\n",
       "      <th>County FIPS</th>\n",
       "      <th>County Name</th>\n",
       "      <th>Population Staying at Home</th>\n",
       "      <th>Population Not Staying at Home</th>\n",
       "      <th>Number of Trips</th>\n",
       "      <th>Number of Trips &lt;1</th>\n",
       "      <th>...</th>\n",
       "      <th>Number of Trips 5-10</th>\n",
       "      <th>Number of Trips 10-25</th>\n",
       "      <th>Number of Trips 25-50</th>\n",
       "      <th>Number of Trips 50-100</th>\n",
       "      <th>Number of Trips 100-250</th>\n",
       "      <th>Number of Trips 250-500</th>\n",
       "      <th>Number of Trips &gt;=500</th>\n",
       "      <th>Year</th>\n",
       "      <th>Month</th>\n",
       "      <th>PercentofTravelers</th>\n",
       "    </tr>\n",
       "  </thead>\n",
       "  <tbody>\n",
       "    <tr>\n",
       "      <th>0</th>\n",
       "      <td>County</td>\n",
       "      <td>2019-01-01</td>\n",
       "      <td>1.0</td>\n",
       "      <td>AL</td>\n",
       "      <td>1001.0</td>\n",
       "      <td>Autauga County</td>\n",
       "      <td>8153.774194</td>\n",
       "      <td>47715.225806</td>\n",
       "      <td>185406.548387</td>\n",
       "      <td>39861.032258</td>\n",
       "      <td>...</td>\n",
       "      <td>26100.806452</td>\n",
       "      <td>35098.322581</td>\n",
       "      <td>8192.870968</td>\n",
       "      <td>3177.580645</td>\n",
       "      <td>1724.967742</td>\n",
       "      <td>317.225806</td>\n",
       "      <td>53.225806</td>\n",
       "      <td>2019</td>\n",
       "      <td>01</td>\n",
       "      <td>85.405548</td>\n",
       "    </tr>\n",
       "    <tr>\n",
       "      <th>1</th>\n",
       "      <td>County</td>\n",
       "      <td>2019-01-01</td>\n",
       "      <td>1.0</td>\n",
       "      <td>AL</td>\n",
       "      <td>1003.0</td>\n",
       "      <td>Baldwin County</td>\n",
       "      <td>35464.903226</td>\n",
       "      <td>187769.096774</td>\n",
       "      <td>682047.000000</td>\n",
       "      <td>132886.967742</td>\n",
       "      <td>...</td>\n",
       "      <td>119877.483871</td>\n",
       "      <td>113967.483871</td>\n",
       "      <td>36454.580645</td>\n",
       "      <td>8091.838710</td>\n",
       "      <td>3796.709677</td>\n",
       "      <td>1762.451613</td>\n",
       "      <td>533.774194</td>\n",
       "      <td>2019</td>\n",
       "      <td>01</td>\n",
       "      <td>84.113126</td>\n",
       "    </tr>\n",
       "    <tr>\n",
       "      <th>2</th>\n",
       "      <td>County</td>\n",
       "      <td>2019-01-01</td>\n",
       "      <td>1.0</td>\n",
       "      <td>AL</td>\n",
       "      <td>1005.0</td>\n",
       "      <td>Barbour County</td>\n",
       "      <td>3746.483871</td>\n",
       "      <td>20939.516129</td>\n",
       "      <td>85555.322581</td>\n",
       "      <td>17446.741935</td>\n",
       "      <td>...</td>\n",
       "      <td>15250.322581</td>\n",
       "      <td>11596.193548</td>\n",
       "      <td>5833.612903</td>\n",
       "      <td>3003.161290</td>\n",
       "      <td>699.709677</td>\n",
       "      <td>176.387097</td>\n",
       "      <td>28.838710</td>\n",
       "      <td>2019</td>\n",
       "      <td>01</td>\n",
       "      <td>84.823447</td>\n",
       "    </tr>\n",
       "    <tr>\n",
       "      <th>3</th>\n",
       "      <td>County</td>\n",
       "      <td>2019-01-01</td>\n",
       "      <td>1.0</td>\n",
       "      <td>AL</td>\n",
       "      <td>1007.0</td>\n",
       "      <td>Bibb County</td>\n",
       "      <td>2858.645161</td>\n",
       "      <td>19535.354839</td>\n",
       "      <td>78483.967742</td>\n",
       "      <td>15839.451613</td>\n",
       "      <td>...</td>\n",
       "      <td>11619.709677</td>\n",
       "      <td>10237.193548</td>\n",
       "      <td>8677.225806</td>\n",
       "      <td>1930.419355</td>\n",
       "      <td>652.064516</td>\n",
       "      <td>179.935484</td>\n",
       "      <td>27.225806</td>\n",
       "      <td>2019</td>\n",
       "      <td>01</td>\n",
       "      <td>87.234772</td>\n",
       "    </tr>\n",
       "    <tr>\n",
       "      <th>4</th>\n",
       "      <td>County</td>\n",
       "      <td>2019-01-01</td>\n",
       "      <td>1.0</td>\n",
       "      <td>AL</td>\n",
       "      <td>1009.0</td>\n",
       "      <td>Blount County</td>\n",
       "      <td>7649.967742</td>\n",
       "      <td>50176.032258</td>\n",
       "      <td>192921.903226</td>\n",
       "      <td>35455.677419</td>\n",
       "      <td>...</td>\n",
       "      <td>30827.935484</td>\n",
       "      <td>35365.612903</td>\n",
       "      <td>21713.548387</td>\n",
       "      <td>4961.677419</td>\n",
       "      <td>1735.064516</td>\n",
       "      <td>443.741935</td>\n",
       "      <td>73.225806</td>\n",
       "      <td>2019</td>\n",
       "      <td>01</td>\n",
       "      <td>86.770713</td>\n",
       "    </tr>\n",
       "  </tbody>\n",
       "</table>\n",
       "<p>5 rows × 22 columns</p>\n",
       "</div>"
      ],
      "text/plain": [
       "    Level       Date  State FIPS State Postal Code  County FIPS  \\\n",
       "0  County 2019-01-01         1.0                AL       1001.0   \n",
       "1  County 2019-01-01         1.0                AL       1003.0   \n",
       "2  County 2019-01-01         1.0                AL       1005.0   \n",
       "3  County 2019-01-01         1.0                AL       1007.0   \n",
       "4  County 2019-01-01         1.0                AL       1009.0   \n",
       "\n",
       "      County Name  Population Staying at Home  Population Not Staying at Home  \\\n",
       "0  Autauga County                 8153.774194                    47715.225806   \n",
       "1  Baldwin County                35464.903226                   187769.096774   \n",
       "2  Barbour County                 3746.483871                    20939.516129   \n",
       "3     Bibb County                 2858.645161                    19535.354839   \n",
       "4   Blount County                 7649.967742                    50176.032258   \n",
       "\n",
       "   Number of Trips  Number of Trips <1  ...  Number of Trips 5-10  \\\n",
       "0    185406.548387        39861.032258  ...          26100.806452   \n",
       "1    682047.000000       132886.967742  ...         119877.483871   \n",
       "2     85555.322581        17446.741935  ...          15250.322581   \n",
       "3     78483.967742        15839.451613  ...          11619.709677   \n",
       "4    192921.903226        35455.677419  ...          30827.935484   \n",
       "\n",
       "   Number of Trips 10-25  Number of Trips 25-50  Number of Trips 50-100  \\\n",
       "0           35098.322581            8192.870968             3177.580645   \n",
       "1          113967.483871           36454.580645             8091.838710   \n",
       "2           11596.193548            5833.612903             3003.161290   \n",
       "3           10237.193548            8677.225806             1930.419355   \n",
       "4           35365.612903           21713.548387             4961.677419   \n",
       "\n",
       "   Number of Trips 100-250  Number of Trips 250-500  Number of Trips >=500  \\\n",
       "0              1724.967742               317.225806              53.225806   \n",
       "1              3796.709677              1762.451613             533.774194   \n",
       "2               699.709677               176.387097              28.838710   \n",
       "3               652.064516               179.935484              27.225806   \n",
       "4              1735.064516               443.741935              73.225806   \n",
       "\n",
       "   Year  Month PercentofTravelers  \n",
       "0  2019     01          85.405548  \n",
       "1  2019     01          84.113126  \n",
       "2  2019     01          84.823447  \n",
       "3  2019     01          87.234772  \n",
       "4  2019     01          86.770713  \n",
       "\n",
       "[5 rows x 22 columns]"
      ]
     },
     "execution_count": 63,
     "metadata": {},
     "output_type": "execute_result"
    }
   ],
   "source": [
    "tripsurvey.head(5)"
   ]
  },
  {
   "cell_type": "code",
   "execution_count": 15,
   "id": "4c510d21-3cb5-49da-aecc-17fc5e1f3ed5",
   "metadata": {
    "tags": []
   },
   "outputs": [
    {
     "data": {
      "text/html": [
       "<div>\n",
       "<style scoped>\n",
       "    .dataframe tbody tr th:only-of-type {\n",
       "        vertical-align: middle;\n",
       "    }\n",
       "\n",
       "    .dataframe tbody tr th {\n",
       "        vertical-align: top;\n",
       "    }\n",
       "\n",
       "    .dataframe thead th {\n",
       "        text-align: right;\n",
       "    }\n",
       "</style>\n",
       "<table border=\"1\" class=\"dataframe\">\n",
       "  <thead>\n",
       "    <tr style=\"text-align: right;\">\n",
       "      <th></th>\n",
       "      <th>neighbourhood_group</th>\n",
       "      <th>neighbourhood</th>\n",
       "    </tr>\n",
       "  </thead>\n",
       "  <tbody>\n",
       "    <tr>\n",
       "      <th>0</th>\n",
       "      <td>NaN</td>\n",
       "      <td>Brightwood Park, Crestwood, Petworth</td>\n",
       "    </tr>\n",
       "    <tr>\n",
       "      <th>1</th>\n",
       "      <td>NaN</td>\n",
       "      <td>Brookland, Brentwood, Langdon</td>\n",
       "    </tr>\n",
       "    <tr>\n",
       "      <th>2</th>\n",
       "      <td>NaN</td>\n",
       "      <td>Capitol Hill, Lincoln Park</td>\n",
       "    </tr>\n",
       "    <tr>\n",
       "      <th>3</th>\n",
       "      <td>NaN</td>\n",
       "      <td>Capitol View, Marshall Heights, Benning Heights</td>\n",
       "    </tr>\n",
       "    <tr>\n",
       "      <th>4</th>\n",
       "      <td>NaN</td>\n",
       "      <td>Cathedral Heights, McLean Gardens, Glover Park</td>\n",
       "    </tr>\n",
       "  </tbody>\n",
       "</table>\n",
       "</div>"
      ],
      "text/plain": [
       "   neighbourhood_group                                    neighbourhood\n",
       "0                  NaN             Brightwood Park, Crestwood, Petworth\n",
       "1                  NaN                    Brookland, Brentwood, Langdon\n",
       "2                  NaN                       Capitol Hill, Lincoln Park\n",
       "3                  NaN  Capitol View, Marshall Heights, Benning Heights\n",
       "4                  NaN   Cathedral Heights, McLean Gardens, Glover Park"
      ]
     },
     "execution_count": 15,
     "metadata": {},
     "output_type": "execute_result"
    }
   ],
   "source": [
    "airbnb_neigh.head(5)"
   ]
  },
  {
   "cell_type": "code",
   "execution_count": 16,
   "id": "4c0e9817-29ff-441c-a184-54b8ec8a8ecc",
   "metadata": {
    "tags": []
   },
   "outputs": [
    {
     "data": {
      "text/html": [
       "<div>\n",
       "<style scoped>\n",
       "    .dataframe tbody tr th:only-of-type {\n",
       "        vertical-align: middle;\n",
       "    }\n",
       "\n",
       "    .dataframe tbody tr th {\n",
       "        vertical-align: top;\n",
       "    }\n",
       "\n",
       "    .dataframe thead th {\n",
       "        text-align: right;\n",
       "    }\n",
       "</style>\n",
       "<table border=\"1\" class=\"dataframe\">\n",
       "  <thead>\n",
       "    <tr style=\"text-align: right;\">\n",
       "      <th></th>\n",
       "      <th>listing_id</th>\n",
       "      <th>id</th>\n",
       "      <th>date</th>\n",
       "      <th>reviewer_id</th>\n",
       "      <th>reviewer_name</th>\n",
       "      <th>comments</th>\n",
       "    </tr>\n",
       "  </thead>\n",
       "  <tbody>\n",
       "    <tr>\n",
       "      <th>0</th>\n",
       "      <td>3686</td>\n",
       "      <td>131293</td>\n",
       "      <td>2010-11-01</td>\n",
       "      <td>257234</td>\n",
       "      <td>Callie</td>\n",
       "      <td>Staying with Levita and her wonderful family w...</td>\n",
       "    </tr>\n",
       "    <tr>\n",
       "      <th>1</th>\n",
       "      <td>3686</td>\n",
       "      <td>150766</td>\n",
       "      <td>2010-12-08</td>\n",
       "      <td>255888</td>\n",
       "      <td>Patrick</td>\n",
       "      <td>Vita is a very welcoming, helpful and friendly...</td>\n",
       "    </tr>\n",
       "    <tr>\n",
       "      <th>2</th>\n",
       "      <td>3686</td>\n",
       "      <td>177749</td>\n",
       "      <td>2011-02-02</td>\n",
       "      <td>366688</td>\n",
       "      <td>Benjamin</td>\n",
       "      <td>This was my first time using \"airbnb\" and it m...</td>\n",
       "    </tr>\n",
       "    <tr>\n",
       "      <th>3</th>\n",
       "      <td>3686</td>\n",
       "      <td>197451</td>\n",
       "      <td>2011-03-12</td>\n",
       "      <td>213492</td>\n",
       "      <td>T.J.</td>\n",
       "      <td>First, Vita saved my work week by providing me...</td>\n",
       "    </tr>\n",
       "    <tr>\n",
       "      <th>4</th>\n",
       "      <td>3686</td>\n",
       "      <td>213212</td>\n",
       "      <td>2011-03-30</td>\n",
       "      <td>428455</td>\n",
       "      <td>Pete</td>\n",
       "      <td>Great host! Very welcoming and organised. I st...</td>\n",
       "    </tr>\n",
       "  </tbody>\n",
       "</table>\n",
       "</div>"
      ],
      "text/plain": [
       "   listing_id      id        date  reviewer_id reviewer_name  \\\n",
       "0        3686  131293  2010-11-01       257234        Callie   \n",
       "1        3686  150766  2010-12-08       255888       Patrick   \n",
       "2        3686  177749  2011-02-02       366688      Benjamin   \n",
       "3        3686  197451  2011-03-12       213492          T.J.   \n",
       "4        3686  213212  2011-03-30       428455          Pete   \n",
       "\n",
       "                                            comments  \n",
       "0  Staying with Levita and her wonderful family w...  \n",
       "1  Vita is a very welcoming, helpful and friendly...  \n",
       "2  This was my first time using \"airbnb\" and it m...  \n",
       "3  First, Vita saved my work week by providing me...  \n",
       "4  Great host! Very welcoming and organised. I st...  "
      ]
     },
     "execution_count": 16,
     "metadata": {},
     "output_type": "execute_result"
    }
   ],
   "source": [
    "airbnb_reviews.head(5)"
   ]
  },
  {
   "cell_type": "markdown",
   "id": "e0ccf905-e4e0-4cfd-9bd9-87021c7b402a",
   "metadata": {},
   "source": [
    "## Relevant Data Filtering"
   ]
  },
  {
   "cell_type": "code",
   "execution_count": 17,
   "id": "793d5581-0ae4-4747-907c-1ff268ede251",
   "metadata": {
    "tags": []
   },
   "outputs": [],
   "source": [
    "## Filter data to where DC is destination city\n",
    "\n",
    "airline = airline[airline[\"DEST_CITY_NAME\"].str.contains(\"DC\")]\n",
    "\n",
    "## Filter data to where passengers > 0\n",
    "\n",
    "airline = airline[airline[\"PASSENGERS\"]>0]\n"
   ]
  },
  {
   "cell_type": "code",
   "execution_count": 18,
   "id": "a2342d29-5723-4144-adf0-46ab0b9d146c",
   "metadata": {
    "tags": []
   },
   "outputs": [
    {
     "data": {
      "text/plain": [
       "(36142, 12)"
      ]
     },
     "execution_count": 18,
     "metadata": {},
     "output_type": "execute_result"
    }
   ],
   "source": [
    "airline.shape"
   ]
  },
  {
   "cell_type": "markdown",
   "id": "ce134d57-aa46-429c-95ed-2f17e229c57b",
   "metadata": {},
   "source": [
    "### Summary Statistics"
   ]
  },
  {
   "cell_type": "code",
   "execution_count": 19,
   "id": "586fa269-aaaf-4bbd-850a-73c868bd512a",
   "metadata": {
    "tags": []
   },
   "outputs": [
    {
     "data": {
      "text/html": [
       "<div>\n",
       "<style scoped>\n",
       "    .dataframe tbody tr th:only-of-type {\n",
       "        vertical-align: middle;\n",
       "    }\n",
       "\n",
       "    .dataframe tbody tr th {\n",
       "        vertical-align: top;\n",
       "    }\n",
       "\n",
       "    .dataframe thead th {\n",
       "        text-align: right;\n",
       "    }\n",
       "</style>\n",
       "<table border=\"1\" class=\"dataframe\">\n",
       "  <thead>\n",
       "    <tr style=\"text-align: right;\">\n",
       "      <th></th>\n",
       "      <th>PASSENGERS</th>\n",
       "      <th>ORIGIN_WAC</th>\n",
       "      <th>YEAR</th>\n",
       "      <th>QUARTER</th>\n",
       "      <th>MONTH</th>\n",
       "      <th>DISTANCE_GROUP</th>\n",
       "    </tr>\n",
       "  </thead>\n",
       "  <tbody>\n",
       "    <tr>\n",
       "      <th>count</th>\n",
       "      <td>36142.000000</td>\n",
       "      <td>36142.000000</td>\n",
       "      <td>36142.000000</td>\n",
       "      <td>36142.000000</td>\n",
       "      <td>36142.000000</td>\n",
       "      <td>36142.000000</td>\n",
       "    </tr>\n",
       "    <tr>\n",
       "      <th>mean</th>\n",
       "      <td>3427.064247</td>\n",
       "      <td>45.166842</td>\n",
       "      <td>2019.253860</td>\n",
       "      <td>2.530297</td>\n",
       "      <td>6.597366</td>\n",
       "      <td>1.967987</td>\n",
       "    </tr>\n",
       "    <tr>\n",
       "      <th>std</th>\n",
       "      <td>6020.063710</td>\n",
       "      <td>23.186547</td>\n",
       "      <td>2.258555</td>\n",
       "      <td>1.117391</td>\n",
       "      <td>3.453505</td>\n",
       "      <td>1.284688</td>\n",
       "    </tr>\n",
       "    <tr>\n",
       "      <th>min</th>\n",
       "      <td>1.000000</td>\n",
       "      <td>1.000000</td>\n",
       "      <td>2016.000000</td>\n",
       "      <td>1.000000</td>\n",
       "      <td>1.000000</td>\n",
       "      <td>1.000000</td>\n",
       "    </tr>\n",
       "    <tr>\n",
       "      <th>25%</th>\n",
       "      <td>181.000000</td>\n",
       "      <td>33.000000</td>\n",
       "      <td>2017.000000</td>\n",
       "      <td>2.000000</td>\n",
       "      <td>4.000000</td>\n",
       "      <td>1.000000</td>\n",
       "    </tr>\n",
       "    <tr>\n",
       "      <th>50%</th>\n",
       "      <td>1427.000000</td>\n",
       "      <td>38.000000</td>\n",
       "      <td>2019.000000</td>\n",
       "      <td>3.000000</td>\n",
       "      <td>7.000000</td>\n",
       "      <td>2.000000</td>\n",
       "    </tr>\n",
       "    <tr>\n",
       "      <th>75%</th>\n",
       "      <td>3889.000000</td>\n",
       "      <td>63.000000</td>\n",
       "      <td>2022.000000</td>\n",
       "      <td>4.000000</td>\n",
       "      <td>10.000000</td>\n",
       "      <td>2.000000</td>\n",
       "    </tr>\n",
       "    <tr>\n",
       "      <th>max</th>\n",
       "      <td>63773.000000</td>\n",
       "      <td>93.000000</td>\n",
       "      <td>2022.000000</td>\n",
       "      <td>4.000000</td>\n",
       "      <td>12.000000</td>\n",
       "      <td>10.000000</td>\n",
       "    </tr>\n",
       "  </tbody>\n",
       "</table>\n",
       "</div>"
      ],
      "text/plain": [
       "         PASSENGERS    ORIGIN_WAC          YEAR       QUARTER         MONTH  \\\n",
       "count  36142.000000  36142.000000  36142.000000  36142.000000  36142.000000   \n",
       "mean    3427.064247     45.166842   2019.253860      2.530297      6.597366   \n",
       "std     6020.063710     23.186547      2.258555      1.117391      3.453505   \n",
       "min        1.000000      1.000000   2016.000000      1.000000      1.000000   \n",
       "25%      181.000000     33.000000   2017.000000      2.000000      4.000000   \n",
       "50%     1427.000000     38.000000   2019.000000      3.000000      7.000000   \n",
       "75%     3889.000000     63.000000   2022.000000      4.000000     10.000000   \n",
       "max    63773.000000     93.000000   2022.000000      4.000000     12.000000   \n",
       "\n",
       "       DISTANCE_GROUP  \n",
       "count    36142.000000  \n",
       "mean         1.967987  \n",
       "std          1.284688  \n",
       "min          1.000000  \n",
       "25%          1.000000  \n",
       "50%          2.000000  \n",
       "75%          2.000000  \n",
       "max         10.000000  "
      ]
     },
     "execution_count": 19,
     "metadata": {},
     "output_type": "execute_result"
    }
   ],
   "source": [
    "airline.describe()"
   ]
  },
  {
   "cell_type": "code",
   "execution_count": 20,
   "id": "d9bfdc82-1a9c-49d1-9c8d-f956d60e244e",
   "metadata": {
    "tags": []
   },
   "outputs": [
    {
     "data": {
      "text/html": [
       "<div>\n",
       "<style scoped>\n",
       "    .dataframe tbody tr th:only-of-type {\n",
       "        vertical-align: middle;\n",
       "    }\n",
       "\n",
       "    .dataframe tbody tr th {\n",
       "        vertical-align: top;\n",
       "    }\n",
       "\n",
       "    .dataframe thead th {\n",
       "        text-align: right;\n",
       "    }\n",
       "</style>\n",
       "<table border=\"1\" class=\"dataframe\">\n",
       "  <thead>\n",
       "    <tr style=\"text-align: right;\">\n",
       "      <th></th>\n",
       "      <th>State FIPS</th>\n",
       "      <th>County FIPS</th>\n",
       "      <th>Population Staying at Home</th>\n",
       "      <th>Population Not Staying at Home</th>\n",
       "      <th>Number of Trips</th>\n",
       "      <th>Number of Trips &lt;1</th>\n",
       "      <th>Number of Trips 1-3</th>\n",
       "      <th>Number of Trips 3-5</th>\n",
       "      <th>Number of Trips 5-10</th>\n",
       "      <th>Number of Trips 10-25</th>\n",
       "      <th>Number of Trips 25-50</th>\n",
       "      <th>Number of Trips 50-100</th>\n",
       "      <th>Number of Trips 100-250</th>\n",
       "      <th>Number of Trips 250-500</th>\n",
       "      <th>Number of Trips &gt;=500</th>\n",
       "    </tr>\n",
       "  </thead>\n",
       "  <tbody>\n",
       "    <tr>\n",
       "      <th>count</th>\n",
       "      <td>134106.000000</td>\n",
       "      <td>131964.000000</td>\n",
       "      <td>1.336460e+05</td>\n",
       "      <td>1.336460e+05</td>\n",
       "      <td>1.336460e+05</td>\n",
       "      <td>1.336460e+05</td>\n",
       "      <td>1.336460e+05</td>\n",
       "      <td>1.336460e+05</td>\n",
       "      <td>1.336460e+05</td>\n",
       "      <td>1.336460e+05</td>\n",
       "      <td>1.336460e+05</td>\n",
       "      <td>1.336460e+05</td>\n",
       "      <td>1.336460e+05</td>\n",
       "      <td>1.336460e+05</td>\n",
       "      <td>1.336460e+05</td>\n",
       "    </tr>\n",
       "    <tr>\n",
       "      <th>mean</th>\n",
       "      <td>30.259004</td>\n",
       "      <td>30383.649268</td>\n",
       "      <td>6.799655e+04</td>\n",
       "      <td>2.408609e+05</td>\n",
       "      <td>1.143412e+06</td>\n",
       "      <td>2.957016e+05</td>\n",
       "      <td>2.814124e+05</td>\n",
       "      <td>1.386192e+05</td>\n",
       "      <td>1.753689e+05</td>\n",
       "      <td>1.690744e+05</td>\n",
       "      <td>5.450161e+04</td>\n",
       "      <td>1.816385e+04</td>\n",
       "      <td>7.646022e+03</td>\n",
       "      <td>1.644634e+03</td>\n",
       "      <td>1.279698e+03</td>\n",
       "    </tr>\n",
       "    <tr>\n",
       "      <th>std</th>\n",
       "      <td>15.151581</td>\n",
       "      <td>15160.152747</td>\n",
       "      <td>1.330054e+06</td>\n",
       "      <td>4.615650e+06</td>\n",
       "      <td>2.236335e+07</td>\n",
       "      <td>5.815983e+06</td>\n",
       "      <td>5.505153e+06</td>\n",
       "      <td>2.712604e+06</td>\n",
       "      <td>3.436352e+06</td>\n",
       "      <td>3.315083e+06</td>\n",
       "      <td>1.061576e+06</td>\n",
       "      <td>3.527857e+05</td>\n",
       "      <td>1.495533e+05</td>\n",
       "      <td>3.223122e+04</td>\n",
       "      <td>2.764918e+04</td>\n",
       "    </tr>\n",
       "    <tr>\n",
       "      <th>min</th>\n",
       "      <td>1.000000</td>\n",
       "      <td>1001.000000</td>\n",
       "      <td>1.530000e+01</td>\n",
       "      <td>1.440000e+02</td>\n",
       "      <td>3.888077e+02</td>\n",
       "      <td>7.000000e+00</td>\n",
       "      <td>0.000000e+00</td>\n",
       "      <td>0.000000e+00</td>\n",
       "      <td>0.000000e+00</td>\n",
       "      <td>0.000000e+00</td>\n",
       "      <td>0.000000e+00</td>\n",
       "      <td>0.000000e+00</td>\n",
       "      <td>0.000000e+00</td>\n",
       "      <td>0.000000e+00</td>\n",
       "      <td>0.000000e+00</td>\n",
       "    </tr>\n",
       "    <tr>\n",
       "      <th>25%</th>\n",
       "      <td>18.000000</td>\n",
       "      <td>18177.000000</td>\n",
       "      <td>2.042694e+03</td>\n",
       "      <td>9.157815e+03</td>\n",
       "      <td>4.223223e+04</td>\n",
       "      <td>8.969900e+03</td>\n",
       "      <td>9.345669e+03</td>\n",
       "      <td>4.166952e+03</td>\n",
       "      <td>5.741245e+03</td>\n",
       "      <td>6.798098e+03</td>\n",
       "      <td>3.418032e+03</td>\n",
       "      <td>1.257504e+03</td>\n",
       "      <td>4.285750e+02</td>\n",
       "      <td>6.240484e+01</td>\n",
       "      <td>1.767742e+01</td>\n",
       "    </tr>\n",
       "    <tr>\n",
       "      <th>50%</th>\n",
       "      <td>29.000000</td>\n",
       "      <td>29176.000000</td>\n",
       "      <td>4.890494e+03</td>\n",
       "      <td>2.175117e+04</td>\n",
       "      <td>1.017115e+05</td>\n",
       "      <td>2.232086e+04</td>\n",
       "      <td>2.471940e+04</td>\n",
       "      <td>1.159690e+04</td>\n",
       "      <td>1.443124e+04</td>\n",
       "      <td>1.610431e+04</td>\n",
       "      <td>7.151935e+03</td>\n",
       "      <td>2.678613e+03</td>\n",
       "      <td>9.456887e+02</td>\n",
       "      <td>1.599032e+02</td>\n",
       "      <td>5.390323e+01</td>\n",
       "    </tr>\n",
       "    <tr>\n",
       "      <th>75%</th>\n",
       "      <td>45.000000</td>\n",
       "      <td>45081.000000</td>\n",
       "      <td>1.452453e+04</td>\n",
       "      <td>5.955001e+04</td>\n",
       "      <td>2.807688e+05</td>\n",
       "      <td>6.498667e+04</td>\n",
       "      <td>7.141383e+04</td>\n",
       "      <td>3.452723e+04</td>\n",
       "      <td>4.197851e+04</td>\n",
       "      <td>4.260267e+04</td>\n",
       "      <td>1.659802e+04</td>\n",
       "      <td>5.990772e+03</td>\n",
       "      <td>2.293331e+03</td>\n",
       "      <td>4.257703e+02</td>\n",
       "      <td>2.035351e+02</td>\n",
       "    </tr>\n",
       "    <tr>\n",
       "      <th>max</th>\n",
       "      <td>56.000000</td>\n",
       "      <td>56045.000000</td>\n",
       "      <td>9.490396e+07</td>\n",
       "      <td>2.660413e+08</td>\n",
       "      <td>1.476327e+09</td>\n",
       "      <td>4.037645e+08</td>\n",
       "      <td>3.741627e+08</td>\n",
       "      <td>1.845964e+08</td>\n",
       "      <td>2.368210e+08</td>\n",
       "      <td>2.354150e+08</td>\n",
       "      <td>7.117779e+07</td>\n",
       "      <td>2.180353e+07</td>\n",
       "      <td>1.019972e+07</td>\n",
       "      <td>2.456013e+06</td>\n",
       "      <td>3.325570e+06</td>\n",
       "    </tr>\n",
       "  </tbody>\n",
       "</table>\n",
       "</div>"
      ],
      "text/plain": [
       "          State FIPS    County FIPS  Population Staying at Home  \\\n",
       "count  134106.000000  131964.000000                1.336460e+05   \n",
       "mean       30.259004   30383.649268                6.799655e+04   \n",
       "std        15.151581   15160.152747                1.330054e+06   \n",
       "min         1.000000    1001.000000                1.530000e+01   \n",
       "25%        18.000000   18177.000000                2.042694e+03   \n",
       "50%        29.000000   29176.000000                4.890494e+03   \n",
       "75%        45.000000   45081.000000                1.452453e+04   \n",
       "max        56.000000   56045.000000                9.490396e+07   \n",
       "\n",
       "       Population Not Staying at Home  Number of Trips  Number of Trips <1  \\\n",
       "count                    1.336460e+05     1.336460e+05        1.336460e+05   \n",
       "mean                     2.408609e+05     1.143412e+06        2.957016e+05   \n",
       "std                      4.615650e+06     2.236335e+07        5.815983e+06   \n",
       "min                      1.440000e+02     3.888077e+02        7.000000e+00   \n",
       "25%                      9.157815e+03     4.223223e+04        8.969900e+03   \n",
       "50%                      2.175117e+04     1.017115e+05        2.232086e+04   \n",
       "75%                      5.955001e+04     2.807688e+05        6.498667e+04   \n",
       "max                      2.660413e+08     1.476327e+09        4.037645e+08   \n",
       "\n",
       "       Number of Trips 1-3  Number of Trips 3-5  Number of Trips 5-10  \\\n",
       "count         1.336460e+05         1.336460e+05          1.336460e+05   \n",
       "mean          2.814124e+05         1.386192e+05          1.753689e+05   \n",
       "std           5.505153e+06         2.712604e+06          3.436352e+06   \n",
       "min           0.000000e+00         0.000000e+00          0.000000e+00   \n",
       "25%           9.345669e+03         4.166952e+03          5.741245e+03   \n",
       "50%           2.471940e+04         1.159690e+04          1.443124e+04   \n",
       "75%           7.141383e+04         3.452723e+04          4.197851e+04   \n",
       "max           3.741627e+08         1.845964e+08          2.368210e+08   \n",
       "\n",
       "       Number of Trips 10-25  Number of Trips 25-50  Number of Trips 50-100  \\\n",
       "count           1.336460e+05           1.336460e+05            1.336460e+05   \n",
       "mean            1.690744e+05           5.450161e+04            1.816385e+04   \n",
       "std             3.315083e+06           1.061576e+06            3.527857e+05   \n",
       "min             0.000000e+00           0.000000e+00            0.000000e+00   \n",
       "25%             6.798098e+03           3.418032e+03            1.257504e+03   \n",
       "50%             1.610431e+04           7.151935e+03            2.678613e+03   \n",
       "75%             4.260267e+04           1.659802e+04            5.990772e+03   \n",
       "max             2.354150e+08           7.117779e+07            2.180353e+07   \n",
       "\n",
       "       Number of Trips 100-250  Number of Trips 250-500  Number of Trips >=500  \n",
       "count             1.336460e+05             1.336460e+05           1.336460e+05  \n",
       "mean              7.646022e+03             1.644634e+03           1.279698e+03  \n",
       "std               1.495533e+05             3.223122e+04           2.764918e+04  \n",
       "min               0.000000e+00             0.000000e+00           0.000000e+00  \n",
       "25%               4.285750e+02             6.240484e+01           1.767742e+01  \n",
       "50%               9.456887e+02             1.599032e+02           5.390323e+01  \n",
       "75%               2.293331e+03             4.257703e+02           2.035351e+02  \n",
       "max               1.019972e+07             2.456013e+06           3.325570e+06  "
      ]
     },
     "execution_count": 20,
     "metadata": {},
     "output_type": "execute_result"
    }
   ],
   "source": [
    "tripsurvey.describe()"
   ]
  },
  {
   "cell_type": "markdown",
   "id": "1c935623-1897-484a-89b7-3947adf80ad0",
   "metadata": {},
   "source": [
    "### Data Types and Info"
   ]
  },
  {
   "cell_type": "code",
   "execution_count": 21,
   "id": "05bcb083-80dc-4ca1-b80b-8774796b5356",
   "metadata": {
    "tags": []
   },
   "outputs": [
    {
     "name": "stdout",
     "output_type": "stream",
     "text": [
      "<class 'pandas.core.frame.DataFrame'>\n",
      "Int64Index: 36142 entries, 46321 to 1741254\n",
      "Data columns (total 12 columns):\n",
      " #   Column            Non-Null Count  Dtype  \n",
      "---  ------            --------------  -----  \n",
      " 0   PASSENGERS        36142 non-null  float64\n",
      " 1   ORIGIN_CITY_NAME  36142 non-null  object \n",
      " 2   ORIGIN_STATE_NM   36142 non-null  object \n",
      " 3   ORIGIN_WAC        36142 non-null  int64  \n",
      " 4   DEST              36142 non-null  object \n",
      " 5   DEST_CITY_NAME    36142 non-null  object \n",
      " 6   DEST_STATE_NM     36142 non-null  object \n",
      " 7   YEAR              36142 non-null  int64  \n",
      " 8   QUARTER           36142 non-null  int64  \n",
      " 9   MONTH             36142 non-null  int64  \n",
      " 10  DISTANCE_GROUP    36142 non-null  int64  \n",
      " 11  CLASS             36142 non-null  object \n",
      "dtypes: float64(1), int64(5), object(6)\n",
      "memory usage: 3.6+ MB\n"
     ]
    }
   ],
   "source": [
    "airline.info()"
   ]
  },
  {
   "cell_type": "code",
   "execution_count": 22,
   "id": "1be4a2aa-e1e0-4976-af11-bb233b2f991b",
   "metadata": {
    "tags": []
   },
   "outputs": [
    {
     "name": "stdout",
     "output_type": "stream",
     "text": [
      "<class 'pandas.core.frame.DataFrame'>\n",
      "RangeIndex: 134148 entries, 0 to 134147\n",
      "Data columns (total 19 columns):\n",
      " #   Column                          Non-Null Count   Dtype  \n",
      "---  ------                          --------------   -----  \n",
      " 0   Level                           134148 non-null  object \n",
      " 1   Date                            134148 non-null  object \n",
      " 2   State FIPS                      134106 non-null  float64\n",
      " 3   State Postal Code               134106 non-null  object \n",
      " 4   County FIPS                     131964 non-null  float64\n",
      " 5   County Name                     131964 non-null  object \n",
      " 6   Population Staying at Home      133646 non-null  float64\n",
      " 7   Population Not Staying at Home  133646 non-null  float64\n",
      " 8   Number of Trips                 133646 non-null  float64\n",
      " 9   Number of Trips <1              133646 non-null  float64\n",
      " 10  Number of Trips 1-3             133646 non-null  float64\n",
      " 11  Number of Trips 3-5             133646 non-null  float64\n",
      " 12  Number of Trips 5-10            133646 non-null  float64\n",
      " 13  Number of Trips 10-25           133646 non-null  float64\n",
      " 14  Number of Trips 25-50           133646 non-null  float64\n",
      " 15  Number of Trips 50-100          133646 non-null  float64\n",
      " 16  Number of Trips 100-250         133646 non-null  float64\n",
      " 17  Number of Trips 250-500         133646 non-null  float64\n",
      " 18  Number of Trips >=500           133646 non-null  float64\n",
      "dtypes: float64(15), object(4)\n",
      "memory usage: 19.4+ MB\n"
     ]
    }
   ],
   "source": [
    "tripsurvey.info()"
   ]
  },
  {
   "cell_type": "markdown",
   "id": "111d3319-d5ab-4421-bc19-2763eee8e670",
   "metadata": {},
   "source": [
    "### Missing Data"
   ]
  },
  {
   "cell_type": "code",
   "execution_count": null,
   "id": "e07d9c83-6ce9-46d2-85bd-3e34150771f5",
   "metadata": {
    "tags": []
   },
   "outputs": [],
   "source": [
    "print(f'\\nMissing Data:\\n{airline.isnull().sum()}')\n",
    "\n",
    "print('\\nTotal Missing Data:', airline.isnull().sum().sum())"
   ]
  },
  {
   "cell_type": "code",
   "execution_count": null,
   "id": "835559d8-5355-4bf5-8256-b5e90d63cd9f",
   "metadata": {
    "tags": []
   },
   "outputs": [],
   "source": [
    "print(f'\\nMissing Data:\\n{tripsurvey.isnull().sum()}')\n",
    "\n",
    "print('\\nTotal Missing Data:', tripsurvey.isnull().sum().sum())"
   ]
  },
  {
   "cell_type": "markdown",
   "id": "1ed1e1b2-797f-4381-b4d0-d5e6828d90af",
   "metadata": {
    "tags": []
   },
   "source": [
    "### Feature Construction: Create Date Columns"
   ]
  },
  {
   "cell_type": "code",
   "execution_count": 23,
   "id": "559fe2c4-8383-4480-800f-a092a691ef6d",
   "metadata": {
    "tags": []
   },
   "outputs": [],
   "source": [
    "#Airline has year and month, needs date\n",
    "\n",
    "airline['DATE'] = pd.to_datetime(airline[['YEAR', 'MONTH']].assign(DAY=1))"
   ]
  },
  {
   "cell_type": "code",
   "execution_count": 27,
   "id": "9a88d877-192b-4574-be38-b9fa3abebba3",
   "metadata": {
    "tags": []
   },
   "outputs": [],
   "source": [
    "#Trip survey has month, needs year and date to be formatted as date\n",
    "\n",
    "tripsurvey['Year'] = tripsurvey['Date'].str.split(\"/\").str[0]\n",
    "\n",
    "tripsurvey['Month'] = tripsurvey['Date'].str.split(\"/\").str[1]\n",
    "\n",
    "tripsurvey['Date'] = pd.to_datetime(tripsurvey[['Year', 'Month']].assign(DAY=1))\n"
   ]
  },
  {
   "cell_type": "markdown",
   "id": "0c270ec9-270c-4157-acf0-1abdc60f6c92",
   "metadata": {},
   "source": [
    "### Feature Construction: % of People Who Traveled"
   ]
  },
  {
   "cell_type": "code",
   "execution_count": 62,
   "id": "bd7cd222-ed81-4829-b469-241286404a0a",
   "metadata": {
    "tags": []
   },
   "outputs": [],
   "source": [
    "tripsurvey['PercentofTravelers'] = (tripsurvey['Population Not Staying at Home']/(tripsurvey['Population Not Staying at Home']+tripsurvey['Population Staying at Home']))*100"
   ]
  },
  {
   "cell_type": "markdown",
   "id": "7363c2ea-31dd-4b1a-a1fc-e8468db15215",
   "metadata": {},
   "source": [
    "### Group Data by Year and Month"
   ]
  },
  {
   "cell_type": "code",
   "execution_count": 47,
   "id": "7f630933-01a0-492b-963c-ebfa42a32fda",
   "metadata": {},
   "outputs": [
    {
     "data": {
      "text/html": [
       "<div>\n",
       "<style scoped>\n",
       "    .dataframe tbody tr th:only-of-type {\n",
       "        vertical-align: middle;\n",
       "    }\n",
       "\n",
       "    .dataframe tbody tr th {\n",
       "        vertical-align: top;\n",
       "    }\n",
       "\n",
       "    .dataframe thead th {\n",
       "        text-align: right;\n",
       "    }\n",
       "</style>\n",
       "<table border=\"1\" class=\"dataframe\">\n",
       "  <thead>\n",
       "    <tr style=\"text-align: right;\">\n",
       "      <th></th>\n",
       "      <th>DATE</th>\n",
       "      <th>TRIPS</th>\n",
       "    </tr>\n",
       "  </thead>\n",
       "  <tbody>\n",
       "    <tr>\n",
       "      <th>0</th>\n",
       "      <td>2016-01-01</td>\n",
       "      <td>428</td>\n",
       "    </tr>\n",
       "    <tr>\n",
       "      <th>1</th>\n",
       "      <td>2016-02-01</td>\n",
       "      <td>421</td>\n",
       "    </tr>\n",
       "    <tr>\n",
       "      <th>2</th>\n",
       "      <td>2016-03-01</td>\n",
       "      <td>420</td>\n",
       "    </tr>\n",
       "    <tr>\n",
       "      <th>3</th>\n",
       "      <td>2016-04-01</td>\n",
       "      <td>441</td>\n",
       "    </tr>\n",
       "    <tr>\n",
       "      <th>4</th>\n",
       "      <td>2016-05-01</td>\n",
       "      <td>427</td>\n",
       "    </tr>\n",
       "  </tbody>\n",
       "</table>\n",
       "</div>"
      ],
      "text/plain": [
       "        DATE  TRIPS\n",
       "0 2016-01-01    428\n",
       "1 2016-02-01    421\n",
       "2 2016-03-01    420\n",
       "3 2016-04-01    441\n",
       "4 2016-05-01    427"
      ]
     },
     "execution_count": 47,
     "metadata": {},
     "output_type": "execute_result"
    }
   ],
   "source": [
    "#Group number of flights over time from airline data\n",
    "\n",
    "airline_grouped_flights = airline.groupby(['DATE'], as_index=False)['YEAR'].count()\n",
    "airline_grouped_flights = airline_grouped_flights.rename(columns={\"YEAR\": \"TRIPS\"})\n",
    "airline_grouped_flights.head()"
   ]
  },
  {
   "cell_type": "code",
   "execution_count": 39,
   "id": "ca8b11a9-9572-47ae-a9f2-5ca966ae54a7",
   "metadata": {
    "tags": []
   },
   "outputs": [
    {
     "data": {
      "text/html": [
       "<div>\n",
       "<style scoped>\n",
       "    .dataframe tbody tr th:only-of-type {\n",
       "        vertical-align: middle;\n",
       "    }\n",
       "\n",
       "    .dataframe tbody tr th {\n",
       "        vertical-align: top;\n",
       "    }\n",
       "\n",
       "    .dataframe thead th {\n",
       "        text-align: right;\n",
       "    }\n",
       "</style>\n",
       "<table border=\"1\" class=\"dataframe\">\n",
       "  <thead>\n",
       "    <tr style=\"text-align: right;\">\n",
       "      <th></th>\n",
       "      <th>DATE</th>\n",
       "      <th>PASSENGERS</th>\n",
       "    </tr>\n",
       "  </thead>\n",
       "  <tbody>\n",
       "    <tr>\n",
       "      <th>0</th>\n",
       "      <td>2016-01-01</td>\n",
       "      <td>1208852.0</td>\n",
       "    </tr>\n",
       "    <tr>\n",
       "      <th>1</th>\n",
       "      <td>2016-02-01</td>\n",
       "      <td>1228611.0</td>\n",
       "    </tr>\n",
       "    <tr>\n",
       "      <th>2</th>\n",
       "      <td>2016-03-01</td>\n",
       "      <td>1560148.0</td>\n",
       "    </tr>\n",
       "    <tr>\n",
       "      <th>3</th>\n",
       "      <td>2016-04-01</td>\n",
       "      <td>1562835.0</td>\n",
       "    </tr>\n",
       "    <tr>\n",
       "      <th>4</th>\n",
       "      <td>2016-05-01</td>\n",
       "      <td>1683873.0</td>\n",
       "    </tr>\n",
       "  </tbody>\n",
       "</table>\n",
       "</div>"
      ],
      "text/plain": [
       "        DATE  PASSENGERS\n",
       "0 2016-01-01   1208852.0\n",
       "1 2016-02-01   1228611.0\n",
       "2 2016-03-01   1560148.0\n",
       "3 2016-04-01   1562835.0\n",
       "4 2016-05-01   1683873.0"
      ]
     },
     "execution_count": 39,
     "metadata": {},
     "output_type": "execute_result"
    }
   ],
   "source": [
    "#Group total passengers over time from airline data\n",
    "\n",
    "airline_grouped_passengers = airline.groupby(['DATE'], as_index=False)['PASSENGERS'].sum()\n",
    "airline_grouped_passengers.head()"
   ]
  },
  {
   "cell_type": "code",
   "execution_count": 55,
   "id": "66e18b06-52ae-4e38-aefd-ea248e58b08d",
   "metadata": {
    "tags": []
   },
   "outputs": [
    {
     "data": {
      "text/html": [
       "<div>\n",
       "<style scoped>\n",
       "    .dataframe tbody tr th:only-of-type {\n",
       "        vertical-align: middle;\n",
       "    }\n",
       "\n",
       "    .dataframe tbody tr th {\n",
       "        vertical-align: top;\n",
       "    }\n",
       "\n",
       "    .dataframe thead th {\n",
       "        text-align: right;\n",
       "    }\n",
       "</style>\n",
       "<table border=\"1\" class=\"dataframe\">\n",
       "  <thead>\n",
       "    <tr style=\"text-align: right;\">\n",
       "      <th></th>\n",
       "      <th>Date</th>\n",
       "      <th>Travelers</th>\n",
       "    </tr>\n",
       "  </thead>\n",
       "  <tbody>\n",
       "    <tr>\n",
       "      <th>0</th>\n",
       "      <td>2019-01-01</td>\n",
       "      <td>7.915365e+08</td>\n",
       "    </tr>\n",
       "    <tr>\n",
       "      <th>1</th>\n",
       "      <td>2019-02-01</td>\n",
       "      <td>7.945863e+08</td>\n",
       "    </tr>\n",
       "    <tr>\n",
       "      <th>2</th>\n",
       "      <td>2019-03-01</td>\n",
       "      <td>7.911408e+08</td>\n",
       "    </tr>\n",
       "    <tr>\n",
       "      <th>3</th>\n",
       "      <td>2019-04-01</td>\n",
       "      <td>7.880608e+08</td>\n",
       "    </tr>\n",
       "    <tr>\n",
       "      <th>4</th>\n",
       "      <td>2019-05-01</td>\n",
       "      <td>7.942675e+08</td>\n",
       "    </tr>\n",
       "  </tbody>\n",
       "</table>\n",
       "</div>"
      ],
      "text/plain": [
       "        Date     Travelers\n",
       "0 2019-01-01  7.915365e+08\n",
       "1 2019-02-01  7.945863e+08\n",
       "2 2019-03-01  7.911408e+08\n",
       "3 2019-04-01  7.880608e+08\n",
       "4 2019-05-01  7.942675e+08"
      ]
     },
     "execution_count": 55,
     "metadata": {},
     "output_type": "execute_result"
    }
   ],
   "source": [
    "#Group population traveling from survey data\n",
    "\n",
    "tripsurvey_grouped_travelers = tripsurvey.groupby(['Date'], as_index=False)['Population Not Staying at Home'].sum()\n",
    "tripsurvey_grouped_travelers = tripsurvey_grouped_travelers.rename(columns={\"Population Not Staying at Home\": \"Travelers\"})\n",
    "tripsurvey_grouped_travelers.head()"
   ]
  },
  {
   "cell_type": "code",
   "execution_count": 66,
   "id": "2302b5b6-b2d5-4b08-be1b-d4face9cbace",
   "metadata": {
    "tags": []
   },
   "outputs": [
    {
     "data": {
      "text/html": [
       "<div>\n",
       "<style scoped>\n",
       "    .dataframe tbody tr th:only-of-type {\n",
       "        vertical-align: middle;\n",
       "    }\n",
       "\n",
       "    .dataframe tbody tr th {\n",
       "        vertical-align: top;\n",
       "    }\n",
       "\n",
       "    .dataframe thead th {\n",
       "        text-align: right;\n",
       "    }\n",
       "</style>\n",
       "<table border=\"1\" class=\"dataframe\">\n",
       "  <thead>\n",
       "    <tr style=\"text-align: right;\">\n",
       "      <th></th>\n",
       "      <th>Date</th>\n",
       "      <th>PercentofTravelers</th>\n",
       "    </tr>\n",
       "  </thead>\n",
       "  <tbody>\n",
       "    <tr>\n",
       "      <th>0</th>\n",
       "      <td>2019-01-01</td>\n",
       "      <td>81.424641</td>\n",
       "    </tr>\n",
       "    <tr>\n",
       "      <th>1</th>\n",
       "      <td>2019-02-01</td>\n",
       "      <td>81.755145</td>\n",
       "    </tr>\n",
       "    <tr>\n",
       "      <th>2</th>\n",
       "      <td>2019-03-01</td>\n",
       "      <td>81.773040</td>\n",
       "    </tr>\n",
       "    <tr>\n",
       "      <th>3</th>\n",
       "      <td>2019-04-01</td>\n",
       "      <td>81.328957</td>\n",
       "    </tr>\n",
       "    <tr>\n",
       "      <th>4</th>\n",
       "      <td>2019-05-01</td>\n",
       "      <td>81.861388</td>\n",
       "    </tr>\n",
       "  </tbody>\n",
       "</table>\n",
       "</div>"
      ],
      "text/plain": [
       "        Date  PercentofTravelers\n",
       "0 2019-01-01           81.424641\n",
       "1 2019-02-01           81.755145\n",
       "2 2019-03-01           81.773040\n",
       "3 2019-04-01           81.328957\n",
       "4 2019-05-01           81.861388"
      ]
     },
     "execution_count": 66,
     "metadata": {},
     "output_type": "execute_result"
    }
   ],
   "source": [
    "#Group population traveling from survey data\n",
    "\n",
    "tripsurvey_grouped_travelerperc = tripsurvey.groupby(['Date'], as_index=False)['PercentofTravelers'].mean()\n",
    "tripsurvey_grouped_travelerperc.head()"
   ]
  },
  {
   "cell_type": "code",
   "execution_count": 56,
   "id": "f256f550-23ad-4c1f-8553-0d9145b9353e",
   "metadata": {
    "tags": []
   },
   "outputs": [
    {
     "data": {
      "text/html": [
       "<div>\n",
       "<style scoped>\n",
       "    .dataframe tbody tr th:only-of-type {\n",
       "        vertical-align: middle;\n",
       "    }\n",
       "\n",
       "    .dataframe tbody tr th {\n",
       "        vertical-align: top;\n",
       "    }\n",
       "\n",
       "    .dataframe thead th {\n",
       "        text-align: right;\n",
       "    }\n",
       "</style>\n",
       "<table border=\"1\" class=\"dataframe\">\n",
       "  <thead>\n",
       "    <tr style=\"text-align: right;\">\n",
       "      <th></th>\n",
       "      <th>Date</th>\n",
       "      <th>Trips</th>\n",
       "    </tr>\n",
       "  </thead>\n",
       "  <tbody>\n",
       "    <tr>\n",
       "      <th>0</th>\n",
       "      <td>2019-01-01</td>\n",
       "      <td>3.411167e+09</td>\n",
       "    </tr>\n",
       "    <tr>\n",
       "      <th>1</th>\n",
       "      <td>2019-02-01</td>\n",
       "      <td>3.446040e+09</td>\n",
       "    </tr>\n",
       "    <tr>\n",
       "      <th>2</th>\n",
       "      <td>2019-03-01</td>\n",
       "      <td>3.919756e+09</td>\n",
       "    </tr>\n",
       "    <tr>\n",
       "      <th>3</th>\n",
       "      <td>2019-04-01</td>\n",
       "      <td>4.340727e+09</td>\n",
       "    </tr>\n",
       "    <tr>\n",
       "      <th>4</th>\n",
       "      <td>2019-05-01</td>\n",
       "      <td>4.245221e+09</td>\n",
       "    </tr>\n",
       "  </tbody>\n",
       "</table>\n",
       "</div>"
      ],
      "text/plain": [
       "        Date         Trips\n",
       "0 2019-01-01  3.411167e+09\n",
       "1 2019-02-01  3.446040e+09\n",
       "2 2019-03-01  3.919756e+09\n",
       "3 2019-04-01  4.340727e+09\n",
       "4 2019-05-01  4.245221e+09"
      ]
     },
     "execution_count": 56,
     "metadata": {},
     "output_type": "execute_result"
    }
   ],
   "source": [
    "#Group total number of trips from survey data\n",
    "\n",
    "tripsurvey_grouped_trips_sum = tripsurvey.groupby(['Date'], as_index=False)['Number of Trips'].sum()\n",
    "tripsurvey_grouped_trips_sum = tripsurvey_grouped_trips_sum.rename(columns={\"Number of Trips\": \"Trips\"})\n",
    "tripsurvey_grouped_trips_sum.head()"
   ]
  },
  {
   "cell_type": "code",
   "execution_count": 57,
   "id": "8625d714-692e-40fe-9850-5025341173f1",
   "metadata": {
    "tags": []
   },
   "outputs": [
    {
     "data": {
      "text/html": [
       "<div>\n",
       "<style scoped>\n",
       "    .dataframe tbody tr th:only-of-type {\n",
       "        vertical-align: middle;\n",
       "    }\n",
       "\n",
       "    .dataframe tbody tr th {\n",
       "        vertical-align: top;\n",
       "    }\n",
       "\n",
       "    .dataframe thead th {\n",
       "        text-align: right;\n",
       "    }\n",
       "</style>\n",
       "<table border=\"1\" class=\"dataframe\">\n",
       "  <thead>\n",
       "    <tr style=\"text-align: right;\">\n",
       "      <th></th>\n",
       "      <th>Date</th>\n",
       "      <th>Trips</th>\n",
       "    </tr>\n",
       "  </thead>\n",
       "  <tbody>\n",
       "    <tr>\n",
       "      <th>0</th>\n",
       "      <td>2019-01-01</td>\n",
       "      <td>1.071010e+06</td>\n",
       "    </tr>\n",
       "    <tr>\n",
       "      <th>1</th>\n",
       "      <td>2019-02-01</td>\n",
       "      <td>1.081280e+06</td>\n",
       "    </tr>\n",
       "    <tr>\n",
       "      <th>2</th>\n",
       "      <td>2019-03-01</td>\n",
       "      <td>1.230306e+06</td>\n",
       "    </tr>\n",
       "    <tr>\n",
       "      <th>3</th>\n",
       "      <td>2019-04-01</td>\n",
       "      <td>1.364580e+06</td>\n",
       "    </tr>\n",
       "    <tr>\n",
       "      <th>4</th>\n",
       "      <td>2019-05-01</td>\n",
       "      <td>1.332043e+06</td>\n",
       "    </tr>\n",
       "  </tbody>\n",
       "</table>\n",
       "</div>"
      ],
      "text/plain": [
       "        Date         Trips\n",
       "0 2019-01-01  1.071010e+06\n",
       "1 2019-02-01  1.081280e+06\n",
       "2 2019-03-01  1.230306e+06\n",
       "3 2019-04-01  1.364580e+06\n",
       "4 2019-05-01  1.332043e+06"
      ]
     },
     "execution_count": 57,
     "metadata": {},
     "output_type": "execute_result"
    }
   ],
   "source": [
    "#Group average number of trips from survey data\n",
    "\n",
    "tripsurvey_grouped_trips_avg = tripsurvey.groupby(['Date'], as_index=False)['Number of Trips'].mean()\n",
    "tripsurvey_grouped_trips_avg = tripsurvey_grouped_trips_avg.rename(columns={\"Number of Trips\": \"Trips\"})\n",
    "tripsurvey_grouped_trips_avg.head()"
   ]
  },
  {
   "cell_type": "markdown",
   "id": "56ce80a1-2f0c-41f1-a83c-fb9e4c7fc287",
   "metadata": {},
   "source": [
    "### Visualize Data over Time"
   ]
  },
  {
   "cell_type": "code",
   "execution_count": 51,
   "id": "3393ccd9-8a18-4255-ad58-7c7a032b406c",
   "metadata": {},
   "outputs": [
    {
     "data": {
      "image/png": "[encoded data removed]",
      "text/plain": [
       "<Figure size 1400x800 with 1 Axes>"
      ]
     },
     "metadata": {},
     "output_type": "display_data"
    }
   ],
   "source": [
    "sns.set_style('darkgrid')\n",
    "sns.set(rc={'figure.figsize':(14,8)})\n",
    "\n",
    "ax = sns.lineplot(data=airline_grouped_flights, x ='DATE', y = 'TRIPS', palette='viridis', lw=3)\n",
    "plt.title(\"Number of Airline Trips to Washington DC over Time\")\n",
    "plt.show()"
   ]
  },
  {
   "cell_type": "code",
   "execution_count": 53,
   "id": "49d89133-6797-4259-98ff-3532a653ecc6",
   "metadata": {
    "tags": []
   },
   "outputs": [
    {
     "data": {
      "image/png": "[encoded data removed]",
      "text/plain": [
       "<Figure size 1400x800 with 1 Axes>"
      ]
     },
     "metadata": {},
     "output_type": "display_data"
    }
   ],
   "source": [
    "sns.set_style('darkgrid')\n",
    "sns.set(rc={'figure.figsize':(14,8)})\n",
    "\n",
    "ax = sns.lineplot(data=airline_grouped_passengers, x ='DATE', y = 'PASSENGERS', palette='viridis', lw=3)\n",
    "plt.title(\"Number of Air Passengers to Washington DC over Time\")\n",
    "plt.show()"
   ]
  },
  {
   "cell_type": "code",
   "execution_count": 58,
   "id": "edfbcd82-d029-4e1c-9999-e6a38641352b",
   "metadata": {
    "tags": []
   },
   "outputs": [
    {
     "data": {
      "image/png": "[encoded data removed]",
      "text/plain": [
       "<Figure size 1400x800 with 1 Axes>"
      ]
     },
     "metadata": {},
     "output_type": "display_data"
    }
   ],
   "source": [
    "sns.set_style('darkgrid')\n",
    "sns.set(rc={'figure.figsize':(14,8)})\n",
    "\n",
    "ax = sns.lineplot(data=tripsurvey_grouped_travelers, x ='Date', y = 'Travelers', palette='viridis', lw=3)\n",
    "plt.title(\"Number of People who Traveled over Time\")\n",
    "plt.show()"
   ]
  },
  {
   "cell_type": "code",
   "execution_count": 69,
   "id": "4e6255fe-4a63-4cf1-b242-5833710248b2",
   "metadata": {
    "tags": []
   },
   "outputs": [
    {
     "data": {
      "image/png": "[encoded data removed]",
      "text/plain": [
       "<Figure size 1400x800 with 1 Axes>"
      ]
     },
     "metadata": {},
     "output_type": "display_data"
    }
   ],
   "source": [
    "sns.set_style('darkgrid')\n",
    "sns.set(rc={'figure.figsize':(14,8)})\n",
    "\n",
    "ax = sns.lineplot(data=tripsurvey_grouped_travelerperc, x ='Date', y = 'PercentofTravelers', palette='viridis', lw=3)\n",
    "plt.title(\"Average Percent of Population Traveling over Time\")\n",
    "plt.show()"
   ]
  },
  {
   "cell_type": "code",
   "execution_count": 59,
   "id": "ff3a1f17-c298-4619-9b65-87763351d2c7",
   "metadata": {
    "tags": []
   },
   "outputs": [
    {
     "data": {
      "image/png": "[encoded data removed]",
      "text/plain": [
       "<Figure size 1400x800 with 1 Axes>"
      ]
     },
     "metadata": {},
     "output_type": "display_data"
    }
   ],
   "source": [
    "sns.set_style('darkgrid')\n",
    "sns.set(rc={'figure.figsize':(14,8)})\n",
    "\n",
    "ax = sns.lineplot(data=tripsurvey_grouped_trips_sum, x ='Date', y = 'Trips', palette='viridis', lw=3)\n",
    "plt.title(\"Number of Trips Taken over Time\")\n",
    "plt.show()"
   ]
  },
  {
   "cell_type": "markdown",
   "id": "afc1c2f9-a2f2-4c0c-bebb-aaf3ebbf85ec",
   "metadata": {},
   "source": [
    "### Join Data in Singular DF"
   ]
  },
  {
   "cell_type": "code",
   "execution_count": null,
   "id": "7f75bf41-bf39-44c4-806e-6a9480c6ed22",
   "metadata": {},
   "outputs": [],
   "source": []
  },
  {
   "cell_type": "markdown",
   "id": "cafbe34d-0469-4f25-a26b-bacdf37ad418",
   "metadata": {
    "tags": []
   },
   "source": [
    "## Release Resources"
   ]
  },
  {
   "cell_type": "code",
   "execution_count": null,
   "id": "66dc444e-4d76-47ac-92a6-4f22ae33a31d",
   "metadata": {},
   "outputs": [],
   "source": [
    "%%html\n",
    "\n",
    "<p><b>Shutting down your kernel for this notebook to release resources.</b></p>\n",
    "<button class=\"sm-command-button\" data-commandlinker-command=\"kernelmenu:shutdown\" style=\"display:none;\">Shutdown Kernel</button>\n",
    "        \n",
    "<script>\n",
    "try {\n",
    "    els = document.getElementsByClassName(\"sm-command-button\");\n",
    "    els[0].click();\n",
    "}\n",
    "catch(err) {\n",
    "    // NoOp\n",
    "}    \n",
    "</script>"
   ]
  },
  {
   "cell_type": "code",
   "execution_count": null,
   "id": "2f0cbda2-223b-44a9-974b-d2aa31cbb387",
   "metadata": {
    "tags": []
   },
   "outputs": [],
   "source": [
    "%%javascript\n",
    "\n",
    "try {\n",
    "    Jupyter.notebook.save_checkpoint();\n",
    "    Jupyter.notebook.session.delete();\n",
    "}\n",
    "catch(err) {\n",
    "    // NoOp\n",
    "}"
   ]
  },
  {
   "cell_type": "code",
   "execution_count": null,
   "id": "7adf6c80-a150-454d-a6d1-d227e501038e",
   "metadata": {},
   "outputs": [],
   "source": []
  }
 ],
 "metadata": {
  "availableInstances": [
   {
    "_defaultOrder": 0,
    "_isFastLaunch": true,
    "category": "General purpose",
    "gpuNum": 0,
    "memoryGiB": 4,
    "name": "ml.t3.medium",
    "vcpuNum": 2
   },
   {
    "_defaultOrder": 1,
    "_isFastLaunch": false,
    "category": "General purpose",
    "gpuNum": 0,
    "memoryGiB": 8,
    "name": "ml.t3.large",
    "vcpuNum": 2
   },
   {
    "_defaultOrder": 2,
    "_isFastLaunch": false,
    "category": "General purpose",
    "gpuNum": 0,
    "memoryGiB": 16,
    "name": "ml.t3.xlarge",
    "vcpuNum": 4
   },
   {
    "_defaultOrder": 3,
    "_isFastLaunch": false,
    "category": "General purpose",
    "gpuNum": 0,
    "memoryGiB": 32,
    "name": "ml.t3.2xlarge",
    "vcpuNum": 8
   },
   {
    "_defaultOrder": 4,
    "_isFastLaunch": true,
    "category": "General purpose",
    "gpuNum": 0,
    "memoryGiB": 8,
    "name": "ml.m5.large",
    "vcpuNum": 2
   },
   {
    "_defaultOrder": 5,
    "_isFastLaunch": false,
    "category": "General purpose",
    "gpuNum": 0,
    "memoryGiB": 16,
    "name": "ml.m5.xlarge",
    "vcpuNum": 4
   },
   {
    "_defaultOrder": 6,
    "_isFastLaunch": false,
    "category": "General purpose",
    "gpuNum": 0,
    "memoryGiB": 32,
    "name": "ml.m5.2xlarge",
    "vcpuNum": 8
   },
   {
    "_defaultOrder": 7,
    "_isFastLaunch": false,
    "category": "General purpose",
    "gpuNum": 0,
    "memoryGiB": 64,
    "name": "ml.m5.4xlarge",
    "vcpuNum": 16
   },
   {
    "_defaultOrder": 8,
    "_isFastLaunch": false,
    "category": "General purpose",
    "gpuNum": 0,
    "memoryGiB": 128,
    "name": "ml.m5.8xlarge",
    "vcpuNum": 32
   },
   {
    "_defaultOrder": 9,
    "_isFastLaunch": false,
    "category": "General purpose",
    "gpuNum": 0,
    "memoryGiB": 192,
    "name": "ml.m5.12xlarge",
    "vcpuNum": 48
   },
   {
    "_defaultOrder": 10,
    "_isFastLaunch": false,
    "category": "General purpose",
    "gpuNum": 0,
    "memoryGiB": 256,
    "name": "ml.m5.16xlarge",
    "vcpuNum": 64
   },
   {
    "_defaultOrder": 11,
    "_isFastLaunch": false,
    "category": "General purpose",
    "gpuNum": 0,
    "memoryGiB": 384,
    "name": "ml.m5.24xlarge",
    "vcpuNum": 96
   },
   {
    "_defaultOrder": 12,
    "_isFastLaunch": false,
    "category": "General purpose",
    "gpuNum": 0,
    "memoryGiB": 8,
    "name": "ml.m5d.large",
    "vcpuNum": 2
   },
   {
    "_defaultOrder": 13,
    "_isFastLaunch": false,
    "category": "General purpose",
    "gpuNum": 0,
    "memoryGiB": 16,
    "name": "ml.m5d.xlarge",
    "vcpuNum": 4
   },
   {
    "_defaultOrder": 14,
    "_isFastLaunch": false,
    "category": "General purpose",
    "gpuNum": 0,
    "memoryGiB": 32,
    "name": "ml.m5d.2xlarge",
    "vcpuNum": 8
   },
   {
    "_defaultOrder": 15,
    "_isFastLaunch": false,
    "category": "General purpose",
    "gpuNum": 0,
    "memoryGiB": 64,
    "name": "ml.m5d.4xlarge",
    "vcpuNum": 16
   },
   {
    "_defaultOrder": 16,
    "_isFastLaunch": false,
    "category": "General purpose",
    "gpuNum": 0,
    "memoryGiB": 128,
    "name": "ml.m5d.8xlarge",
    "vcpuNum": 32
   },
   {
    "_defaultOrder": 17,
    "_isFastLaunch": false,
    "category": "General purpose",
    "gpuNum": 0,
    "memoryGiB": 192,
    "name": "ml.m5d.12xlarge",
    "vcpuNum": 48
   },
   {
    "_defaultOrder": 18,
    "_isFastLaunch": false,
    "category": "General purpose",
    "gpuNum": 0,
    "memoryGiB": 256,
    "name": "ml.m5d.16xlarge",
    "vcpuNum": 64
   },
   {
    "_defaultOrder": 19,
    "_isFastLaunch": false,
    "category": "General purpose",
    "gpuNum": 0,
    "memoryGiB": 384,
    "name": "ml.m5d.24xlarge",
    "vcpuNum": 96
   },
   {
    "_defaultOrder": 20,
    "_isFastLaunch": true,
    "category": "Compute optimized",
    "gpuNum": 0,
    "memoryGiB": 4,
    "name": "ml.c5.large",
    "vcpuNum": 2
   },
   {
    "_defaultOrder": 21,
    "_isFastLaunch": false,
    "category": "Compute optimized",
    "gpuNum": 0,
    "memoryGiB": 8,
    "name": "ml.c5.xlarge",
    "vcpuNum": 4
   },
   {
    "_defaultOrder": 22,
    "_isFastLaunch": false,
    "category": "Compute optimized",
    "gpuNum": 0,
    "memoryGiB": 16,
    "name": "ml.c5.2xlarge",
    "vcpuNum": 8
   },
   {
    "_defaultOrder": 23,
    "_isFastLaunch": false,
    "category": "Compute optimized",
    "gpuNum": 0,
    "memoryGiB": 32,
    "name": "ml.c5.4xlarge",
    "vcpuNum": 16
   },
   {
    "_defaultOrder": 24,
    "_isFastLaunch": false,
    "category": "Compute optimized",
    "gpuNum": 0,
    "memoryGiB": 72,
    "name": "ml.c5.9xlarge",
    "vcpuNum": 36
   },
   {
    "_defaultOrder": 25,
    "_isFastLaunch": false,
    "category": "Compute optimized",
    "gpuNum": 0,
    "memoryGiB": 96,
    "name": "ml.c5.12xlarge",
    "vcpuNum": 48
   },
   {
    "_defaultOrder": 26,
    "_isFastLaunch": false,
    "category": "Compute optimized",
    "gpuNum": 0,
    "memoryGiB": 144,
    "name": "ml.c5.18xlarge",
    "vcpuNum": 72
   },
   {
    "_defaultOrder": 27,
    "_isFastLaunch": false,
    "category": "Compute optimized",
    "gpuNum": 0,
    "memoryGiB": 192,
    "name": "ml.c5.24xlarge",
    "vcpuNum": 96
   },
   {
    "_defaultOrder": 28,
    "_isFastLaunch": true,
    "category": "Accelerated computing",
    "gpuNum": 1,
    "memoryGiB": 16,
    "name": "ml.g4dn.xlarge",
    "vcpuNum": 4
   },
   {
    "_defaultOrder": 29,
    "_isFastLaunch": false,
    "category": "Accelerated computing",
    "gpuNum": 1,
    "memoryGiB": 32,
    "name": "ml.g4dn.2xlarge",
    "vcpuNum": 8
   },
   {
    "_defaultOrder": 30,
    "_isFastLaunch": false,
    "category": "Accelerated computing",
    "gpuNum": 1,
    "memoryGiB": 64,
    "name": "ml.g4dn.4xlarge",
    "vcpuNum": 16
   },
   {
    "_defaultOrder": 31,
    "_isFastLaunch": false,
    "category": "Accelerated computing",
    "gpuNum": 1,
    "memoryGiB": 128,
    "name": "ml.g4dn.8xlarge",
    "vcpuNum": 32
   },
   {
    "_defaultOrder": 32,
    "_isFastLaunch": false,
    "category": "Accelerated computing",
    "gpuNum": 4,
    "memoryGiB": 192,
    "name": "ml.g4dn.12xlarge",
    "vcpuNum": 48
   },
   {
    "_defaultOrder": 33,
    "_isFastLaunch": false,
    "category": "Accelerated computing",
    "gpuNum": 1,
    "memoryGiB": 256,
    "name": "ml.g4dn.16xlarge",
    "vcpuNum": 64
   },
   {
    "_defaultOrder": 34,
    "_isFastLaunch": false,
    "category": "Accelerated computing",
    "gpuNum": 1,
    "memoryGiB": 61,
    "name": "ml.p3.2xlarge",
    "vcpuNum": 8
   },
   {
    "_defaultOrder": 35,
    "_isFastLaunch": false,
    "category": "Accelerated computing",
    "gpuNum": 4,
    "memoryGiB": 244,
    "name": "ml.p3.8xlarge",
    "vcpuNum": 32
   },
   {
    "_defaultOrder": 36,
    "_isFastLaunch": false,
    "category": "Accelerated computing",
    "gpuNum": 8,
    "memoryGiB": 488,
    "name": "ml.p3.16xlarge",
    "vcpuNum": 64
   },
   {
    "_defaultOrder": 37,
    "_isFastLaunch": false,
    "category": "Accelerated computing",
    "gpuNum": 8,
    "memoryGiB": 768,
    "name": "ml.p3dn.24xlarge",
    "vcpuNum": 96
   },
   {
    "_defaultOrder": 38,
    "_isFastLaunch": false,
    "category": "Memory Optimized",
    "gpuNum": 0,
    "memoryGiB": 16,
    "name": "ml.r5.large",
    "vcpuNum": 2
   },
   {
    "_defaultOrder": 39,
    "_isFastLaunch": false,
    "category": "Memory Optimized",
    "gpuNum": 0,
    "memoryGiB": 32,
    "name": "ml.r5.xlarge",
    "vcpuNum": 4
   },
   {
    "_defaultOrder": 40,
    "_isFastLaunch": false,
    "category": "Memory Optimized",
    "gpuNum": 0,
    "memoryGiB": 64,
    "name": "ml.r5.2xlarge",
    "vcpuNum": 8
   },
   {
    "_defaultOrder": 41,
    "_isFastLaunch": false,
    "category": "Memory Optimized",
    "gpuNum": 0,
    "memoryGiB": 128,
    "name": "ml.r5.4xlarge",
    "vcpuNum": 16
   },
   {
    "_defaultOrder": 42,
    "_isFastLaunch": false,
    "category": "Memory Optimized",
    "gpuNum": 0,
    "memoryGiB": 256,
    "name": "ml.r5.8xlarge",
    "vcpuNum": 32
   },
   {
    "_defaultOrder": 43,
    "_isFastLaunch": false,
    "category": "Memory Optimized",
    "gpuNum": 0,
    "memoryGiB": 384,
    "name": "ml.r5.12xlarge",
    "vcpuNum": 48
   },
   {
    "_defaultOrder": 44,
    "_isFastLaunch": false,
    "category": "Memory Optimized",
    "gpuNum": 0,
    "memoryGiB": 512,
    "name": "ml.r5.16xlarge",
    "vcpuNum": 64
   },
   {
    "_defaultOrder": 45,
    "_isFastLaunch": false,
    "category": "Memory Optimized",
    "gpuNum": 0,
    "memoryGiB": 768,
    "name": "ml.r5.24xlarge",
    "vcpuNum": 96
   },
   {
    "_defaultOrder": 46,
    "_isFastLaunch": false,
    "category": "Accelerated computing",
    "gpuNum": 1,
    "memoryGiB": 16,
    "name": "ml.g5.xlarge",
    "vcpuNum": 4
   },
   {
    "_defaultOrder": 47,
    "_isFastLaunch": false,
    "category": "Accelerated computing",
    "gpuNum": 1,
    "memoryGiB": 32,
    "name": "ml.g5.2xlarge",
    "vcpuNum": 8
   },
   {
    "_defaultOrder": 48,
    "_isFastLaunch": false,
    "category": "Accelerated computing",
    "gpuNum": 1,
    "memoryGiB": 64,
    "name": "ml.g5.4xlarge",
    "vcpuNum": 16
   },
   {
    "_defaultOrder": 49,
    "_isFastLaunch": false,
    "category": "Accelerated computing",
    "gpuNum": 1,
    "memoryGiB": 128,
    "name": "ml.g5.8xlarge",
    "vcpuNum": 32
   },
   {
    "_defaultOrder": 50,
    "_isFastLaunch": false,
    "category": "Accelerated computing",
    "gpuNum": 1,
    "memoryGiB": 256,
    "name": "ml.g5.16xlarge",
    "vcpuNum": 64
   },
   {
    "_defaultOrder": 51,
    "_isFastLaunch": false,
    "category": "Accelerated computing",
    "gpuNum": 4,
    "memoryGiB": 192,
    "name": "ml.g5.12xlarge",
    "vcpuNum": 48
   },
   {
    "_defaultOrder": 52,
    "_isFastLaunch": false,
    "category": "Accelerated computing",
    "gpuNum": 4,
    "memoryGiB": 384,
    "name": "ml.g5.24xlarge",
    "vcpuNum": 96
   },
   {
    "_defaultOrder": 53,
    "_isFastLaunch": false,
    "category": "Accelerated computing",
    "gpuNum": 8,
    "memoryGiB": 768,
    "name": "ml.g5.48xlarge",
    "vcpuNum": 192
   }
  ],
  "instance_type": "ml.t3.medium",
  "kernelspec": {
   "display_name": "Python 3 (Data Science)",
   "language": "python",
   "name": "python3__SAGEMAKER_INTERNAL__arn:aws:sagemaker:us-east-1:081325390199:image/datascience-1.0"
  },
  "language_info": {
   "codemirror_mode": {
    "name": "ipython",
    "version": 3
   },
   "file_extension": ".py",
   "mimetype": "text/x-python",
   "name": "python",
   "nbconvert_exporter": "python",
   "pygments_lexer": "ipython3",
   "version": "3.7.10"
  }
 },
 "nbformat": 4,
 "nbformat_minor": 5
}
