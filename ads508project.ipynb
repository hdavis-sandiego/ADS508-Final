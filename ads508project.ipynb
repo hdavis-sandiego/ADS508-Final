{
 "cells": [
  {
   "cell_type": "markdown",
   "id": "5cc98689-261a-44f8-8b69-ad8a06532e9e",
   "metadata": {
    "tags": []
   },
   "source": [
    "# ADS-508 Project Notebook"
   ]
  },
  {
   "cell_type": "code",
   "execution_count": 1,
   "id": "ce01e0bc-0db2-455f-89cc-85c5287500ac",
   "metadata": {
    "tags": []
   },
   "outputs": [],
   "source": [
    "import boto3\n",
    "import sagemaker\n",
    "import csv\n",
    "import pandas as pd\n",
    "\n",
    "sagemaker_session = sagemaker.Session()\n",
    "role = sagemaker.get_execution_role()\n",
    "bucket = sagemaker_session.default_bucket()\n",
    "region = boto3.Session().region_name\n",
    "\n",
    "sm = boto3.Session().client(service_name=\"sagemaker\", region_name=region)"
   ]
  },
  {
   "cell_type": "markdown",
   "id": "51179813-1a07-4524-91af-9f196052bbc0",
   "metadata": {
    "tags": []
   },
   "source": [
    "## Import\n",
    "### Importing Data from S3 Bucket"
   ]
  },
  {
   "cell_type": "code",
   "execution_count": 20,
   "id": "ce0bc125-b7b8-4feb-8c5a-3d98b67a87ff",
   "metadata": {
    "tags": []
   },
   "outputs": [
    {
     "name": "stdout",
     "output_type": "stream",
     "text": [
      "download: s3://aurelia-resort-data/airbnb/neighbourhoods.csv to data/airbnb/neighbourhoods.csv\n",
      "download: s3://aurelia-resort-data/income/disp_income.csv to data/income/disp_income.csv\n",
      "download: s3://aurelia-resort-data/travel/airline_data2.csv to data/travel/airline_data2.csv\n",
      "download: s3://aurelia-resort-data/airbnb/listings.csv to data/airbnb/listings.csv\n",
      "download: s3://aurelia-resort-data/travel/trip_data.csv to data/travel/trip_data.csv\n",
      "download: s3://aurelia-resort-data/travel/airline_data.csv to data/travel/airline_data.csv\n",
      "download: s3://aurelia-resort-data/travel/airline_data3.csv to data/travel/airline_data3.csv\n",
      "download: s3://aurelia-resort-data/airbnb/reviews.csv to data/airbnb/reviews.csv\n"
     ]
    }
   ],
   "source": [
    "!aws s3 cp --recursive s3://aurelia-resort-data/ ./data/"
   ]
  },
  {
   "cell_type": "markdown",
   "id": "49d3bdd4-54f5-477c-b3be-7a9df37caa6a",
   "metadata": {
    "tags": []
   },
   "source": [
    "### Ingesting Data via Pandas"
   ]
  },
  {
   "cell_type": "code",
   "execution_count": 21,
   "id": "74ef427c-32b5-43f5-980c-3b6441654d35",
   "metadata": {
    "tags": []
   },
   "outputs": [],
   "source": [
    "airbnb_neigh = pd.read_csv(\"./data/airbnb/neighbourhoods.csv\")\n",
    "airbnb_reviews = pd.read_csv(\"./data/airbnb/reviews.csv\")\n",
    "airline = pd.read_csv(\"./data/travel/airline_data3.csv\")\n",
    "#tripsurvey = pd.read_csv(\"./data/travel/trip_data.csv\")\n",
    "\n",
    "#Kernel sometimes dies here, maybe due to size of tripsurvey. Just rerun."
   ]
  },
  {
   "cell_type": "markdown",
   "id": "b2f83de9-20bd-4450-b9d6-0cbb373821e2",
   "metadata": {},
   "source": [
    "## EDA\n",
    "### Data Shapes"
   ]
  },
  {
   "cell_type": "code",
   "execution_count": 22,
   "id": "8499b9c6-f2a1-46bb-abbc-94962319eee0",
   "metadata": {
    "tags": []
   },
   "outputs": [
    {
     "data": {
      "text/plain": [
       "(248522, 36)"
      ]
     },
     "execution_count": 22,
     "metadata": {},
     "output_type": "execute_result"
    }
   ],
   "source": [
    "airline.shape"
   ]
  },
  {
   "cell_type": "code",
   "execution_count": 23,
   "id": "a31110f5-3b31-428c-af98-e2db88d96d03",
   "metadata": {
    "tags": []
   },
   "outputs": [
    {
     "data": {
      "text/plain": [
       "(4018052, 22)"
      ]
     },
     "execution_count": 23,
     "metadata": {},
     "output_type": "execute_result"
    }
   ],
   "source": [
    "tripsurvey.shape"
   ]
  },
  {
   "cell_type": "markdown",
   "id": "c48d6f7a-9c9c-4f6f-a092-4a76f579adc0",
   "metadata": {},
   "source": [
    "### Data Previews"
   ]
  },
  {
   "cell_type": "code",
   "execution_count": 34,
   "id": "31c50805-bd66-4c25-9439-6c34b01cdb23",
   "metadata": {
    "tags": []
   },
   "outputs": [
    {
     "data": {
      "text/html": [
       "<div>\n",
       "<style scoped>\n",
       "    .dataframe tbody tr th:only-of-type {\n",
       "        vertical-align: middle;\n",
       "    }\n",
       "\n",
       "    .dataframe tbody tr th {\n",
       "        vertical-align: top;\n",
       "    }\n",
       "\n",
       "    .dataframe thead th {\n",
       "        text-align: right;\n",
       "    }\n",
       "</style>\n",
       "<table border=\"1\" class=\"dataframe\">\n",
       "  <thead>\n",
       "    <tr style=\"text-align: right;\">\n",
       "      <th></th>\n",
       "      <th>PASSENGERS</th>\n",
       "      <th>FREIGHT</th>\n",
       "      <th>MAIL</th>\n",
       "      <th>DISTANCE</th>\n",
       "      <th>UNIQUE_CARRIER</th>\n",
       "      <th>AIRLINE_ID</th>\n",
       "      <th>UNIQUE_CARRIER_NAME</th>\n",
       "      <th>UNIQUE_CARRIER_ENTITY</th>\n",
       "      <th>REGION</th>\n",
       "      <th>CARRIER</th>\n",
       "      <th>...</th>\n",
       "      <th>DEST_CITY_NAME</th>\n",
       "      <th>DEST_STATE_ABR</th>\n",
       "      <th>DEST_STATE_FIPS</th>\n",
       "      <th>DEST_STATE_NM</th>\n",
       "      <th>DEST_WAC</th>\n",
       "      <th>YEAR</th>\n",
       "      <th>QUARTER</th>\n",
       "      <th>MONTH</th>\n",
       "      <th>DISTANCE_GROUP</th>\n",
       "      <th>CLASS</th>\n",
       "    </tr>\n",
       "  </thead>\n",
       "  <tbody>\n",
       "    <tr>\n",
       "      <th>46136</th>\n",
       "      <td>1.0</td>\n",
       "      <td>0.0</td>\n",
       "      <td>0.0</td>\n",
       "      <td>0.0</td>\n",
       "      <td>OH</td>\n",
       "      <td>20397</td>\n",
       "      <td>PSA Airlines Inc.</td>\n",
       "      <td>07028</td>\n",
       "      <td>D</td>\n",
       "      <td>OH</td>\n",
       "      <td>...</td>\n",
       "      <td>Washington, DC</td>\n",
       "      <td>VA</td>\n",
       "      <td>51</td>\n",
       "      <td>Virginia</td>\n",
       "      <td>38</td>\n",
       "      <td>2022</td>\n",
       "      <td>2</td>\n",
       "      <td>6</td>\n",
       "      <td>1</td>\n",
       "      <td>F</td>\n",
       "    </tr>\n",
       "    <tr>\n",
       "      <th>46390</th>\n",
       "      <td>1.0</td>\n",
       "      <td>0.0</td>\n",
       "      <td>0.0</td>\n",
       "      <td>24.0</td>\n",
       "      <td>OH</td>\n",
       "      <td>20397</td>\n",
       "      <td>PSA Airlines Inc.</td>\n",
       "      <td>07028</td>\n",
       "      <td>D</td>\n",
       "      <td>OH</td>\n",
       "      <td>...</td>\n",
       "      <td>Washington, DC</td>\n",
       "      <td>VA</td>\n",
       "      <td>51</td>\n",
       "      <td>Virginia</td>\n",
       "      <td>38</td>\n",
       "      <td>2022</td>\n",
       "      <td>1</td>\n",
       "      <td>3</td>\n",
       "      <td>1</td>\n",
       "      <td>F</td>\n",
       "    </tr>\n",
       "    <tr>\n",
       "      <th>46391</th>\n",
       "      <td>1.0</td>\n",
       "      <td>0.0</td>\n",
       "      <td>0.0</td>\n",
       "      <td>24.0</td>\n",
       "      <td>OH</td>\n",
       "      <td>20397</td>\n",
       "      <td>PSA Airlines Inc.</td>\n",
       "      <td>07028</td>\n",
       "      <td>D</td>\n",
       "      <td>OH</td>\n",
       "      <td>...</td>\n",
       "      <td>Washington, DC</td>\n",
       "      <td>VA</td>\n",
       "      <td>51</td>\n",
       "      <td>Virginia</td>\n",
       "      <td>38</td>\n",
       "      <td>2022</td>\n",
       "      <td>4</td>\n",
       "      <td>12</td>\n",
       "      <td>1</td>\n",
       "      <td>F</td>\n",
       "    </tr>\n",
       "    <tr>\n",
       "      <th>47086</th>\n",
       "      <td>1.0</td>\n",
       "      <td>0.0</td>\n",
       "      <td>0.0</td>\n",
       "      <td>94.0</td>\n",
       "      <td>OH</td>\n",
       "      <td>20397</td>\n",
       "      <td>PSA Airlines Inc.</td>\n",
       "      <td>07028</td>\n",
       "      <td>D</td>\n",
       "      <td>OH</td>\n",
       "      <td>...</td>\n",
       "      <td>Washington, DC</td>\n",
       "      <td>VA</td>\n",
       "      <td>51</td>\n",
       "      <td>Virginia</td>\n",
       "      <td>38</td>\n",
       "      <td>2022</td>\n",
       "      <td>2</td>\n",
       "      <td>6</td>\n",
       "      <td>1</td>\n",
       "      <td>F</td>\n",
       "    </tr>\n",
       "    <tr>\n",
       "      <th>47412</th>\n",
       "      <td>1.0</td>\n",
       "      <td>0.0</td>\n",
       "      <td>0.0</td>\n",
       "      <td>142.0</td>\n",
       "      <td>AA</td>\n",
       "      <td>19805</td>\n",
       "      <td>American Airlines Inc.</td>\n",
       "      <td>0A050</td>\n",
       "      <td>D</td>\n",
       "      <td>AA</td>\n",
       "      <td>...</td>\n",
       "      <td>Washington, DC</td>\n",
       "      <td>VA</td>\n",
       "      <td>51</td>\n",
       "      <td>Virginia</td>\n",
       "      <td>38</td>\n",
       "      <td>2022</td>\n",
       "      <td>2</td>\n",
       "      <td>5</td>\n",
       "      <td>1</td>\n",
       "      <td>F</td>\n",
       "    </tr>\n",
       "  </tbody>\n",
       "</table>\n",
       "<p>5 rows × 36 columns</p>\n",
       "</div>"
      ],
      "text/plain": [
       "       PASSENGERS  FREIGHT  MAIL  DISTANCE UNIQUE_CARRIER  AIRLINE_ID  \\\n",
       "46136         1.0      0.0   0.0       0.0             OH       20397   \n",
       "46390         1.0      0.0   0.0      24.0             OH       20397   \n",
       "46391         1.0      0.0   0.0      24.0             OH       20397   \n",
       "47086         1.0      0.0   0.0      94.0             OH       20397   \n",
       "47412         1.0      0.0   0.0     142.0             AA       19805   \n",
       "\n",
       "          UNIQUE_CARRIER_NAME UNIQUE_CARRIER_ENTITY REGION CARRIER  ...  \\\n",
       "46136       PSA Airlines Inc.                 07028      D      OH  ...   \n",
       "46390       PSA Airlines Inc.                 07028      D      OH  ...   \n",
       "46391       PSA Airlines Inc.                 07028      D      OH  ...   \n",
       "47086       PSA Airlines Inc.                 07028      D      OH  ...   \n",
       "47412  American Airlines Inc.                 0A050      D      AA  ...   \n",
       "\n",
       "       DEST_CITY_NAME  DEST_STATE_ABR  DEST_STATE_FIPS  DEST_STATE_NM  \\\n",
       "46136  Washington, DC              VA               51       Virginia   \n",
       "46390  Washington, DC              VA               51       Virginia   \n",
       "46391  Washington, DC              VA               51       Virginia   \n",
       "47086  Washington, DC              VA               51       Virginia   \n",
       "47412  Washington, DC              VA               51       Virginia   \n",
       "\n",
       "       DEST_WAC  YEAR QUARTER MONTH DISTANCE_GROUP  CLASS  \n",
       "46136        38  2022       2     6              1      F  \n",
       "46390        38  2022       1     3              1      F  \n",
       "46391        38  2022       4    12              1      F  \n",
       "47086        38  2022       2     6              1      F  \n",
       "47412        38  2022       2     5              1      F  \n",
       "\n",
       "[5 rows x 36 columns]"
      ]
     },
     "execution_count": 34,
     "metadata": {},
     "output_type": "execute_result"
    }
   ],
   "source": [
    "airline.head(5)"
   ]
  },
  {
   "cell_type": "code",
   "execution_count": 11,
   "id": "420bc9b5-74d8-473e-a860-cb1f7d98dbf3",
   "metadata": {
    "tags": []
   },
   "outputs": [
    {
     "data": {
      "text/html": [
       "<div>\n",
       "<style scoped>\n",
       "    .dataframe tbody tr th:only-of-type {\n",
       "        vertical-align: middle;\n",
       "    }\n",
       "\n",
       "    .dataframe tbody tr th {\n",
       "        vertical-align: top;\n",
       "    }\n",
       "\n",
       "    .dataframe thead th {\n",
       "        text-align: right;\n",
       "    }\n",
       "</style>\n",
       "<table border=\"1\" class=\"dataframe\">\n",
       "  <thead>\n",
       "    <tr style=\"text-align: right;\">\n",
       "      <th></th>\n",
       "      <th>Level</th>\n",
       "      <th>Date</th>\n",
       "      <th>State FIPS</th>\n",
       "      <th>State Postal Code</th>\n",
       "      <th>County FIPS</th>\n",
       "      <th>County Name</th>\n",
       "      <th>Population Staying at Home</th>\n",
       "      <th>Population Not Staying at Home</th>\n",
       "      <th>Number of Trips</th>\n",
       "      <th>Number of Trips &lt;1</th>\n",
       "      <th>...</th>\n",
       "      <th>Number of Trips 5-10</th>\n",
       "      <th>Number of Trips 10-25</th>\n",
       "      <th>Number of Trips 25-50</th>\n",
       "      <th>Number of Trips 50-100</th>\n",
       "      <th>Number of Trips 100-250</th>\n",
       "      <th>Number of Trips 250-500</th>\n",
       "      <th>Number of Trips &gt;=500</th>\n",
       "      <th>Row ID</th>\n",
       "      <th>Week</th>\n",
       "      <th>Month</th>\n",
       "    </tr>\n",
       "  </thead>\n",
       "  <tbody>\n",
       "    <tr>\n",
       "      <th>0</th>\n",
       "      <td>National</td>\n",
       "      <td>2019/01/01</td>\n",
       "      <td>NaN</td>\n",
       "      <td>NaN</td>\n",
       "      <td>NaN</td>\n",
       "      <td>NaN</td>\n",
       "      <td>77433867.0</td>\n",
       "      <td>248733553.0</td>\n",
       "      <td>8.977844e+08</td>\n",
       "      <td>241667151.0</td>\n",
       "      <td>...</td>\n",
       "      <td>129670778.0</td>\n",
       "      <td>116904343.0</td>\n",
       "      <td>40432062.0</td>\n",
       "      <td>15686639.0</td>\n",
       "      <td>7525563.0</td>\n",
       "      <td>1806022.0</td>\n",
       "      <td>1728112.0</td>\n",
       "      <td>00-00000-20190101</td>\n",
       "      <td>0</td>\n",
       "      <td>1</td>\n",
       "    </tr>\n",
       "    <tr>\n",
       "      <th>1</th>\n",
       "      <td>National</td>\n",
       "      <td>2019/01/02</td>\n",
       "      <td>NaN</td>\n",
       "      <td>NaN</td>\n",
       "      <td>NaN</td>\n",
       "      <td>NaN</td>\n",
       "      <td>61305201.0</td>\n",
       "      <td>264862219.0</td>\n",
       "      <td>1.139452e+09</td>\n",
       "      <td>291276735.0</td>\n",
       "      <td>...</td>\n",
       "      <td>171637514.0</td>\n",
       "      <td>167412698.0</td>\n",
       "      <td>56148976.0</td>\n",
       "      <td>17739183.0</td>\n",
       "      <td>7817044.0</td>\n",
       "      <td>1962301.0</td>\n",
       "      <td>1531219.0</td>\n",
       "      <td>00-00000-20190102</td>\n",
       "      <td>0</td>\n",
       "      <td>1</td>\n",
       "    </tr>\n",
       "    <tr>\n",
       "      <th>2</th>\n",
       "      <td>National</td>\n",
       "      <td>2019/01/03</td>\n",
       "      <td>NaN</td>\n",
       "      <td>NaN</td>\n",
       "      <td>NaN</td>\n",
       "      <td>NaN</td>\n",
       "      <td>63050480.0</td>\n",
       "      <td>263116940.0</td>\n",
       "      <td>1.162753e+09</td>\n",
       "      <td>296375014.0</td>\n",
       "      <td>...</td>\n",
       "      <td>175775410.0</td>\n",
       "      <td>172027487.0</td>\n",
       "      <td>57632422.0</td>\n",
       "      <td>18366626.0</td>\n",
       "      <td>8124548.0</td>\n",
       "      <td>2038099.0</td>\n",
       "      <td>1567072.0</td>\n",
       "      <td>00-00000-20190103</td>\n",
       "      <td>0</td>\n",
       "      <td>1</td>\n",
       "    </tr>\n",
       "    <tr>\n",
       "      <th>3</th>\n",
       "      <td>National</td>\n",
       "      <td>2019/01/04</td>\n",
       "      <td>NaN</td>\n",
       "      <td>NaN</td>\n",
       "      <td>NaN</td>\n",
       "      <td>NaN</td>\n",
       "      <td>61803652.0</td>\n",
       "      <td>264363768.0</td>\n",
       "      <td>1.181954e+09</td>\n",
       "      <td>293159631.0</td>\n",
       "      <td>...</td>\n",
       "      <td>181324645.0</td>\n",
       "      <td>176144493.0</td>\n",
       "      <td>58761592.0</td>\n",
       "      <td>19315785.0</td>\n",
       "      <td>8687318.0</td>\n",
       "      <td>2096065.0</td>\n",
       "      <td>1569185.0</td>\n",
       "      <td>00-00000-20190104</td>\n",
       "      <td>0</td>\n",
       "      <td>1</td>\n",
       "    </tr>\n",
       "    <tr>\n",
       "      <th>4</th>\n",
       "      <td>National</td>\n",
       "      <td>2019/01/05</td>\n",
       "      <td>NaN</td>\n",
       "      <td>NaN</td>\n",
       "      <td>NaN</td>\n",
       "      <td>NaN</td>\n",
       "      <td>64389745.0</td>\n",
       "      <td>261777675.0</td>\n",
       "      <td>1.180477e+09</td>\n",
       "      <td>295459014.0</td>\n",
       "      <td>...</td>\n",
       "      <td>180941769.0</td>\n",
       "      <td>165239790.0</td>\n",
       "      <td>54842134.0</td>\n",
       "      <td>19363939.0</td>\n",
       "      <td>8490791.0</td>\n",
       "      <td>1991159.0</td>\n",
       "      <td>1438664.0</td>\n",
       "      <td>00-00000-20190105</td>\n",
       "      <td>0</td>\n",
       "      <td>1</td>\n",
       "    </tr>\n",
       "  </tbody>\n",
       "</table>\n",
       "<p>5 rows × 22 columns</p>\n",
       "</div>"
      ],
      "text/plain": [
       "      Level        Date  State FIPS State Postal Code  County FIPS  \\\n",
       "0  National  2019/01/01         NaN               NaN          NaN   \n",
       "1  National  2019/01/02         NaN               NaN          NaN   \n",
       "2  National  2019/01/03         NaN               NaN          NaN   \n",
       "3  National  2019/01/04         NaN               NaN          NaN   \n",
       "4  National  2019/01/05         NaN               NaN          NaN   \n",
       "\n",
       "  County Name  Population Staying at Home  Population Not Staying at Home  \\\n",
       "0         NaN                  77433867.0                     248733553.0   \n",
       "1         NaN                  61305201.0                     264862219.0   \n",
       "2         NaN                  63050480.0                     263116940.0   \n",
       "3         NaN                  61803652.0                     264363768.0   \n",
       "4         NaN                  64389745.0                     261777675.0   \n",
       "\n",
       "   Number of Trips  Number of Trips <1  ...  Number of Trips 5-10  \\\n",
       "0     8.977844e+08         241667151.0  ...           129670778.0   \n",
       "1     1.139452e+09         291276735.0  ...           171637514.0   \n",
       "2     1.162753e+09         296375014.0  ...           175775410.0   \n",
       "3     1.181954e+09         293159631.0  ...           181324645.0   \n",
       "4     1.180477e+09         295459014.0  ...           180941769.0   \n",
       "\n",
       "   Number of Trips 10-25  Number of Trips 25-50  Number of Trips 50-100  \\\n",
       "0            116904343.0             40432062.0              15686639.0   \n",
       "1            167412698.0             56148976.0              17739183.0   \n",
       "2            172027487.0             57632422.0              18366626.0   \n",
       "3            176144493.0             58761592.0              19315785.0   \n",
       "4            165239790.0             54842134.0              19363939.0   \n",
       "\n",
       "   Number of Trips 100-250  Number of Trips 250-500  Number of Trips >=500  \\\n",
       "0                7525563.0                1806022.0              1728112.0   \n",
       "1                7817044.0                1962301.0              1531219.0   \n",
       "2                8124548.0                2038099.0              1567072.0   \n",
       "3                8687318.0                2096065.0              1569185.0   \n",
       "4                8490791.0                1991159.0              1438664.0   \n",
       "\n",
       "              Row ID  Week Month  \n",
       "0  00-00000-20190101     0     1  \n",
       "1  00-00000-20190102     0     1  \n",
       "2  00-00000-20190103     0     1  \n",
       "3  00-00000-20190104     0     1  \n",
       "4  00-00000-20190105     0     1  \n",
       "\n",
       "[5 rows x 22 columns]"
      ]
     },
     "execution_count": 11,
     "metadata": {},
     "output_type": "execute_result"
    }
   ],
   "source": [
    "tripsurvey.head(5)"
   ]
  },
  {
   "cell_type": "code",
   "execution_count": 12,
   "id": "4c510d21-3cb5-49da-aecc-17fc5e1f3ed5",
   "metadata": {
    "tags": []
   },
   "outputs": [
    {
     "data": {
      "text/html": [
       "<div>\n",
       "<style scoped>\n",
       "    .dataframe tbody tr th:only-of-type {\n",
       "        vertical-align: middle;\n",
       "    }\n",
       "\n",
       "    .dataframe tbody tr th {\n",
       "        vertical-align: top;\n",
       "    }\n",
       "\n",
       "    .dataframe thead th {\n",
       "        text-align: right;\n",
       "    }\n",
       "</style>\n",
       "<table border=\"1\" class=\"dataframe\">\n",
       "  <thead>\n",
       "    <tr style=\"text-align: right;\">\n",
       "      <th></th>\n",
       "      <th>neighbourhood_group</th>\n",
       "      <th>neighbourhood</th>\n",
       "    </tr>\n",
       "  </thead>\n",
       "  <tbody>\n",
       "    <tr>\n",
       "      <th>0</th>\n",
       "      <td>NaN</td>\n",
       "      <td>Brightwood Park, Crestwood, Petworth</td>\n",
       "    </tr>\n",
       "    <tr>\n",
       "      <th>1</th>\n",
       "      <td>NaN</td>\n",
       "      <td>Brookland, Brentwood, Langdon</td>\n",
       "    </tr>\n",
       "    <tr>\n",
       "      <th>2</th>\n",
       "      <td>NaN</td>\n",
       "      <td>Capitol Hill, Lincoln Park</td>\n",
       "    </tr>\n",
       "    <tr>\n",
       "      <th>3</th>\n",
       "      <td>NaN</td>\n",
       "      <td>Capitol View, Marshall Heights, Benning Heights</td>\n",
       "    </tr>\n",
       "    <tr>\n",
       "      <th>4</th>\n",
       "      <td>NaN</td>\n",
       "      <td>Cathedral Heights, McLean Gardens, Glover Park</td>\n",
       "    </tr>\n",
       "  </tbody>\n",
       "</table>\n",
       "</div>"
      ],
      "text/plain": [
       "   neighbourhood_group                                    neighbourhood\n",
       "0                  NaN             Brightwood Park, Crestwood, Petworth\n",
       "1                  NaN                    Brookland, Brentwood, Langdon\n",
       "2                  NaN                       Capitol Hill, Lincoln Park\n",
       "3                  NaN  Capitol View, Marshall Heights, Benning Heights\n",
       "4                  NaN   Cathedral Heights, McLean Gardens, Glover Park"
      ]
     },
     "execution_count": 12,
     "metadata": {},
     "output_type": "execute_result"
    }
   ],
   "source": [
    "airbnb_neigh.head(5)"
   ]
  },
  {
   "cell_type": "code",
   "execution_count": 13,
   "id": "4c0e9817-29ff-441c-a184-54b8ec8a8ecc",
   "metadata": {
    "tags": []
   },
   "outputs": [
    {
     "data": {
      "text/html": [
       "<div>\n",
       "<style scoped>\n",
       "    .dataframe tbody tr th:only-of-type {\n",
       "        vertical-align: middle;\n",
       "    }\n",
       "\n",
       "    .dataframe tbody tr th {\n",
       "        vertical-align: top;\n",
       "    }\n",
       "\n",
       "    .dataframe thead th {\n",
       "        text-align: right;\n",
       "    }\n",
       "</style>\n",
       "<table border=\"1\" class=\"dataframe\">\n",
       "  <thead>\n",
       "    <tr style=\"text-align: right;\">\n",
       "      <th></th>\n",
       "      <th>listing_id</th>\n",
       "      <th>id</th>\n",
       "      <th>date</th>\n",
       "      <th>reviewer_id</th>\n",
       "      <th>reviewer_name</th>\n",
       "      <th>comments</th>\n",
       "    </tr>\n",
       "  </thead>\n",
       "  <tbody>\n",
       "    <tr>\n",
       "      <th>0</th>\n",
       "      <td>3686</td>\n",
       "      <td>131293</td>\n",
       "      <td>2010-11-01</td>\n",
       "      <td>257234</td>\n",
       "      <td>Callie</td>\n",
       "      <td>Staying with Levita and her wonderful family w...</td>\n",
       "    </tr>\n",
       "    <tr>\n",
       "      <th>1</th>\n",
       "      <td>3686</td>\n",
       "      <td>150766</td>\n",
       "      <td>2010-12-08</td>\n",
       "      <td>255888</td>\n",
       "      <td>Patrick</td>\n",
       "      <td>Vita is a very welcoming, helpful and friendly...</td>\n",
       "    </tr>\n",
       "    <tr>\n",
       "      <th>2</th>\n",
       "      <td>3686</td>\n",
       "      <td>177749</td>\n",
       "      <td>2011-02-02</td>\n",
       "      <td>366688</td>\n",
       "      <td>Benjamin</td>\n",
       "      <td>This was my first time using \"airbnb\" and it m...</td>\n",
       "    </tr>\n",
       "    <tr>\n",
       "      <th>3</th>\n",
       "      <td>3686</td>\n",
       "      <td>197451</td>\n",
       "      <td>2011-03-12</td>\n",
       "      <td>213492</td>\n",
       "      <td>T.J.</td>\n",
       "      <td>First, Vita saved my work week by providing me...</td>\n",
       "    </tr>\n",
       "    <tr>\n",
       "      <th>4</th>\n",
       "      <td>3686</td>\n",
       "      <td>213212</td>\n",
       "      <td>2011-03-30</td>\n",
       "      <td>428455</td>\n",
       "      <td>Pete</td>\n",
       "      <td>Great host! Very welcoming and organised. I st...</td>\n",
       "    </tr>\n",
       "  </tbody>\n",
       "</table>\n",
       "</div>"
      ],
      "text/plain": [
       "   listing_id      id        date  reviewer_id reviewer_name  \\\n",
       "0        3686  131293  2010-11-01       257234        Callie   \n",
       "1        3686  150766  2010-12-08       255888       Patrick   \n",
       "2        3686  177749  2011-02-02       366688      Benjamin   \n",
       "3        3686  197451  2011-03-12       213492          T.J.   \n",
       "4        3686  213212  2011-03-30       428455          Pete   \n",
       "\n",
       "                                            comments  \n",
       "0  Staying with Levita and her wonderful family w...  \n",
       "1  Vita is a very welcoming, helpful and friendly...  \n",
       "2  This was my first time using \"airbnb\" and it m...  \n",
       "3  First, Vita saved my work week by providing me...  \n",
       "4  Great host! Very welcoming and organised. I st...  "
      ]
     },
     "execution_count": 13,
     "metadata": {},
     "output_type": "execute_result"
    }
   ],
   "source": [
    "airbnb_reviews.head(5)"
   ]
  },
  {
   "cell_type": "markdown",
   "id": "e0ccf905-e4e0-4cfd-9bd9-87021c7b402a",
   "metadata": {},
   "source": [
    "## Relevant Data Filtering"
   ]
  },
  {
   "cell_type": "markdown",
   "id": "2b8d1c22-9a3e-40bb-a6f1-37bbc59e13bf",
   "metadata": {},
   "source": [
    "#### Airline"
   ]
  },
  {
   "cell_type": "code",
   "execution_count": 32,
   "id": "793d5581-0ae4-4747-907c-1ff268ede251",
   "metadata": {
    "tags": []
   },
   "outputs": [],
   "source": [
    "## Filter data to where DC is destination city\n",
    "\n",
    "airline = airline[airline[\"DEST_CITY_NAME\"].str.contains(\"DC\")]\n",
    "\n",
    "## Filter data to where passengers > 0\n",
    "\n",
    "airline = airline[airline[\"PASSENGERS\"]>0]\n"
   ]
  },
  {
   "cell_type": "code",
   "execution_count": 33,
   "id": "a2342d29-5723-4144-adf0-46ab0b9d146c",
   "metadata": {
    "tags": []
   },
   "outputs": [
    {
     "data": {
      "text/plain": [
       "(5236, 36)"
      ]
     },
     "execution_count": 33,
     "metadata": {},
     "output_type": "execute_result"
    }
   ],
   "source": [
    "airline.shape"
   ]
  },
  {
   "cell_type": "code",
   "execution_count": 31,
   "id": "6e255fbf-514a-4924-8965-897cffcffd93",
   "metadata": {
    "tags": []
   },
   "outputs": [
    {
     "data": {
      "text/plain": [
       "242976"
      ]
     },
     "execution_count": 31,
     "metadata": {},
     "output_type": "execute_result"
    }
   ],
   "source": [
    "248522 - 5236 # rows removed"
   ]
  },
  {
   "cell_type": "code",
   "execution_count": 29,
   "id": "010a6ee3-7603-4e5d-8d45-e17439812c73",
   "metadata": {
    "tags": []
   },
   "outputs": [
    {
     "data": {
      "text/plain": [
       "Index(['PASSENGERS', 'FREIGHT', 'MAIL', 'DISTANCE', 'UNIQUE_CARRIER',\n",
       "       'AIRLINE_ID', 'UNIQUE_CARRIER_NAME', 'UNIQUE_CARRIER_ENTITY', 'REGION',\n",
       "       'CARRIER', 'CARRIER_NAME', 'CARRIER_GROUP', 'CARRIER_GROUP_NEW',\n",
       "       'ORIGIN_AIRPORT_ID', 'ORIGIN_AIRPORT_SEQ_ID', 'ORIGIN_CITY_MARKET_ID',\n",
       "       'ORIGIN', 'ORIGIN_CITY_NAME', 'ORIGIN_STATE_ABR', 'ORIGIN_STATE_FIPS',\n",
       "       'ORIGIN_STATE_NM', 'ORIGIN_WAC', 'DEST_AIRPORT_ID',\n",
       "       'DEST_AIRPORT_SEQ_ID', 'DEST_CITY_MARKET_ID', 'DEST', 'DEST_CITY_NAME',\n",
       "       'DEST_STATE_ABR', 'DEST_STATE_FIPS', 'DEST_STATE_NM', 'DEST_WAC',\n",
       "       'YEAR', 'QUARTER', 'MONTH', 'DISTANCE_GROUP', 'CLASS'],\n",
       "      dtype='object')"
      ]
     },
     "execution_count": 29,
     "metadata": {},
     "output_type": "execute_result"
    }
   ],
   "source": [
    "airline.columns"
   ]
  },
  {
   "cell_type": "code",
   "execution_count": null,
   "id": "6f036c09-9403-4b83-ace0-58fb2e4ed208",
   "metadata": {},
   "outputs": [],
   "source": [
    "# Remove irrelvant columns\n",
    "\n",
    "df.drop(['FREIGHT', 'MAIL', ], axis=1)"
   ]
  },
  {
   "cell_type": "markdown",
   "id": "ce134d57-aa46-429c-95ed-2f17e229c57b",
   "metadata": {},
   "source": [
    "### Summary Statistics"
   ]
  },
  {
   "cell_type": "code",
   "execution_count": 10,
   "id": "586fa269-aaaf-4bbd-850a-73c868bd512a",
   "metadata": {
    "tags": []
   },
   "outputs": [
    {
     "data": {
      "text/html": [
       "<div>\n",
       "<style scoped>\n",
       "    .dataframe tbody tr th:only-of-type {\n",
       "        vertical-align: middle;\n",
       "    }\n",
       "\n",
       "    .dataframe tbody tr th {\n",
       "        vertical-align: top;\n",
       "    }\n",
       "\n",
       "    .dataframe thead th {\n",
       "        text-align: right;\n",
       "    }\n",
       "</style>\n",
       "<table border=\"1\" class=\"dataframe\">\n",
       "  <thead>\n",
       "    <tr style=\"text-align: right;\">\n",
       "      <th></th>\n",
       "      <th>Activity Period</th>\n",
       "      <th>Passenger Count</th>\n",
       "    </tr>\n",
       "  </thead>\n",
       "  <tbody>\n",
       "    <tr>\n",
       "      <th>count</th>\n",
       "      <td>50730.000000</td>\n",
       "      <td>50730.000000</td>\n",
       "    </tr>\n",
       "    <tr>\n",
       "      <th>mean</th>\n",
       "      <td>201390.461640</td>\n",
       "      <td>28489.836073</td>\n",
       "    </tr>\n",
       "    <tr>\n",
       "      <th>std</th>\n",
       "      <td>495.261863</td>\n",
       "      <td>60100.148363</td>\n",
       "    </tr>\n",
       "    <tr>\n",
       "      <th>min</th>\n",
       "      <td>200507.000000</td>\n",
       "      <td>1.000000</td>\n",
       "    </tr>\n",
       "    <tr>\n",
       "      <th>25%</th>\n",
       "      <td>201001.000000</td>\n",
       "      <td>4553.000000</td>\n",
       "    </tr>\n",
       "    <tr>\n",
       "      <th>50%</th>\n",
       "      <td>201408.000000</td>\n",
       "      <td>8645.500000</td>\n",
       "    </tr>\n",
       "    <tr>\n",
       "      <th>75%</th>\n",
       "      <td>201807.000000</td>\n",
       "      <td>19508.500000</td>\n",
       "    </tr>\n",
       "    <tr>\n",
       "      <th>max</th>\n",
       "      <td>202212.000000</td>\n",
       "      <td>659837.000000</td>\n",
       "    </tr>\n",
       "  </tbody>\n",
       "</table>\n",
       "</div>"
      ],
      "text/plain": [
       "       Activity Period  Passenger Count\n",
       "count     50730.000000     50730.000000\n",
       "mean     201390.461640     28489.836073\n",
       "std         495.261863     60100.148363\n",
       "min      200507.000000         1.000000\n",
       "25%      201001.000000      4553.000000\n",
       "50%      201408.000000      8645.500000\n",
       "75%      201807.000000     19508.500000\n",
       "max      202212.000000    659837.000000"
      ]
     },
     "execution_count": 10,
     "metadata": {},
     "output_type": "execute_result"
    }
   ],
   "source": [
    "airline.describe()"
   ]
  },
  {
   "cell_type": "code",
   "execution_count": 11,
   "id": "d9bfdc82-1a9c-49d1-9c8d-f956d60e244e",
   "metadata": {
    "tags": []
   },
   "outputs": [
    {
     "data": {
      "text/html": [
       "<div>\n",
       "<style scoped>\n",
       "    .dataframe tbody tr th:only-of-type {\n",
       "        vertical-align: middle;\n",
       "    }\n",
       "\n",
       "    .dataframe tbody tr th {\n",
       "        vertical-align: top;\n",
       "    }\n",
       "\n",
       "    .dataframe thead th {\n",
       "        text-align: right;\n",
       "    }\n",
       "</style>\n",
       "<table border=\"1\" class=\"dataframe\">\n",
       "  <thead>\n",
       "    <tr style=\"text-align: right;\">\n",
       "      <th></th>\n",
       "      <th>State FIPS</th>\n",
       "      <th>County FIPS</th>\n",
       "      <th>Population Staying at Home</th>\n",
       "      <th>Population Not Staying at Home</th>\n",
       "      <th>Number of Trips</th>\n",
       "      <th>Number of Trips &lt;1</th>\n",
       "      <th>Number of Trips 1-3</th>\n",
       "      <th>Number of Trips 3-5</th>\n",
       "      <th>Number of Trips 5-10</th>\n",
       "      <th>Number of Trips 10-25</th>\n",
       "      <th>Number of Trips 25-50</th>\n",
       "      <th>Number of Trips 50-100</th>\n",
       "      <th>Number of Trips 100-250</th>\n",
       "      <th>Number of Trips 250-500</th>\n",
       "      <th>Number of Trips &gt;=500</th>\n",
       "      <th>Week</th>\n",
       "      <th>Month</th>\n",
       "    </tr>\n",
       "  </thead>\n",
       "  <tbody>\n",
       "    <tr>\n",
       "      <th>count</th>\n",
       "      <td>4.016794e+06</td>\n",
       "      <td>3.952636e+06</td>\n",
       "      <td>3.985105e+06</td>\n",
       "      <td>3.985105e+06</td>\n",
       "      <td>3.985105e+06</td>\n",
       "      <td>3.985105e+06</td>\n",
       "      <td>3.985105e+06</td>\n",
       "      <td>3.985105e+06</td>\n",
       "      <td>3.985105e+06</td>\n",
       "      <td>3.985105e+06</td>\n",
       "      <td>3.985105e+06</td>\n",
       "      <td>3.985105e+06</td>\n",
       "      <td>3.985105e+06</td>\n",
       "      <td>3.985105e+06</td>\n",
       "      <td>3.985105e+06</td>\n",
       "      <td>4.018052e+06</td>\n",
       "      <td>4.018052e+06</td>\n",
       "    </tr>\n",
       "    <tr>\n",
       "      <th>mean</th>\n",
       "      <td>3.025900e+01</td>\n",
       "      <td>3.038365e+04</td>\n",
       "      <td>6.833871e+04</td>\n",
       "      <td>2.418878e+05</td>\n",
       "      <td>1.147674e+06</td>\n",
       "      <td>2.967885e+05</td>\n",
       "      <td>2.826964e+05</td>\n",
       "      <td>1.390903e+05</td>\n",
       "      <td>1.759088e+05</td>\n",
       "      <td>1.696797e+05</td>\n",
       "      <td>5.469910e+04</td>\n",
       "      <td>1.821549e+04</td>\n",
       "      <td>7.659008e+03</td>\n",
       "      <td>1.649222e+03</td>\n",
       "      <td>1.286976e+03</td>\n",
       "      <td>2.424960e+01</td>\n",
       "      <td>6.096184e+00</td>\n",
       "    </tr>\n",
       "    <tr>\n",
       "      <th>std</th>\n",
       "      <td>1.515153e+01</td>\n",
       "      <td>1.516010e+04</td>\n",
       "      <td>1.336336e+06</td>\n",
       "      <td>4.625886e+06</td>\n",
       "      <td>2.244948e+07</td>\n",
       "      <td>5.844233e+06</td>\n",
       "      <td>5.531007e+06</td>\n",
       "      <td>2.721950e+06</td>\n",
       "      <td>3.447392e+06</td>\n",
       "      <td>3.331007e+06</td>\n",
       "      <td>1.066654e+06</td>\n",
       "      <td>3.543133e+05</td>\n",
       "      <td>1.511182e+05</td>\n",
       "      <td>3.256915e+04</td>\n",
       "      <td>2.853016e+04</td>\n",
       "      <td>1.503604e+01</td>\n",
       "      <td>3.450463e+00</td>\n",
       "    </tr>\n",
       "    <tr>\n",
       "      <th>min</th>\n",
       "      <td>1.000000e+00</td>\n",
       "      <td>1.001000e+03</td>\n",
       "      <td>8.000000e+00</td>\n",
       "      <td>8.700000e+01</td>\n",
       "      <td>0.000000e+00</td>\n",
       "      <td>0.000000e+00</td>\n",
       "      <td>0.000000e+00</td>\n",
       "      <td>0.000000e+00</td>\n",
       "      <td>0.000000e+00</td>\n",
       "      <td>0.000000e+00</td>\n",
       "      <td>0.000000e+00</td>\n",
       "      <td>0.000000e+00</td>\n",
       "      <td>0.000000e+00</td>\n",
       "      <td>0.000000e+00</td>\n",
       "      <td>0.000000e+00</td>\n",
       "      <td>0.000000e+00</td>\n",
       "      <td>1.000000e+00</td>\n",
       "    </tr>\n",
       "    <tr>\n",
       "      <th>25%</th>\n",
       "      <td>1.800000e+01</td>\n",
       "      <td>1.817700e+04</td>\n",
       "      <td>2.058000e+03</td>\n",
       "      <td>9.281000e+03</td>\n",
       "      <td>4.236800e+04</td>\n",
       "      <td>8.862000e+03</td>\n",
       "      <td>9.369000e+03</td>\n",
       "      <td>4.127000e+03</td>\n",
       "      <td>5.705000e+03</td>\n",
       "      <td>6.775000e+03</td>\n",
       "      <td>3.371000e+03</td>\n",
       "      <td>1.230000e+03</td>\n",
       "      <td>4.100000e+02</td>\n",
       "      <td>5.600000e+01</td>\n",
       "      <td>1.500000e+01</td>\n",
       "      <td>1.100000e+01</td>\n",
       "      <td>3.000000e+00</td>\n",
       "    </tr>\n",
       "    <tr>\n",
       "      <th>50%</th>\n",
       "      <td>2.900000e+01</td>\n",
       "      <td>2.917600e+04</td>\n",
       "      <td>4.933000e+03</td>\n",
       "      <td>2.190800e+04</td>\n",
       "      <td>1.020590e+05</td>\n",
       "      <td>2.233100e+04</td>\n",
       "      <td>2.485300e+04</td>\n",
       "      <td>1.162800e+04</td>\n",
       "      <td>1.448100e+04</td>\n",
       "      <td>1.615200e+04</td>\n",
       "      <td>7.181000e+03</td>\n",
       "      <td>2.674000e+03</td>\n",
       "      <td>9.400000e+02</td>\n",
       "      <td>1.560000e+02</td>\n",
       "      <td>5.200000e+01</td>\n",
       "      <td>2.300000e+01</td>\n",
       "      <td>6.000000e+00</td>\n",
       "    </tr>\n",
       "    <tr>\n",
       "      <th>75%</th>\n",
       "      <td>4.500000e+01</td>\n",
       "      <td>4.508100e+04</td>\n",
       "      <td>1.462800e+04</td>\n",
       "      <td>5.994400e+04</td>\n",
       "      <td>2.825560e+05</td>\n",
       "      <td>6.528800e+04</td>\n",
       "      <td>7.170900e+04</td>\n",
       "      <td>3.474800e+04</td>\n",
       "      <td>4.215600e+04</td>\n",
       "      <td>4.283000e+04</td>\n",
       "      <td>1.669800e+04</td>\n",
       "      <td>6.022000e+03</td>\n",
       "      <td>2.300000e+03</td>\n",
       "      <td>4.320000e+02</td>\n",
       "      <td>2.020000e+02</td>\n",
       "      <td>3.700000e+01</td>\n",
       "      <td>9.000000e+00</td>\n",
       "    </tr>\n",
       "    <tr>\n",
       "      <th>max</th>\n",
       "      <td>5.600000e+01</td>\n",
       "      <td>5.604500e+04</td>\n",
       "      <td>1.102118e+08</td>\n",
       "      <td>2.737400e+08</td>\n",
       "      <td>1.569053e+09</td>\n",
       "      <td>4.615925e+08</td>\n",
       "      <td>4.051305e+08</td>\n",
       "      <td>1.980184e+08</td>\n",
       "      <td>2.526118e+08</td>\n",
       "      <td>2.565096e+08</td>\n",
       "      <td>7.636732e+07</td>\n",
       "      <td>2.873561e+07</td>\n",
       "      <td>1.447698e+07</td>\n",
       "      <td>3.651375e+06</td>\n",
       "      <td>5.003062e+06</td>\n",
       "      <td>5.200000e+01</td>\n",
       "      <td>1.200000e+01</td>\n",
       "    </tr>\n",
       "  </tbody>\n",
       "</table>\n",
       "</div>"
      ],
      "text/plain": [
       "         State FIPS   County FIPS  Population Staying at Home  \\\n",
       "count  4.016794e+06  3.952636e+06                3.985105e+06   \n",
       "mean   3.025900e+01  3.038365e+04                6.833871e+04   \n",
       "std    1.515153e+01  1.516010e+04                1.336336e+06   \n",
       "min    1.000000e+00  1.001000e+03                8.000000e+00   \n",
       "25%    1.800000e+01  1.817700e+04                2.058000e+03   \n",
       "50%    2.900000e+01  2.917600e+04                4.933000e+03   \n",
       "75%    4.500000e+01  4.508100e+04                1.462800e+04   \n",
       "max    5.600000e+01  5.604500e+04                1.102118e+08   \n",
       "\n",
       "       Population Not Staying at Home  Number of Trips  Number of Trips <1  \\\n",
       "count                    3.985105e+06     3.985105e+06        3.985105e+06   \n",
       "mean                     2.418878e+05     1.147674e+06        2.967885e+05   \n",
       "std                      4.625886e+06     2.244948e+07        5.844233e+06   \n",
       "min                      8.700000e+01     0.000000e+00        0.000000e+00   \n",
       "25%                      9.281000e+03     4.236800e+04        8.862000e+03   \n",
       "50%                      2.190800e+04     1.020590e+05        2.233100e+04   \n",
       "75%                      5.994400e+04     2.825560e+05        6.528800e+04   \n",
       "max                      2.737400e+08     1.569053e+09        4.615925e+08   \n",
       "\n",
       "       Number of Trips 1-3  Number of Trips 3-5  Number of Trips 5-10  \\\n",
       "count         3.985105e+06         3.985105e+06          3.985105e+06   \n",
       "mean          2.826964e+05         1.390903e+05          1.759088e+05   \n",
       "std           5.531007e+06         2.721950e+06          3.447392e+06   \n",
       "min           0.000000e+00         0.000000e+00          0.000000e+00   \n",
       "25%           9.369000e+03         4.127000e+03          5.705000e+03   \n",
       "50%           2.485300e+04         1.162800e+04          1.448100e+04   \n",
       "75%           7.170900e+04         3.474800e+04          4.215600e+04   \n",
       "max           4.051305e+08         1.980184e+08          2.526118e+08   \n",
       "\n",
       "       Number of Trips 10-25  Number of Trips 25-50  Number of Trips 50-100  \\\n",
       "count           3.985105e+06           3.985105e+06            3.985105e+06   \n",
       "mean            1.696797e+05           5.469910e+04            1.821549e+04   \n",
       "std             3.331007e+06           1.066654e+06            3.543133e+05   \n",
       "min             0.000000e+00           0.000000e+00            0.000000e+00   \n",
       "25%             6.775000e+03           3.371000e+03            1.230000e+03   \n",
       "50%             1.615200e+04           7.181000e+03            2.674000e+03   \n",
       "75%             4.283000e+04           1.669800e+04            6.022000e+03   \n",
       "max             2.565096e+08           7.636732e+07            2.873561e+07   \n",
       "\n",
       "       Number of Trips 100-250  Number of Trips 250-500  \\\n",
       "count             3.985105e+06             3.985105e+06   \n",
       "mean              7.659008e+03             1.649222e+03   \n",
       "std               1.511182e+05             3.256915e+04   \n",
       "min               0.000000e+00             0.000000e+00   \n",
       "25%               4.100000e+02             5.600000e+01   \n",
       "50%               9.400000e+02             1.560000e+02   \n",
       "75%               2.300000e+03             4.320000e+02   \n",
       "max               1.447698e+07             3.651375e+06   \n",
       "\n",
       "       Number of Trips >=500          Week         Month  \n",
       "count           3.985105e+06  4.018052e+06  4.018052e+06  \n",
       "mean            1.286976e+03  2.424960e+01  6.096184e+00  \n",
       "std             2.853016e+04  1.503604e+01  3.450463e+00  \n",
       "min             0.000000e+00  0.000000e+00  1.000000e+00  \n",
       "25%             1.500000e+01  1.100000e+01  3.000000e+00  \n",
       "50%             5.200000e+01  2.300000e+01  6.000000e+00  \n",
       "75%             2.020000e+02  3.700000e+01  9.000000e+00  \n",
       "max             5.003062e+06  5.200000e+01  1.200000e+01  "
      ]
     },
     "execution_count": 11,
     "metadata": {},
     "output_type": "execute_result"
    }
   ],
   "source": [
    "tripsurvey.describe()"
   ]
  },
  {
   "cell_type": "markdown",
   "id": "1c935623-1897-484a-89b7-3947adf80ad0",
   "metadata": {},
   "source": [
    "### Data Types and Info"
   ]
  },
  {
   "cell_type": "code",
   "execution_count": 12,
   "id": "05bcb083-80dc-4ca1-b80b-8774796b5356",
   "metadata": {
    "tags": []
   },
   "outputs": [
    {
     "name": "stdout",
     "output_type": "stream",
     "text": [
      "<class 'pandas.core.frame.DataFrame'>\n",
      "RangeIndex: 50730 entries, 0 to 50729\n",
      "Data columns (total 12 columns):\n",
      " #   Column                       Non-Null Count  Dtype \n",
      "---  ------                       --------------  ----- \n",
      " 0   Activity Period              50730 non-null  int64 \n",
      " 1   Operating Airline            50730 non-null  object\n",
      " 2   Operating Airline IATA Code  50427 non-null  object\n",
      " 3   Published Airline            50730 non-null  object\n",
      " 4   Published Airline IATA Code  50427 non-null  object\n",
      " 5   GEO Summary                  50730 non-null  object\n",
      " 6   GEO Region                   50730 non-null  object\n",
      " 7   Activity Type Code           50730 non-null  object\n",
      " 8   Price Category Code          50730 non-null  object\n",
      " 9   Terminal                     50730 non-null  object\n",
      " 10  Boarding Area                50730 non-null  object\n",
      " 11  Passenger Count              50730 non-null  int64 \n",
      "dtypes: int64(2), object(10)\n",
      "memory usage: 4.6+ MB\n"
     ]
    }
   ],
   "source": [
    "airline.info()"
   ]
  },
  {
   "cell_type": "code",
   "execution_count": 13,
   "id": "1be4a2aa-e1e0-4976-af11-bb233b2f991b",
   "metadata": {
    "tags": []
   },
   "outputs": [
    {
     "name": "stdout",
     "output_type": "stream",
     "text": [
      "<class 'pandas.core.frame.DataFrame'>\n",
      "RangeIndex: 4018052 entries, 0 to 4018051\n",
      "Data columns (total 22 columns):\n",
      " #   Column                          Dtype  \n",
      "---  ------                          -----  \n",
      " 0   Level                           object \n",
      " 1   Date                            object \n",
      " 2   State FIPS                      float64\n",
      " 3   State Postal Code               object \n",
      " 4   County FIPS                     float64\n",
      " 5   County Name                     object \n",
      " 6   Population Staying at Home      float64\n",
      " 7   Population Not Staying at Home  float64\n",
      " 8   Number of Trips                 float64\n",
      " 9   Number of Trips <1              float64\n",
      " 10  Number of Trips 1-3             float64\n",
      " 11  Number of Trips 3-5             float64\n",
      " 12  Number of Trips 5-10            float64\n",
      " 13  Number of Trips 10-25           float64\n",
      " 14  Number of Trips 25-50           float64\n",
      " 15  Number of Trips 50-100          float64\n",
      " 16  Number of Trips 100-250         float64\n",
      " 17  Number of Trips 250-500         float64\n",
      " 18  Number of Trips >=500           float64\n",
      " 19  Row ID                          object \n",
      " 20  Week                            int64  \n",
      " 21  Month                           int64  \n",
      "dtypes: float64(15), int64(2), object(5)\n",
      "memory usage: 674.4+ MB\n"
     ]
    }
   ],
   "source": [
    "tripsurvey.info()"
   ]
  },
  {
   "cell_type": "markdown",
   "id": "111d3319-d5ab-4421-bc19-2763eee8e670",
   "metadata": {},
   "source": [
    "### Missing Data"
   ]
  },
  {
   "cell_type": "code",
   "execution_count": 14,
   "id": "e07d9c83-6ce9-46d2-85bd-3e34150771f5",
   "metadata": {
    "tags": []
   },
   "outputs": [
    {
     "name": "stdout",
     "output_type": "stream",
     "text": [
      "\n",
      "Missing Data:\n",
      "Activity Period                  0\n",
      "Operating Airline                0\n",
      "Operating Airline IATA Code    303\n",
      "Published Airline                0\n",
      "Published Airline IATA Code    303\n",
      "GEO Summary                      0\n",
      "GEO Region                       0\n",
      "Activity Type Code               0\n",
      "Price Category Code              0\n",
      "Terminal                         0\n",
      "Boarding Area                    0\n",
      "Passenger Count                  0\n",
      "dtype: int64\n",
      "\n",
      "Total Missing Data: 606\n"
     ]
    }
   ],
   "source": [
    "print(f'\\nMissing Data:\\n{airline.isnull().sum()}')\n",
    "\n",
    "print('\\nTotal Missing Data:', airline.isnull().sum().sum())"
   ]
  },
  {
   "cell_type": "code",
   "execution_count": 15,
   "id": "835559d8-5355-4bf5-8256-b5e90d63cd9f",
   "metadata": {
    "tags": []
   },
   "outputs": [
    {
     "name": "stdout",
     "output_type": "stream",
     "text": [
      "\n",
      "Missing Data:\n",
      "Level                                 0\n",
      "Date                                  0\n",
      "State FIPS                         1258\n",
      "State Postal Code                  1258\n",
      "County FIPS                       65416\n",
      "County Name                       65416\n",
      "Population Staying at Home        32947\n",
      "Population Not Staying at Home    32947\n",
      "Number of Trips                   32947\n",
      "Number of Trips <1                32947\n",
      "Number of Trips 1-3               32947\n",
      "Number of Trips 3-5               32947\n",
      "Number of Trips 5-10              32947\n",
      "Number of Trips 10-25             32947\n",
      "Number of Trips 25-50             32947\n",
      "Number of Trips 50-100            32947\n",
      "Number of Trips 100-250           32947\n",
      "Number of Trips 250-500           32947\n",
      "Number of Trips >=500             32947\n",
      "Row ID                                0\n",
      "Week                                  0\n",
      "Month                                 0\n",
      "dtype: int64\n",
      "\n",
      "Total Missing Data: 561659\n"
     ]
    }
   ],
   "source": [
    "print(f'\\nMissing Data:\\n{tripsurvey.isnull().sum()}')\n",
    "\n",
    "print('\\nTotal Missing Data:', tripsurvey.isnull().sum().sum())"
   ]
  },
  {
   "cell_type": "markdown",
   "id": "cafbe34d-0469-4f25-a26b-bacdf37ad418",
   "metadata": {
    "tags": []
   },
   "source": [
    "## Release Resources"
   ]
  },
  {
   "cell_type": "code",
   "execution_count": null,
   "id": "66dc444e-4d76-47ac-92a6-4f22ae33a31d",
   "metadata": {},
   "outputs": [],
   "source": [
    "%%html\n",
    "\n",
    "<p><b>Shutting down your kernel for this notebook to release resources.</b></p>\n",
    "<button class=\"sm-command-button\" data-commandlinker-command=\"kernelmenu:shutdown\" style=\"display:none;\">Shutdown Kernel</button>\n",
    "        \n",
    "<script>\n",
    "try {\n",
    "    els = document.getElementsByClassName(\"sm-command-button\");\n",
    "    els[0].click();\n",
    "}\n",
    "catch(err) {\n",
    "    // NoOp\n",
    "}    \n",
    "</script>"
   ]
  },
  {
   "cell_type": "code",
   "execution_count": null,
   "id": "2f0cbda2-223b-44a9-974b-d2aa31cbb387",
   "metadata": {
    "tags": []
   },
   "outputs": [],
   "source": [
    "%%javascript\n",
    "\n",
    "try {\n",
    "    Jupyter.notebook.save_checkpoint();\n",
    "    Jupyter.notebook.session.delete();\n",
    "}\n",
    "catch(err) {\n",
    "    // NoOp\n",
    "}"
   ]
  }
 ],
 "metadata": {
  "availableInstances": [
   {
    "_defaultOrder": 0,
    "_isFastLaunch": true,
    "category": "General purpose",
    "gpuNum": 0,
    "memoryGiB": 4,
    "name": "ml.t3.medium",
    "vcpuNum": 2
   },
   {
    "_defaultOrder": 1,
    "_isFastLaunch": false,
    "category": "General purpose",
    "gpuNum": 0,
    "memoryGiB": 8,
    "name": "ml.t3.large",
    "vcpuNum": 2
   },
   {
    "_defaultOrder": 2,
    "_isFastLaunch": false,
    "category": "General purpose",
    "gpuNum": 0,
    "memoryGiB": 16,
    "name": "ml.t3.xlarge",
    "vcpuNum": 4
   },
   {
    "_defaultOrder": 3,
    "_isFastLaunch": false,
    "category": "General purpose",
    "gpuNum": 0,
    "memoryGiB": 32,
    "name": "ml.t3.2xlarge",
    "vcpuNum": 8
   },
   {
    "_defaultOrder": 4,
    "_isFastLaunch": true,
    "category": "General purpose",
    "gpuNum": 0,
    "memoryGiB": 8,
    "name": "ml.m5.large",
    "vcpuNum": 2
   },
   {
    "_defaultOrder": 5,
    "_isFastLaunch": false,
    "category": "General purpose",
    "gpuNum": 0,
    "memoryGiB": 16,
    "name": "ml.m5.xlarge",
    "vcpuNum": 4
   },
   {
    "_defaultOrder": 6,
    "_isFastLaunch": false,
    "category": "General purpose",
    "gpuNum": 0,
    "memoryGiB": 32,
    "name": "ml.m5.2xlarge",
    "vcpuNum": 8
   },
   {
    "_defaultOrder": 7,
    "_isFastLaunch": false,
    "category": "General purpose",
    "gpuNum": 0,
    "memoryGiB": 64,
    "name": "ml.m5.4xlarge",
    "vcpuNum": 16
   },
   {
    "_defaultOrder": 8,
    "_isFastLaunch": false,
    "category": "General purpose",
    "gpuNum": 0,
    "memoryGiB": 128,
    "name": "ml.m5.8xlarge",
    "vcpuNum": 32
   },
   {
    "_defaultOrder": 9,
    "_isFastLaunch": false,
    "category": "General purpose",
    "gpuNum": 0,
    "memoryGiB": 192,
    "name": "ml.m5.12xlarge",
    "vcpuNum": 48
   },
   {
    "_defaultOrder": 10,
    "_isFastLaunch": false,
    "category": "General purpose",
    "gpuNum": 0,
    "memoryGiB": 256,
    "name": "ml.m5.16xlarge",
    "vcpuNum": 64
   },
   {
    "_defaultOrder": 11,
    "_isFastLaunch": false,
    "category": "General purpose",
    "gpuNum": 0,
    "memoryGiB": 384,
    "name": "ml.m5.24xlarge",
    "vcpuNum": 96
   },
   {
    "_defaultOrder": 12,
    "_isFastLaunch": false,
    "category": "General purpose",
    "gpuNum": 0,
    "memoryGiB": 8,
    "name": "ml.m5d.large",
    "vcpuNum": 2
   },
   {
    "_defaultOrder": 13,
    "_isFastLaunch": false,
    "category": "General purpose",
    "gpuNum": 0,
    "memoryGiB": 16,
    "name": "ml.m5d.xlarge",
    "vcpuNum": 4
   },
   {
    "_defaultOrder": 14,
    "_isFastLaunch": false,
    "category": "General purpose",
    "gpuNum": 0,
    "memoryGiB": 32,
    "name": "ml.m5d.2xlarge",
    "vcpuNum": 8
   },
   {
    "_defaultOrder": 15,
    "_isFastLaunch": false,
    "category": "General purpose",
    "gpuNum": 0,
    "memoryGiB": 64,
    "name": "ml.m5d.4xlarge",
    "vcpuNum": 16
   },
   {
    "_defaultOrder": 16,
    "_isFastLaunch": false,
    "category": "General purpose",
    "gpuNum": 0,
    "memoryGiB": 128,
    "name": "ml.m5d.8xlarge",
    "vcpuNum": 32
   },
   {
    "_defaultOrder": 17,
    "_isFastLaunch": false,
    "category": "General purpose",
    "gpuNum": 0,
    "memoryGiB": 192,
    "name": "ml.m5d.12xlarge",
    "vcpuNum": 48
   },
   {
    "_defaultOrder": 18,
    "_isFastLaunch": false,
    "category": "General purpose",
    "gpuNum": 0,
    "memoryGiB": 256,
    "name": "ml.m5d.16xlarge",
    "vcpuNum": 64
   },
   {
    "_defaultOrder": 19,
    "_isFastLaunch": false,
    "category": "General purpose",
    "gpuNum": 0,
    "memoryGiB": 384,
    "name": "ml.m5d.24xlarge",
    "vcpuNum": 96
   },
   {
    "_defaultOrder": 20,
    "_isFastLaunch": true,
    "category": "Compute optimized",
    "gpuNum": 0,
    "memoryGiB": 4,
    "name": "ml.c5.large",
    "vcpuNum": 2
   },
   {
    "_defaultOrder": 21,
    "_isFastLaunch": false,
    "category": "Compute optimized",
    "gpuNum": 0,
    "memoryGiB": 8,
    "name": "ml.c5.xlarge",
    "vcpuNum": 4
   },
   {
    "_defaultOrder": 22,
    "_isFastLaunch": false,
    "category": "Compute optimized",
    "gpuNum": 0,
    "memoryGiB": 16,
    "name": "ml.c5.2xlarge",
    "vcpuNum": 8
   },
   {
    "_defaultOrder": 23,
    "_isFastLaunch": false,
    "category": "Compute optimized",
    "gpuNum": 0,
    "memoryGiB": 32,
    "name": "ml.c5.4xlarge",
    "vcpuNum": 16
   },
   {
    "_defaultOrder": 24,
    "_isFastLaunch": false,
    "category": "Compute optimized",
    "gpuNum": 0,
    "memoryGiB": 72,
    "name": "ml.c5.9xlarge",
    "vcpuNum": 36
   },
   {
    "_defaultOrder": 25,
    "_isFastLaunch": false,
    "category": "Compute optimized",
    "gpuNum": 0,
    "memoryGiB": 96,
    "name": "ml.c5.12xlarge",
    "vcpuNum": 48
   },
   {
    "_defaultOrder": 26,
    "_isFastLaunch": false,
    "category": "Compute optimized",
    "gpuNum": 0,
    "memoryGiB": 144,
    "name": "ml.c5.18xlarge",
    "vcpuNum": 72
   },
   {
    "_defaultOrder": 27,
    "_isFastLaunch": false,
    "category": "Compute optimized",
    "gpuNum": 0,
    "memoryGiB": 192,
    "name": "ml.c5.24xlarge",
    "vcpuNum": 96
   },
   {
    "_defaultOrder": 28,
    "_isFastLaunch": true,
    "category": "Accelerated computing",
    "gpuNum": 1,
    "memoryGiB": 16,
    "name": "ml.g4dn.xlarge",
    "vcpuNum": 4
   },
   {
    "_defaultOrder": 29,
    "_isFastLaunch": false,
    "category": "Accelerated computing",
    "gpuNum": 1,
    "memoryGiB": 32,
    "name": "ml.g4dn.2xlarge",
    "vcpuNum": 8
   },
   {
    "_defaultOrder": 30,
    "_isFastLaunch": false,
    "category": "Accelerated computing",
    "gpuNum": 1,
    "memoryGiB": 64,
    "name": "ml.g4dn.4xlarge",
    "vcpuNum": 16
   },
   {
    "_defaultOrder": 31,
    "_isFastLaunch": false,
    "category": "Accelerated computing",
    "gpuNum": 1,
    "memoryGiB": 128,
    "name": "ml.g4dn.8xlarge",
    "vcpuNum": 32
   },
   {
    "_defaultOrder": 32,
    "_isFastLaunch": false,
    "category": "Accelerated computing",
    "gpuNum": 4,
    "memoryGiB": 192,
    "name": "ml.g4dn.12xlarge",
    "vcpuNum": 48
   },
   {
    "_defaultOrder": 33,
    "_isFastLaunch": false,
    "category": "Accelerated computing",
    "gpuNum": 1,
    "memoryGiB": 256,
    "name": "ml.g4dn.16xlarge",
    "vcpuNum": 64
   },
   {
    "_defaultOrder": 34,
    "_isFastLaunch": false,
    "category": "Accelerated computing",
    "gpuNum": 1,
    "memoryGiB": 61,
    "name": "ml.p3.2xlarge",
    "vcpuNum": 8
   },
   {
    "_defaultOrder": 35,
    "_isFastLaunch": false,
    "category": "Accelerated computing",
    "gpuNum": 4,
    "memoryGiB": 244,
    "name": "ml.p3.8xlarge",
    "vcpuNum": 32
   },
   {
    "_defaultOrder": 36,
    "_isFastLaunch": false,
    "category": "Accelerated computing",
    "gpuNum": 8,
    "memoryGiB": 488,
    "name": "ml.p3.16xlarge",
    "vcpuNum": 64
   },
   {
    "_defaultOrder": 37,
    "_isFastLaunch": false,
    "category": "Accelerated computing",
    "gpuNum": 8,
    "memoryGiB": 768,
    "name": "ml.p3dn.24xlarge",
    "vcpuNum": 96
   },
   {
    "_defaultOrder": 38,
    "_isFastLaunch": false,
    "category": "Memory Optimized",
    "gpuNum": 0,
    "memoryGiB": 16,
    "name": "ml.r5.large",
    "vcpuNum": 2
   },
   {
    "_defaultOrder": 39,
    "_isFastLaunch": false,
    "category": "Memory Optimized",
    "gpuNum": 0,
    "memoryGiB": 32,
    "name": "ml.r5.xlarge",
    "vcpuNum": 4
   },
   {
    "_defaultOrder": 40,
    "_isFastLaunch": false,
    "category": "Memory Optimized",
    "gpuNum": 0,
    "memoryGiB": 64,
    "name": "ml.r5.2xlarge",
    "vcpuNum": 8
   },
   {
    "_defaultOrder": 41,
    "_isFastLaunch": false,
    "category": "Memory Optimized",
    "gpuNum": 0,
    "memoryGiB": 128,
    "name": "ml.r5.4xlarge",
    "vcpuNum": 16
   },
   {
    "_defaultOrder": 42,
    "_isFastLaunch": false,
    "category": "Memory Optimized",
    "gpuNum": 0,
    "memoryGiB": 256,
    "name": "ml.r5.8xlarge",
    "vcpuNum": 32
   },
   {
    "_defaultOrder": 43,
    "_isFastLaunch": false,
    "category": "Memory Optimized",
    "gpuNum": 0,
    "memoryGiB": 384,
    "name": "ml.r5.12xlarge",
    "vcpuNum": 48
   },
   {
    "_defaultOrder": 44,
    "_isFastLaunch": false,
    "category": "Memory Optimized",
    "gpuNum": 0,
    "memoryGiB": 512,
    "name": "ml.r5.16xlarge",
    "vcpuNum": 64
   },
   {
    "_defaultOrder": 45,
    "_isFastLaunch": false,
    "category": "Memory Optimized",
    "gpuNum": 0,
    "memoryGiB": 768,
    "name": "ml.r5.24xlarge",
    "vcpuNum": 96
   },
   {
    "_defaultOrder": 46,
    "_isFastLaunch": false,
    "category": "Accelerated computing",
    "gpuNum": 1,
    "memoryGiB": 16,
    "name": "ml.g5.xlarge",
    "vcpuNum": 4
   },
   {
    "_defaultOrder": 47,
    "_isFastLaunch": false,
    "category": "Accelerated computing",
    "gpuNum": 1,
    "memoryGiB": 32,
    "name": "ml.g5.2xlarge",
    "vcpuNum": 8
   },
   {
    "_defaultOrder": 48,
    "_isFastLaunch": false,
    "category": "Accelerated computing",
    "gpuNum": 1,
    "memoryGiB": 64,
    "name": "ml.g5.4xlarge",
    "vcpuNum": 16
   },
   {
    "_defaultOrder": 49,
    "_isFastLaunch": false,
    "category": "Accelerated computing",
    "gpuNum": 1,
    "memoryGiB": 128,
    "name": "ml.g5.8xlarge",
    "vcpuNum": 32
   },
   {
    "_defaultOrder": 50,
    "_isFastLaunch": false,
    "category": "Accelerated computing",
    "gpuNum": 1,
    "memoryGiB": 256,
    "name": "ml.g5.16xlarge",
    "vcpuNum": 64
   },
   {
    "_defaultOrder": 51,
    "_isFastLaunch": false,
    "category": "Accelerated computing",
    "gpuNum": 4,
    "memoryGiB": 192,
    "name": "ml.g5.12xlarge",
    "vcpuNum": 48
   },
   {
    "_defaultOrder": 52,
    "_isFastLaunch": false,
    "category": "Accelerated computing",
    "gpuNum": 4,
    "memoryGiB": 384,
    "name": "ml.g5.24xlarge",
    "vcpuNum": 96
   },
   {
    "_defaultOrder": 53,
    "_isFastLaunch": false,
    "category": "Accelerated computing",
    "gpuNum": 8,
    "memoryGiB": 768,
    "name": "ml.g5.48xlarge",
    "vcpuNum": 192
   }
  ],
  "instance_type": "ml.t3.medium",
  "kernelspec": {
   "display_name": "Python 3 (Data Science)",
   "language": "python",
   "name": "python3__SAGEMAKER_INTERNAL__arn:aws:sagemaker:us-east-1:081325390199:image/datascience-1.0"
  },
  "language_info": {
   "codemirror_mode": {
    "name": "ipython",
    "version": 3
   },
   "file_extension": ".py",
   "mimetype": "text/x-python",
   "name": "python",
   "nbconvert_exporter": "python",
   "pygments_lexer": "ipython3",
   "version": "3.7.10"
  }
 },
 "nbformat": 4,
 "nbformat_minor": 5
}
