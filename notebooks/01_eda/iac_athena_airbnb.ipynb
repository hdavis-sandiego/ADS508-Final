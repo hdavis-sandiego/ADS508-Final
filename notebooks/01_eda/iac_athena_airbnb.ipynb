{
 "cells": [
  {
   "cell_type": "markdown",
   "id": "85eea3e0-bda2-47dd-acd5-b4a4bd5cb132",
   "metadata": {},
   "source": [
    "# Create Airbnb Athena Schemas"
   ]
  },
  {
   "cell_type": "code",
   "execution_count": 2,
   "id": "36648ee6-fc7c-47bd-b3eb-7989b117d608",
   "metadata": {
    "tags": []
   },
   "outputs": [],
   "source": [
    "import boto3\n",
    "import sagemaker\n",
    "\n",
    "sess = sagemaker.Session()\n",
    "bucket = sess.default_bucket()\n",
    "role = sagemaker.get_execution_role()\n",
    "region = boto3.Session().region_name"
   ]
  },
  {
   "cell_type": "code",
   "execution_count": 3,
   "id": "5f663d0a-7c59-4462-9eb5-f355d1833bb0",
   "metadata": {
    "tags": []
   },
   "outputs": [],
   "source": [
    "ingest_create_athena_table_tsv_passed = False"
   ]
  },
  {
   "cell_type": "code",
   "execution_count": 4,
   "id": "a7c67787-34d7-4cec-8cee-ae8a0e7c8062",
   "metadata": {
    "tags": []
   },
   "outputs": [],
   "source": [
    "%store -r ingest_create_athena_db_passed"
   ]
  },
  {
   "cell_type": "code",
   "execution_count": 5,
   "id": "d5a8aa39-5378-48f0-bf5b-de7aaafba150",
   "metadata": {
    "tags": []
   },
   "outputs": [],
   "source": [
    "try:\n",
    "    ingest_create_athena_db_passed\n",
    "except NameError:\n",
    "    print(\"++++++++++++++++++++++++++++++++++++++++++++++\")\n",
    "    print(\"[ERROR] YOU HAVE TO RUN ALL PREVIOUS NOTEBOOKS.  You did not create the Athena Database.\")\n",
    "    print(\"++++++++++++++++++++++++++++++++++++++++++++++\")"
   ]
  },
  {
   "cell_type": "code",
   "execution_count": 6,
   "id": "783a848d-1b8f-45b1-899f-2f148a00a2cc",
   "metadata": {
    "tags": []
   },
   "outputs": [
    {
     "name": "stdout",
     "output_type": "stream",
     "text": [
      "True\n"
     ]
    }
   ],
   "source": [
    "print(ingest_create_athena_db_passed)"
   ]
  },
  {
   "cell_type": "code",
   "execution_count": 7,
   "id": "a68bd0f0-25d9-407e-81e9-17dbb1958e65",
   "metadata": {
    "tags": []
   },
   "outputs": [
    {
     "name": "stdout",
     "output_type": "stream",
     "text": [
      "[OK]\n"
     ]
    }
   ],
   "source": [
    "if not ingest_create_athena_db_passed:\n",
    "    print(\"++++++++++++++++++++++++++++++++++++++++++++++\")\n",
    "    print(\"[ERROR] YOU HAVE TO RUN ALL PREVIOUS NOTEBOOKS.  You did not create the Athena Database.\")\n",
    "    print(\"++++++++++++++++++++++++++++++++++++++++++++++\")\n",
    "else:\n",
    "    print(\"[OK]\")"
   ]
  },
  {
   "cell_type": "code",
   "execution_count": 8,
   "id": "75e016cf-5880-4c45-b27d-bf99b35a00fc",
   "metadata": {
    "tags": []
   },
   "outputs": [],
   "source": [
    "# Set paths to S3 Buckets\n",
    "s3_listings_csv = \"s3://aurelia-resort-data/airbnb/listings\"\n",
    "s3_neighbourhoods_csv = \"s3://aurelia-resort-data/airbnb/neighbourhoods\"\n",
    "s3_reviews_csv = \"s3://aurelia-resort-data/airbnb/reviews\""
   ]
  },
  {
   "cell_type": "code",
   "execution_count": 9,
   "id": "de85538b-6133-44ea-aa92-bed896b93ed8",
   "metadata": {
    "tags": []
   },
   "outputs": [],
   "source": [
    "from pyathena import connect"
   ]
  },
  {
   "cell_type": "code",
   "execution_count": 10,
   "id": "ee444c0a-4aea-4061-9e13-db04d8f8d062",
   "metadata": {
    "tags": []
   },
   "outputs": [],
   "source": [
    "# Set S3 staging directory -- this is a temporary directory used for Athena queries\n",
    "s3_staging_dir = \"s3://{0}/athena/staging\".format(bucket)"
   ]
  },
  {
   "cell_type": "markdown",
   "id": "8f1a413f-1012-4563-9fa3-ef0654c8fb3b",
   "metadata": {},
   "source": [
    "## Create Listings Schema"
   ]
  },
  {
   "cell_type": "code",
   "execution_count": 11,
   "id": "499fc73d-edbd-40a9-97f1-ffadc9aeb707",
   "metadata": {
    "tags": []
   },
   "outputs": [],
   "source": [
    "# Set Athena parameters\n",
    "database_name = \"travel_airbnb\"\n",
    "table_listings = \"listings_csv\""
   ]
  },
  {
   "cell_type": "code",
   "execution_count": 13,
   "id": "f9a0aa66-ded7-42d5-85d9-5b1913f355c6",
   "metadata": {
    "tags": []
   },
   "outputs": [],
   "source": [
    "conn = connect(region_name=region, s3_staging_dir=s3_staging_dir)"
   ]
  },
  {
   "cell_type": "code",
   "execution_count": 41,
   "id": "381ff7c3-4c12-482b-914b-3c890408eef5",
   "metadata": {},
   "outputs": [
    {
     "name": "stdout",
     "output_type": "stream",
     "text": [
      "CREATE EXTERNAL TABLE IF NOT EXISTS travel_airbnb.listings_csv (\n",
      "        id string,\n",
      "        listing_url string,\n",
      "        scrape_id string,\n",
      "        last_scraped string,\n",
      "        source string,\n",
      "        name string,\n",
      "        description string,\n",
      "        neighborhood_overview string,\n",
      "        picture_url string,\n",
      "        host_id string,\n",
      "        host_url string,\n",
      "        host_name string,\n",
      "        host_since string,\n",
      "        host_location string,\n",
      "        host_about string,\n",
      "        host_response_time string,\n",
      "        host_response_rate string,\n",
      "        host_acceptance_rate string,\n",
      "        host_is_superhost string,\n",
      "        host_thumbnail_url string,\n",
      "        host_picture_url string,\n",
      "        host_neighbourhood string,\n",
      "        host_listings_count string,\n",
      "        host_total_listings_count string,\n",
      "        host_verifications string,\n",
      "        host_has_profile_pic string,\n",
      "        host_identity_verified string,\n",
      "        neighbourhood string,\n",
      "        neighbourhood_cleansed string,\n",
      "        neighbourhood_group_cleansed string,\n",
      "        latitude string,\n",
      "        longitude string,\n",
      "        property_type string,\n",
      "        room_type string,\n",
      "        accommodates string,\n",
      "        bathrooms string,\n",
      "        bathrooms_text string,\n",
      "        bedrooms string,\n",
      "        beds string,\n",
      "        amenities string,\t\n",
      "        price string,\n",
      "        minimum_nights string,\t\n",
      "        maximum_nights string,\n",
      "        minimum_minimum_nights string,\n",
      "        maximum_minimum_nights string,\n",
      "        minimum_maximum_nights string,\n",
      "        maximum_maximum_nights string,\n",
      "        minimum_nights_avg_ntm string,\n",
      "        maximum_nights_avg_ntm string,\n",
      "        calendar_updated string,\n",
      "        has_availability string,\n",
      "        availability_30 string,\n",
      "        availability_60 string,\n",
      "        availability_90 string,\n",
      "        availability_365 string,\n",
      "        calendar_last_scraped string,\t\n",
      "        number_of_reviews string,\n",
      "        number_of_reviews_ltm string,\t\n",
      "        number_of_reviews_l30d string,\n",
      "        first_review string,\n",
      "        last_review string,\n",
      "        review_scores_rating string,\t\n",
      "        review_scores_accuracy string,\n",
      "        review_scores_cleanliness string,\n",
      "        review_scores_checkin string,\n",
      "        review_scores_communication string,\n",
      "        review_scores_location string,\n",
      "        review_scores_value string,\n",
      "        license string,\n",
      "        instant_bookable string,\n",
      "        calculated_host_listings_count string,\t\n",
      "        calculated_host_listings_count_entire_homes string,\t\n",
      "        calculated_host_listings_count_private_rooms string,\n",
      "        calculated_host_listings_count_shared_rooms string,\n",
      "        reviews_per_month string\n",
      ") \n",
      "ROW FORMAT SERDE 'org.apache.hadoop.hive.serde2.OpenCSVSerde'\n",
      "WITH SERDEPROPERTIES (\n",
      "   'separatorChar' = ',',\n",
      "   'quoteChar' = '\\\"',\n",
      "   'escapeChar' = '\\\\'\n",
      "   )\n",
      "LOCATION 's3://aurelia-resort-data/airbnb/listings'\n",
      "TBLPROPERTIES ('skip.header.line.count'='1');\n"
     ]
    }
   ],
   "source": [
    "# SQL statement to execute\n",
    "statement = \"\"\"CREATE EXTERNAL TABLE IF NOT EXISTS {}.{} (\n",
    "        id string,\n",
    "        listing_url string,\n",
    "        scrape_id string,\n",
    "        last_scraped string,\n",
    "        source string,\n",
    "        name string,\n",
    "        description string,\n",
    "        neighborhood_overview string,\n",
    "        picture_url string,\n",
    "        host_id string,\n",
    "        host_url string,\n",
    "        host_name string,\n",
    "        host_since string,\n",
    "        host_location string,\n",
    "        host_about string,\n",
    "        host_response_time string,\n",
    "        host_response_rate string,\n",
    "        host_acceptance_rate string,\n",
    "        host_is_superhost string,\n",
    "        host_thumbnail_url string,\n",
    "        host_picture_url string,\n",
    "        host_neighbourhood string,\n",
    "        host_listings_count string,\n",
    "        host_total_listings_count string,\n",
    "        host_verifications string,\n",
    "        host_has_profile_pic string,\n",
    "        host_identity_verified string,\n",
    "        neighbourhood string,\n",
    "        neighbourhood_cleansed string,\n",
    "        neighbourhood_group_cleansed string,\n",
    "        latitude string,\n",
    "        longitude string,\n",
    "        property_type string,\n",
    "        room_type string,\n",
    "        accommodates string,\n",
    "        bathrooms string,\n",
    "        bathrooms_text string,\n",
    "        bedrooms string,\n",
    "        beds string,\n",
    "        amenities string,\t\n",
    "        price string,\n",
    "        minimum_nights string,\t\n",
    "        maximum_nights string,\n",
    "        minimum_minimum_nights string,\n",
    "        maximum_minimum_nights string,\n",
    "        minimum_maximum_nights string,\n",
    "        maximum_maximum_nights string,\n",
    "        minimum_nights_avg_ntm string,\n",
    "        maximum_nights_avg_ntm string,\n",
    "        calendar_updated string,\n",
    "        has_availability string,\n",
    "        availability_30 string,\n",
    "        availability_60 string,\n",
    "        availability_90 string,\n",
    "        availability_365 string,\n",
    "        calendar_last_scraped string,\t\n",
    "        number_of_reviews string,\n",
    "        number_of_reviews_ltm string,\t\n",
    "        number_of_reviews_l30d string,\n",
    "        first_review string,\n",
    "        last_review string,\n",
    "        review_scores_rating string,\t\n",
    "        review_scores_accuracy string,\n",
    "        review_scores_cleanliness string,\n",
    "        review_scores_checkin string,\n",
    "        review_scores_communication string,\n",
    "        review_scores_location string,\n",
    "        review_scores_value string,\n",
    "        license string,\n",
    "        instant_bookable string,\n",
    "        calculated_host_listings_count string,\t\n",
    "        calculated_host_listings_count_entire_homes string,\t\n",
    "        calculated_host_listings_count_private_rooms string,\n",
    "        calculated_host_listings_count_shared_rooms string,\n",
    "        reviews_per_month string\n",
    ") \n",
    "ROW FORMAT SERDE 'org.apache.hadoop.hive.serde2.OpenCSVSerde'\n",
    "WITH SERDEPROPERTIES (\n",
    "   'separatorChar' = ',',\n",
    "   'quoteChar' = '\\\\\"',\n",
    "   'escapeChar' = '\\\\\\\\'\n",
    "   )\n",
    "LOCATION '{}'\n",
    "TBLPROPERTIES ('skip.header.line.count'='1');\"\"\".format(\n",
    "    database_name, table_listings, s3_listings_csv\n",
    ")\n",
    "\n",
    "print(statement)"
   ]
  },
  {
   "cell_type": "code",
   "execution_count": 42,
   "id": "4882da83-705b-4ad7-81f0-4279a85f01a6",
   "metadata": {
    "tags": []
   },
   "outputs": [
    {
     "data": {
      "text/html": [
       "<div>\n",
       "<style scoped>\n",
       "    .dataframe tbody tr th:only-of-type {\n",
       "        vertical-align: middle;\n",
       "    }\n",
       "\n",
       "    .dataframe tbody tr th {\n",
       "        vertical-align: top;\n",
       "    }\n",
       "\n",
       "    .dataframe thead th {\n",
       "        text-align: right;\n",
       "    }\n",
       "</style>\n",
       "<table border=\"1\" class=\"dataframe\">\n",
       "  <thead>\n",
       "    <tr style=\"text-align: right;\">\n",
       "      <th></th>\n",
       "    </tr>\n",
       "  </thead>\n",
       "  <tbody>\n",
       "  </tbody>\n",
       "</table>\n",
       "</div>"
      ],
      "text/plain": [
       "Empty DataFrame\n",
       "Columns: []\n",
       "Index: []"
      ]
     },
     "execution_count": 42,
     "metadata": {},
     "output_type": "execute_result"
    }
   ],
   "source": [
    "import pandas as pd\n",
    "\n",
    "pd.read_sql(statement, conn)"
   ]
  },
  {
   "cell_type": "code",
   "execution_count": 43,
   "id": "aa440115-5651-421b-a3a8-55940afa75fb",
   "metadata": {
    "tags": []
   },
   "outputs": [
    {
     "name": "stdout",
     "output_type": "stream",
     "text": [
      "SELECT * FROM travel_airbnb.listings_csv\n",
      "            LIMIT 5;\n"
     ]
    }
   ],
   "source": [
    "statement = \"\"\"SELECT * FROM {}.{}\n",
    "            LIMIT 5;\"\"\".format(\n",
    "    database_name, table_listings\n",
    ")\n",
    "\n",
    "print(statement)"
   ]
  },
  {
   "cell_type": "code",
   "execution_count": 44,
   "id": "e4a52a3f-4c39-4413-b8d4-c564f9a5d44a",
   "metadata": {
    "tags": []
   },
   "outputs": [
    {
     "data": {
      "text/html": [
       "<div>\n",
       "<style scoped>\n",
       "    .dataframe tbody tr th:only-of-type {\n",
       "        vertical-align: middle;\n",
       "    }\n",
       "\n",
       "    .dataframe tbody tr th {\n",
       "        vertical-align: top;\n",
       "    }\n",
       "\n",
       "    .dataframe thead th {\n",
       "        text-align: right;\n",
       "    }\n",
       "</style>\n",
       "<table border=\"1\" class=\"dataframe\">\n",
       "  <thead>\n",
       "    <tr style=\"text-align: right;\">\n",
       "      <th></th>\n",
       "      <th>id</th>\n",
       "      <th>listing_url</th>\n",
       "      <th>scrape_id</th>\n",
       "      <th>last_scraped</th>\n",
       "      <th>source</th>\n",
       "      <th>name</th>\n",
       "      <th>description</th>\n",
       "      <th>neighborhood_overview</th>\n",
       "      <th>picture_url</th>\n",
       "      <th>host_id</th>\n",
       "      <th>...</th>\n",
       "      <th>review_scores_communication</th>\n",
       "      <th>review_scores_location</th>\n",
       "      <th>review_scores_value</th>\n",
       "      <th>license</th>\n",
       "      <th>instant_bookable</th>\n",
       "      <th>calculated_host_listings_count</th>\n",
       "      <th>calculated_host_listings_count_entire_homes</th>\n",
       "      <th>calculated_host_listings_count_private_rooms</th>\n",
       "      <th>calculated_host_listings_count_shared_rooms</th>\n",
       "      <th>reviews_per_month</th>\n",
       "    </tr>\n",
       "  </thead>\n",
       "  <tbody>\n",
       "    <tr>\n",
       "      <th>0</th>\n",
       "      <td>3686</td>\n",
       "      <td>https://www.airbnb.com/rooms/3686</td>\n",
       "      <td>20221220053924</td>\n",
       "      <td>2022-12-20</td>\n",
       "      <td>city scrape</td>\n",
       "      <td>Vita's Hideaway</td>\n",
       "      <td>IMPORTANT NOTES&lt;br /&gt;* Carefully read and be s...</td>\n",
       "      <td>We love that our neighborhood is up and coming...</td>\n",
       "      <td>https://a0.muscache.com/pictures/61e02c7e-3d66...</td>\n",
       "      <td>4645</td>\n",
       "      <td>...</td>\n",
       "      <td>4.83</td>\n",
       "      <td>3.86</td>\n",
       "      <td>4.62</td>\n",
       "      <td></td>\n",
       "      <td>f</td>\n",
       "      <td>1</td>\n",
       "      <td>0</td>\n",
       "      <td>1</td>\n",
       "      <td>0</td>\n",
       "      <td>0.55</td>\n",
       "    </tr>\n",
       "    <tr>\n",
       "      <th>1</th>\n",
       "      <td>196429</td>\n",
       "      <td>https://www.airbnb.com/rooms/196429</td>\n",
       "      <td>20221220053924</td>\n",
       "      <td>2022-12-20</td>\n",
       "      <td>city scrape</td>\n",
       "      <td>Takoma Garden apt-Lush yard,pets ok</td>\n",
       "      <td>Private Garden apt in SF home with Full size b...</td>\n",
       "      <td>Small town feel in big city.  Takoma Park is a...</td>\n",
       "      <td>https://a0.muscache.com/pictures/1768756/9d738...</td>\n",
       "      <td>956417</td>\n",
       "      <td>...</td>\n",
       "      <td>5.0</td>\n",
       "      <td>4.6</td>\n",
       "      <td>4.2</td>\n",
       "      <td></td>\n",
       "      <td>f</td>\n",
       "      <td>1</td>\n",
       "      <td>1</td>\n",
       "      <td>0</td>\n",
       "      <td>0</td>\n",
       "      <td>0.06</td>\n",
       "    </tr>\n",
       "    <tr>\n",
       "      <th>2</th>\n",
       "      <td>198685</td>\n",
       "      <td>https://www.airbnb.com/rooms/198685</td>\n",
       "      <td>20221220053924</td>\n",
       "      <td>2022-12-20</td>\n",
       "      <td>city scrape</td>\n",
       "      <td>Private room in central location.</td>\n",
       "      <td>Welcome, I'm happy to share my home with you. ...</td>\n",
       "      <td>The neighborhood is quiet for the most part bu...</td>\n",
       "      <td>https://a0.muscache.com/pictures/06e92870-bb6e...</td>\n",
       "      <td>966613</td>\n",
       "      <td>...</td>\n",
       "      <td>4.82</td>\n",
       "      <td>4.45</td>\n",
       "      <td>4.68</td>\n",
       "      <td></td>\n",
       "      <td>f</td>\n",
       "      <td>1</td>\n",
       "      <td>0</td>\n",
       "      <td>1</td>\n",
       "      <td>0</td>\n",
       "      <td>1.12</td>\n",
       "    </tr>\n",
       "    <tr>\n",
       "      <th>3</th>\n",
       "      <td>201116</td>\n",
       "      <td>https://www.airbnb.com/rooms/201116</td>\n",
       "      <td>20221220053924</td>\n",
       "      <td>2022-12-20</td>\n",
       "      <td>city scrape</td>\n",
       "      <td>Victorian Haven - Private Basement!</td>\n",
       "      <td>&lt;b&gt;The space&lt;/b&gt;&lt;br /&gt;Come stay with us in my ...</td>\n",
       "      <td></td>\n",
       "      <td>https://a0.muscache.com/pictures/1841088/7148a...</td>\n",
       "      <td>983611</td>\n",
       "      <td>...</td>\n",
       "      <td>None</td>\n",
       "      <td>None</td>\n",
       "      <td>None</td>\n",
       "      <td>None</td>\n",
       "      <td>None</td>\n",
       "      <td>None</td>\n",
       "      <td>None</td>\n",
       "      <td>None</td>\n",
       "      <td>None</td>\n",
       "      <td>None</td>\n",
       "    </tr>\n",
       "    <tr>\n",
       "      <th>4</th>\n",
       "      <td>Favorite movies for now are\"The Women</td>\n",
       "      <td>\" \"Up</td>\n",
       "      <td>\" \"Blueberry Nights\"; Art by Jacob Lawrence</td>\n",
       "      <td>Salvador Dali</td>\n",
       "      <td>Frida Kahlo; Music by Prince. Stevie</td>\n",
       "      <td>Ravel; I listen to Pop</td>\n",
       "      <td>Rock and Gospel and more. History  art and sp...</td>\n",
       "      <td>'phone'],t,t,,Takoma</td>\n",
       "      <td>Brightwood</td>\n",
       "      <td>Manor Park,,38.97291,-77.02063,Entire rental ...</td>\n",
       "      <td>...</td>\n",
       "      <td>None</td>\n",
       "      <td>None</td>\n",
       "      <td>None</td>\n",
       "      <td>None</td>\n",
       "      <td>None</td>\n",
       "      <td>None</td>\n",
       "      <td>None</td>\n",
       "      <td>None</td>\n",
       "      <td>None</td>\n",
       "      <td>None</td>\n",
       "    </tr>\n",
       "  </tbody>\n",
       "</table>\n",
       "<p>5 rows × 75 columns</p>\n",
       "</div>"
      ],
      "text/plain": [
       "                                       id  \\\n",
       "0                                    3686   \n",
       "1                                  196429   \n",
       "2                                  198685   \n",
       "3                                  201116   \n",
       "4   Favorite movies for now are\"The Women   \n",
       "\n",
       "                           listing_url  \\\n",
       "0    https://www.airbnb.com/rooms/3686   \n",
       "1  https://www.airbnb.com/rooms/196429   \n",
       "2  https://www.airbnb.com/rooms/198685   \n",
       "3  https://www.airbnb.com/rooms/201116   \n",
       "4                                \" \"Up   \n",
       "\n",
       "                                     scrape_id    last_scraped  \\\n",
       "0                               20221220053924      2022-12-20   \n",
       "1                               20221220053924      2022-12-20   \n",
       "2                               20221220053924      2022-12-20   \n",
       "3                               20221220053924      2022-12-20   \n",
       "4  \" \"Blueberry Nights\"; Art by Jacob Lawrence   Salvador Dali   \n",
       "\n",
       "                                  source                                 name  \\\n",
       "0                            city scrape                      Vita's Hideaway   \n",
       "1                            city scrape  Takoma Garden apt-Lush yard,pets ok   \n",
       "2                            city scrape    Private room in central location.   \n",
       "3                            city scrape  Victorian Haven - Private Basement!   \n",
       "4   Frida Kahlo; Music by Prince. Stevie               Ravel; I listen to Pop   \n",
       "\n",
       "                                         description  \\\n",
       "0  IMPORTANT NOTES<br />* Carefully read and be s...   \n",
       "1  Private Garden apt in SF home with Full size b...   \n",
       "2  Welcome, I'm happy to share my home with you. ...   \n",
       "3  <b>The space</b><br />Come stay with us in my ...   \n",
       "4   Rock and Gospel and more. History  art and sp...   \n",
       "\n",
       "                               neighborhood_overview  \\\n",
       "0  We love that our neighborhood is up and coming...   \n",
       "1  Small town feel in big city.  Takoma Park is a...   \n",
       "2  The neighborhood is quiet for the most part bu...   \n",
       "3                                                      \n",
       "4                               'phone'],t,t,,Takoma   \n",
       "\n",
       "                                         picture_url  \\\n",
       "0  https://a0.muscache.com/pictures/61e02c7e-3d66...   \n",
       "1  https://a0.muscache.com/pictures/1768756/9d738...   \n",
       "2  https://a0.muscache.com/pictures/06e92870-bb6e...   \n",
       "3  https://a0.muscache.com/pictures/1841088/7148a...   \n",
       "4                                         Brightwood   \n",
       "\n",
       "                                             host_id  ...  \\\n",
       "0                                               4645  ...   \n",
       "1                                             956417  ...   \n",
       "2                                             966613  ...   \n",
       "3                                             983611  ...   \n",
       "4   Manor Park,,38.97291,-77.02063,Entire rental ...  ...   \n",
       "\n",
       "  review_scores_communication review_scores_location review_scores_value  \\\n",
       "0                        4.83                   3.86                4.62   \n",
       "1                         5.0                    4.6                 4.2   \n",
       "2                        4.82                   4.45                4.68   \n",
       "3                        None                   None                None   \n",
       "4                        None                   None                None   \n",
       "\n",
       "  license instant_bookable calculated_host_listings_count  \\\n",
       "0                        f                              1   \n",
       "1                        f                              1   \n",
       "2                        f                              1   \n",
       "3    None             None                           None   \n",
       "4    None             None                           None   \n",
       "\n",
       "  calculated_host_listings_count_entire_homes  \\\n",
       "0                                           0   \n",
       "1                                           1   \n",
       "2                                           0   \n",
       "3                                        None   \n",
       "4                                        None   \n",
       "\n",
       "  calculated_host_listings_count_private_rooms  \\\n",
       "0                                            1   \n",
       "1                                            0   \n",
       "2                                            1   \n",
       "3                                         None   \n",
       "4                                         None   \n",
       "\n",
       "  calculated_host_listings_count_shared_rooms reviews_per_month  \n",
       "0                                           0              0.55  \n",
       "1                                           0              0.06  \n",
       "2                                           0              1.12  \n",
       "3                                        None              None  \n",
       "4                                        None              None  \n",
       "\n",
       "[5 rows x 75 columns]"
      ]
     },
     "execution_count": 44,
     "metadata": {},
     "output_type": "execute_result"
    }
   ],
   "source": [
    "df = pd.read_sql(statement, conn)\n",
    "df.head()"
   ]
  },
  {
   "cell_type": "markdown",
   "id": "e2cda3df-e8b8-4a33-a30d-6ac92ef30167",
   "metadata": {},
   "source": [
    "## Create Neighbourhoods Schema"
   ]
  },
  {
   "cell_type": "code",
   "execution_count": 17,
   "id": "1626ef82-1433-4a4a-8eef-a75d5108875a",
   "metadata": {
    "tags": []
   },
   "outputs": [],
   "source": [
    "# Set Athena parameters\n",
    "table_neighbourhoods = \"neighbourhoods_csv\""
   ]
  },
  {
   "cell_type": "code",
   "execution_count": 18,
   "id": "d9840d5a-0e96-4097-af12-cf38e2ca67b1",
   "metadata": {
    "tags": []
   },
   "outputs": [
    {
     "name": "stdout",
     "output_type": "stream",
     "text": [
      "CREATE EXTERNAL TABLE IF NOT EXISTS travel_airbnb.neighbourhoods_csv (\n",
      "        neighbourhood_group string,\n",
      "        neighbourhood string\n",
      ") \n",
      "ROW FORMAT SERDE 'org.apache.hadoop.hive.serde2.OpenCSVSerde'\n",
      "WITH SERDEPROPERTIES (\n",
      "   'separatorChar' = ',',\n",
      "   'quoteChar' = '\"',\n",
      "   'escapeChar' = '\\\\'\n",
      "   )\n",
      "STORED AS TEXTFILE\n",
      "LOCATION 's3://aurelia-resort-data/airbnb/neighbourhoods'\n",
      "TBLPROPERTIES ('compressionType'='gzip', 'skip.header.line.count'='1');\n"
     ]
    }
   ],
   "source": [
    "# SQL statement to execute\n",
    "statement = \"\"\"CREATE EXTERNAL TABLE IF NOT EXISTS {}.{} (\n",
    "        neighbourhood_group string,\n",
    "        neighbourhood string\n",
    ") \n",
    "ROW FORMAT SERDE 'org.apache.hadoop.hive.serde2.OpenCSVSerde'\n",
    "WITH SERDEPROPERTIES (\n",
    "   'separatorChar' = ',',\n",
    "   'quoteChar' = '\\\"',\n",
    "   'escapeChar' = '\\\\\\\\'\n",
    "   )\n",
    "STORED AS TEXTFILE\n",
    "LOCATION '{}'\n",
    "TBLPROPERTIES ('compressionType'='gzip', 'skip.header.line.count'='1');\"\"\".format(\n",
    "    database_name, table_neighbourhoods, s3_neighbourhoods_csv\n",
    ")\n",
    "\n",
    "print(statement)"
   ]
  },
  {
   "cell_type": "code",
   "execution_count": 19,
   "id": "7a51dcec-fcba-42d6-8565-d4f877b73147",
   "metadata": {
    "tags": []
   },
   "outputs": [
    {
     "data": {
      "text/html": [
       "<div>\n",
       "<style scoped>\n",
       "    .dataframe tbody tr th:only-of-type {\n",
       "        vertical-align: middle;\n",
       "    }\n",
       "\n",
       "    .dataframe tbody tr th {\n",
       "        vertical-align: top;\n",
       "    }\n",
       "\n",
       "    .dataframe thead th {\n",
       "        text-align: right;\n",
       "    }\n",
       "</style>\n",
       "<table border=\"1\" class=\"dataframe\">\n",
       "  <thead>\n",
       "    <tr style=\"text-align: right;\">\n",
       "      <th></th>\n",
       "    </tr>\n",
       "  </thead>\n",
       "  <tbody>\n",
       "  </tbody>\n",
       "</table>\n",
       "</div>"
      ],
      "text/plain": [
       "Empty DataFrame\n",
       "Columns: []\n",
       "Index: []"
      ]
     },
     "execution_count": 19,
     "metadata": {},
     "output_type": "execute_result"
    }
   ],
   "source": [
    "pd.read_sql(statement, conn)"
   ]
  },
  {
   "cell_type": "code",
   "execution_count": 20,
   "id": "132f6e9a-d4b9-43f8-8d6b-ee6dab97abb0",
   "metadata": {
    "tags": []
   },
   "outputs": [
    {
     "name": "stdout",
     "output_type": "stream",
     "text": [
      "SELECT * FROM travel_airbnb.neighbourhoods_csv\n",
      "            LIMIT 5;\n"
     ]
    }
   ],
   "source": [
    "statement = \"\"\"SELECT * FROM {}.{}\n",
    "            LIMIT 5;\"\"\".format(\n",
    "    database_name, table_neighbourhoods\n",
    ")\n",
    "\n",
    "print(statement)"
   ]
  },
  {
   "cell_type": "code",
   "execution_count": 21,
   "id": "ce86dd01-bb33-4e7b-9676-fc06da54845f",
   "metadata": {
    "tags": []
   },
   "outputs": [
    {
     "data": {
      "text/html": [
       "<div>\n",
       "<style scoped>\n",
       "    .dataframe tbody tr th:only-of-type {\n",
       "        vertical-align: middle;\n",
       "    }\n",
       "\n",
       "    .dataframe tbody tr th {\n",
       "        vertical-align: top;\n",
       "    }\n",
       "\n",
       "    .dataframe thead th {\n",
       "        text-align: right;\n",
       "    }\n",
       "</style>\n",
       "<table border=\"1\" class=\"dataframe\">\n",
       "  <thead>\n",
       "    <tr style=\"text-align: right;\">\n",
       "      <th></th>\n",
       "      <th>neighbourhood_group</th>\n",
       "      <th>neighbourhood</th>\n",
       "    </tr>\n",
       "  </thead>\n",
       "  <tbody>\n",
       "    <tr>\n",
       "      <th>0</th>\n",
       "      <td></td>\n",
       "      <td>Brightwood Park, Crestwood, Petworth</td>\n",
       "    </tr>\n",
       "    <tr>\n",
       "      <th>1</th>\n",
       "      <td></td>\n",
       "      <td>Brookland, Brentwood, Langdon</td>\n",
       "    </tr>\n",
       "    <tr>\n",
       "      <th>2</th>\n",
       "      <td></td>\n",
       "      <td>Capitol Hill, Lincoln Park</td>\n",
       "    </tr>\n",
       "    <tr>\n",
       "      <th>3</th>\n",
       "      <td></td>\n",
       "      <td>Capitol View, Marshall Heights, Benning Heights</td>\n",
       "    </tr>\n",
       "    <tr>\n",
       "      <th>4</th>\n",
       "      <td></td>\n",
       "      <td>Cathedral Heights, McLean Gardens, Glover Park</td>\n",
       "    </tr>\n",
       "  </tbody>\n",
       "</table>\n",
       "</div>"
      ],
      "text/plain": [
       "  neighbourhood_group                                    neighbourhood\n",
       "0                                 Brightwood Park, Crestwood, Petworth\n",
       "1                                        Brookland, Brentwood, Langdon\n",
       "2                                           Capitol Hill, Lincoln Park\n",
       "3                      Capitol View, Marshall Heights, Benning Heights\n",
       "4                       Cathedral Heights, McLean Gardens, Glover Park"
      ]
     },
     "execution_count": 21,
     "metadata": {},
     "output_type": "execute_result"
    }
   ],
   "source": [
    "df = pd.read_sql(statement, conn)\n",
    "df.head()"
   ]
  },
  {
   "cell_type": "markdown",
   "id": "fb6f5789-a10a-41aa-8705-f450d0be3eea",
   "metadata": {
    "tags": []
   },
   "source": [
    "## Create Reviews Schema"
   ]
  },
  {
   "cell_type": "code",
   "execution_count": 22,
   "id": "6fd136be-0e4f-4195-8643-83d5630043e7",
   "metadata": {
    "tags": []
   },
   "outputs": [],
   "source": [
    "# Set Athena parameters\n",
    "table_reviews = \"reviews_csv\""
   ]
  },
  {
   "cell_type": "code",
   "execution_count": 23,
   "id": "a40e085f-2d5a-4249-8ab0-58a6f08e32d5",
   "metadata": {
    "tags": []
   },
   "outputs": [],
   "source": [
    "conn = connect(region_name=region, s3_staging_dir=s3_staging_dir)"
   ]
  },
  {
   "cell_type": "code",
   "execution_count": 24,
   "id": "dfe697ac-cdf1-48ff-8088-dc92ff328b52",
   "metadata": {
    "tags": []
   },
   "outputs": [
    {
     "name": "stdout",
     "output_type": "stream",
     "text": [
      "CREATE EXTERNAL TABLE IF NOT EXISTS travel_airbnb.reviews_csv (\n",
      "        listing_id string,\n",
      "        id string,\n",
      "        date string,\n",
      "        reviewer_id string,\n",
      "        reviewer_name string,\n",
      "        comments string\n",
      ") \n",
      "ROW FORMAT SERDE 'org.apache.hadoop.hive.serde2.OpenCSVSerde'\n",
      "WITH SERDEPROPERTIES (\n",
      "   'separatorChar' = ',',\n",
      "   'quoteChar' = '\"',\n",
      "   'escapeChar' = '\\\\'\n",
      "   )\n",
      "STORED AS TEXTFILE\n",
      "LOCATION 's3://aurelia-resort-data/airbnb/reviews'\n",
      "TBLPROPERTIES ('compressionType'='gzip', 'skip.header.line.count'='1');\n"
     ]
    }
   ],
   "source": [
    "# SQL statement to execute\n",
    "statement = \"\"\"CREATE EXTERNAL TABLE IF NOT EXISTS {}.{} (\n",
    "        listing_id string,\n",
    "        id string,\n",
    "        date string,\n",
    "        reviewer_id string,\n",
    "        reviewer_name string,\n",
    "        comments string\n",
    ") \n",
    "ROW FORMAT SERDE 'org.apache.hadoop.hive.serde2.OpenCSVSerde'\n",
    "WITH SERDEPROPERTIES (\n",
    "   'separatorChar' = ',',\n",
    "   'quoteChar' = '\\\"',\n",
    "   'escapeChar' = '\\\\\\\\'\n",
    "   )\n",
    "STORED AS TEXTFILE\n",
    "LOCATION '{}'\n",
    "TBLPROPERTIES ('compressionType'='gzip', 'skip.header.line.count'='1');\"\"\".format(\n",
    "    database_name, table_reviews, s3_reviews_csv\n",
    ")\n",
    "\n",
    "print(statement)"
   ]
  },
  {
   "cell_type": "code",
   "execution_count": 25,
   "id": "f5daa97e-44b3-4abd-9c40-ea0df61c6cdf",
   "metadata": {
    "tags": []
   },
   "outputs": [
    {
     "data": {
      "text/html": [
       "<div>\n",
       "<style scoped>\n",
       "    .dataframe tbody tr th:only-of-type {\n",
       "        vertical-align: middle;\n",
       "    }\n",
       "\n",
       "    .dataframe tbody tr th {\n",
       "        vertical-align: top;\n",
       "    }\n",
       "\n",
       "    .dataframe thead th {\n",
       "        text-align: right;\n",
       "    }\n",
       "</style>\n",
       "<table border=\"1\" class=\"dataframe\">\n",
       "  <thead>\n",
       "    <tr style=\"text-align: right;\">\n",
       "      <th></th>\n",
       "    </tr>\n",
       "  </thead>\n",
       "  <tbody>\n",
       "  </tbody>\n",
       "</table>\n",
       "</div>"
      ],
      "text/plain": [
       "Empty DataFrame\n",
       "Columns: []\n",
       "Index: []"
      ]
     },
     "execution_count": 25,
     "metadata": {},
     "output_type": "execute_result"
    }
   ],
   "source": [
    "pd.read_sql(statement, conn)"
   ]
  },
  {
   "cell_type": "code",
   "execution_count": 26,
   "id": "f7c667f4-e099-4442-ae64-83d2ef039391",
   "metadata": {
    "tags": []
   },
   "outputs": [
    {
     "name": "stdout",
     "output_type": "stream",
     "text": [
      "SELECT * FROM travel_airbnb.reviews_csv\n",
      "            LIMIT 5;\n"
     ]
    }
   ],
   "source": [
    "statement = \"\"\"SELECT * FROM {}.{}\n",
    "            LIMIT 5;\"\"\".format(\n",
    "    database_name, table_reviews\n",
    ")\n",
    "\n",
    "print(statement)"
   ]
  },
  {
   "cell_type": "code",
   "execution_count": 27,
   "id": "08cedd17-b19f-4678-bcad-0c500e1c8fe1",
   "metadata": {
    "tags": []
   },
   "outputs": [
    {
     "data": {
      "text/html": [
       "<div>\n",
       "<style scoped>\n",
       "    .dataframe tbody tr th:only-of-type {\n",
       "        vertical-align: middle;\n",
       "    }\n",
       "\n",
       "    .dataframe tbody tr th {\n",
       "        vertical-align: top;\n",
       "    }\n",
       "\n",
       "    .dataframe thead th {\n",
       "        text-align: right;\n",
       "    }\n",
       "</style>\n",
       "<table border=\"1\" class=\"dataframe\">\n",
       "  <thead>\n",
       "    <tr style=\"text-align: right;\">\n",
       "      <th></th>\n",
       "      <th>listing_id</th>\n",
       "      <th>id</th>\n",
       "      <th>date</th>\n",
       "      <th>reviewer_id</th>\n",
       "      <th>reviewer_name</th>\n",
       "      <th>comments</th>\n",
       "    </tr>\n",
       "  </thead>\n",
       "  <tbody>\n",
       "    <tr>\n",
       "      <th>0</th>\n",
       "      <td>28717282</td>\n",
       "      <td>611311066</td>\n",
       "      <td>2020-02-26</td>\n",
       "      <td>144251887</td>\n",
       "      <td>Danny</td>\n",
       "      <td>This was our last stop in our US road trip, ha...</td>\n",
       "    </tr>\n",
       "    <tr>\n",
       "      <th>1</th>\n",
       "      <td>28717282</td>\n",
       "      <td>612497481</td>\n",
       "      <td>2020-02-29</td>\n",
       "      <td>330825082</td>\n",
       "      <td>William</td>\n",
       "      <td>10/10 would stay here again!</td>\n",
       "    </tr>\n",
       "    <tr>\n",
       "      <th>2</th>\n",
       "      <td>28717282</td>\n",
       "      <td>613713908</td>\n",
       "      <td>2020-03-02</td>\n",
       "      <td>148439563</td>\n",
       "      <td>Loy</td>\n",
       "      <td>Very nice</td>\n",
       "    </tr>\n",
       "    <tr>\n",
       "      <th>3</th>\n",
       "      <td>28717282</td>\n",
       "      <td>615207226</td>\n",
       "      <td>2020-03-07</td>\n",
       "      <td>300366116</td>\n",
       "      <td>Sarah</td>\n",
       "      <td>Apartment is easily accessed from many histori...</td>\n",
       "    </tr>\n",
       "    <tr>\n",
       "      <th>4</th>\n",
       "      <td>28717282</td>\n",
       "      <td>616756958</td>\n",
       "      <td>2020-03-10</td>\n",
       "      <td>66650026</td>\n",
       "      <td>Nadia</td>\n",
       "      <td>Jamie's place was excellent! It was incredibly...</td>\n",
       "    </tr>\n",
       "  </tbody>\n",
       "</table>\n",
       "</div>"
      ],
      "text/plain": [
       "  listing_id         id        date reviewer_id reviewer_name  \\\n",
       "0   28717282  611311066  2020-02-26   144251887         Danny   \n",
       "1   28717282  612497481  2020-02-29   330825082       William   \n",
       "2   28717282  613713908  2020-03-02   148439563           Loy   \n",
       "3   28717282  615207226  2020-03-07   300366116         Sarah   \n",
       "4   28717282  616756958  2020-03-10    66650026         Nadia   \n",
       "\n",
       "                                            comments  \n",
       "0  This was our last stop in our US road trip, ha...  \n",
       "1                       10/10 would stay here again!  \n",
       "2                                          Very nice  \n",
       "3  Apartment is easily accessed from many histori...  \n",
       "4  Jamie's place was excellent! It was incredibly...  "
      ]
     },
     "execution_count": 27,
     "metadata": {},
     "output_type": "execute_result"
    }
   ],
   "source": [
    "df = pd.read_sql(statement, conn)\n",
    "df.head()"
   ]
  },
  {
   "cell_type": "code",
   "execution_count": 28,
   "id": "0d84b0a3-82ff-4d9f-9a92-f1bee2bef25a",
   "metadata": {
    "tags": []
   },
   "outputs": [
    {
     "data": {
      "text/html": [
       "<div>\n",
       "<style scoped>\n",
       "    .dataframe tbody tr th:only-of-type {\n",
       "        vertical-align: middle;\n",
       "    }\n",
       "\n",
       "    .dataframe tbody tr th {\n",
       "        vertical-align: top;\n",
       "    }\n",
       "\n",
       "    .dataframe thead th {\n",
       "        text-align: right;\n",
       "    }\n",
       "</style>\n",
       "<table border=\"1\" class=\"dataframe\">\n",
       "  <thead>\n",
       "    <tr style=\"text-align: right;\">\n",
       "      <th></th>\n",
       "      <th>tab_name</th>\n",
       "    </tr>\n",
       "  </thead>\n",
       "  <tbody>\n",
       "    <tr>\n",
       "      <th>0</th>\n",
       "      <td>listings_csv</td>\n",
       "    </tr>\n",
       "    <tr>\n",
       "      <th>1</th>\n",
       "      <td>neighbourhoods_csv</td>\n",
       "    </tr>\n",
       "    <tr>\n",
       "      <th>2</th>\n",
       "      <td>reviews_csv</td>\n",
       "    </tr>\n",
       "  </tbody>\n",
       "</table>\n",
       "</div>"
      ],
      "text/plain": [
       "             tab_name\n",
       "0        listings_csv\n",
       "1  neighbourhoods_csv\n",
       "2         reviews_csv"
      ]
     },
     "execution_count": 28,
     "metadata": {},
     "output_type": "execute_result"
    }
   ],
   "source": [
    "statement = \"SHOW TABLES in {}\".format(database_name)\n",
    "\n",
    "df_show = pd.read_sql(statement, conn)\n",
    "df_show.head()"
   ]
  },
  {
   "cell_type": "code",
   "execution_count": 29,
   "id": "f9b3f5c5-4400-44a7-8e3c-e0fa82df1f18",
   "metadata": {
    "tags": []
   },
   "outputs": [
    {
     "name": "stdout",
     "output_type": "stream",
     "text": [
      "[OK]\n"
     ]
    }
   ],
   "source": [
    "if not df.empty:\n",
    "    print(\"[OK]\")\n",
    "else:\n",
    "    print(\"++++++++++++++++++++++++++++++++++++++++++++++++++++++\")\n",
    "    print(\"[ERROR] YOUR DATA HAS NOT BEEN REGISTERED WITH ATHENA. LOOK IN PREVIOUS CELLS TO FIND THE ISSUE.\")\n",
    "    print(\"++++++++++++++++++++++++++++++++++++++++++++++++++++++\")"
   ]
  },
  {
   "cell_type": "code",
   "execution_count": 30,
   "id": "5e038d41-b4c2-4c80-8b5c-f182e4343452",
   "metadata": {
    "tags": []
   },
   "outputs": [
    {
     "name": "stdout",
     "output_type": "stream",
     "text": [
      "Stored variables and their in-db values:\n",
      "ingest_create_athena_db_passed                    -> True\n",
      "ingest_create_athena_table_tsv_passed             -> False\n"
     ]
    }
   ],
   "source": [
    "%store"
   ]
  },
  {
   "cell_type": "markdown",
   "id": "9e962164-8b96-4265-9822-aaa8ad933525",
   "metadata": {},
   "source": [
    "## Release Resources"
   ]
  },
  {
   "cell_type": "code",
   "execution_count": 31,
   "id": "fe5a6d10-3ddc-49da-848f-47368a651220",
   "metadata": {
    "tags": []
   },
   "outputs": [
    {
     "data": {
      "text/html": [
       "\n",
       "<p><b>Shutting down your kernel for this notebook to release resources.</b></p>\n",
       "<button class=\"sm-command-button\" data-commandlinker-command=\"kernelmenu:shutdown\" style=\"display:none;\">Shutdown Kernel</button>\n",
       "        \n",
       "<script>\n",
       "try {\n",
       "    els = document.getElementsByClassName(\"sm-command-button\");\n",
       "    els[0].click();\n",
       "}\n",
       "catch(err) {\n",
       "    // NoOp\n",
       "}    \n",
       "</script>\n"
      ],
      "text/plain": [
       "<IPython.core.display.HTML object>"
      ]
     },
     "metadata": {},
     "output_type": "display_data"
    }
   ],
   "source": [
    "%%html\n",
    "\n",
    "<p><b>Shutting down your kernel for this notebook to release resources.</b></p>\n",
    "<button class=\"sm-command-button\" data-commandlinker-command=\"kernelmenu:shutdown\" style=\"display:none;\">Shutdown Kernel</button>\n",
    "        \n",
    "<script>\n",
    "try {\n",
    "    els = document.getElementsByClassName(\"sm-command-button\");\n",
    "    els[0].click();\n",
    "}\n",
    "catch(err) {\n",
    "    // NoOp\n",
    "}    \n",
    "</script>"
   ]
  },
  {
   "cell_type": "code",
   "execution_count": 32,
   "id": "68e9bab6-39ed-4f97-820b-a819ebd4e528",
   "metadata": {},
   "outputs": [
    {
     "data": {
      "application/javascript": [
       "\n",
       "try {\n",
       "    Jupyter.notebook.save_checkpoint();\n",
       "    Jupyter.notebook.session.delete();\n",
       "}\n",
       "catch(err) {\n",
       "    // NoOp\n",
       "}\n"
      ],
      "text/plain": [
       "<IPython.core.display.Javascript object>"
      ]
     },
     "metadata": {},
     "output_type": "display_data"
    }
   ],
   "source": [
    "%%javascript\n",
    "\n",
    "try {\n",
    "    Jupyter.notebook.save_checkpoint();\n",
    "    Jupyter.notebook.session.delete();\n",
    "}\n",
    "catch(err) {\n",
    "    // NoOp\n",
    "}"
   ]
  }
 ],
 "metadata": {
  "availableInstances": [
   {
    "_defaultOrder": 0,
    "_isFastLaunch": true,
    "category": "General purpose",
    "gpuNum": 0,
    "memoryGiB": 4,
    "name": "ml.t3.medium",
    "vcpuNum": 2
   },
   {
    "_defaultOrder": 1,
    "_isFastLaunch": false,
    "category": "General purpose",
    "gpuNum": 0,
    "memoryGiB": 8,
    "name": "ml.t3.large",
    "vcpuNum": 2
   },
   {
    "_defaultOrder": 2,
    "_isFastLaunch": false,
    "category": "General purpose",
    "gpuNum": 0,
    "memoryGiB": 16,
    "name": "ml.t3.xlarge",
    "vcpuNum": 4
   },
   {
    "_defaultOrder": 3,
    "_isFastLaunch": false,
    "category": "General purpose",
    "gpuNum": 0,
    "memoryGiB": 32,
    "name": "ml.t3.2xlarge",
    "vcpuNum": 8
   },
   {
    "_defaultOrder": 4,
    "_isFastLaunch": true,
    "category": "General purpose",
    "gpuNum": 0,
    "memoryGiB": 8,
    "name": "ml.m5.large",
    "vcpuNum": 2
   },
   {
    "_defaultOrder": 5,
    "_isFastLaunch": false,
    "category": "General purpose",
    "gpuNum": 0,
    "memoryGiB": 16,
    "name": "ml.m5.xlarge",
    "vcpuNum": 4
   },
   {
    "_defaultOrder": 6,
    "_isFastLaunch": false,
    "category": "General purpose",
    "gpuNum": 0,
    "memoryGiB": 32,
    "name": "ml.m5.2xlarge",
    "vcpuNum": 8
   },
   {
    "_defaultOrder": 7,
    "_isFastLaunch": false,
    "category": "General purpose",
    "gpuNum": 0,
    "memoryGiB": 64,
    "name": "ml.m5.4xlarge",
    "vcpuNum": 16
   },
   {
    "_defaultOrder": 8,
    "_isFastLaunch": false,
    "category": "General purpose",
    "gpuNum": 0,
    "memoryGiB": 128,
    "name": "ml.m5.8xlarge",
    "vcpuNum": 32
   },
   {
    "_defaultOrder": 9,
    "_isFastLaunch": false,
    "category": "General purpose",
    "gpuNum": 0,
    "memoryGiB": 192,
    "name": "ml.m5.12xlarge",
    "vcpuNum": 48
   },
   {
    "_defaultOrder": 10,
    "_isFastLaunch": false,
    "category": "General purpose",
    "gpuNum": 0,
    "memoryGiB": 256,
    "name": "ml.m5.16xlarge",
    "vcpuNum": 64
   },
   {
    "_defaultOrder": 11,
    "_isFastLaunch": false,
    "category": "General purpose",
    "gpuNum": 0,
    "memoryGiB": 384,
    "name": "ml.m5.24xlarge",
    "vcpuNum": 96
   },
   {
    "_defaultOrder": 12,
    "_isFastLaunch": false,
    "category": "General purpose",
    "gpuNum": 0,
    "memoryGiB": 8,
    "name": "ml.m5d.large",
    "vcpuNum": 2
   },
   {
    "_defaultOrder": 13,
    "_isFastLaunch": false,
    "category": "General purpose",
    "gpuNum": 0,
    "memoryGiB": 16,
    "name": "ml.m5d.xlarge",
    "vcpuNum": 4
   },
   {
    "_defaultOrder": 14,
    "_isFastLaunch": false,
    "category": "General purpose",
    "gpuNum": 0,
    "memoryGiB": 32,
    "name": "ml.m5d.2xlarge",
    "vcpuNum": 8
   },
   {
    "_defaultOrder": 15,
    "_isFastLaunch": false,
    "category": "General purpose",
    "gpuNum": 0,
    "memoryGiB": 64,
    "name": "ml.m5d.4xlarge",
    "vcpuNum": 16
   },
   {
    "_defaultOrder": 16,
    "_isFastLaunch": false,
    "category": "General purpose",
    "gpuNum": 0,
    "memoryGiB": 128,
    "name": "ml.m5d.8xlarge",
    "vcpuNum": 32
   },
   {
    "_defaultOrder": 17,
    "_isFastLaunch": false,
    "category": "General purpose",
    "gpuNum": 0,
    "memoryGiB": 192,
    "name": "ml.m5d.12xlarge",
    "vcpuNum": 48
   },
   {
    "_defaultOrder": 18,
    "_isFastLaunch": false,
    "category": "General purpose",
    "gpuNum": 0,
    "memoryGiB": 256,
    "name": "ml.m5d.16xlarge",
    "vcpuNum": 64
   },
   {
    "_defaultOrder": 19,
    "_isFastLaunch": false,
    "category": "General purpose",
    "gpuNum": 0,
    "memoryGiB": 384,
    "name": "ml.m5d.24xlarge",
    "vcpuNum": 96
   },
   {
    "_defaultOrder": 20,
    "_isFastLaunch": true,
    "category": "Compute optimized",
    "gpuNum": 0,
    "memoryGiB": 4,
    "name": "ml.c5.large",
    "vcpuNum": 2
   },
   {
    "_defaultOrder": 21,
    "_isFastLaunch": false,
    "category": "Compute optimized",
    "gpuNum": 0,
    "memoryGiB": 8,
    "name": "ml.c5.xlarge",
    "vcpuNum": 4
   },
   {
    "_defaultOrder": 22,
    "_isFastLaunch": false,
    "category": "Compute optimized",
    "gpuNum": 0,
    "memoryGiB": 16,
    "name": "ml.c5.2xlarge",
    "vcpuNum": 8
   },
   {
    "_defaultOrder": 23,
    "_isFastLaunch": false,
    "category": "Compute optimized",
    "gpuNum": 0,
    "memoryGiB": 32,
    "name": "ml.c5.4xlarge",
    "vcpuNum": 16
   },
   {
    "_defaultOrder": 24,
    "_isFastLaunch": false,
    "category": "Compute optimized",
    "gpuNum": 0,
    "memoryGiB": 72,
    "name": "ml.c5.9xlarge",
    "vcpuNum": 36
   },
   {
    "_defaultOrder": 25,
    "_isFastLaunch": false,
    "category": "Compute optimized",
    "gpuNum": 0,
    "memoryGiB": 96,
    "name": "ml.c5.12xlarge",
    "vcpuNum": 48
   },
   {
    "_defaultOrder": 26,
    "_isFastLaunch": false,
    "category": "Compute optimized",
    "gpuNum": 0,
    "memoryGiB": 144,
    "name": "ml.c5.18xlarge",
    "vcpuNum": 72
   },
   {
    "_defaultOrder": 27,
    "_isFastLaunch": false,
    "category": "Compute optimized",
    "gpuNum": 0,
    "memoryGiB": 192,
    "name": "ml.c5.24xlarge",
    "vcpuNum": 96
   },
   {
    "_defaultOrder": 28,
    "_isFastLaunch": true,
    "category": "Accelerated computing",
    "gpuNum": 1,
    "memoryGiB": 16,
    "name": "ml.g4dn.xlarge",
    "vcpuNum": 4
   },
   {
    "_defaultOrder": 29,
    "_isFastLaunch": false,
    "category": "Accelerated computing",
    "gpuNum": 1,
    "memoryGiB": 32,
    "name": "ml.g4dn.2xlarge",
    "vcpuNum": 8
   },
   {
    "_defaultOrder": 30,
    "_isFastLaunch": false,
    "category": "Accelerated computing",
    "gpuNum": 1,
    "memoryGiB": 64,
    "name": "ml.g4dn.4xlarge",
    "vcpuNum": 16
   },
   {
    "_defaultOrder": 31,
    "_isFastLaunch": false,
    "category": "Accelerated computing",
    "gpuNum": 1,
    "memoryGiB": 128,
    "name": "ml.g4dn.8xlarge",
    "vcpuNum": 32
   },
   {
    "_defaultOrder": 32,
    "_isFastLaunch": false,
    "category": "Accelerated computing",
    "gpuNum": 4,
    "memoryGiB": 192,
    "name": "ml.g4dn.12xlarge",
    "vcpuNum": 48
   },
   {
    "_defaultOrder": 33,
    "_isFastLaunch": false,
    "category": "Accelerated computing",
    "gpuNum": 1,
    "memoryGiB": 256,
    "name": "ml.g4dn.16xlarge",
    "vcpuNum": 64
   },
   {
    "_defaultOrder": 34,
    "_isFastLaunch": false,
    "category": "Accelerated computing",
    "gpuNum": 1,
    "memoryGiB": 61,
    "name": "ml.p3.2xlarge",
    "vcpuNum": 8
   },
   {
    "_defaultOrder": 35,
    "_isFastLaunch": false,
    "category": "Accelerated computing",
    "gpuNum": 4,
    "memoryGiB": 244,
    "name": "ml.p3.8xlarge",
    "vcpuNum": 32
   },
   {
    "_defaultOrder": 36,
    "_isFastLaunch": false,
    "category": "Accelerated computing",
    "gpuNum": 8,
    "memoryGiB": 488,
    "name": "ml.p3.16xlarge",
    "vcpuNum": 64
   },
   {
    "_defaultOrder": 37,
    "_isFastLaunch": false,
    "category": "Accelerated computing",
    "gpuNum": 8,
    "memoryGiB": 768,
    "name": "ml.p3dn.24xlarge",
    "vcpuNum": 96
   },
   {
    "_defaultOrder": 38,
    "_isFastLaunch": false,
    "category": "Memory Optimized",
    "gpuNum": 0,
    "memoryGiB": 16,
    "name": "ml.r5.large",
    "vcpuNum": 2
   },
   {
    "_defaultOrder": 39,
    "_isFastLaunch": false,
    "category": "Memory Optimized",
    "gpuNum": 0,
    "memoryGiB": 32,
    "name": "ml.r5.xlarge",
    "vcpuNum": 4
   },
   {
    "_defaultOrder": 40,
    "_isFastLaunch": false,
    "category": "Memory Optimized",
    "gpuNum": 0,
    "memoryGiB": 64,
    "name": "ml.r5.2xlarge",
    "vcpuNum": 8
   },
   {
    "_defaultOrder": 41,
    "_isFastLaunch": false,
    "category": "Memory Optimized",
    "gpuNum": 0,
    "memoryGiB": 128,
    "name": "ml.r5.4xlarge",
    "vcpuNum": 16
   },
   {
    "_defaultOrder": 42,
    "_isFastLaunch": false,
    "category": "Memory Optimized",
    "gpuNum": 0,
    "memoryGiB": 256,
    "name": "ml.r5.8xlarge",
    "vcpuNum": 32
   },
   {
    "_defaultOrder": 43,
    "_isFastLaunch": false,
    "category": "Memory Optimized",
    "gpuNum": 0,
    "memoryGiB": 384,
    "name": "ml.r5.12xlarge",
    "vcpuNum": 48
   },
   {
    "_defaultOrder": 44,
    "_isFastLaunch": false,
    "category": "Memory Optimized",
    "gpuNum": 0,
    "memoryGiB": 512,
    "name": "ml.r5.16xlarge",
    "vcpuNum": 64
   },
   {
    "_defaultOrder": 45,
    "_isFastLaunch": false,
    "category": "Memory Optimized",
    "gpuNum": 0,
    "memoryGiB": 768,
    "name": "ml.r5.24xlarge",
    "vcpuNum": 96
   },
   {
    "_defaultOrder": 46,
    "_isFastLaunch": false,
    "category": "Accelerated computing",
    "gpuNum": 1,
    "memoryGiB": 16,
    "name": "ml.g5.xlarge",
    "vcpuNum": 4
   },
   {
    "_defaultOrder": 47,
    "_isFastLaunch": false,
    "category": "Accelerated computing",
    "gpuNum": 1,
    "memoryGiB": 32,
    "name": "ml.g5.2xlarge",
    "vcpuNum": 8
   },
   {
    "_defaultOrder": 48,
    "_isFastLaunch": false,
    "category": "Accelerated computing",
    "gpuNum": 1,
    "memoryGiB": 64,
    "name": "ml.g5.4xlarge",
    "vcpuNum": 16
   },
   {
    "_defaultOrder": 49,
    "_isFastLaunch": false,
    "category": "Accelerated computing",
    "gpuNum": 1,
    "memoryGiB": 128,
    "name": "ml.g5.8xlarge",
    "vcpuNum": 32
   },
   {
    "_defaultOrder": 50,
    "_isFastLaunch": false,
    "category": "Accelerated computing",
    "gpuNum": 1,
    "memoryGiB": 256,
    "name": "ml.g5.16xlarge",
    "vcpuNum": 64
   },
   {
    "_defaultOrder": 51,
    "_isFastLaunch": false,
    "category": "Accelerated computing",
    "gpuNum": 4,
    "memoryGiB": 192,
    "name": "ml.g5.12xlarge",
    "vcpuNum": 48
   },
   {
    "_defaultOrder": 52,
    "_isFastLaunch": false,
    "category": "Accelerated computing",
    "gpuNum": 4,
    "memoryGiB": 384,
    "name": "ml.g5.24xlarge",
    "vcpuNum": 96
   },
   {
    "_defaultOrder": 53,
    "_isFastLaunch": false,
    "category": "Accelerated computing",
    "gpuNum": 8,
    "memoryGiB": 768,
    "name": "ml.g5.48xlarge",
    "vcpuNum": 192
   }
  ],
  "kernelspec": {
   "display_name": "Python 3 (Data Science)",
   "language": "python",
   "name": "python3__SAGEMAKER_INTERNAL__arn:aws:sagemaker:us-east-1:081325390199:image/datascience-1.0"
  },
  "language_info": {
   "codemirror_mode": {
    "name": "ipython",
    "version": 3
   },
   "file_extension": ".py",
   "mimetype": "text/x-python",
   "name": "python",
   "nbconvert_exporter": "python",
   "pygments_lexer": "ipython3",
   "version": "3.7.10"
  }
 },
 "nbformat": 4,
 "nbformat_minor": 5
}
