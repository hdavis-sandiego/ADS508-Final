{
 "cells": [
  {
   "cell_type": "code",
   "execution_count": 12,
   "id": "4c2c1932-c85a-4d77-9331-1b02e6b71046",
   "metadata": {
    "tags": []
   },
   "outputs": [],
   "source": [
    "import boto3\n",
    "import sagemaker\n",
    "import csv\n",
    "import pandas as pd\n",
    "\n",
    "sagemaker_session = sagemaker.Session()\n",
    "role = sagemaker.get_execution_role()\n",
    "bucket = sagemaker_session.default_bucket()\n",
    "region = boto3.Session().region_name\n",
    "\n",
    "sm = boto3.Session().client(service_name=\"sagemaker\", region_name=region)"
   ]
  },
  {
   "cell_type": "code",
   "execution_count": 16,
   "id": "dfbe6cff-3974-4c5d-93cc-969a5afa0d00",
   "metadata": {
    "tags": []
   },
   "outputs": [
    {
     "name": "stdout",
     "output_type": "stream",
     "text": [
      "download: s3://aurelia-resort-data/model_train/data_csv/test.csv to data_csv/data_csv/test.csv\n",
      "download: s3://aurelia-resort-data/model_train/data_csv/train.csv to data_csv/data_csv/train.csv\n",
      "download failed: s3://aurelia-resort-data/model_train/deepAR/output/deepar-hotel-2023-04-02-22-43-53-696/debug-output/training_job_end.ts to data_csv/deepAR/output/deepar-hotel-2023-04-02-22-43-53-696/debug-output/training_job_end.ts An error occurred (AccessDenied) when calling the GetObject operation: The ciphertext refers to a customer master key that does not exist, does not exist in this region, or you are not allowed to access.\n",
      "download failed: s3://aurelia-resort-data/model_train/deepAR/output/deepar-hotel-2023-04-02-22-43-53-696/profiler-output/system/incremental/2023040222/1680475620.algo-1.json to data_csv/deepAR/output/deepar-hotel-2023-04-02-22-43-53-696/profiler-output/system/incremental/2023040222/1680475620.algo-1.json An error occurred (AccessDenied) when calling the GetObject operation: The ciphertext refers to a customer master key that does not exist, does not exist in this region, or you are not allowed to access.\n",
      "download failed: s3://aurelia-resort-data/model_train/deepAR/output/deepar-hotel-2023-04-02-22-49-04-715/debug-output/training_job_end.ts to data_csv/deepAR/output/deepar-hotel-2023-04-02-22-49-04-715/debug-output/training_job_end.ts An error occurred (AccessDenied) when calling the GetObject operation: The ciphertext refers to a customer master key that does not exist, does not exist in this region, or you are not allowed to access.\n",
      "download failed: s3://aurelia-resort-data/model_train/deepAR/output/deepar-hotel-2023-04-02-23-15-32-396/debug-output/training_job_end.ts to data_csv/deepAR/output/deepar-hotel-2023-04-02-23-15-32-396/debug-output/training_job_end.ts An error occurred (AccessDenied) when calling the GetObject operation: The ciphertext refers to a customer master key that does not exist, does not exist in this region, or you are not allowed to access.\n",
      "download failed: s3://aurelia-resort-data/model_train/deepAR/output/deepar-hotel-2023-04-02-22-49-04-715/profiler-output/system/incremental/2023040222/1680475800.algo-1.json to data_csv/deepAR/output/deepar-hotel-2023-04-02-22-49-04-715/profiler-output/system/incremental/2023040222/1680475800.algo-1.json An error occurred (AccessDenied) when calling the GetObject operation: The ciphertext refers to a customer master key that does not exist, does not exist in this region, or you are not allowed to access.\n",
      "download failed: s3://aurelia-resort-data/model_train/deepAR/output/deepar-hotel-2023-04-02-22-43-53-696/profiler-output/system/training_job_end.ts to data_csv/deepAR/output/deepar-hotel-2023-04-02-22-43-53-696/profiler-output/system/training_job_end.ts An error occurred (AccessDenied) when calling the GetObject operation: The ciphertext refers to a customer master key that does not exist, does not exist in this region, or you are not allowed to access.\n",
      "download failed: s3://aurelia-resort-data/model_train/deepAR/output/deepar-hotel-2023-04-02-23-15-32-396/profiler-output/framework/training_job_end.ts to data_csv/deepAR/output/deepar-hotel-2023-04-02-23-15-32-396/profiler-output/framework/training_job_end.ts An error occurred (AccessDenied) when calling the GetObject operation: The ciphertext refers to a customer master key that does not exist, does not exist in this region, or you are not allowed to access.\n",
      "download failed: s3://aurelia-resort-data/model_train/deepAR/output/deepar-hotel-2023-04-02-22-49-04-715/profiler-output/system/incremental/2023040222/1680475860.algo-1.json to data_csv/deepAR/output/deepar-hotel-2023-04-02-22-49-04-715/profiler-output/system/incremental/2023040222/1680475860.algo-1.json An error occurred (AccessDenied) when calling the GetObject operation: The ciphertext refers to a customer master key that does not exist, does not exist in this region, or you are not allowed to access.\n",
      "download failed: s3://aurelia-resort-data/model_train/deepAR/output/deepar-hotel-2023-04-02-22-43-53-696/profiler-output/framework/training_job_end.ts to data_csv/deepAR/output/deepar-hotel-2023-04-02-22-43-53-696/profiler-output/framework/training_job_end.ts An error occurred (AccessDenied) when calling the GetObject operation: The ciphertext refers to a customer master key that does not exist, does not exist in this region, or you are not allowed to access.\n",
      "download failed: s3://aurelia-resort-data/model_train/deepAR/output/deepar-hotel-2023-04-02-23-15-32-396/profiler-output/system/training_job_end.ts to data_csv/deepAR/output/deepar-hotel-2023-04-02-23-15-32-396/profiler-output/system/training_job_end.ts An error occurred (AccessDenied) when calling the GetObject operation: The ciphertext refers to a customer master key that does not exist, does not exist in this region, or you are not allowed to access.\n",
      "download failed: s3://aurelia-resort-data/model_train/deepAR/output/deepar-hotel-2023-04-02-22-49-04-715/profiler-output/framework/training_job_end.ts to data_csv/deepAR/output/deepar-hotel-2023-04-02-22-49-04-715/profiler-output/framework/training_job_end.ts An error occurred (AccessDenied) when calling the GetObject operation: The ciphertext refers to a customer master key that does not exist, does not exist in this region, or you are not allowed to access.\n",
      "download failed: s3://aurelia-resort-data/model_train/deepAR/output/deepar-hotel-2023-04-02-22-43-53-696/profiler-output/system/incremental/2023040222/1680475560.algo-1.json to data_csv/deepAR/output/deepar-hotel-2023-04-02-22-43-53-696/profiler-output/system/incremental/2023040222/1680475560.algo-1.json An error occurred (AccessDenied) when calling the GetObject operation: The ciphertext refers to a customer master key that does not exist, does not exist in this region, or you are not allowed to access.\n",
      "download failed: s3://aurelia-resort-data/model_train/deepAR/output/deepar-hotel-2023-04-02-22-43-53-696/profiler-output/system/incremental/2023040222/1680475500.algo-1.json to data_csv/deepAR/output/deepar-hotel-2023-04-02-22-43-53-696/profiler-output/system/incremental/2023040222/1680475500.algo-1.json An error occurred (AccessDenied) when calling the GetObject operation: The ciphertext refers to a customer master key that does not exist, does not exist in this region, or you are not allowed to access.\n",
      "download failed: s3://aurelia-resort-data/model_train/deepAR/output/deepar-hotel-2023-04-02-23-15-32-396/profiler-output/system/incremental/2023040223/1680477480.algo-1.json to data_csv/deepAR/output/deepar-hotel-2023-04-02-23-15-32-396/profiler-output/system/incremental/2023040223/1680477480.algo-1.json An error occurred (AccessDenied) when calling the GetObject operation: The ciphertext refers to a customer master key that does not exist, does not exist in this region, or you are not allowed to access.\n",
      "download failed: s3://aurelia-resort-data/model_train/deepAR/output/deepar-hotel-2023-04-02-22-49-04-715/profiler-output/system/incremental/2023040222/1680475920.algo-1.json to data_csv/deepAR/output/deepar-hotel-2023-04-02-22-49-04-715/profiler-output/system/incremental/2023040222/1680475920.algo-1.json An error occurred (AccessDenied) when calling the GetObject operation: The ciphertext refers to a customer master key that does not exist, does not exist in this region, or you are not allowed to access.\n",
      "download failed: s3://aurelia-resort-data/model_train/deepAR/output/deepar-hotel-2023-04-02-23-25-06-536/profiler-output/framework/training_job_end.ts to data_csv/deepAR/output/deepar-hotel-2023-04-02-23-25-06-536/profiler-output/framework/training_job_end.ts An error occurred (AccessDenied) when calling the GetObject operation: The ciphertext refers to a customer master key that does not exist, does not exist in this region, or you are not allowed to access.\n",
      "download failed: s3://aurelia-resort-data/model_train/deepAR/output/deepar-hotel-2023-04-02-23-25-06-536/debug-output/training_job_end.ts to data_csv/deepAR/output/deepar-hotel-2023-04-02-23-25-06-536/debug-output/training_job_end.ts An error occurred (AccessDenied) when calling the GetObject operation: The ciphertext refers to a customer master key that does not exist, does not exist in this region, or you are not allowed to access.\n",
      "download failed: s3://aurelia-resort-data/model_train/deepAR/output/deepar-hotel-2023-04-02-23-15-32-396/profiler-output/system/incremental/2023040223/1680477360.algo-1.json to data_csv/deepAR/output/deepar-hotel-2023-04-02-23-15-32-396/profiler-output/system/incremental/2023040223/1680477360.algo-1.json An error occurred (AccessDenied) when calling the GetObject operation: The ciphertext refers to a customer master key that does not exist, does not exist in this region, or you are not allowed to access.\n",
      "download failed: s3://aurelia-resort-data/model_train/deepAR/output/deepar-hotel-2023-04-02-22-49-04-715/profiler-output/system/training_job_end.ts to data_csv/deepAR/output/deepar-hotel-2023-04-02-22-49-04-715/profiler-output/system/training_job_end.ts An error occurred (AccessDenied) when calling the GetObject operation: The ciphertext refers to a customer master key that does not exist, does not exist in this region, or you are not allowed to access.\n",
      "download failed: s3://aurelia-resort-data/model_train/deepAR/output/deepar-hotel-2023-04-02-23-25-06-536/profiler-output/system/incremental/2023040223/1680478020.algo-1.json to data_csv/deepAR/output/deepar-hotel-2023-04-02-23-25-06-536/profiler-output/system/incremental/2023040223/1680478020.algo-1.json An error occurred (AccessDenied) when calling the GetObject operation: The ciphertext refers to a customer master key that does not exist, does not exist in this region, or you are not allowed to access.\n",
      "download failed: s3://aurelia-resort-data/model_train/deepAR/output/deepar-hotel-2023-04-02-23-39-31-397/debug-output/training_job_end.ts to data_csv/deepAR/output/deepar-hotel-2023-04-02-23-39-31-397/debug-output/training_job_end.ts An error occurred (AccessDenied) when calling the GetObject operation: The ciphertext refers to a customer master key that does not exist, does not exist in this region, or you are not allowed to access.\n",
      "download failed: s3://aurelia-resort-data/model_train/deepAR/output/deepar-hotel-2023-04-02-23-25-06-536/profiler-output/system/incremental/2023040223/1680478080.algo-1.json to data_csv/deepAR/output/deepar-hotel-2023-04-02-23-25-06-536/profiler-output/system/incremental/2023040223/1680478080.algo-1.json An error occurred (AccessDenied) when calling the GetObject operation: The ciphertext refers to a customer master key that does not exist, does not exist in this region, or you are not allowed to access.\n",
      "download failed: s3://aurelia-resort-data/model_train/deepAR/output/deepar-hotel-2023-04-02-23-15-32-396/profiler-output/system/incremental/2023040223/1680477420.algo-1.json to data_csv/deepAR/output/deepar-hotel-2023-04-02-23-15-32-396/profiler-output/system/incremental/2023040223/1680477420.algo-1.json An error occurred (AccessDenied) when calling the GetObject operation: The ciphertext refers to a customer master key that does not exist, does not exist in this region, or you are not allowed to access.\n",
      "download failed: s3://aurelia-resort-data/model_train/deepAR/output/deepar-hotel-2023-04-02-23-25-06-536/profiler-output/system/training_job_end.ts to data_csv/deepAR/output/deepar-hotel-2023-04-02-23-25-06-536/profiler-output/system/training_job_end.ts An error occurred (AccessDenied) when calling the GetObject operation: The ciphertext refers to a customer master key that does not exist, does not exist in this region, or you are not allowed to access.\n",
      "download failed: s3://aurelia-resort-data/model_train/deepAR/output/deepar-hotel-2023-04-02-23-39-31-397/profiler-output/framework/training_job_end.ts to data_csv/deepAR/output/deepar-hotel-2023-04-02-23-39-31-397/profiler-output/framework/training_job_end.ts An error occurred (AccessDenied) when calling the GetObject operation: The ciphertext refers to a customer master key that does not exist, does not exist in this region, or you are not allowed to access.\n",
      "download failed: s3://aurelia-resort-data/model_train/deepAR/output/deepar-hotel-2023-04-02-23-39-31-397/profiler-output/system/incremental/2023040223/1680478800.algo-1.json to data_csv/deepAR/output/deepar-hotel-2023-04-02-23-39-31-397/profiler-output/system/incremental/2023040223/1680478800.algo-1.json An error occurred (AccessDenied) when calling the GetObject operation: The ciphertext refers to a customer master key that does not exist, does not exist in this region, or you are not allowed to access.\n",
      "download failed: s3://aurelia-resort-data/model_train/deepAR/output/deepar-hotel-2023-04-02-23-39-31-397/profiler-output/system/training_job_end.ts to data_csv/deepAR/output/deepar-hotel-2023-04-02-23-39-31-397/profiler-output/system/training_job_end.ts An error occurred (AccessDenied) when calling the GetObject operation: The ciphertext refers to a customer master key that does not exist, does not exist in this region, or you are not allowed to access.\n",
      "download failed: s3://aurelia-resort-data/model_train/deepAR/output/deepar-hotel-2023-04-02-23-39-31-397/profiler-output/system/incremental/2023040223/1680478860.algo-1.json to data_csv/deepAR/output/deepar-hotel-2023-04-02-23-39-31-397/profiler-output/system/incremental/2023040223/1680478860.algo-1.json An error occurred (AccessDenied) when calling the GetObject operation: The ciphertext refers to a customer master key that does not exist, does not exist in this region, or you are not allowed to access.\n",
      "download failed: s3://aurelia-resort-data/model_train/deepAR/output/deepar-hotel-2023-04-02-23-25-06-536/profiler-output/system/incremental/2023040223/1680477960.algo-1.json to data_csv/deepAR/output/deepar-hotel-2023-04-02-23-25-06-536/profiler-output/system/incremental/2023040223/1680477960.algo-1.json An error occurred (AccessDenied) when calling the GetObject operation: The ciphertext refers to a customer master key that does not exist, does not exist in this region, or you are not allowed to access.\n",
      "download failed: s3://aurelia-resort-data/model_train/deepAR/output/deepar-hotel-2023-04-02-23-43-31-466/debug-output/training_job_end.ts to data_csv/deepAR/output/deepar-hotel-2023-04-02-23-43-31-466/debug-output/training_job_end.ts An error occurred (AccessDenied) when calling the GetObject operation: The ciphertext refers to a customer master key that does not exist, does not exist in this region, or you are not allowed to access.\n",
      "download failed: s3://aurelia-resort-data/model_train/deepAR/output/deepar-hotel-2023-04-03-00-58-23-662/debug-output/training_job_end.ts to data_csv/deepAR/output/deepar-hotel-2023-04-03-00-58-23-662/debug-output/training_job_end.ts An error occurred (AccessDenied) when calling the GetObject operation: The ciphertext refers to a customer master key that does not exist, does not exist in this region, or you are not allowed to access.\n",
      "download failed: s3://aurelia-resort-data/model_train/deepAR/output/deepar-hotel-2023-04-02-23-43-31-466/profiler-output/system/incremental/2023040223/1680479160.algo-1.json to data_csv/deepAR/output/deepar-hotel-2023-04-02-23-43-31-466/profiler-output/system/incremental/2023040223/1680479160.algo-1.json An error occurred (AccessDenied) when calling the GetObject operation: The ciphertext refers to a customer master key that does not exist, does not exist in this region, or you are not allowed to access.\n",
      "download failed: s3://aurelia-resort-data/model_train/deepAR/output/deepar-hotel-2023-04-02-23-43-31-466/profiler-output/framework/training_job_end.ts to data_csv/deepAR/output/deepar-hotel-2023-04-02-23-43-31-466/profiler-output/framework/training_job_end.ts An error occurred (AccessDenied) when calling the GetObject operation: The ciphertext refers to a customer master key that does not exist, does not exist in this region, or you are not allowed to access.\n",
      "download failed: s3://aurelia-resort-data/model_train/deepAR/output/deepar-hotel-2023-04-02-23-43-31-466/profiler-output/system/incremental/2023040223/1680479100.algo-1.json to data_csv/deepAR/output/deepar-hotel-2023-04-02-23-43-31-466/profiler-output/system/incremental/2023040223/1680479100.algo-1.json An error occurred (AccessDenied) when calling the GetObject operation: The ciphertext refers to a customer master key that does not exist, does not exist in this region, or you are not allowed to access.\n",
      "download failed: s3://aurelia-resort-data/model_train/deepAR/output/deepar-hotel-2023-04-03-00-58-23-662/profiler-output/framework/training_job_end.ts to data_csv/deepAR/output/deepar-hotel-2023-04-03-00-58-23-662/profiler-output/framework/training_job_end.ts An error occurred (AccessDenied) when calling the GetObject operation: The ciphertext refers to a customer master key that does not exist, does not exist in this region, or you are not allowed to access.\n",
      "download failed: s3://aurelia-resort-data/model_train/deepAR/output/deepar-hotel-2023-04-02-23-39-31-397/profiler-output/system/incremental/2023040223/1680478920.algo-1.json to data_csv/deepAR/output/deepar-hotel-2023-04-02-23-39-31-397/profiler-output/system/incremental/2023040223/1680478920.algo-1.json An error occurred (AccessDenied) when calling the GetObject operation: The ciphertext refers to a customer master key that does not exist, does not exist in this region, or you are not allowed to access.\n",
      "download failed: s3://aurelia-resort-data/model_train/deepAR/output/deepar-hotel-2023-04-03-01-07-11-351/profiler-output/framework/training_job_end.ts to data_csv/deepAR/output/deepar-hotel-2023-04-03-01-07-11-351/profiler-output/framework/training_job_end.ts An error occurred (AccessDenied) when calling the GetObject operation: The ciphertext refers to a customer master key that does not exist, does not exist in this region, or you are not allowed to access.\n",
      "download failed: s3://aurelia-resort-data/model_train/deepAR/output/deepar-hotel-2023-04-03-01-07-11-351/profiler-output/system/training_job_end.ts to data_csv/deepAR/output/deepar-hotel-2023-04-03-01-07-11-351/profiler-output/system/training_job_end.ts An error occurred (AccessDenied) when calling the GetObject operation: The ciphertext refers to a customer master key that does not exist, does not exist in this region, or you are not allowed to access.\n",
      "download failed: s3://aurelia-resort-data/model_train/deepAR/output/deepar-hotel-2023-04-03-00-58-23-662/profiler-output/system/incremental/2023040301/1680483600.algo-1.json to data_csv/deepAR/output/deepar-hotel-2023-04-03-00-58-23-662/profiler-output/system/incremental/2023040301/1680483600.algo-1.json An error occurred (AccessDenied) when calling the GetObject operation: The ciphertext refers to a customer master key that does not exist, does not exist in this region, or you are not allowed to access.\n",
      "download failed: s3://aurelia-resort-data/model_train/deepAR/output/deepar-hotel-2023-04-03-00-58-23-662/profiler-output/system/training_job_end.ts to data_csv/deepAR/output/deepar-hotel-2023-04-03-00-58-23-662/profiler-output/system/training_job_end.ts An error occurred (AccessDenied) when calling the GetObject operation: The ciphertext refers to a customer master key that does not exist, does not exist in this region, or you are not allowed to access.\n",
      "download failed: s3://aurelia-resort-data/model_train/deepAR/output/deepar-hotel-2023-04-03-00-58-23-662/profiler-output/system/incremental/2023040300/1680483540.algo-1.json to data_csv/deepAR/output/deepar-hotel-2023-04-03-00-58-23-662/profiler-output/system/incremental/2023040300/1680483540.algo-1.json An error occurred (AccessDenied) when calling the GetObject operation: The ciphertext refers to a customer master key that does not exist, does not exist in this region, or you are not allowed to access.\n",
      "download failed: s3://aurelia-resort-data/model_train/deepAR/output/deepar-hotel-2023-04-02-23-43-31-466/profiler-output/system/training_job_end.ts to data_csv/deepAR/output/deepar-hotel-2023-04-02-23-43-31-466/profiler-output/system/training_job_end.ts An error occurred (AccessDenied) when calling the GetObject operation: The ciphertext refers to a customer master key that does not exist, does not exist in this region, or you are not allowed to access.\n",
      "download failed: s3://aurelia-resort-data/model_train/deepAR/output/deepar-hotel-2023-04-03-01-07-11-351/profiler-output/system/incremental/2023040301/1680484080.algo-1.json to data_csv/deepAR/output/deepar-hotel-2023-04-03-01-07-11-351/profiler-output/system/incremental/2023040301/1680484080.algo-1.json An error occurred (AccessDenied) when calling the GetObject operation: The ciphertext refers to a customer master key that does not exist, does not exist in this region, or you are not allowed to access.\n",
      "download failed: s3://aurelia-resort-data/model_train/deepAR/output/deepar-hotel-2023-04-03-00-58-23-662/profiler-output/system/incremental/2023040301/1680483660.algo-1.json to data_csv/deepAR/output/deepar-hotel-2023-04-03-00-58-23-662/profiler-output/system/incremental/2023040301/1680483660.algo-1.json An error occurred (AccessDenied) when calling the GetObject operation: The ciphertext refers to a customer master key that does not exist, does not exist in this region, or you are not allowed to access.\n",
      "download failed: s3://aurelia-resort-data/model_train/deepAR/output/deepar-hotel-2023-04-03-01-07-11-351/debug-output/training_job_end.ts to data_csv/deepAR/output/deepar-hotel-2023-04-03-01-07-11-351/debug-output/training_job_end.ts An error occurred (AccessDenied) when calling the GetObject operation: The ciphertext refers to a customer master key that does not exist, does not exist in this region, or you are not allowed to access.\n",
      "download failed: s3://aurelia-resort-data/model_train/deepAR/output/deepar-hotel-2023-04-03-01-14-27-197/profiler-output/framework/training_job_end.ts to data_csv/deepAR/output/deepar-hotel-2023-04-03-01-14-27-197/profiler-output/framework/training_job_end.ts An error occurred (AccessDenied) when calling the GetObject operation: The ciphertext refers to a customer master key that does not exist, does not exist in this region, or you are not allowed to access.\n",
      "download failed: s3://aurelia-resort-data/model_train/deepAR/output/deepar-hotel-2023-04-03-01-14-27-197/debug-output/training_job_end.ts to data_csv/deepAR/output/deepar-hotel-2023-04-03-01-14-27-197/debug-output/training_job_end.ts An error occurred (AccessDenied) when calling the GetObject operation: The ciphertext refers to a customer master key that does not exist, does not exist in this region, or you are not allowed to access.\n",
      "download failed: s3://aurelia-resort-data/model_train/deepAR/output/deepar-hotel-2023-04-03-01-14-27-197/profiler-output/system/training_job_end.ts to data_csv/deepAR/output/deepar-hotel-2023-04-03-01-14-27-197/profiler-output/system/training_job_end.ts An error occurred (AccessDenied) when calling the GetObject operation: The ciphertext refers to a customer master key that does not exist, does not exist in this region, or you are not allowed to access.\n",
      "download failed: s3://aurelia-resort-data/model_train/deepAR/output/deepar-hotel-2023-04-03-01-14-27-197/profiler-output/system/incremental/2023040301/1680484560.algo-1.json to data_csv/deepAR/output/deepar-hotel-2023-04-03-01-14-27-197/profiler-output/system/incremental/2023040301/1680484560.algo-1.json An error occurred (AccessDenied) when calling the GetObject operation: The ciphertext refers to a customer master key that does not exist, does not exist in this region, or you are not allowed to access.\n",
      "download: s3://aurelia-resort-data/model_train/deepAR/test.json to data_csv/deepAR/test.json\n",
      "download failed: s3://aurelia-resort-data/model_train/deepAR/output/deepar-hotel-2023-04-03-01-14-27-197/profiler-output/system/incremental/2023040301/1680484620.algo-1.json to data_csv/deepAR/output/deepar-hotel-2023-04-03-01-14-27-197/profiler-output/system/incremental/2023040301/1680484620.algo-1.json An error occurred (AccessDenied) when calling the GetObject operation: The ciphertext refers to a customer master key that does not exist, does not exist in this region, or you are not allowed to access.\n",
      "download: s3://aurelia-resort-data/model_train/deepAR/train.json to data_csv/deepAR/train.json\n",
      "download failed: s3://aurelia-resort-data/model_train/deepAR/output/deepar-hotel-2023-04-03-01-07-11-351/profiler-output/system/incremental/2023040301/1680484140.algo-1.json to data_csv/deepAR/output/deepar-hotel-2023-04-03-01-07-11-351/profiler-output/system/incremental/2023040301/1680484140.algo-1.json An error occurred (AccessDenied) when calling the GetObject operation: The ciphertext refers to a customer master key that does not exist, does not exist in this region, or you are not allowed to access.\n",
      "download failed: s3://aurelia-resort-data/model_train/deepAR/output/deepar-hotel-2023-04-03-01-14-27-197/profiler-output/system/incremental/2023040301/1680484500.algo-1.json to data_csv/deepAR/output/deepar-hotel-2023-04-03-01-14-27-197/profiler-output/system/incremental/2023040301/1680484500.algo-1.json An error occurred (AccessDenied) when calling the GetObject operation: The ciphertext refers to a customer master key that does not exist, does not exist in this region, or you are not allowed to access.\n"
     ]
    }
   ],
   "source": [
    "!aws s3 cp --recursive s3://aurelia-resort-data/model_train ./data_csv"
   ]
  },
  {
   "cell_type": "code",
   "execution_count": 19,
   "id": "83bc04c4-d4df-47a7-a4fe-bc9d8ba17f01",
   "metadata": {
    "tags": []
   },
   "outputs": [],
   "source": [
    "train = pd.read_csv(\"data_csv/data_csv/train.csv\")\n",
    "test = pd.read_csv(\"data_csv/data_csv/test.csv\")"
   ]
  },
  {
   "cell_type": "code",
   "execution_count": 21,
   "id": "808e9e6c-80f5-443c-8457-f3831d67a858",
   "metadata": {
    "tags": []
   },
   "outputs": [],
   "source": [
    "autopilot_train_path = \"./traindataautopilot.csv\"\n",
    "train.to_csv(autopilot_train_path, index=False, header=True)"
   ]
  },
  {
   "cell_type": "code",
   "execution_count": 23,
   "id": "217a28ac-eef4-42a6-b006-3eb8a2735a9f",
   "metadata": {
    "tags": []
   },
   "outputs": [
    {
     "data": {
      "text/plain": [
       "'s3://sagemaker-us-east-1-478947633708/data/traindataautopilot.csv'"
      ]
     },
     "execution_count": 23,
     "metadata": {},
     "output_type": "execute_result"
    }
   ],
   "source": [
    "train_s3_prefix = \"data\"\n",
    "autopilot_train_s3_uri = sagemaker_session.upload_data(path=autopilot_train_path, key_prefix=train_s3_prefix)\n",
    "autopilot_train_s3_uri"
   ]
  },
  {
   "cell_type": "code",
   "execution_count": 24,
   "id": "ad5770b8-b7eb-4b87-ba6a-b4b2ca1e4755",
   "metadata": {
    "tags": []
   },
   "outputs": [
    {
     "name": "stdout",
     "output_type": "stream",
     "text": [
      "2023-04-03 01:43:58       2365 traindataautopilot.csv\n"
     ]
    }
   ],
   "source": [
    "!aws s3 ls $autopilot_train_s3_uri"
   ]
  },
  {
   "cell_type": "code",
   "execution_count": null,
   "id": "963fd7fa-7418-475e-bc38-4a5dda10b4e4",
   "metadata": {},
   "outputs": [
    {
     "name": "stdout",
     "output_type": "stream",
     "text": [
      "Stored 'autopilot_train_s3_uri' (str)\n"
     ]
    }
   ],
   "source": [
    "%store autopilot_train_s3_uri"
   ]
  },
  {
   "cell_type": "code",
   "execution_count": null,
   "id": "4af0df59-1ef9-4324-ac5e-caa8de97f10a",
   "metadata": {},
   "outputs": [
    {
     "name": "stdout",
     "output_type": "stream",
     "text": [
      "Stored variables and their in-db values:\n",
      "autopilot_train_s3_uri                  -> 's3://sagemaker-us-east-1-478947633708/data/traind\n",
      "bookings_grouped                        ->          Date  total_bookings\n",
      "0  2014-10-01       \n",
      "cancellations_grouped                   ->          Date  cancellations\n",
      "0  2014-10-01        \n",
      "finaldf                                 -> Empty DataFrame\n",
      "Columns: [Date, TotalIncome, Total\n",
      "income_grouped                          ->          Date  income_by_year\n",
      "0  1953-01-01       \n",
      "income_value_grouped                    ->          Date  income_total\n",
      "0  1953-01-01         \n",
      "listings_clean                          ->    month_year  num_listings\n",
      "0     2022-12         \n",
      "listings_date                           ->          Date  num_listings\n",
      "0  2022-12-01         \n",
      "reviews_clean                           ->     month_year  num_stays\n",
      "0      2009-05          \n",
      "reviews_date                            ->           Date  num_stays\n",
      "0   2009-05-01          \n",
      "setup_dependencies_passed               -> True\n",
      "setup_iam_roles_passed                  -> True\n",
      "setup_instance_check_passed             -> True\n",
      "setup_s3_bucket_passed                  -> True\n",
      "travelstats                             ->          Date  TotalAirlineTripstoDC  TotalAirline\n"
     ]
    }
   ],
   "source": [
    "%store\n"
   ]
  },
  {
   "cell_type": "code",
   "execution_count": null,
   "id": "fe3c8c00-8e77-45ec-ba24-a06334917385",
   "metadata": {},
   "outputs": [
    {
     "name": "stdout",
     "output_type": "stream",
     "text": [
      "[OK]\n"
     ]
    }
   ],
   "source": [
    "\n",
    "try:\n",
    "    autopilot_train_s3_uri\n",
    "    print(\"[OK]\")\n",
    "except NameError:\n",
    "    print(\"+++++++++++++++++++++++++++++++++++++++++++++++++++++++++++++++++++++\")\n",
    "    print(\"[ERROR] PLEASE RUN THE PREVIOUS 01_PREPARE_DATASET_AUTOPILOT NOTEBOOK.\")\n",
    "    print(\"+++++++++++++++++++++++++++++++++++++++++++++++++++++++++++++++++++++\")"
   ]
  },
  {
   "cell_type": "code",
   "execution_count": null,
   "id": "3d326738-2421-4485-a692-85d44ac5ea3c",
   "metadata": {},
   "outputs": [
    {
     "name": "stdout",
     "output_type": "stream",
     "text": [
      "[OK]\n"
     ]
    }
   ],
   "source": [
    "if not autopilot_train_s3_uri:\n",
    "    print(\"+++++++++++++++++++++++++++++++++++++++++++++++++++++++++++++++++++++\")\n",
    "    print(\"[ERROR] PLEASE RUN THE PREVIOUS 01_PREPARE_DATASET_AUTOPILOT NOTEBOOK.\")\n",
    "    print(\"+++++++++++++++++++++++++++++++++++++++++++++++++++++++++++++++++++++\")\n",
    "else:\n",
    "    print(\"[OK]\")"
   ]
  },
  {
   "cell_type": "code",
   "execution_count": null,
   "id": "ecd3447b-2ea6-4e6f-8232-0892f7851cd0",
   "metadata": {},
   "outputs": [
    {
     "name": "stdout",
     "output_type": "stream",
     "text": [
      "s3://sagemaker-us-east-1-478947633708/data/traindataautopilot.csv\n"
     ]
    }
   ],
   "source": [
    "print(autopilot_train_s3_uri)"
   ]
  },
  {
   "cell_type": "code",
   "execution_count": null,
   "id": "d2cba6bc-df9c-4eba-95d9-283cdd961417",
   "metadata": {},
   "outputs": [
    {
     "name": "stdout",
     "output_type": "stream",
     "text": [
      "2023-04-03 01:43:58       2365 traindataautopilot.csv\n"
     ]
    }
   ],
   "source": [
    "!aws s3 ls $autopilot_train_s3_uri"
   ]
  },
  {
   "cell_type": "code",
   "execution_count": 32,
   "id": "cd3385e7-a4a4-4696-9462-51143fb73ad7",
   "metadata": {},
   "outputs": [
    {
     "data": {
      "text/html": [
       "<div>\n",
       "<style scoped>\n",
       "    .dataframe tbody tr th:only-of-type {\n",
       "        vertical-align: middle;\n",
       "    }\n",
       "\n",
       "    .dataframe tbody tr th {\n",
       "        vertical-align: top;\n",
       "    }\n",
       "\n",
       "    .dataframe thead th {\n",
       "        text-align: right;\n",
       "    }\n",
       "</style>\n",
       "<table border=\"1\" class=\"dataframe\">\n",
       "  <thead>\n",
       "    <tr style=\"text-align: right;\">\n",
       "      <th></th>\n",
       "      <th>Date</th>\n",
       "      <th>TotalAirlineTripstoDC</th>\n",
       "      <th>TotalAirlinePassengerstoDC</th>\n",
       "      <th>TotalAmericanTravelers</th>\n",
       "      <th>PercentofAmericanswhoTraveled</th>\n",
       "      <th>TotalTripsbyAmericans</th>\n",
       "      <th>num_stays</th>\n",
       "      <th>income_total</th>\n",
       "    </tr>\n",
       "  </thead>\n",
       "  <tbody>\n",
       "    <tr>\n",
       "      <th>0</th>\n",
       "      <td>2019-01-01</td>\n",
       "      <td>435</td>\n",
       "      <td>1326271.0</td>\n",
       "      <td>2.652241e+08</td>\n",
       "      <td>81.442421</td>\n",
       "      <td>1.137042e+09</td>\n",
       "      <td>2899</td>\n",
       "      <td>14791.2</td>\n",
       "    </tr>\n",
       "    <tr>\n",
       "      <th>1</th>\n",
       "      <td>2019-02-01</td>\n",
       "      <td>385</td>\n",
       "      <td>1261292.0</td>\n",
       "      <td>2.662408e+08</td>\n",
       "      <td>81.774326</td>\n",
       "      <td>1.148667e+09</td>\n",
       "      <td>2639</td>\n",
       "      <td>14835.3</td>\n",
       "    </tr>\n",
       "    <tr>\n",
       "      <th>2</th>\n",
       "      <td>2019-03-01</td>\n",
       "      <td>422</td>\n",
       "      <td>1668002.0</td>\n",
       "      <td>2.650919e+08</td>\n",
       "      <td>81.799085</td>\n",
       "      <td>1.306565e+09</td>\n",
       "      <td>5226</td>\n",
       "      <td>14843.9</td>\n",
       "    </tr>\n",
       "    <tr>\n",
       "      <th>3</th>\n",
       "      <td>2019-04-01</td>\n",
       "      <td>427</td>\n",
       "      <td>1681832.0</td>\n",
       "      <td>2.640626e+08</td>\n",
       "      <td>81.354347</td>\n",
       "      <td>1.446882e+09</td>\n",
       "      <td>5608</td>\n",
       "      <td>14811.8</td>\n",
       "    </tr>\n",
       "    <tr>\n",
       "      <th>4</th>\n",
       "      <td>2019-05-01</td>\n",
       "      <td>439</td>\n",
       "      <td>1766148.0</td>\n",
       "      <td>2.661340e+08</td>\n",
       "      <td>81.884670</td>\n",
       "      <td>1.415057e+09</td>\n",
       "      <td>6110</td>\n",
       "      <td>14814.7</td>\n",
       "    </tr>\n",
       "  </tbody>\n",
       "</table>\n",
       "</div>"
      ],
      "text/plain": [
       "         Date  TotalAirlineTripstoDC  TotalAirlinePassengerstoDC  \\\n",
       "0  2019-01-01                    435                   1326271.0   \n",
       "1  2019-02-01                    385                   1261292.0   \n",
       "2  2019-03-01                    422                   1668002.0   \n",
       "3  2019-04-01                    427                   1681832.0   \n",
       "4  2019-05-01                    439                   1766148.0   \n",
       "\n",
       "   TotalAmericanTravelers  PercentofAmericanswhoTraveled  \\\n",
       "0            2.652241e+08                      81.442421   \n",
       "1            2.662408e+08                      81.774326   \n",
       "2            2.650919e+08                      81.799085   \n",
       "3            2.640626e+08                      81.354347   \n",
       "4            2.661340e+08                      81.884670   \n",
       "\n",
       "   TotalTripsbyAmericans  num_stays  income_total  \n",
       "0           1.137042e+09       2899       14791.2  \n",
       "1           1.148667e+09       2639       14835.3  \n",
       "2           1.306565e+09       5226       14843.9  \n",
       "3           1.446882e+09       5608       14811.8  \n",
       "4           1.415057e+09       6110       14814.7  "
      ]
     },
     "execution_count": 32,
     "metadata": {},
     "output_type": "execute_result"
    }
   ],
   "source": [
    "import csv\n",
    "\n",
    "df = pd.read_csv(\"traindataautopilot.csv\")\n",
    "df.head()"
   ]
  },
  {
   "cell_type": "code",
   "execution_count": 33,
   "id": "b57b88bc-4ae9-47ed-a1cf-02ce82529317",
   "metadata": {
    "tags": []
   },
   "outputs": [
    {
     "name": "stdout",
     "output_type": "stream",
     "text": [
      "s3://sagemaker-us-east-1-478947633708/models/autopilot\n"
     ]
    }
   ],
   "source": [
    "prefix_model_output = \"models/autopilot\"\n",
    "\n",
    "model_output_s3_uri = \"s3://{}/{}\".format(bucket, prefix_model_output)\n",
    "\n",
    "print(model_output_s3_uri)"
   ]
  },
  {
   "cell_type": "code",
   "execution_count": 34,
   "id": "4365301d-b7e9-42ff-900d-817190d7e078",
   "metadata": {
    "tags": []
   },
   "outputs": [],
   "source": [
    "max_candidates = 3\n",
    "\n",
    "job_config = {\n",
    "    \"CompletionCriteria\": {\n",
    "        \"MaxRuntimePerTrainingJobInSeconds\": 900,\n",
    "        \"MaxCandidates\": max_candidates,\n",
    "        \"MaxAutoMLJobRuntimeInSeconds\": 5400,\n",
    "    },\n",
    "}\n",
    "\n",
    "input_data_config = [\n",
    "    {\n",
    "        \"DataSource\": {\"S3DataSource\": {\"S3DataType\": \"S3Prefix\", \"S3Uri\": \"{}\".format(autopilot_train_s3_uri)}},\n",
    "        \"TargetAttributeName\": \"star_rating\",\n",
    "    }\n",
    "]\n",
    "\n",
    "output_data_config = {\"S3OutputPath\": \"{}\".format(model_output_s3_uri)}"
   ]
  },
  {
   "cell_type": "code",
   "execution_count": 35,
   "id": "a49524dd-672f-4c6c-8b83-4f0c10507cd5",
   "metadata": {
    "tags": []
   },
   "outputs": [],
   "source": [
    "existing_jobs_response = sm.list_auto_ml_jobs()"
   ]
  },
  {
   "cell_type": "code",
   "execution_count": 36,
   "id": "f36e35fb-3a9f-4cb7-be9e-88ba3ebe717c",
   "metadata": {
    "tags": []
   },
   "outputs": [
    {
     "name": "stdout",
     "output_type": "stream",
     "text": [
      "[INFO] You have 0 Autopilot job(s) currently running << Should be 0 jobs.\n"
     ]
    }
   ],
   "source": [
    "num_existing_jobs = 0\n",
    "running_jobs = 0\n",
    "\n",
    "if \"AutoMLJobSummaries\" in existing_jobs_response.keys():\n",
    "    job_list = existing_jobs_response[\"AutoMLJobSummaries\"]\n",
    "    num_existing_jobs = len(job_list)\n",
    "    # print('[INFO] You already created {} Autopilot job(s) in this account.'.format(num_existing_jobs))\n",
    "    for j in job_list:\n",
    "        if \"AutoMLJobStatus\" in j.keys():\n",
    "            if j[\"AutoMLJobStatus\"] == \"InProgress\":\n",
    "                running_jobs = running_jobs + 1\n",
    "    print(\"[INFO] You have {} Autopilot job(s) currently running << Should be 0 jobs.\".format(running_jobs))\n",
    "else:\n",
    "    print(\"[OK] Please continue.\")"
   ]
  },
  {
   "cell_type": "code",
   "execution_count": 37,
   "id": "ca0d2035-47f3-40f4-951c-49f11b0bc878",
   "metadata": {
    "tags": []
   },
   "outputs": [],
   "source": [
    "from time import gmtime, strftime, sleep"
   ]
  },
  {
   "cell_type": "code",
   "execution_count": 38,
   "id": "808e20d4-2f16-4fc0-baf5-4344c5d052ac",
   "metadata": {
    "tags": []
   },
   "outputs": [
    {
     "name": "stdout",
     "output_type": "stream",
     "text": [
      "no stored variable or alias auto_ml_job_name\n",
      "Created AutoMLJobName: automl-dm-03-01-52-28\n"
     ]
    }
   ],
   "source": [
    "%store -r auto_ml_job_name\n",
    "\n",
    "try:\n",
    "    auto_ml_job_name\n",
    "except NameError:\n",
    "    timestamp_suffix = strftime(\"%d-%H-%M-%S\", gmtime())\n",
    "    auto_ml_job_name = \"automl-dm-\" + timestamp_suffix\n",
    "    print(\"Created AutoMLJobName: \" + auto_ml_job_name)"
   ]
  },
  {
   "cell_type": "code",
   "execution_count": 39,
   "id": "ee52a462-6b57-4976-8517-39150f251cb4",
   "metadata": {
    "tags": []
   },
   "outputs": [
    {
     "name": "stdout",
     "output_type": "stream",
     "text": [
      "automl-dm-03-01-52-28\n"
     ]
    }
   ],
   "source": [
    "print(auto_ml_job_name)"
   ]
  },
  {
   "cell_type": "code",
   "execution_count": 40,
   "id": "7962a0a2-6a1c-4997-a6ef-837d3fdb15ae",
   "metadata": {
    "tags": []
   },
   "outputs": [
    {
     "name": "stdout",
     "output_type": "stream",
     "text": [
      "Stored 'auto_ml_job_name' (str)\n"
     ]
    }
   ],
   "source": [
    "%store auto_ml_job_name"
   ]
  },
  {
   "cell_type": "code",
   "execution_count": 41,
   "id": "1ecaf8c4-02f2-4896-bff8-1a743a1eecdc",
   "metadata": {
    "tags": []
   },
   "outputs": [
    {
     "name": "stdout",
     "output_type": "stream",
     "text": [
      "[INFO] You have already launched an Autopilot job. Please continue see the output of this job.\n"
     ]
    }
   ],
   "source": [
    "max_running_jobs = 1\n",
    "\n",
    "if running_jobs < max_running_jobs:  # Limiting to max. 1 Jobs\n",
    "    try:\n",
    "        sm.create_auto_ml_job(\n",
    "            AutoMLJobName=auto_ml_job_name,\n",
    "            InputDataConfig=input_data_config,\n",
    "            OutputDataConfig=output_data_config,\n",
    "            AutoMLJobConfig=job_config,\n",
    "            RoleArn=role,\n",
    "        )\n",
    "        print(\"[OK] Autopilot Job {} created.\".format(auto_ml_job_name))\n",
    "        running_jobs = running_jobs + 1\n",
    "    except:\n",
    "        print(\n",
    "            \"[INFO] You have already launched an Autopilot job. Please continue see the output of this job.\".format(\n",
    "                running_jobs\n",
    "            )\n",
    "        )\n",
    "else:\n",
    "    print(\n",
    "        \"[INFO] You have already launched {} Autopilot running job(s). Please continue see the output of the running job.\".format(\n",
    "            running_jobs\n",
    "        )\n",
    "    )"
   ]
  }
 ],
 "metadata": {
  "availableInstances": [
   {
    "_defaultOrder": 0,
    "_isFastLaunch": true,
    "category": "General purpose",
    "gpuNum": 0,
    "hideHardwareSpecs": false,
    "memoryGiB": 4,
    "name": "ml.t3.medium",
    "vcpuNum": 2
   },
   {
    "_defaultOrder": 1,
    "_isFastLaunch": false,
    "category": "General purpose",
    "gpuNum": 0,
    "hideHardwareSpecs": false,
    "memoryGiB": 8,
    "name": "ml.t3.large",
    "vcpuNum": 2
   },
   {
    "_defaultOrder": 2,
    "_isFastLaunch": false,
    "category": "General purpose",
    "gpuNum": 0,
    "hideHardwareSpecs": false,
    "memoryGiB": 16,
    "name": "ml.t3.xlarge",
    "vcpuNum": 4
   },
   {
    "_defaultOrder": 3,
    "_isFastLaunch": false,
    "category": "General purpose",
    "gpuNum": 0,
    "hideHardwareSpecs": false,
    "memoryGiB": 32,
    "name": "ml.t3.2xlarge",
    "vcpuNum": 8
   },
   {
    "_defaultOrder": 4,
    "_isFastLaunch": true,
    "category": "General purpose",
    "gpuNum": 0,
    "hideHardwareSpecs": false,
    "memoryGiB": 8,
    "name": "ml.m5.large",
    "vcpuNum": 2
   },
   {
    "_defaultOrder": 5,
    "_isFastLaunch": false,
    "category": "General purpose",
    "gpuNum": 0,
    "hideHardwareSpecs": false,
    "memoryGiB": 16,
    "name": "ml.m5.xlarge",
    "vcpuNum": 4
   },
   {
    "_defaultOrder": 6,
    "_isFastLaunch": false,
    "category": "General purpose",
    "gpuNum": 0,
    "hideHardwareSpecs": false,
    "memoryGiB": 32,
    "name": "ml.m5.2xlarge",
    "vcpuNum": 8
   },
   {
    "_defaultOrder": 7,
    "_isFastLaunch": false,
    "category": "General purpose",
    "gpuNum": 0,
    "hideHardwareSpecs": false,
    "memoryGiB": 64,
    "name": "ml.m5.4xlarge",
    "vcpuNum": 16
   },
   {
    "_defaultOrder": 8,
    "_isFastLaunch": false,
    "category": "General purpose",
    "gpuNum": 0,
    "hideHardwareSpecs": false,
    "memoryGiB": 128,
    "name": "ml.m5.8xlarge",
    "vcpuNum": 32
   },
   {
    "_defaultOrder": 9,
    "_isFastLaunch": false,
    "category": "General purpose",
    "gpuNum": 0,
    "hideHardwareSpecs": false,
    "memoryGiB": 192,
    "name": "ml.m5.12xlarge",
    "vcpuNum": 48
   },
   {
    "_defaultOrder": 10,
    "_isFastLaunch": false,
    "category": "General purpose",
    "gpuNum": 0,
    "hideHardwareSpecs": false,
    "memoryGiB": 256,
    "name": "ml.m5.16xlarge",
    "vcpuNum": 64
   },
   {
    "_defaultOrder": 11,
    "_isFastLaunch": false,
    "category": "General purpose",
    "gpuNum": 0,
    "hideHardwareSpecs": false,
    "memoryGiB": 384,
    "name": "ml.m5.24xlarge",
    "vcpuNum": 96
   },
   {
    "_defaultOrder": 12,
    "_isFastLaunch": false,
    "category": "General purpose",
    "gpuNum": 0,
    "hideHardwareSpecs": false,
    "memoryGiB": 8,
    "name": "ml.m5d.large",
    "vcpuNum": 2
   },
   {
    "_defaultOrder": 13,
    "_isFastLaunch": false,
    "category": "General purpose",
    "gpuNum": 0,
    "hideHardwareSpecs": false,
    "memoryGiB": 16,
    "name": "ml.m5d.xlarge",
    "vcpuNum": 4
   },
   {
    "_defaultOrder": 14,
    "_isFastLaunch": false,
    "category": "General purpose",
    "gpuNum": 0,
    "hideHardwareSpecs": false,
    "memoryGiB": 32,
    "name": "ml.m5d.2xlarge",
    "vcpuNum": 8
   },
   {
    "_defaultOrder": 15,
    "_isFastLaunch": false,
    "category": "General purpose",
    "gpuNum": 0,
    "hideHardwareSpecs": false,
    "memoryGiB": 64,
    "name": "ml.m5d.4xlarge",
    "vcpuNum": 16
   },
   {
    "_defaultOrder": 16,
    "_isFastLaunch": false,
    "category": "General purpose",
    "gpuNum": 0,
    "hideHardwareSpecs": false,
    "memoryGiB": 128,
    "name": "ml.m5d.8xlarge",
    "vcpuNum": 32
   },
   {
    "_defaultOrder": 17,
    "_isFastLaunch": false,
    "category": "General purpose",
    "gpuNum": 0,
    "hideHardwareSpecs": false,
    "memoryGiB": 192,
    "name": "ml.m5d.12xlarge",
    "vcpuNum": 48
   },
   {
    "_defaultOrder": 18,
    "_isFastLaunch": false,
    "category": "General purpose",
    "gpuNum": 0,
    "hideHardwareSpecs": false,
    "memoryGiB": 256,
    "name": "ml.m5d.16xlarge",
    "vcpuNum": 64
   },
   {
    "_defaultOrder": 19,
    "_isFastLaunch": false,
    "category": "General purpose",
    "gpuNum": 0,
    "hideHardwareSpecs": false,
    "memoryGiB": 384,
    "name": "ml.m5d.24xlarge",
    "vcpuNum": 96
   },
   {
    "_defaultOrder": 20,
    "_isFastLaunch": false,
    "category": "General purpose",
    "gpuNum": 0,
    "hideHardwareSpecs": true,
    "memoryGiB": 0,
    "name": "ml.geospatial.interactive",
    "supportedImageNames": [
     "sagemaker-geospatial-v1-0"
    ],
    "vcpuNum": 0
   },
   {
    "_defaultOrder": 21,
    "_isFastLaunch": true,
    "category": "Compute optimized",
    "gpuNum": 0,
    "hideHardwareSpecs": false,
    "memoryGiB": 4,
    "name": "ml.c5.large",
    "vcpuNum": 2
   },
   {
    "_defaultOrder": 22,
    "_isFastLaunch": false,
    "category": "Compute optimized",
    "gpuNum": 0,
    "hideHardwareSpecs": false,
    "memoryGiB": 8,
    "name": "ml.c5.xlarge",
    "vcpuNum": 4
   },
   {
    "_defaultOrder": 23,
    "_isFastLaunch": false,
    "category": "Compute optimized",
    "gpuNum": 0,
    "hideHardwareSpecs": false,
    "memoryGiB": 16,
    "name": "ml.c5.2xlarge",
    "vcpuNum": 8
   },
   {
    "_defaultOrder": 24,
    "_isFastLaunch": false,
    "category": "Compute optimized",
    "gpuNum": 0,
    "hideHardwareSpecs": false,
    "memoryGiB": 32,
    "name": "ml.c5.4xlarge",
    "vcpuNum": 16
   },
   {
    "_defaultOrder": 25,
    "_isFastLaunch": false,
    "category": "Compute optimized",
    "gpuNum": 0,
    "hideHardwareSpecs": false,
    "memoryGiB": 72,
    "name": "ml.c5.9xlarge",
    "vcpuNum": 36
   },
   {
    "_defaultOrder": 26,
    "_isFastLaunch": false,
    "category": "Compute optimized",
    "gpuNum": 0,
    "hideHardwareSpecs": false,
    "memoryGiB": 96,
    "name": "ml.c5.12xlarge",
    "vcpuNum": 48
   },
   {
    "_defaultOrder": 27,
    "_isFastLaunch": false,
    "category": "Compute optimized",
    "gpuNum": 0,
    "hideHardwareSpecs": false,
    "memoryGiB": 144,
    "name": "ml.c5.18xlarge",
    "vcpuNum": 72
   },
   {
    "_defaultOrder": 28,
    "_isFastLaunch": false,
    "category": "Compute optimized",
    "gpuNum": 0,
    "hideHardwareSpecs": false,
    "memoryGiB": 192,
    "name": "ml.c5.24xlarge",
    "vcpuNum": 96
   },
   {
    "_defaultOrder": 29,
    "_isFastLaunch": true,
    "category": "Accelerated computing",
    "gpuNum": 1,
    "hideHardwareSpecs": false,
    "memoryGiB": 16,
    "name": "ml.g4dn.xlarge",
    "vcpuNum": 4
   },
   {
    "_defaultOrder": 30,
    "_isFastLaunch": false,
    "category": "Accelerated computing",
    "gpuNum": 1,
    "hideHardwareSpecs": false,
    "memoryGiB": 32,
    "name": "ml.g4dn.2xlarge",
    "vcpuNum": 8
   },
   {
    "_defaultOrder": 31,
    "_isFastLaunch": false,
    "category": "Accelerated computing",
    "gpuNum": 1,
    "hideHardwareSpecs": false,
    "memoryGiB": 64,
    "name": "ml.g4dn.4xlarge",
    "vcpuNum": 16
   },
   {
    "_defaultOrder": 32,
    "_isFastLaunch": false,
    "category": "Accelerated computing",
    "gpuNum": 1,
    "hideHardwareSpecs": false,
    "memoryGiB": 128,
    "name": "ml.g4dn.8xlarge",
    "vcpuNum": 32
   },
   {
    "_defaultOrder": 33,
    "_isFastLaunch": false,
    "category": "Accelerated computing",
    "gpuNum": 4,
    "hideHardwareSpecs": false,
    "memoryGiB": 192,
    "name": "ml.g4dn.12xlarge",
    "vcpuNum": 48
   },
   {
    "_defaultOrder": 34,
    "_isFastLaunch": false,
    "category": "Accelerated computing",
    "gpuNum": 1,
    "hideHardwareSpecs": false,
    "memoryGiB": 256,
    "name": "ml.g4dn.16xlarge",
    "vcpuNum": 64
   },
   {
    "_defaultOrder": 35,
    "_isFastLaunch": false,
    "category": "Accelerated computing",
    "gpuNum": 1,
    "hideHardwareSpecs": false,
    "memoryGiB": 61,
    "name": "ml.p3.2xlarge",
    "vcpuNum": 8
   },
   {
    "_defaultOrder": 36,
    "_isFastLaunch": false,
    "category": "Accelerated computing",
    "gpuNum": 4,
    "hideHardwareSpecs": false,
    "memoryGiB": 244,
    "name": "ml.p3.8xlarge",
    "vcpuNum": 32
   },
   {
    "_defaultOrder": 37,
    "_isFastLaunch": false,
    "category": "Accelerated computing",
    "gpuNum": 8,
    "hideHardwareSpecs": false,
    "memoryGiB": 488,
    "name": "ml.p3.16xlarge",
    "vcpuNum": 64
   },
   {
    "_defaultOrder": 38,
    "_isFastLaunch": false,
    "category": "Accelerated computing",
    "gpuNum": 8,
    "hideHardwareSpecs": false,
    "memoryGiB": 768,
    "name": "ml.p3dn.24xlarge",
    "vcpuNum": 96
   },
   {
    "_defaultOrder": 39,
    "_isFastLaunch": false,
    "category": "Memory Optimized",
    "gpuNum": 0,
    "hideHardwareSpecs": false,
    "memoryGiB": 16,
    "name": "ml.r5.large",
    "vcpuNum": 2
   },
   {
    "_defaultOrder": 40,
    "_isFastLaunch": false,
    "category": "Memory Optimized",
    "gpuNum": 0,
    "hideHardwareSpecs": false,
    "memoryGiB": 32,
    "name": "ml.r5.xlarge",
    "vcpuNum": 4
   },
   {
    "_defaultOrder": 41,
    "_isFastLaunch": false,
    "category": "Memory Optimized",
    "gpuNum": 0,
    "hideHardwareSpecs": false,
    "memoryGiB": 64,
    "name": "ml.r5.2xlarge",
    "vcpuNum": 8
   },
   {
    "_defaultOrder": 42,
    "_isFastLaunch": false,
    "category": "Memory Optimized",
    "gpuNum": 0,
    "hideHardwareSpecs": false,
    "memoryGiB": 128,
    "name": "ml.r5.4xlarge",
    "vcpuNum": 16
   },
   {
    "_defaultOrder": 43,
    "_isFastLaunch": false,
    "category": "Memory Optimized",
    "gpuNum": 0,
    "hideHardwareSpecs": false,
    "memoryGiB": 256,
    "name": "ml.r5.8xlarge",
    "vcpuNum": 32
   },
   {
    "_defaultOrder": 44,
    "_isFastLaunch": false,
    "category": "Memory Optimized",
    "gpuNum": 0,
    "hideHardwareSpecs": false,
    "memoryGiB": 384,
    "name": "ml.r5.12xlarge",
    "vcpuNum": 48
   },
   {
    "_defaultOrder": 45,
    "_isFastLaunch": false,
    "category": "Memory Optimized",
    "gpuNum": 0,
    "hideHardwareSpecs": false,
    "memoryGiB": 512,
    "name": "ml.r5.16xlarge",
    "vcpuNum": 64
   },
   {
    "_defaultOrder": 46,
    "_isFastLaunch": false,
    "category": "Memory Optimized",
    "gpuNum": 0,
    "hideHardwareSpecs": false,
    "memoryGiB": 768,
    "name": "ml.r5.24xlarge",
    "vcpuNum": 96
   },
   {
    "_defaultOrder": 47,
    "_isFastLaunch": false,
    "category": "Accelerated computing",
    "gpuNum": 1,
    "hideHardwareSpecs": false,
    "memoryGiB": 16,
    "name": "ml.g5.xlarge",
    "vcpuNum": 4
   },
   {
    "_defaultOrder": 48,
    "_isFastLaunch": false,
    "category": "Accelerated computing",
    "gpuNum": 1,
    "hideHardwareSpecs": false,
    "memoryGiB": 32,
    "name": "ml.g5.2xlarge",
    "vcpuNum": 8
   },
   {
    "_defaultOrder": 49,
    "_isFastLaunch": false,
    "category": "Accelerated computing",
    "gpuNum": 1,
    "hideHardwareSpecs": false,
    "memoryGiB": 64,
    "name": "ml.g5.4xlarge",
    "vcpuNum": 16
   },
   {
    "_defaultOrder": 50,
    "_isFastLaunch": false,
    "category": "Accelerated computing",
    "gpuNum": 1,
    "hideHardwareSpecs": false,
    "memoryGiB": 128,
    "name": "ml.g5.8xlarge",
    "vcpuNum": 32
   },
   {
    "_defaultOrder": 51,
    "_isFastLaunch": false,
    "category": "Accelerated computing",
    "gpuNum": 1,
    "hideHardwareSpecs": false,
    "memoryGiB": 256,
    "name": "ml.g5.16xlarge",
    "vcpuNum": 64
   },
   {
    "_defaultOrder": 52,
    "_isFastLaunch": false,
    "category": "Accelerated computing",
    "gpuNum": 4,
    "hideHardwareSpecs": false,
    "memoryGiB": 192,
    "name": "ml.g5.12xlarge",
    "vcpuNum": 48
   },
   {
    "_defaultOrder": 53,
    "_isFastLaunch": false,
    "category": "Accelerated computing",
    "gpuNum": 4,
    "hideHardwareSpecs": false,
    "memoryGiB": 384,
    "name": "ml.g5.24xlarge",
    "vcpuNum": 96
   },
   {
    "_defaultOrder": 54,
    "_isFastLaunch": false,
    "category": "Accelerated computing",
    "gpuNum": 8,
    "hideHardwareSpecs": false,
    "memoryGiB": 768,
    "name": "ml.g5.48xlarge",
    "vcpuNum": 192
   }
  ],
  "instance_type": "ml.t3.medium",
  "kernelspec": {
   "display_name": "Python 3 (Data Science)",
   "language": "python",
   "name": "python3__SAGEMAKER_INTERNAL__arn:aws:sagemaker:us-east-1:081325390199:image/datascience-1.0"
  },
  "language_info": {
   "codemirror_mode": {
    "name": "ipython",
    "version": 3
   },
   "file_extension": ".py",
   "mimetype": "text/x-python",
   "name": "python",
   "nbconvert_exporter": "python",
   "pygments_lexer": "ipython3",
   "version": "3.7.10"
  }
 },
 "nbformat": 4,
 "nbformat_minor": 5
}
