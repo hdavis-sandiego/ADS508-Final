{
 "cells": [
  {
   "cell_type": "markdown",
   "metadata": {},
   "source": [
    "# Checking Pre-Requisites From Previous Notebook"
   ]
  },
  {
   "cell_type": "code",
   "execution_count": 2,
   "metadata": {
    "tags": []
   },
   "outputs": [],
   "source": [
    "import boto3\n",
    "import sagemaker\n",
    "import csv\n",
    "import pandas as pd\n",
    "\n",
    "sagemaker_session = sagemaker.Session()\n",
    "role = sagemaker.get_execution_role()\n",
    "bucket = sagemaker_session.default_bucket()\n",
    "region = boto3.Session().region_name\n",
    "\n",
    "sm = boto3.Session().client(service_name=\"sagemaker\", region_name=region)"
   ]
  },
  {
   "cell_type": "code",
   "execution_count": 3,
   "metadata": {
    "tags": []
   },
   "outputs": [
    {
     "name": "stdout",
     "output_type": "stream",
     "text": [
      "download failed: s3://aurelia-resort-data/model_train/XGboost Forecast//output/xgboost-2023-04-03-21-24-52-673/profiler-output/framework/training_job_end.ts to data_csv/XGboost Forecast/output/xgboost-2023-04-03-21-24-52-673/profiler-output/framework/training_job_end.ts An error occurred (AccessDenied) when calling the GetObject operation: The ciphertext refers to a customer master key that does not exist, does not exist in this region, or you are not allowed to access.\n",
      "download failed: s3://aurelia-resort-data/model_train/XGboost Forecast//output/xgboost-2023-04-03-21-24-52-673/profiler-output/system/incremental/2023040321/1680557220.algo-1.json to data_csv/XGboost Forecast/output/xgboost-2023-04-03-21-24-52-673/profiler-output/system/incremental/2023040321/1680557220.algo-1.json An error occurred (AccessDenied) when calling the GetObject operation: The ciphertext refers to a customer master key that does not exist, does not exist in this region, or you are not allowed to access.\n",
      "download failed: s3://aurelia-resort-data/model_train/XGboost Forecast//output/xgboost-2023-04-03-21-24-52-673/profiler-output/system/incremental/2023040321/1680557160.algo-1.json to data_csv/XGboost Forecast/output/xgboost-2023-04-03-21-24-52-673/profiler-output/system/incremental/2023040321/1680557160.algo-1.json An error occurred (AccessDenied) when calling the GetObject operation: The ciphertext refers to a customer master key that does not exist, does not exist in this region, or you are not allowed to access.\n",
      "download failed: s3://aurelia-resort-data/model_train/XGboost Forecast//output/xgboost-2023-04-03-21-29-45-722/profiler-output/system/training_job_end.ts to data_csv/XGboost Forecast/output/xgboost-2023-04-03-21-29-45-722/profiler-output/system/training_job_end.ts An error occurred (AccessDenied) when calling the GetObject operation: The ciphertext refers to a customer master key that does not exist, does not exist in this region, or you are not allowed to access.\n",
      "download failed: s3://aurelia-resort-data/model_train/XGboost Forecast//output/xgboost-2023-04-03-21-38-52-753/profiler-output/system/incremental/2023040321/1680558000.algo-1.json to data_csv/XGboost Forecast/output/xgboost-2023-04-03-21-38-52-753/profiler-output/system/incremental/2023040321/1680558000.algo-1.json An error occurred (AccessDenied) when calling the GetObject operation: The ciphertext refers to a customer master key that does not exist, does not exist in this region, or you are not allowed to access.\n",
      "download failed: s3://aurelia-resort-data/model_train/XGboost Forecast//output/xgboost-2023-04-03-21-24-52-673/profiler-output/system/training_job_end.ts to data_csv/XGboost Forecast/output/xgboost-2023-04-03-21-24-52-673/profiler-output/system/training_job_end.ts An error occurred (AccessDenied) when calling the GetObject operation: The ciphertext refers to a customer master key that does not exist, does not exist in this region, or you are not allowed to access.\n",
      "download failed: s3://aurelia-resort-data/model_train/XGboost Forecast//output/xgboost-2023-04-03-21-29-45-722/profiler-output/system/incremental/2023040321/1680557460.algo-1.json to data_csv/XGboost Forecast/output/xgboost-2023-04-03-21-29-45-722/profiler-output/system/incremental/2023040321/1680557460.algo-1.json An error occurred (AccessDenied) when calling the GetObject operation: The ciphertext refers to a customer master key that does not exist, does not exist in this region, or you are not allowed to access.\n",
      "download failed: s3://aurelia-resort-data/model_train/XGboost Forecast//output/xgboost-2023-04-03-21-38-52-753/profiler-output/system/training_job_end.ts to data_csv/XGboost Forecast/output/xgboost-2023-04-03-21-38-52-753/profiler-output/system/training_job_end.ts An error occurred (AccessDenied) when calling the GetObject operation: The ciphertext refers to a customer master key that does not exist, does not exist in this region, or you are not allowed to access.\n",
      "download failed: s3://aurelia-resort-data/model_train/XGboost Forecast//output/xgboost-2023-04-03-21-38-52-753/profiler-output/system/incremental/2023040321/1680558060.algo-1.json to data_csv/XGboost Forecast/output/xgboost-2023-04-03-21-38-52-753/profiler-output/system/incremental/2023040321/1680558060.algo-1.json An error occurred (AccessDenied) when calling the GetObject operation: The ciphertext refers to a customer master key that does not exist, does not exist in this region, or you are not allowed to access.\n",
      "download failed: s3://aurelia-resort-data/model_train/XGboost Forecast//output/xgboost-2023-04-03-21-38-52-753/profiler-output/system/incremental/2023040321/1680557940.algo-1.json to data_csv/XGboost Forecast/output/xgboost-2023-04-03-21-38-52-753/profiler-output/system/incremental/2023040321/1680557940.algo-1.json An error occurred (AccessDenied) when calling the GetObject operation: The ciphertext refers to a customer master key that does not exist, does not exist in this region, or you are not allowed to access.\n",
      "download failed: s3://aurelia-resort-data/model_train/XGboost Forecast//output/xgboost-2023-04-03-21-38-52-753/profiler-output/framework/training_job_end.ts to data_csv/XGboost Forecast/output/xgboost-2023-04-03-21-38-52-753/profiler-output/framework/training_job_end.ts An error occurred (AccessDenied) when calling the GetObject operation: The ciphertext refers to a customer master key that does not exist, does not exist in this region, or you are not allowed to access.\n",
      "download failed: s3://aurelia-resort-data/model_train/XGboost Forecast//output/xgboost-2023-04-03-22-30-51-083/profiler-output/system/training_job_end.ts to data_csv/XGboost Forecast/output/xgboost-2023-04-03-22-30-51-083/profiler-output/system/training_job_end.ts An error occurred (AccessDenied) when calling the GetObject operation: The ciphertext refers to a customer master key that does not exist, does not exist in this region, or you are not allowed to access.\n",
      "download failed: s3://aurelia-resort-data/model_train/XGboost Forecast//output/xgboost-2023-04-03-22-30-51-083/profiler-output/framework/training_job_end.ts to data_csv/XGboost Forecast/output/xgboost-2023-04-03-22-30-51-083/profiler-output/framework/training_job_end.ts An error occurred (AccessDenied) when calling the GetObject operation: The ciphertext refers to a customer master key that does not exist, does not exist in this region, or you are not allowed to access.\n",
      "download failed: s3://aurelia-resort-data/model_train/XGboost Forecast//output/xgboost-2023-04-03-21-29-45-722/profiler-output/framework/training_job_end.ts to data_csv/XGboost Forecast/output/xgboost-2023-04-03-21-29-45-722/profiler-output/framework/training_job_end.ts An error occurred (AccessDenied) when calling the GetObject operation: The ciphertext refers to a customer master key that does not exist, does not exist in this region, or you are not allowed to access.\n",
      "download failed: s3://aurelia-resort-data/model_train/XGboost Forecast//output/xgboost-2023-04-03-21-29-45-722/profiler-output/system/incremental/2023040321/1680557520.algo-1.json to data_csv/XGboost Forecast/output/xgboost-2023-04-03-21-29-45-722/profiler-output/system/incremental/2023040321/1680557520.algo-1.json An error occurred (AccessDenied) when calling the GetObject operation: The ciphertext refers to a customer master key that does not exist, does not exist in this region, or you are not allowed to access.\n",
      "download failed: s3://aurelia-resort-data/model_train/XGboost Forecast//output/xgboost-2023-04-03-22-39-30-352/profiler-output/system/training_job_end.ts to data_csv/XGboost Forecast/output/xgboost-2023-04-03-22-39-30-352/profiler-output/system/training_job_end.ts An error occurred (AccessDenied) when calling the GetObject operation: The ciphertext refers to a customer master key that does not exist, does not exist in this region, or you are not allowed to access.\n",
      "download failed: s3://aurelia-resort-data/model_train/XGboost Forecast//output/xgboost-2023-04-03-22-39-30-352/profiler-output/framework/training_job_end.ts to data_csv/XGboost Forecast/output/xgboost-2023-04-03-22-39-30-352/profiler-output/framework/training_job_end.ts An error occurred (AccessDenied) when calling the GetObject operation: The ciphertext refers to a customer master key that does not exist, does not exist in this region, or you are not allowed to access.\n",
      "download failed: s3://aurelia-resort-data/model_train/XGboost Forecast//output/xgboost-2023-04-03-22-39-30-352/profiler-output/system/incremental/2023040322/1680561720.algo-1.json to data_csv/XGboost Forecast/output/xgboost-2023-04-03-22-39-30-352/profiler-output/system/incremental/2023040322/1680561720.algo-1.json An error occurred (AccessDenied) when calling the GetObject operation: The ciphertext refers to a customer master key that does not exist, does not exist in this region, or you are not allowed to access.\n",
      "download failed: s3://aurelia-resort-data/model_train/XGboost Forecast//output/xgboost-2023-04-03-22-30-51-083/profiler-output/system/incremental/2023040322/1680561120.algo-1.json to data_csv/XGboost Forecast/output/xgboost-2023-04-03-22-30-51-083/profiler-output/system/incremental/2023040322/1680561120.algo-1.json An error occurred (AccessDenied) when calling the GetObject operation: The ciphertext refers to a customer master key that does not exist, does not exist in this region, or you are not allowed to access.\n",
      "download failed: s3://aurelia-resort-data/model_train/XGboost Forecast//output/xgboost-2023-04-03-22-39-30-352/profiler-output/system/incremental/2023040322/1680561660.algo-1.json to data_csv/XGboost Forecast/output/xgboost-2023-04-03-22-39-30-352/profiler-output/system/incremental/2023040322/1680561660.algo-1.json An error occurred (AccessDenied) when calling the GetObject operation: The ciphertext refers to a customer master key that does not exist, does not exist in this region, or you are not allowed to access.\n",
      "download failed: s3://aurelia-resort-data/model_train/XGboost Forecast//output/xgboost-2023-04-03-22-30-51-083/profiler-output/system/incremental/2023040322/1680561180.algo-1.json to data_csv/XGboost Forecast/output/xgboost-2023-04-03-22-30-51-083/profiler-output/system/incremental/2023040322/1680561180.algo-1.json An error occurred (AccessDenied) when calling the GetObject operation: The ciphertext refers to a customer master key that does not exist, does not exist in this region, or you are not allowed to access.\n",
      "download failed: s3://aurelia-resort-data/model_train/XGboost Forecast//output/xgboost-2023-04-03-22-48-14-556/profiler-output/system/incremental/2023040322/1680562200.algo-1.json to data_csv/XGboost Forecast/output/xgboost-2023-04-03-22-48-14-556/profiler-output/system/incremental/2023040322/1680562200.algo-1.json An error occurred (AccessDenied) when calling the GetObject operation: The ciphertext refers to a customer master key that does not exist, does not exist in this region, or you are not allowed to access.\n",
      "download failed: s3://aurelia-resort-data/model_train/XGboost Forecast//output/xgboost-2023-04-03-22-48-14-556/profiler-output/system/incremental/2023040322/1680562140.algo-1.json to data_csv/XGboost Forecast/output/xgboost-2023-04-03-22-48-14-556/profiler-output/system/incremental/2023040322/1680562140.algo-1.json An error occurred (AccessDenied) when calling the GetObject operation: The ciphertext refers to a customer master key that does not exist, does not exist in this region, or you are not allowed to access.\n",
      "download failed: s3://aurelia-resort-data/model_train/XGboost Forecast//output/xgboost-2023-04-03-22-48-14-556/profiler-output/framework/training_job_end.ts to data_csv/XGboost Forecast/output/xgboost-2023-04-03-22-48-14-556/profiler-output/framework/training_job_end.ts An error occurred (AccessDenied) when calling the GetObject operation: The ciphertext refers to a customer master key that does not exist, does not exist in this region, or you are not allowed to access.\n",
      "download failed: s3://aurelia-resort-data/model_train/XGboost Forecast//output/xgboost-2023-04-03-22-48-14-556/profiler-output/system/training_job_end.ts to data_csv/XGboost Forecast/output/xgboost-2023-04-03-22-48-14-556/profiler-output/system/training_job_end.ts An error occurred (AccessDenied) when calling the GetObject operation: The ciphertext refers to a customer master key that does not exist, does not exist in this region, or you are not allowed to access.\n",
      "download failed: s3://aurelia-resort-data/model_train/XGboost Forecast//output/xgboost-2023-04-03-22-50-10-111/profiler-output/framework/training_job_end.ts to data_csv/XGboost Forecast/output/xgboost-2023-04-03-22-50-10-111/profiler-output/framework/training_job_end.ts An error occurred (AccessDenied) when calling the GetObject operation: The ciphertext refers to a customer master key that does not exist, does not exist in this region, or you are not allowed to access.\n",
      "download failed: s3://aurelia-resort-data/model_train/XGboost Forecast//output/xgboost-2023-04-03-22-50-10-111/profiler-output/system/training_job_end.ts to data_csv/XGboost Forecast/output/xgboost-2023-04-03-22-50-10-111/profiler-output/system/training_job_end.ts An error occurred (AccessDenied) when calling the GetObject operation: The ciphertext refers to a customer master key that does not exist, does not exist in this region, or you are not allowed to access.\n",
      "download failed: s3://aurelia-resort-data/model_train/XGboost Forecast//output/xgboost-2023-04-03-22-50-10-111/profiler-output/system/incremental/2023040322/1680562260.algo-1.json to data_csv/XGboost Forecast/output/xgboost-2023-04-03-22-50-10-111/profiler-output/system/incremental/2023040322/1680562260.algo-1.json An error occurred (AccessDenied) when calling the GetObject operation: The ciphertext refers to a customer master key that does not exist, does not exist in this region, or you are not allowed to access.\n",
      "download failed: s3://aurelia-resort-data/model_train/XGboost Forecast//output/xgboost-2023-04-03-22-50-10-111/profiler-output/system/incremental/2023040322/1680562320.algo-1.json to data_csv/XGboost Forecast/output/xgboost-2023-04-03-22-50-10-111/profiler-output/system/incremental/2023040322/1680562320.algo-1.json An error occurred (AccessDenied) when calling the GetObject operation: The ciphertext refers to a customer master key that does not exist, does not exist in this region, or you are not allowed to access.\n",
      "download failed: s3://aurelia-resort-data/model_train/XGboost Forecast//output/xgboost-2023-04-03-23-08-17-253/profiler-output/framework/training_job_end.ts to data_csv/XGboost Forecast/output/xgboost-2023-04-03-23-08-17-253/profiler-output/framework/training_job_end.ts An error occurred (AccessDenied) when calling the GetObject operation: The ciphertext refers to a customer master key that does not exist, does not exist in this region, or you are not allowed to access.\n",
      "download failed: s3://aurelia-resort-data/model_train/XGboost Forecast//output/xgboost-2023-04-03-23-08-17-253/profiler-output/system/training_job_end.ts to data_csv/XGboost Forecast/output/xgboost-2023-04-03-23-08-17-253/profiler-output/system/training_job_end.ts An error occurred (AccessDenied) when calling the GetObject operation: The ciphertext refers to a customer master key that does not exist, does not exist in this region, or you are not allowed to access.\n",
      "download failed: s3://aurelia-resort-data/model_train/XGboost Forecast//output/xgboost-2023-04-03-22-39-30-352/profiler-output/system/incremental/2023040322/1680561600.algo-1.json to data_csv/XGboost Forecast/output/xgboost-2023-04-03-22-39-30-352/profiler-output/system/incremental/2023040322/1680561600.algo-1.json An error occurred (AccessDenied) when calling the GetObject operation: The ciphertext refers to a customer master key that does not exist, does not exist in this region, or you are not allowed to access.\n",
      "download failed: s3://aurelia-resort-data/model_train/XGboost Forecast//output/xgboost-2023-04-03-23-08-17-253/profiler-output/system/incremental/2023040323/1680563340.algo-1.json to data_csv/XGboost Forecast/output/xgboost-2023-04-03-23-08-17-253/profiler-output/system/incremental/2023040323/1680563340.algo-1.json An error occurred (AccessDenied) when calling the GetObject operation: The ciphertext refers to a customer master key that does not exist, does not exist in this region, or you are not allowed to access.\n",
      "download failed: s3://aurelia-resort-data/model_train/XGboost Forecast//output/xgboost-2023-04-03-23-00-00-445/profiler-output/system/incremental/2023040323/1680563040.algo-1.json to data_csv/XGboost Forecast/output/xgboost-2023-04-03-23-00-00-445/profiler-output/system/incremental/2023040323/1680563040.algo-1.json An error occurred (AccessDenied) when calling the GetObject operation: The ciphertext refers to a customer master key that does not exist, does not exist in this region, or you are not allowed to access.\n",
      "download failed: s3://aurelia-resort-data/model_train/XGboost Forecast//output/xgboost-2023-04-03-23-08-17-253/profiler-output/system/incremental/2023040323/1680563400.algo-1.json to data_csv/XGboost Forecast/output/xgboost-2023-04-03-23-08-17-253/profiler-output/system/incremental/2023040323/1680563400.algo-1.json An error occurred (AccessDenied) when calling the GetObject operation: The ciphertext refers to a customer master key that does not exist, does not exist in this region, or you are not allowed to access.\n",
      "download failed: s3://aurelia-resort-data/model_train/XGboost Forecast//output/xgboost-2023-04-03-23-14-32-757/profiler-output/system/incremental/2023040323/1680563880.algo-1.json to data_csv/XGboost Forecast/output/xgboost-2023-04-03-23-14-32-757/profiler-output/system/incremental/2023040323/1680563880.algo-1.json An error occurred (AccessDenied) when calling the GetObject operation: The ciphertext refers to a customer master key that does not exist, does not exist in this region, or you are not allowed to access.\n",
      "download failed: s3://aurelia-resort-data/model_train/XGboost Forecast//output/xgboost-2023-04-03-23-00-00-445/profiler-output/framework/training_job_end.ts to data_csv/XGboost Forecast/output/xgboost-2023-04-03-23-00-00-445/profiler-output/framework/training_job_end.ts An error occurred (AccessDenied) when calling the GetObject operation: The ciphertext refers to a customer master key that does not exist, does not exist in this region, or you are not allowed to access.\n",
      "download failed: s3://aurelia-resort-data/model_train/XGboost Forecast//output/xgboost-2023-04-03-23-14-32-757/profiler-output/system/training_job_end.ts to data_csv/XGboost Forecast/output/xgboost-2023-04-03-23-14-32-757/profiler-output/system/training_job_end.ts An error occurred (AccessDenied) when calling the GetObject operation: The ciphertext refers to a customer master key that does not exist, does not exist in this region, or you are not allowed to access.\n",
      "download failed: s3://aurelia-resort-data/model_train/XGboost Forecast//output/xgboost-2023-04-03-23-08-17-253/profiler-output/system/incremental/2023040323/1680563460.algo-1.json to data_csv/XGboost Forecast/output/xgboost-2023-04-03-23-08-17-253/profiler-output/system/incremental/2023040323/1680563460.algo-1.json An error occurred (AccessDenied) when calling the GetObject operation: The ciphertext refers to a customer master key that does not exist, does not exist in this region, or you are not allowed to access.\n",
      "download failed: s3://aurelia-resort-data/model_train/XGboost Forecast//output/xgboost-2023-04-03-23-14-32-757/profiler-output/framework/training_job_end.ts to data_csv/XGboost Forecast/output/xgboost-2023-04-03-23-14-32-757/profiler-output/framework/training_job_end.ts An error occurred (AccessDenied) when calling the GetObject operation: The ciphertext refers to a customer master key that does not exist, does not exist in this region, or you are not allowed to access.\n",
      "download failed: s3://aurelia-resort-data/model_train/XGboost Forecast//output/xgboost-2023-04-03-23-00-00-445/profiler-output/system/training_job_end.ts to data_csv/XGboost Forecast/output/xgboost-2023-04-03-23-00-00-445/profiler-output/system/training_job_end.ts An error occurred (AccessDenied) when calling the GetObject operation: The ciphertext refers to a customer master key that does not exist, does not exist in this region, or you are not allowed to access.\n",
      "download failed: s3://aurelia-resort-data/model_train/XGboost Forecast//output/xgboost-2023-04-03-23-14-32-757/profiler-output/system/incremental/2023040323/1680563820.algo-1.json to data_csv/XGboost Forecast/output/xgboost-2023-04-03-23-14-32-757/profiler-output/system/incremental/2023040323/1680563820.algo-1.json An error occurred (AccessDenied) when calling the GetObject operation: The ciphertext refers to a customer master key that does not exist, does not exist in this region, or you are not allowed to access.\n",
      "download failed: s3://aurelia-resort-data/model_train/XGboost Forecast//output/xgboost-2023-04-03-23-14-32-757/profiler-output/system/incremental/2023040323/1680563760.algo-1.json to data_csv/XGboost Forecast/output/xgboost-2023-04-03-23-14-32-757/profiler-output/system/incremental/2023040323/1680563760.algo-1.json An error occurred (AccessDenied) when calling the GetObject operation: The ciphertext refers to a customer master key that does not exist, does not exist in this region, or you are not allowed to access.\n",
      "download failed: s3://aurelia-resort-data/model_train/XGboost Forecast//output/xgboost-2023-04-03-23-20-13-570/profiler-output/framework/training_job_end.ts to data_csv/XGboost Forecast/output/xgboost-2023-04-03-23-20-13-570/profiler-output/framework/training_job_end.ts An error occurred (AccessDenied) when calling the GetObject operation: The ciphertext refers to a customer master key that does not exist, does not exist in this region, or you are not allowed to access.\n",
      "download failed: s3://aurelia-resort-data/model_train/XGboost Forecast//output/xgboost-2023-04-03-23-20-13-570/profiler-output/system/incremental/2023040323/1680564120.algo-1.json to data_csv/XGboost Forecast/output/xgboost-2023-04-03-23-20-13-570/profiler-output/system/incremental/2023040323/1680564120.algo-1.json An error occurred (AccessDenied) when calling the GetObject operation: The ciphertext refers to a customer master key that does not exist, does not exist in this region, or you are not allowed to access.\n",
      "download failed: s3://aurelia-resort-data/model_train/XGboost Forecast//output/xgboost-2023-04-03-23-25-52-138/profiler-output/framework/training_job_end.ts to data_csv/XGboost Forecast/output/xgboost-2023-04-03-23-25-52-138/profiler-output/framework/training_job_end.ts An error occurred (AccessDenied) when calling the GetObject operation: The ciphertext refers to a customer master key that does not exist, does not exist in this region, or you are not allowed to access.\n",
      "download failed: s3://aurelia-resort-data/model_train/XGboost Forecast//output/xgboost-2023-04-03-23-25-52-138/profiler-output/system/incremental/2023040323/1680564540.algo-1.json to data_csv/XGboost Forecast/output/xgboost-2023-04-03-23-25-52-138/profiler-output/system/incremental/2023040323/1680564540.algo-1.json An error occurred (AccessDenied) when calling the GetObject operation: The ciphertext refers to a customer master key that does not exist, does not exist in this region, or you are not allowed to access.\n",
      "download failed: s3://aurelia-resort-data/model_train/XGboost Forecast//output/xgboost-2023-04-03-23-25-52-138/output/model.tar.gz to data_csv/XGboost Forecast/output/xgboost-2023-04-03-23-25-52-138/output/model.tar.gz An error occurred (AccessDenied) when calling the GetObject operation: The ciphertext refers to a customer master key that does not exist, does not exist in this region, or you are not allowed to access.\n",
      "download failed: s3://aurelia-resort-data/model_train/XGboost Forecast//output/xgboost-2023-04-03-23-25-52-138/profiler-output/system/incremental/2023040323/1680564420.algo-1.json to data_csv/XGboost Forecast/output/xgboost-2023-04-03-23-25-52-138/profiler-output/system/incremental/2023040323/1680564420.algo-1.json An error occurred (AccessDenied) when calling the GetObject operation: The ciphertext refers to a customer master key that does not exist, does not exist in this region, or you are not allowed to access.\n",
      "download failed: s3://aurelia-resort-data/model_train/XGboost Forecast//output/xgboost-2023-04-03-23-25-52-138/profiler-output/system/training_job_end.ts to data_csv/XGboost Forecast/output/xgboost-2023-04-03-23-25-52-138/profiler-output/system/training_job_end.ts An error occurred (AccessDenied) when calling the GetObject operation: The ciphertext refers to a customer master key that does not exist, does not exist in this region, or you are not allowed to access.\n",
      "download failed: s3://aurelia-resort-data/model_train/XGboost Forecast//output/xgboost-2023-04-03-23-20-13-570/profiler-output/system/incremental/2023040323/1680564180.algo-1.json to data_csv/XGboost Forecast/output/xgboost-2023-04-03-23-20-13-570/profiler-output/system/incremental/2023040323/1680564180.algo-1.json An error occurred (AccessDenied) when calling the GetObject operation: The ciphertext refers to a customer master key that does not exist, does not exist in this region, or you are not allowed to access.\n",
      "download failed: s3://aurelia-resort-data/model_train/XGboost Forecast//output/xgboost-2023-04-03-23-46-42-658/profiler-output/system/incremental/2023040323/1680565680.algo-1.json to data_csv/XGboost Forecast/output/xgboost-2023-04-03-23-46-42-658/profiler-output/system/incremental/2023040323/1680565680.algo-1.json An error occurred (AccessDenied) when calling the GetObject operation: The ciphertext refers to a customer master key that does not exist, does not exist in this region, or you are not allowed to access.\n",
      "download failed: s3://aurelia-resort-data/model_train/XGboost Forecast//output/xgboost-2023-04-03-23-20-13-570/profiler-output/system/incremental/2023040323/1680564060.algo-1.json to data_csv/XGboost Forecast/output/xgboost-2023-04-03-23-20-13-570/profiler-output/system/incremental/2023040323/1680564060.algo-1.json An error occurred (AccessDenied) when calling the GetObject operation: The ciphertext refers to a customer master key that does not exist, does not exist in this region, or you are not allowed to access.\n",
      "download failed: s3://aurelia-resort-data/model_train/XGboost Forecast//output/xgboost-2023-04-03-23-46-42-658/profiler-output/framework/training_job_end.ts to data_csv/XGboost Forecast/output/xgboost-2023-04-03-23-46-42-658/profiler-output/framework/training_job_end.ts An error occurred (AccessDenied) when calling the GetObject operation: The ciphertext refers to a customer master key that does not exist, does not exist in this region, or you are not allowed to access.\n",
      "download failed: s3://aurelia-resort-data/model_train/XGboost Forecast//output/xgboost-2023-04-03-23-46-42-658/profiler-output/system/training_job_end.ts to data_csv/XGboost Forecast/output/xgboost-2023-04-03-23-46-42-658/profiler-output/system/training_job_end.ts An error occurred (AccessDenied) when calling the GetObject operation: The ciphertext refers to a customer master key that does not exist, does not exist in this region, or you are not allowed to access.\n",
      "download failed: s3://aurelia-resort-data/model_train/XGboost Forecast//output/xgboost-2023-04-03-23-25-52-138/profiler-output/system/incremental/2023040323/1680564480.algo-1.json to data_csv/XGboost Forecast/output/xgboost-2023-04-03-23-25-52-138/profiler-output/system/incremental/2023040323/1680564480.algo-1.json An error occurred (AccessDenied) when calling the GetObject operation: The ciphertext refers to a customer master key that does not exist, does not exist in this region, or you are not allowed to access.\n",
      "download failed: s3://aurelia-resort-data/model_train/amazon_forecast/forecasting-deepar-2023-04-03-05-17-41-535/debug-output/training_job_end.ts to data_csv/amazon_forecast/forecasting-deepar-2023-04-03-05-17-41-535/debug-output/training_job_end.ts An error occurred (AccessDenied) when calling the GetObject operation: The ciphertext refers to a customer master key that does not exist, does not exist in this region, or you are not allowed to access.\n",
      "download failed: s3://aurelia-resort-data/model_train/XGboost Forecast//output/xgboost-2023-04-03-23-46-42-658/profiler-output/system/incremental/2023040323/1680565740.algo-1.json to data_csv/XGboost Forecast/output/xgboost-2023-04-03-23-46-42-658/profiler-output/system/incremental/2023040323/1680565740.algo-1.json An error occurred (AccessDenied) when calling the GetObject operation: The ciphertext refers to a customer master key that does not exist, does not exist in this region, or you are not allowed to access.\n",
      "download failed: s3://aurelia-resort-data/model_train/amazon_forecast/forecasting-deepar-2023-04-03-05-17-41-535/profiler-output/framework/training_job_end.ts to data_csv/amazon_forecast/forecasting-deepar-2023-04-03-05-17-41-535/profiler-output/framework/training_job_end.ts An error occurred (AccessDenied) when calling the GetObject operation: The ciphertext refers to a customer master key that does not exist, does not exist in this region, or you are not allowed to access.\n",
      "download failed: s3://aurelia-resort-data/model_train/amazon_forecast/forecasting-deepar-2023-04-03-05-17-41-535/profiler-output/system/training_job_end.ts to data_csv/amazon_forecast/forecasting-deepar-2023-04-03-05-17-41-535/profiler-output/system/training_job_end.ts An error occurred (AccessDenied) when calling the GetObject operation: The ciphertext refers to a customer master key that does not exist, does not exist in this region, or you are not allowed to access.\n",
      "download failed: s3://aurelia-resort-data/model_train/amazon_forecast/forecasting-deepar-2023-04-03-05-17-41-535/profiler-output/system/incremental/2023040305/1680499260.algo-1.json to data_csv/amazon_forecast/forecasting-deepar-2023-04-03-05-17-41-535/profiler-output/system/incremental/2023040305/1680499260.algo-1.json An error occurred (AccessDenied) when calling the GetObject operation: The ciphertext refers to a customer master key that does not exist, does not exist in this region, or you are not allowed to access.\n",
      "download failed: s3://aurelia-resort-data/model_train/XGboost Forecast//output/xgboost-2023-04-03-23-20-13-570/profiler-output/system/training_job_end.ts to data_csv/XGboost Forecast/output/xgboost-2023-04-03-23-20-13-570/profiler-output/system/training_job_end.ts An error occurred (AccessDenied) when calling the GetObject operation: The ciphertext refers to a customer master key that does not exist, does not exist in this region, or you are not allowed to access.\n",
      "download failed: s3://aurelia-resort-data/model_train/amazon_forecast/forecasting-deepar-2023-04-03-05-17-41-535/profiler-output/system/incremental/2023040305/1680499080.algo-1.json to data_csv/amazon_forecast/forecasting-deepar-2023-04-03-05-17-41-535/profiler-output/system/incremental/2023040305/1680499080.algo-1.json An error occurred (AccessDenied) when calling the GetObject operation: The ciphertext refers to a customer master key that does not exist, does not exist in this region, or you are not allowed to access.\n",
      "download failed: s3://aurelia-resort-data/model_train/amazon_forecast/forecasting-deepar-2023-04-03-05-26-10-347/debug-output/training_job_end.ts to data_csv/amazon_forecast/forecasting-deepar-2023-04-03-05-26-10-347/debug-output/training_job_end.ts An error occurred (AccessDenied) when calling the GetObject operation: The ciphertext refers to a customer master key that does not exist, does not exist in this region, or you are not allowed to access.\n",
      "download failed: s3://aurelia-resort-data/model_train/amazon_forecast/forecasting-deepar-2023-04-03-05-26-10-347/profiler-output/framework/training_job_end.ts to data_csv/amazon_forecast/forecasting-deepar-2023-04-03-05-26-10-347/profiler-output/framework/training_job_end.ts An error occurred (AccessDenied) when calling the GetObject operation: The ciphertext refers to a customer master key that does not exist, does not exist in this region, or you are not allowed to access.\n",
      "download failed: s3://aurelia-resort-data/model_train/amazon_forecast/forecasting-deepar-2023-04-03-05-17-41-535/profiler-output/system/incremental/2023040305/1680499140.algo-1.json to data_csv/amazon_forecast/forecasting-deepar-2023-04-03-05-17-41-535/profiler-output/system/incremental/2023040305/1680499140.algo-1.json An error occurred (AccessDenied) when calling the GetObject operation: The ciphertext refers to a customer master key that does not exist, does not exist in this region, or you are not allowed to access.\n",
      "download failed: s3://aurelia-resort-data/model_train/amazon_forecast/forecasting-deepar-2023-04-03-05-26-10-347/profiler-output/system/incremental/2023040305/1680499680.algo-1.json to data_csv/amazon_forecast/forecasting-deepar-2023-04-03-05-26-10-347/profiler-output/system/incremental/2023040305/1680499680.algo-1.json An error occurred (AccessDenied) when calling the GetObject operation: The ciphertext refers to a customer master key that does not exist, does not exist in this region, or you are not allowed to access.\n",
      "download failed: s3://aurelia-resort-data/model_train/amazon_forecast/forecasting-deepar-2023-04-03-05-26-10-347/profiler-output/system/training_job_end.ts to data_csv/amazon_forecast/forecasting-deepar-2023-04-03-05-26-10-347/profiler-output/system/training_job_end.ts An error occurred (AccessDenied) when calling the GetObject operation: The ciphertext refers to a customer master key that does not exist, does not exist in this region, or you are not allowed to access.\n",
      "download: s3://aurelia-resort-data/model_train/data_csv/test.csv to data_csv/data_csv/test.csv\n",
      "download: s3://aurelia-resort-data/model_train/data_csv/test_nans.csv to data_csv/data_csv/test_nans.csv\n",
      "download failed: s3://aurelia-resort-data/model_train/amazon_forecast/forecasting-deepar-2023-04-03-05-26-10-347/profiler-output/system/incremental/2023040305/1680499740.algo-1.json to data_csv/amazon_forecast/forecasting-deepar-2023-04-03-05-26-10-347/profiler-output/system/incremental/2023040305/1680499740.algo-1.json An error occurred (AccessDenied) when calling the GetObject operation: The ciphertext refers to a customer master key that does not exist, does not exist in this region, or you are not allowed to access.\n",
      "download failed: s3://aurelia-resort-data/model_train/deepAR/output/deepar-hotel-2023-04-02-22-43-53-696/debug-output/training_job_end.ts to data_csv/deepAR/output/deepar-hotel-2023-04-02-22-43-53-696/debug-output/training_job_end.ts An error occurred (AccessDenied) when calling the GetObject operation: The ciphertext refers to a customer master key that does not exist, does not exist in this region, or you are not allowed to access.\n",
      "download failed: s3://aurelia-resort-data/model_train/amazon_forecast/forecasting-deepar-2023-04-03-05-17-41-535/profiler-output/system/incremental/2023040305/1680499200.algo-1.json to data_csv/amazon_forecast/forecasting-deepar-2023-04-03-05-17-41-535/profiler-output/system/incremental/2023040305/1680499200.algo-1.json An error occurred (AccessDenied) when calling the GetObject operation: The ciphertext refers to a customer master key that does not exist, does not exist in this region, or you are not allowed to access.\n",
      "download: s3://aurelia-resort-data/model_train/data_csv/train.csv to data_csv/data_csv/train.csv\n",
      "download failed: s3://aurelia-resort-data/model_train/amazon_forecast/forecasting-deepar-2023-04-03-05-26-10-347/profiler-output/system/incremental/2023040305/1680499620.algo-1.json to data_csv/amazon_forecast/forecasting-deepar-2023-04-03-05-26-10-347/profiler-output/system/incremental/2023040305/1680499620.algo-1.json An error occurred (AccessDenied) when calling the GetObject operation: The ciphertext refers to a customer master key that does not exist, does not exist in this region, or you are not allowed to access.\n",
      "download failed: s3://aurelia-resort-data/model_train/deepAR/output/deepar-hotel-2023-04-02-22-43-53-696/profiler-output/system/incremental/2023040222/1680475500.algo-1.json to data_csv/deepAR/output/deepar-hotel-2023-04-02-22-43-53-696/profiler-output/system/incremental/2023040222/1680475500.algo-1.json An error occurred (AccessDenied) when calling the GetObject operation: The ciphertext refers to a customer master key that does not exist, does not exist in this region, or you are not allowed to access.\n",
      "download: s3://aurelia-resort-data/model_train/data_csv/train_nans.csv to data_csv/data_csv/train_nans.csv\n",
      "download failed: s3://aurelia-resort-data/model_train/deepAR/output/deepar-hotel-2023-04-02-22-43-53-696/profiler-output/system/incremental/2023040222/1680475620.algo-1.json to data_csv/deepAR/output/deepar-hotel-2023-04-02-22-43-53-696/profiler-output/system/incremental/2023040222/1680475620.algo-1.json An error occurred (AccessDenied) when calling the GetObject operation: The ciphertext refers to a customer master key that does not exist, does not exist in this region, or you are not allowed to access.\n",
      "download failed: s3://aurelia-resort-data/model_train/deepAR/output/deepar-hotel-2023-04-02-22-43-53-696/profiler-output/framework/training_job_end.ts to data_csv/deepAR/output/deepar-hotel-2023-04-02-22-43-53-696/profiler-output/framework/training_job_end.ts An error occurred (AccessDenied) when calling the GetObject operation: The ciphertext refers to a customer master key that does not exist, does not exist in this region, or you are not allowed to access.\n",
      "download failed: s3://aurelia-resort-data/model_train/deepAR/output/deepar-hotel-2023-04-02-22-43-53-696/profiler-output/system/incremental/2023040222/1680475560.algo-1.json to data_csv/deepAR/output/deepar-hotel-2023-04-02-22-43-53-696/profiler-output/system/incremental/2023040222/1680475560.algo-1.json An error occurred (AccessDenied) when calling the GetObject operation: The ciphertext refers to a customer master key that does not exist, does not exist in this region, or you are not allowed to access.\n",
      "download failed: s3://aurelia-resort-data/model_train/deepAR/output/deepar-hotel-2023-04-02-22-43-53-696/profiler-output/system/training_job_end.ts to data_csv/deepAR/output/deepar-hotel-2023-04-02-22-43-53-696/profiler-output/system/training_job_end.ts An error occurred (AccessDenied) when calling the GetObject operation: The ciphertext refers to a customer master key that does not exist, does not exist in this region, or you are not allowed to access.\n",
      "download failed: s3://aurelia-resort-data/model_train/deepAR/output/deepar-hotel-2023-04-02-22-49-04-715/debug-output/training_job_end.ts to data_csv/deepAR/output/deepar-hotel-2023-04-02-22-49-04-715/debug-output/training_job_end.ts An error occurred (AccessDenied) when calling the GetObject operation: The ciphertext refers to a customer master key that does not exist, does not exist in this region, or you are not allowed to access.\n",
      "download failed: s3://aurelia-resort-data/model_train/deepAR/output/deepar-hotel-2023-04-02-22-49-04-715/profiler-output/system/training_job_end.ts to data_csv/deepAR/output/deepar-hotel-2023-04-02-22-49-04-715/profiler-output/system/training_job_end.ts An error occurred (AccessDenied) when calling the GetObject operation: The ciphertext refers to a customer master key that does not exist, does not exist in this region, or you are not allowed to access.\n",
      "download failed: s3://aurelia-resort-data/model_train/deepAR/output/deepar-hotel-2023-04-02-22-49-04-715/profiler-output/system/incremental/2023040222/1680475920.algo-1.json to data_csv/deepAR/output/deepar-hotel-2023-04-02-22-49-04-715/profiler-output/system/incremental/2023040222/1680475920.algo-1.json An error occurred (AccessDenied) when calling the GetObject operation: The ciphertext refers to a customer master key that does not exist, does not exist in this region, or you are not allowed to access.\n",
      "download failed: s3://aurelia-resort-data/model_train/deepAR/output/deepar-hotel-2023-04-02-22-49-04-715/profiler-output/system/incremental/2023040222/1680475860.algo-1.json to data_csv/deepAR/output/deepar-hotel-2023-04-02-22-49-04-715/profiler-output/system/incremental/2023040222/1680475860.algo-1.json An error occurred (AccessDenied) when calling the GetObject operation: The ciphertext refers to a customer master key that does not exist, does not exist in this region, or you are not allowed to access.\n",
      "download failed: s3://aurelia-resort-data/model_train/deepAR/output/deepar-hotel-2023-04-02-23-15-32-396/profiler-output/system/incremental/2023040223/1680477360.algo-1.json to data_csv/deepAR/output/deepar-hotel-2023-04-02-23-15-32-396/profiler-output/system/incremental/2023040223/1680477360.algo-1.json An error occurred (AccessDenied) when calling the GetObject operation: The ciphertext refers to a customer master key that does not exist, does not exist in this region, or you are not allowed to access.\n",
      "download failed: s3://aurelia-resort-data/model_train/deepAR/output/deepar-hotel-2023-04-02-22-49-04-715/profiler-output/framework/training_job_end.ts to data_csv/deepAR/output/deepar-hotel-2023-04-02-22-49-04-715/profiler-output/framework/training_job_end.ts An error occurred (AccessDenied) when calling the GetObject operation: The ciphertext refers to a customer master key that does not exist, does not exist in this region, or you are not allowed to access.\n",
      "download failed: s3://aurelia-resort-data/model_train/deepAR/output/deepar-hotel-2023-04-02-22-49-04-715/profiler-output/system/incremental/2023040222/1680475800.algo-1.json to data_csv/deepAR/output/deepar-hotel-2023-04-02-22-49-04-715/profiler-output/system/incremental/2023040222/1680475800.algo-1.json An error occurred (AccessDenied) when calling the GetObject operation: The ciphertext refers to a customer master key that does not exist, does not exist in this region, or you are not allowed to access.\n",
      "download failed: s3://aurelia-resort-data/model_train/deepAR/output/deepar-hotel-2023-04-02-23-25-06-536/debug-output/training_job_end.ts to data_csv/deepAR/output/deepar-hotel-2023-04-02-23-25-06-536/debug-output/training_job_end.ts An error occurred (AccessDenied) when calling the GetObject operation: The ciphertext refers to a customer master key that does not exist, does not exist in this region, or you are not allowed to access.\n",
      "download failed: s3://aurelia-resort-data/model_train/deepAR/output/deepar-hotel-2023-04-02-23-15-32-396/profiler-output/system/incremental/2023040223/1680477480.algo-1.json to data_csv/deepAR/output/deepar-hotel-2023-04-02-23-15-32-396/profiler-output/system/incremental/2023040223/1680477480.algo-1.json An error occurred (AccessDenied) when calling the GetObject operation: The ciphertext refers to a customer master key that does not exist, does not exist in this region, or you are not allowed to access.\n",
      "download failed: s3://aurelia-resort-data/model_train/deepAR/output/deepar-hotel-2023-04-02-23-15-32-396/profiler-output/system/incremental/2023040223/1680477420.algo-1.json to data_csv/deepAR/output/deepar-hotel-2023-04-02-23-15-32-396/profiler-output/system/incremental/2023040223/1680477420.algo-1.json An error occurred (AccessDenied) when calling the GetObject operation: The ciphertext refers to a customer master key that does not exist, does not exist in this region, or you are not allowed to access.\n",
      "download failed: s3://aurelia-resort-data/model_train/deepAR/output/deepar-hotel-2023-04-02-23-15-32-396/profiler-output/system/training_job_end.ts to data_csv/deepAR/output/deepar-hotel-2023-04-02-23-15-32-396/profiler-output/system/training_job_end.ts An error occurred (AccessDenied) when calling the GetObject operation: The ciphertext refers to a customer master key that does not exist, does not exist in this region, or you are not allowed to access.\n",
      "download failed: s3://aurelia-resort-data/model_train/deepAR/output/deepar-hotel-2023-04-02-23-15-32-396/debug-output/training_job_end.ts to data_csv/deepAR/output/deepar-hotel-2023-04-02-23-15-32-396/debug-output/training_job_end.ts An error occurred (AccessDenied) when calling the GetObject operation: The ciphertext refers to a customer master key that does not exist, does not exist in this region, or you are not allowed to access.\n",
      "download failed: s3://aurelia-resort-data/model_train/deepAR/output/deepar-hotel-2023-04-02-23-25-06-536/profiler-output/framework/training_job_end.ts to data_csv/deepAR/output/deepar-hotel-2023-04-02-23-25-06-536/profiler-output/framework/training_job_end.ts An error occurred (AccessDenied) when calling the GetObject operation: The ciphertext refers to a customer master key that does not exist, does not exist in this region, or you are not allowed to access.\n",
      "download failed: s3://aurelia-resort-data/model_train/deepAR/output/deepar-hotel-2023-04-02-23-25-06-536/profiler-output/system/incremental/2023040223/1680478080.algo-1.json to data_csv/deepAR/output/deepar-hotel-2023-04-02-23-25-06-536/profiler-output/system/incremental/2023040223/1680478080.algo-1.json An error occurred (AccessDenied) when calling the GetObject operation: The ciphertext refers to a customer master key that does not exist, does not exist in this region, or you are not allowed to access.\n",
      "download failed: s3://aurelia-resort-data/model_train/deepAR/output/deepar-hotel-2023-04-02-23-25-06-536/profiler-output/system/incremental/2023040223/1680477960.algo-1.json to data_csv/deepAR/output/deepar-hotel-2023-04-02-23-25-06-536/profiler-output/system/incremental/2023040223/1680477960.algo-1.json An error occurred (AccessDenied) when calling the GetObject operation: The ciphertext refers to a customer master key that does not exist, does not exist in this region, or you are not allowed to access.\n",
      "download failed: s3://aurelia-resort-data/model_train/deepAR/output/deepar-hotel-2023-04-02-23-39-31-397/profiler-output/framework/training_job_end.ts to data_csv/deepAR/output/deepar-hotel-2023-04-02-23-39-31-397/profiler-output/framework/training_job_end.ts An error occurred (AccessDenied) when calling the GetObject operation: The ciphertext refers to a customer master key that does not exist, does not exist in this region, or you are not allowed to access.\n",
      "download failed: s3://aurelia-resort-data/model_train/deepAR/output/deepar-hotel-2023-04-02-23-39-31-397/debug-output/training_job_end.ts to data_csv/deepAR/output/deepar-hotel-2023-04-02-23-39-31-397/debug-output/training_job_end.ts An error occurred (AccessDenied) when calling the GetObject operation: The ciphertext refers to a customer master key that does not exist, does not exist in this region, or you are not allowed to access.\n",
      "download failed: s3://aurelia-resort-data/model_train/deepAR/output/deepar-hotel-2023-04-02-23-25-06-536/profiler-output/system/incremental/2023040223/1680478020.algo-1.json to data_csv/deepAR/output/deepar-hotel-2023-04-02-23-25-06-536/profiler-output/system/incremental/2023040223/1680478020.algo-1.json An error occurred (AccessDenied) when calling the GetObject operation: The ciphertext refers to a customer master key that does not exist, does not exist in this region, or you are not allowed to access.\n",
      "download failed: s3://aurelia-resort-data/model_train/deepAR/output/deepar-hotel-2023-04-02-23-15-32-396/profiler-output/framework/training_job_end.ts to data_csv/deepAR/output/deepar-hotel-2023-04-02-23-15-32-396/profiler-output/framework/training_job_end.ts An error occurred (AccessDenied) when calling the GetObject operation: The ciphertext refers to a customer master key that does not exist, does not exist in this region, or you are not allowed to access.\n",
      "download failed: s3://aurelia-resort-data/model_train/deepAR/output/deepar-hotel-2023-04-02-23-39-31-397/profiler-output/system/training_job_end.ts to data_csv/deepAR/output/deepar-hotel-2023-04-02-23-39-31-397/profiler-output/system/training_job_end.ts An error occurred (AccessDenied) when calling the GetObject operation: The ciphertext refers to a customer master key that does not exist, does not exist in this region, or you are not allowed to access.\n",
      "download failed: s3://aurelia-resort-data/model_train/deepAR/output/deepar-hotel-2023-04-02-23-25-06-536/profiler-output/system/training_job_end.ts to data_csv/deepAR/output/deepar-hotel-2023-04-02-23-25-06-536/profiler-output/system/training_job_end.ts An error occurred (AccessDenied) when calling the GetObject operation: The ciphertext refers to a customer master key that does not exist, does not exist in this region, or you are not allowed to access.\n",
      "download failed: s3://aurelia-resort-data/model_train/deepAR/output/deepar-hotel-2023-04-02-23-39-31-397/profiler-output/system/incremental/2023040223/1680478800.algo-1.json to data_csv/deepAR/output/deepar-hotel-2023-04-02-23-39-31-397/profiler-output/system/incremental/2023040223/1680478800.algo-1.json An error occurred (AccessDenied) when calling the GetObject operation: The ciphertext refers to a customer master key that does not exist, does not exist in this region, or you are not allowed to access.\n",
      "download failed: s3://aurelia-resort-data/model_train/deepAR/output/deepar-hotel-2023-04-02-23-43-31-466/profiler-output/system/training_job_end.ts to data_csv/deepAR/output/deepar-hotel-2023-04-02-23-43-31-466/profiler-output/system/training_job_end.ts An error occurred (AccessDenied) when calling the GetObject operation: The ciphertext refers to a customer master key that does not exist, does not exist in this region, or you are not allowed to access.\n",
      "download failed: s3://aurelia-resort-data/model_train/deepAR/output/deepar-hotel-2023-04-02-23-43-31-466/profiler-output/system/incremental/2023040223/1680479100.algo-1.json to data_csv/deepAR/output/deepar-hotel-2023-04-02-23-43-31-466/profiler-output/system/incremental/2023040223/1680479100.algo-1.json An error occurred (AccessDenied) when calling the GetObject operation: The ciphertext refers to a customer master key that does not exist, does not exist in this region, or you are not allowed to access.\n",
      "download failed: s3://aurelia-resort-data/model_train/deepAR/output/deepar-hotel-2023-04-02-23-39-31-397/profiler-output/system/incremental/2023040223/1680478920.algo-1.json to data_csv/deepAR/output/deepar-hotel-2023-04-02-23-39-31-397/profiler-output/system/incremental/2023040223/1680478920.algo-1.json An error occurred (AccessDenied) when calling the GetObject operation: The ciphertext refers to a customer master key that does not exist, does not exist in this region, or you are not allowed to access.\n",
      "download failed: s3://aurelia-resort-data/model_train/deepAR/output/deepar-hotel-2023-04-02-23-43-31-466/profiler-output/framework/training_job_end.ts to data_csv/deepAR/output/deepar-hotel-2023-04-02-23-43-31-466/profiler-output/framework/training_job_end.ts An error occurred (AccessDenied) when calling the GetObject operation: The ciphertext refers to a customer master key that does not exist, does not exist in this region, or you are not allowed to access.\n",
      "download failed: s3://aurelia-resort-data/model_train/deepAR/output/deepar-hotel-2023-04-02-23-39-31-397/profiler-output/system/incremental/2023040223/1680478860.algo-1.json to data_csv/deepAR/output/deepar-hotel-2023-04-02-23-39-31-397/profiler-output/system/incremental/2023040223/1680478860.algo-1.json An error occurred (AccessDenied) when calling the GetObject operation: The ciphertext refers to a customer master key that does not exist, does not exist in this region, or you are not allowed to access.\n",
      "download failed: s3://aurelia-resort-data/model_train/deepAR/output/deepar-hotel-2023-04-02-23-43-31-466/debug-output/training_job_end.ts to data_csv/deepAR/output/deepar-hotel-2023-04-02-23-43-31-466/debug-output/training_job_end.ts An error occurred (AccessDenied) when calling the GetObject operation: The ciphertext refers to a customer master key that does not exist, does not exist in this region, or you are not allowed to access.\n",
      "download failed: s3://aurelia-resort-data/model_train/deepAR/output/deepar-hotel-2023-04-02-23-43-31-466/profiler-output/system/incremental/2023040223/1680479160.algo-1.json to data_csv/deepAR/output/deepar-hotel-2023-04-02-23-43-31-466/profiler-output/system/incremental/2023040223/1680479160.algo-1.json An error occurred (AccessDenied) when calling the GetObject operation: The ciphertext refers to a customer master key that does not exist, does not exist in this region, or you are not allowed to access.\n",
      "download failed: s3://aurelia-resort-data/model_train/deepAR/output/deepar-hotel-2023-04-03-00-58-23-662/profiler-output/framework/training_job_end.ts to data_csv/deepAR/output/deepar-hotel-2023-04-03-00-58-23-662/profiler-output/framework/training_job_end.ts An error occurred (AccessDenied) when calling the GetObject operation: The ciphertext refers to a customer master key that does not exist, does not exist in this region, or you are not allowed to access.\n",
      "download failed: s3://aurelia-resort-data/model_train/deepAR/output/deepar-hotel-2023-04-03-00-58-23-662/profiler-output/system/incremental/2023040300/1680483540.algo-1.json to data_csv/deepAR/output/deepar-hotel-2023-04-03-00-58-23-662/profiler-output/system/incremental/2023040300/1680483540.algo-1.json An error occurred (AccessDenied) when calling the GetObject operation: The ciphertext refers to a customer master key that does not exist, does not exist in this region, or you are not allowed to access.\n",
      "download failed: s3://aurelia-resort-data/model_train/deepAR/output/deepar-hotel-2023-04-03-00-58-23-662/profiler-output/system/incremental/2023040301/1680483600.algo-1.json to data_csv/deepAR/output/deepar-hotel-2023-04-03-00-58-23-662/profiler-output/system/incremental/2023040301/1680483600.algo-1.json An error occurred (AccessDenied) when calling the GetObject operation: The ciphertext refers to a customer master key that does not exist, does not exist in this region, or you are not allowed to access.\n",
      "download failed: s3://aurelia-resort-data/model_train/deepAR/output/deepar-hotel-2023-04-03-00-58-23-662/debug-output/training_job_end.ts to data_csv/deepAR/output/deepar-hotel-2023-04-03-00-58-23-662/debug-output/training_job_end.ts An error occurred (AccessDenied) when calling the GetObject operation: The ciphertext refers to a customer master key that does not exist, does not exist in this region, or you are not allowed to access.\n",
      "download failed: s3://aurelia-resort-data/model_train/deepAR/output/deepar-hotel-2023-04-03-00-58-23-662/profiler-output/system/training_job_end.ts to data_csv/deepAR/output/deepar-hotel-2023-04-03-00-58-23-662/profiler-output/system/training_job_end.ts An error occurred (AccessDenied) when calling the GetObject operation: The ciphertext refers to a customer master key that does not exist, does not exist in this region, or you are not allowed to access.\n",
      "download failed: s3://aurelia-resort-data/model_train/deepAR/output/deepar-hotel-2023-04-03-00-58-23-662/profiler-output/system/incremental/2023040301/1680483660.algo-1.json to data_csv/deepAR/output/deepar-hotel-2023-04-03-00-58-23-662/profiler-output/system/incremental/2023040301/1680483660.algo-1.json An error occurred (AccessDenied) when calling the GetObject operation: The ciphertext refers to a customer master key that does not exist, does not exist in this region, or you are not allowed to access.\n",
      "download failed: s3://aurelia-resort-data/model_train/deepAR/output/deepar-hotel-2023-04-03-01-07-11-351/profiler-output/system/training_job_end.ts to data_csv/deepAR/output/deepar-hotel-2023-04-03-01-07-11-351/profiler-output/system/training_job_end.ts An error occurred (AccessDenied) when calling the GetObject operation: The ciphertext refers to a customer master key that does not exist, does not exist in this region, or you are not allowed to access.\n",
      "download failed: s3://aurelia-resort-data/model_train/deepAR/output/deepar-hotel-2023-04-03-01-07-11-351/profiler-output/system/incremental/2023040301/1680484140.algo-1.json to data_csv/deepAR/output/deepar-hotel-2023-04-03-01-07-11-351/profiler-output/system/incremental/2023040301/1680484140.algo-1.json An error occurred (AccessDenied) when calling the GetObject operation: The ciphertext refers to a customer master key that does not exist, does not exist in this region, or you are not allowed to access.\n",
      "download failed: s3://aurelia-resort-data/model_train/deepAR/output/deepar-hotel-2023-04-03-01-07-11-351/profiler-output/framework/training_job_end.ts to data_csv/deepAR/output/deepar-hotel-2023-04-03-01-07-11-351/profiler-output/framework/training_job_end.ts An error occurred (AccessDenied) when calling the GetObject operation: The ciphertext refers to a customer master key that does not exist, does not exist in this region, or you are not allowed to access.\n",
      "download failed: s3://aurelia-resort-data/model_train/deepAR/output/deepar-hotel-2023-04-03-01-14-27-197/profiler-output/system/incremental/2023040301/1680484500.algo-1.json to data_csv/deepAR/output/deepar-hotel-2023-04-03-01-14-27-197/profiler-output/system/incremental/2023040301/1680484500.algo-1.json An error occurred (AccessDenied) when calling the GetObject operation: The ciphertext refers to a customer master key that does not exist, does not exist in this region, or you are not allowed to access.\n",
      "download failed: s3://aurelia-resort-data/model_train/deepAR/output/deepar-hotel-2023-04-03-01-14-27-197/profiler-output/system/incremental/2023040301/1680484620.algo-1.json to data_csv/deepAR/output/deepar-hotel-2023-04-03-01-14-27-197/profiler-output/system/incremental/2023040301/1680484620.algo-1.json An error occurred (AccessDenied) when calling the GetObject operation: The ciphertext refers to a customer master key that does not exist, does not exist in this region, or you are not allowed to access.\n",
      "download failed: s3://aurelia-resort-data/model_train/deepAR/output/deepar-hotel-2023-04-03-01-07-11-351/debug-output/training_job_end.ts to data_csv/deepAR/output/deepar-hotel-2023-04-03-01-07-11-351/debug-output/training_job_end.ts An error occurred (AccessDenied) when calling the GetObject operation: The ciphertext refers to a customer master key that does not exist, does not exist in this region, or you are not allowed to access.\n",
      "download failed: s3://aurelia-resort-data/model_train/deepAR/output/deepar-hotel-2023-04-03-01-07-11-351/profiler-output/system/incremental/2023040301/1680484080.algo-1.json to data_csv/deepAR/output/deepar-hotel-2023-04-03-01-07-11-351/profiler-output/system/incremental/2023040301/1680484080.algo-1.json An error occurred (AccessDenied) when calling the GetObject operation: The ciphertext refers to a customer master key that does not exist, does not exist in this region, or you are not allowed to access.\n",
      "download failed: s3://aurelia-resort-data/model_train/deepAR/output/deepar-hotel-2023-04-03-01-14-27-197/profiler-output/framework/training_job_end.ts to data_csv/deepAR/output/deepar-hotel-2023-04-03-01-14-27-197/profiler-output/framework/training_job_end.ts An error occurred (AccessDenied) when calling the GetObject operation: The ciphertext refers to a customer master key that does not exist, does not exist in this region, or you are not allowed to access.\n",
      "download failed: s3://aurelia-resort-data/model_train/deepAR/output/deepar-hotel-2023-04-03-01-14-27-197/profiler-output/system/training_job_end.ts to data_csv/deepAR/output/deepar-hotel-2023-04-03-01-14-27-197/profiler-output/system/training_job_end.ts An error occurred (AccessDenied) when calling the GetObject operation: The ciphertext refers to a customer master key that does not exist, does not exist in this region, or you are not allowed to access.\n",
      "download failed: s3://aurelia-resort-data/model_train/deepAR/output/deepar-hotel-2023-04-03-01-14-27-197/profiler-output/system/incremental/2023040301/1680484560.algo-1.json to data_csv/deepAR/output/deepar-hotel-2023-04-03-01-14-27-197/profiler-output/system/incremental/2023040301/1680484560.algo-1.json An error occurred (AccessDenied) when calling the GetObject operation: The ciphertext refers to a customer master key that does not exist, does not exist in this region, or you are not allowed to access.\n",
      "download failed: s3://aurelia-resort-data/model_train/deepAR/output/deepar-hotel-2023-04-03-01-14-27-197/debug-output/training_job_end.ts to data_csv/deepAR/output/deepar-hotel-2023-04-03-01-14-27-197/debug-output/training_job_end.ts An error occurred (AccessDenied) when calling the GetObject operation: The ciphertext refers to a customer master key that does not exist, does not exist in this region, or you are not allowed to access.\n",
      "download failed: s3://aurelia-resort-data/model_train/deepAR/output/deepar-hotel-2023-04-03-01-35-45-003/profiler-output/framework/training_job_end.ts to data_csv/deepAR/output/deepar-hotel-2023-04-03-01-35-45-003/profiler-output/framework/training_job_end.ts An error occurred (AccessDenied) when calling the GetObject operation: The ciphertext refers to a customer master key that does not exist, does not exist in this region, or you are not allowed to access.\n",
      "download failed: s3://aurelia-resort-data/model_train/deepAR/output/deepar-hotel-2023-04-03-01-35-45-003/profiler-output/system/incremental/2023040301/1680485880.algo-1.json to data_csv/deepAR/output/deepar-hotel-2023-04-03-01-35-45-003/profiler-output/system/incremental/2023040301/1680485880.algo-1.json An error occurred (AccessDenied) when calling the GetObject operation: The ciphertext refers to a customer master key that does not exist, does not exist in this region, or you are not allowed to access.\n",
      "download failed: s3://aurelia-resort-data/model_train/deepAR/output/deepar-hotel-2023-04-03-01-35-45-003/profiler-output/system/training_job_end.ts to data_csv/deepAR/output/deepar-hotel-2023-04-03-01-35-45-003/profiler-output/system/training_job_end.ts An error occurred (AccessDenied) when calling the GetObject operation: The ciphertext refers to a customer master key that does not exist, does not exist in this region, or you are not allowed to access.\n",
      "download failed: s3://aurelia-resort-data/model_train/deepAR/output/deepar-hotel-2023-04-03-01-35-45-003/profiler-output/system/incremental/2023040301/1680485940.algo-1.json to data_csv/deepAR/output/deepar-hotel-2023-04-03-01-35-45-003/profiler-output/system/incremental/2023040301/1680485940.algo-1.json An error occurred (AccessDenied) when calling the GetObject operation: The ciphertext refers to a customer master key that does not exist, does not exist in this region, or you are not allowed to access.\n",
      "download failed: s3://aurelia-resort-data/model_train/deepAR/output/deepar-hotel-2023-04-03-01-35-45-003/profiler-output/system/incremental/2023040301/1680485820.algo-1.json to data_csv/deepAR/output/deepar-hotel-2023-04-03-01-35-45-003/profiler-output/system/incremental/2023040301/1680485820.algo-1.json An error occurred (AccessDenied) when calling the GetObject operation: The ciphertext refers to a customer master key that does not exist, does not exist in this region, or you are not allowed to access.\n",
      "download failed: s3://aurelia-resort-data/model_train/deepAR/output/deepar-hotel-2023-04-03-01-35-45-003/debug-output/training_job_end.ts to data_csv/deepAR/output/deepar-hotel-2023-04-03-01-35-45-003/debug-output/training_job_end.ts An error occurred (AccessDenied) when calling the GetObject operation: The ciphertext refers to a customer master key that does not exist, does not exist in this region, or you are not allowed to access.\n",
      "download failed: s3://aurelia-resort-data/model_train/deepAR/output/deepar-hotel-2023-04-03-23-04-24-691/profiler-output/system/incremental/2023040323/1680563220.algo-1.json to data_csv/deepAR/output/deepar-hotel-2023-04-03-23-04-24-691/profiler-output/system/incremental/2023040323/1680563220.algo-1.json An error occurred (AccessDenied) when calling the GetObject operation: The ciphertext refers to a customer master key that does not exist, does not exist in this region, or you are not allowed to access.\n",
      "download failed: s3://aurelia-resort-data/model_train/deepAR/output/deepar-hotel-2023-04-03-23-04-24-691/profiler-output/framework/training_job_end.ts to data_csv/deepAR/output/deepar-hotel-2023-04-03-23-04-24-691/profiler-output/framework/training_job_end.ts An error occurred (AccessDenied) when calling the GetObject operation: The ciphertext refers to a customer master key that does not exist, does not exist in this region, or you are not allowed to access.\n",
      "download failed: s3://aurelia-resort-data/model_train/deepAR/output/deepar-hotel-2023-04-03-23-04-24-691/profiler-output/system/incremental/2023040323/1680563100.algo-1.json to data_csv/deepAR/output/deepar-hotel-2023-04-03-23-04-24-691/profiler-output/system/incremental/2023040323/1680563100.algo-1.json An error occurred (AccessDenied) when calling the GetObject operation: The ciphertext refers to a customer master key that does not exist, does not exist in this region, or you are not allowed to access.\n",
      "download failed: s3://aurelia-resort-data/model_train/deepAR/output/deepar-hotel-2023-04-03-23-04-24-691/profiler-output/system/incremental/2023040323/1680563160.algo-1.json to data_csv/deepAR/output/deepar-hotel-2023-04-03-23-04-24-691/profiler-output/system/incremental/2023040323/1680563160.algo-1.json An error occurred (AccessDenied) when calling the GetObject operation: The ciphertext refers to a customer master key that does not exist, does not exist in this region, or you are not allowed to access.\n",
      "download failed: s3://aurelia-resort-data/model_train/deepAR/output/deepar-hotel-2023-04-03-23-04-24-691/profiler-output/system/incremental/2023040323/1680563280.algo-1.json to data_csv/deepAR/output/deepar-hotel-2023-04-03-23-04-24-691/profiler-output/system/incremental/2023040323/1680563280.algo-1.json An error occurred (AccessDenied) when calling the GetObject operation: The ciphertext refers to a customer master key that does not exist, does not exist in this region, or you are not allowed to access.\n",
      "download failed: s3://aurelia-resort-data/model_train/deepAR/output/deepar-hotel-2023-04-03-23-04-24-691/debug-output/training_job_end.ts to data_csv/deepAR/output/deepar-hotel-2023-04-03-23-04-24-691/debug-output/training_job_end.ts An error occurred (AccessDenied) when calling the GetObject operation: The ciphertext refers to a customer master key that does not exist, does not exist in this region, or you are not allowed to access.\n",
      "download failed: s3://aurelia-resort-data/model_train/deepAR/output/deepar-hotel-2023-04-03-23-12-55-980/profiler-output/system/training_job_end.ts to data_csv/deepAR/output/deepar-hotel-2023-04-03-23-12-55-980/profiler-output/system/training_job_end.ts An error occurred (AccessDenied) when calling the GetObject operation: The ciphertext refers to a customer master key that does not exist, does not exist in this region, or you are not allowed to access.\n",
      "download failed: s3://aurelia-resort-data/model_train/deepAR/output/deepar-hotel-2023-04-03-23-04-24-691/profiler-output/system/training_job_end.ts to data_csv/deepAR/output/deepar-hotel-2023-04-03-23-04-24-691/profiler-output/system/training_job_end.ts An error occurred (AccessDenied) when calling the GetObject operation: The ciphertext refers to a customer master key that does not exist, does not exist in this region, or you are not allowed to access.\n",
      "download failed: s3://aurelia-resort-data/model_train/deepAR/output/deepar-hotel-2023-04-03-23-12-55-980/profiler-output/framework/training_job_end.ts to data_csv/deepAR/output/deepar-hotel-2023-04-03-23-12-55-980/profiler-output/framework/training_job_end.ts An error occurred (AccessDenied) when calling the GetObject operation: The ciphertext refers to a customer master key that does not exist, does not exist in this region, or you are not allowed to access.\n",
      "download failed: s3://aurelia-resort-data/model_train/deepAR/output/deepar-hotel-2023-04-03-23-19-16-821/debug-output/training_job_end.ts to data_csv/deepAR/output/deepar-hotel-2023-04-03-23-19-16-821/debug-output/training_job_end.ts An error occurred (AccessDenied) when calling the GetObject operation: The ciphertext refers to a customer master key that does not exist, does not exist in this region, or you are not allowed to access.\n",
      "download failed: s3://aurelia-resort-data/model_train/deepAR/output/deepar-hotel-2023-04-03-23-12-55-980/profiler-output/system/incremental/2023040323/1680563700.algo-1.json to data_csv/deepAR/output/deepar-hotel-2023-04-03-23-12-55-980/profiler-output/system/incremental/2023040323/1680563700.algo-1.json An error occurred (AccessDenied) when calling the GetObject operation: The ciphertext refers to a customer master key that does not exist, does not exist in this region, or you are not allowed to access.\n",
      "download failed: s3://aurelia-resort-data/model_train/deepAR/output/deepar-hotel-2023-04-03-23-19-16-821/profiler-output/framework/training_job_end.ts to data_csv/deepAR/output/deepar-hotel-2023-04-03-23-19-16-821/profiler-output/framework/training_job_end.ts An error occurred (AccessDenied) when calling the GetObject operation: The ciphertext refers to a customer master key that does not exist, does not exist in this region, or you are not allowed to access.\n",
      "download failed: s3://aurelia-resort-data/model_train/deepAR/output/deepar-hotel-2023-04-03-23-12-55-980/profiler-output/system/incremental/2023040323/1680563640.algo-1.json to data_csv/deepAR/output/deepar-hotel-2023-04-03-23-12-55-980/profiler-output/system/incremental/2023040323/1680563640.algo-1.json An error occurred (AccessDenied) when calling the GetObject operation: The ciphertext refers to a customer master key that does not exist, does not exist in this region, or you are not allowed to access.\n",
      "download failed: s3://aurelia-resort-data/model_train/deepAR/output/deepar-hotel-2023-04-03-23-12-55-980/profiler-output/system/incremental/2023040323/1680563760.algo-1.json to data_csv/deepAR/output/deepar-hotel-2023-04-03-23-12-55-980/profiler-output/system/incremental/2023040323/1680563760.algo-1.json An error occurred (AccessDenied) when calling the GetObject operation: The ciphertext refers to a customer master key that does not exist, does not exist in this region, or you are not allowed to access.\n",
      "download failed: s3://aurelia-resort-data/model_train/deepAR/output/deepar-hotel-2023-04-03-23-19-16-821/profiler-output/system/training_job_end.ts to data_csv/deepAR/output/deepar-hotel-2023-04-03-23-19-16-821/profiler-output/system/training_job_end.ts An error occurred (AccessDenied) when calling the GetObject operation: The ciphertext refers to a customer master key that does not exist, does not exist in this region, or you are not allowed to access.\n",
      "download failed: s3://aurelia-resort-data/model_train/deepAR/output/deepar-hotel-2023-04-03-23-19-16-821/profiler-output/system/incremental/2023040323/1680564000.algo-1.json to data_csv/deepAR/output/deepar-hotel-2023-04-03-23-19-16-821/profiler-output/system/incremental/2023040323/1680564000.algo-1.json An error occurred (AccessDenied) when calling the GetObject operation: The ciphertext refers to a customer master key that does not exist, does not exist in this region, or you are not allowed to access.\n",
      "download failed: s3://aurelia-resort-data/model_train/deepAR/output/deepar-hotel-2023-04-03-23-12-55-980/debug-output/training_job_end.ts to data_csv/deepAR/output/deepar-hotel-2023-04-03-23-12-55-980/debug-output/training_job_end.ts An error occurred (AccessDenied) when calling the GetObject operation: The ciphertext refers to a customer master key that does not exist, does not exist in this region, or you are not allowed to access.\n",
      "download failed: s3://aurelia-resort-data/model_train/deepAR/output/deepar-hotel-2023-04-03-23-27-47-475/debug-output/training_job_end.ts to data_csv/deepAR/output/deepar-hotel-2023-04-03-23-27-47-475/debug-output/training_job_end.ts An error occurred (AccessDenied) when calling the GetObject operation: The ciphertext refers to a customer master key that does not exist, does not exist in this region, or you are not allowed to access.\n",
      "download failed: s3://aurelia-resort-data/model_train/deepAR/output/deepar-hotel-2023-04-03-23-19-16-821/profiler-output/system/incremental/2023040323/1680564120.algo-1.json to data_csv/deepAR/output/deepar-hotel-2023-04-03-23-19-16-821/profiler-output/system/incremental/2023040323/1680564120.algo-1.json An error occurred (AccessDenied) when calling the GetObject operation: The ciphertext refers to a customer master key that does not exist, does not exist in this region, or you are not allowed to access.\n",
      "download failed: s3://aurelia-resort-data/model_train/deepAR/output/deepar-hotel-2023-04-03-23-23-45-178/debug-output/training_job_end.ts to data_csv/deepAR/output/deepar-hotel-2023-04-03-23-23-45-178/debug-output/training_job_end.ts An error occurred (AccessDenied) when calling the GetObject operation: The ciphertext refers to a customer master key that does not exist, does not exist in this region, or you are not allowed to access.\n",
      "download failed: s3://aurelia-resort-data/model_train/deepAR/output/deepar-hotel-2023-04-03-23-23-45-178/profiler-output/system/incremental/2023040323/1680564300.algo-1.json to data_csv/deepAR/output/deepar-hotel-2023-04-03-23-23-45-178/profiler-output/system/incremental/2023040323/1680564300.algo-1.json An error occurred (AccessDenied) when calling the GetObject operation: The ciphertext refers to a customer master key that does not exist, does not exist in this region, or you are not allowed to access.\n",
      "download failed: s3://aurelia-resort-data/model_train/deepAR/output/deepar-hotel-2023-04-03-23-23-45-178/profiler-output/framework/training_job_end.ts to data_csv/deepAR/output/deepar-hotel-2023-04-03-23-23-45-178/profiler-output/framework/training_job_end.ts An error occurred (AccessDenied) when calling the GetObject operation: The ciphertext refers to a customer master key that does not exist, does not exist in this region, or you are not allowed to access.\n",
      "download failed: s3://aurelia-resort-data/model_train/deepAR/output/deepar-hotel-2023-04-03-23-27-47-475/profiler-output/system/training_job_end.ts to data_csv/deepAR/output/deepar-hotel-2023-04-03-23-27-47-475/profiler-output/system/training_job_end.ts An error occurred (AccessDenied) when calling the GetObject operation: The ciphertext refers to a customer master key that does not exist, does not exist in this region, or you are not allowed to access.\n",
      "download failed: s3://aurelia-resort-data/model_train/deepAR/output/deepar-hotel-2023-04-03-23-27-47-475/profiler-output/framework/training_job_end.ts to data_csv/deepAR/output/deepar-hotel-2023-04-03-23-27-47-475/profiler-output/framework/training_job_end.ts An error occurred (AccessDenied) when calling the GetObject operation: The ciphertext refers to a customer master key that does not exist, does not exist in this region, or you are not allowed to access.\n",
      "download failed: s3://aurelia-resort-data/model_train/deepAR/output/deepar-hotel-2023-04-03-23-32-55-031/debug-output/training_job_end.ts to data_csv/deepAR/output/deepar-hotel-2023-04-03-23-32-55-031/debug-output/training_job_end.ts An error occurred (AccessDenied) when calling the GetObject operation: The ciphertext refers to a customer master key that does not exist, does not exist in this region, or you are not allowed to access.\n",
      "download failed: s3://aurelia-resort-data/model_train/deepAR/output/deepar-hotel-2023-04-03-23-23-45-178/profiler-output/system/incremental/2023040323/1680564360.algo-1.json to data_csv/deepAR/output/deepar-hotel-2023-04-03-23-23-45-178/profiler-output/system/incremental/2023040323/1680564360.algo-1.json An error occurred (AccessDenied) when calling the GetObject operation: The ciphertext refers to a customer master key that does not exist, does not exist in this region, or you are not allowed to access.\n",
      "download failed: s3://aurelia-resort-data/model_train/deepAR/output/deepar-hotel-2023-04-03-23-32-55-031/output/model.tar.gz to data_csv/deepAR/output/deepar-hotel-2023-04-03-23-32-55-031/output/model.tar.gz An error occurred (AccessDenied) when calling the GetObject operation: The ciphertext refers to a customer master key that does not exist, does not exist in this region, or you are not allowed to access.\n",
      "download failed: s3://aurelia-resort-data/model_train/deepAR/output/deepar-hotel-2023-04-03-23-19-16-821/profiler-output/system/incremental/2023040323/1680564060.algo-1.json to data_csv/deepAR/output/deepar-hotel-2023-04-03-23-19-16-821/profiler-output/system/incremental/2023040323/1680564060.algo-1.json An error occurred (AccessDenied) when calling the GetObject operation: The ciphertext refers to a customer master key that does not exist, does not exist in this region, or you are not allowed to access.\n",
      "download failed: s3://aurelia-resort-data/model_train/deepAR/output/deepar-hotel-2023-04-03-23-27-47-475/profiler-output/system/incremental/2023040323/1680564540.algo-1.json to data_csv/deepAR/output/deepar-hotel-2023-04-03-23-27-47-475/profiler-output/system/incremental/2023040323/1680564540.algo-1.json An error occurred (AccessDenied) when calling the GetObject operation: The ciphertext refers to a customer master key that does not exist, does not exist in this region, or you are not allowed to access.\n",
      "download failed: s3://aurelia-resort-data/model_train/deepAR/output/deepar-hotel-2023-04-03-23-23-45-178/profiler-output/system/training_job_end.ts to data_csv/deepAR/output/deepar-hotel-2023-04-03-23-23-45-178/profiler-output/system/training_job_end.ts An error occurred (AccessDenied) when calling the GetObject operation: The ciphertext refers to a customer master key that does not exist, does not exist in this region, or you are not allowed to access.\n",
      "download: s3://aurelia-resort-data/model_train/deepAR/test.json to data_csv/deepAR/test.json\n",
      "download failed: s3://aurelia-resort-data/model_train/deepAR/output/deepar-hotel-2023-04-03-23-27-47-475/profiler-output/system/incremental/2023040323/1680564600.algo-1.json to data_csv/deepAR/output/deepar-hotel-2023-04-03-23-27-47-475/profiler-output/system/incremental/2023040323/1680564600.algo-1.json An error occurred (AccessDenied) when calling the GetObject operation: The ciphertext refers to a customer master key that does not exist, does not exist in this region, or you are not allowed to access.\n",
      "download failed: s3://aurelia-resort-data/model_train/deepAR/output/deepar-hotel-2023-04-03-23-32-55-031/profiler-output/system/incremental/2023040323/1680564900.algo-1.json to data_csv/deepAR/output/deepar-hotel-2023-04-03-23-32-55-031/profiler-output/system/incremental/2023040323/1680564900.algo-1.json An error occurred (AccessDenied) when calling the GetObject operation: The ciphertext refers to a customer master key that does not exist, does not exist in this region, or you are not allowed to access.\n",
      "download failed: s3://aurelia-resort-data/model_train/deepAR/output/deepar-hotel-2023-04-03-23-32-55-031/profiler-output/system/incremental/2023040323/1680564840.algo-1.json to data_csv/deepAR/output/deepar-hotel-2023-04-03-23-32-55-031/profiler-output/system/incremental/2023040323/1680564840.algo-1.json An error occurred (AccessDenied) when calling the GetObject operation: The ciphertext refers to a customer master key that does not exist, does not exist in this region, or you are not allowed to access.\n",
      "download failed: s3://aurelia-resort-data/model_train/deepAR/output/deepar-hotel-2023-04-03-23-32-55-031/profiler-output/system/training_job_end.ts to data_csv/deepAR/output/deepar-hotel-2023-04-03-23-32-55-031/profiler-output/system/training_job_end.ts An error occurred (AccessDenied) when calling the GetObject operation: The ciphertext refers to a customer master key that does not exist, does not exist in this region, or you are not allowed to access.\n",
      "download failed: s3://aurelia-resort-data/model_train/deepAR/output/deepar-hotel-2023-04-03-23-32-55-031/profiler-output/system/incremental/2023040323/1680564960.algo-1.json to data_csv/deepAR/output/deepar-hotel-2023-04-03-23-32-55-031/profiler-output/system/incremental/2023040323/1680564960.algo-1.json An error occurred (AccessDenied) when calling the GetObject operation: The ciphertext refers to a customer master key that does not exist, does not exist in this region, or you are not allowed to access.\n",
      "download: s3://aurelia-resort-data/model_train/deepAR/train.json to data_csv/deepAR/train.json\n",
      "download failed: s3://aurelia-resort-data/model_train/deepAR/output/deepar-hotel-2023-04-03-23-32-55-031/profiler-output/system/incremental/2023040323/1680565020.algo-1.json to data_csv/deepAR/output/deepar-hotel-2023-04-03-23-32-55-031/profiler-output/system/incremental/2023040323/1680565020.algo-1.json An error occurred (AccessDenied) when calling the GetObject operation: The ciphertext refers to a customer master key that does not exist, does not exist in this region, or you are not allowed to access.\n",
      "download failed: s3://aurelia-resort-data/model_train/deepAR/output/deepar-hotel-2023-04-03-23-32-55-031/profiler-output/framework/training_job_end.ts to data_csv/deepAR/output/deepar-hotel-2023-04-03-23-32-55-031/profiler-output/framework/training_job_end.ts An error occurred (AccessDenied) when calling the GetObject operation: The ciphertext refers to a customer master key that does not exist, does not exist in this region, or you are not allowed to access.\n"
     ]
    }
   ],
   "source": [
    "!aws s3 cp --recursive s3://aurelia-resort-data/model_train ./data_csv"
   ]
  },
  {
   "cell_type": "code",
   "execution_count": 25,
   "metadata": {
    "tags": []
   },
   "outputs": [],
   "source": [
    "train = pd.read_csv(\"data_csv/data_csv/train_nans.csv\")\n",
    "test = pd.read_csv(\"data_csv/data_csv/test_nans.csv\")"
   ]
  },
  {
   "cell_type": "code",
   "execution_count": 10,
   "metadata": {
    "tags": []
   },
   "outputs": [],
   "source": [
    "autopilot_train_path = \"./traindataautopilot_nans.csv\"\n",
    "train.to_csv(autopilot_train_path, index=False, header=True)"
   ]
  },
  {
   "cell_type": "code",
   "execution_count": 19,
   "metadata": {
    "tags": []
   },
   "outputs": [
    {
     "data": {
      "text/plain": [
       "'s3://sagemaker-us-east-1-478947633708/data_nans/traindataautopilot_nans.csv'"
      ]
     },
     "execution_count": 19,
     "metadata": {},
     "output_type": "execute_result"
    }
   ],
   "source": [
    "train_s3_prefix = \"data_nans\"\n",
    "autopilot_train_nans_s3_uri = sagemaker_session.upload_data(path=autopilot_train_path, key_prefix=train_s3_prefix)\n",
    "autopilot_train_nans_s3_uri"
   ]
  },
  {
   "cell_type": "code",
   "execution_count": 20,
   "metadata": {
    "tags": []
   },
   "outputs": [
    {
     "name": "stdout",
     "output_type": "stream",
     "text": [
      "2023-04-04 00:14:55       6218 traindataautopilot_nans.csv\n"
     ]
    }
   ],
   "source": [
    "!aws s3 ls $autopilot_train_nans_s3_uri"
   ]
  },
  {
   "cell_type": "code",
   "execution_count": 21,
   "metadata": {},
   "outputs": [
    {
     "name": "stdout",
     "output_type": "stream",
     "text": [
      "Stored 'autopilot_train_nans_s3_uri' (str)\n"
     ]
    }
   ],
   "source": [
    "%store autopilot_train_nans_s3_uri"
   ]
  },
  {
   "cell_type": "code",
   "execution_count": 22,
   "metadata": {},
   "outputs": [
    {
     "name": "stdout",
     "output_type": "stream",
     "text": [
      "Stored variables and their in-db values:\n",
      "auto_ml_job_name                        -> 'automl-dm-03-01-52-28'\n",
      "autopilot_train_nans_s3_uri             -> 's3://sagemaker-us-east-1-478947633708/data_nans/t\n",
      "autopilot_train_s3_uri                  -> 's3://sagemaker-us-east-1-478947633708/data_nans/t\n",
      "bookings_grouped                        ->          Date  total_bookings\n",
      "0  2014-10-01       \n",
      "cancellations_grouped                   ->          Date  cancellations\n",
      "0  2014-10-01        \n",
      "finaldf                                 -> Empty DataFrame\n",
      "Columns: [Date, TotalIncome, Total\n",
      "income_grouped                          ->          Date  income_by_year\n",
      "0  1953-01-01       \n",
      "income_value_grouped                    ->          Date  income_total\n",
      "0  1953-01-01         \n",
      "listings_clean                          ->    month_year  num_listings\n",
      "0     2022-12         \n",
      "listings_date                           ->          Date  num_listings\n",
      "0  2022-12-01         \n",
      "reviews_clean                           ->     month_year  num_stays\n",
      "0      2009-05          \n",
      "reviews_date                            ->           Date  num_stays\n",
      "0   2009-05-01          \n",
      "setup_dependencies_passed               -> True\n",
      "setup_iam_roles_passed                  -> True\n",
      "setup_instance_check_passed             -> True\n",
      "setup_s3_bucket_passed                  -> True\n",
      "travelstats                             ->          Date  TotalAirlineTripstoDC  TotalAirline\n"
     ]
    }
   ],
   "source": [
    "%store"
   ]
  },
  {
   "cell_type": "code",
   "execution_count": 38,
   "metadata": {
    "tags": []
   },
   "outputs": [],
   "source": [
    "%store -r autopilot_train_nans_s3_uri"
   ]
  },
  {
   "cell_type": "code",
   "execution_count": 39,
   "metadata": {
    "tags": []
   },
   "outputs": [
    {
     "name": "stdout",
     "output_type": "stream",
     "text": [
      "[OK]\n"
     ]
    }
   ],
   "source": [
    "try:\n",
    "    autopilot_train_s3_uri\n",
    "    print(\"[OK]\")\n",
    "except NameError:\n",
    "    print(\"+++++++++++++++++++++++++++++++++++++++++++++++++++++++++++++++++++++\")\n",
    "    print(\"[ERROR] PLEASE RUN THE PREVIOUS 01_PREPARE_DATASET_AUTOPILOT NOTEBOOK.\")\n",
    "    print(\"+++++++++++++++++++++++++++++++++++++++++++++++++++++++++++++++++++++\")"
   ]
  },
  {
   "cell_type": "code",
   "execution_count": 40,
   "metadata": {
    "tags": []
   },
   "outputs": [
    {
     "name": "stdout",
     "output_type": "stream",
     "text": [
      "s3://sagemaker-us-east-1-478947633708/data_nans/traindataautopilot_nans.csv\n"
     ]
    }
   ],
   "source": [
    "print(autopilot_train_nans_s3_uri)"
   ]
  },
  {
   "cell_type": "code",
   "execution_count": 41,
   "metadata": {
    "tags": []
   },
   "outputs": [
    {
     "name": "stdout",
     "output_type": "stream",
     "text": [
      "[OK]\n"
     ]
    }
   ],
   "source": [
    "if not autopilot_train_s3_uri:\n",
    "    print(\"+++++++++++++++++++++++++++++++++++++++++++++++++++++++++++++++++++++\")\n",
    "    print(\"[ERROR] PLEASE RUN THE PREVIOUS 01_PREPARE_DATASET_AUTOPILOT NOTEBOOK.\")\n",
    "    print(\"+++++++++++++++++++++++++++++++++++++++++++++++++++++++++++++++++++++\")\n",
    "else:\n",
    "    print(\"[OK]\")"
   ]
  },
  {
   "cell_type": "code",
   "execution_count": 42,
   "metadata": {
    "tags": []
   },
   "outputs": [],
   "source": [
    "import boto3\n",
    "import sagemaker\n",
    "import pandas as pd\n",
    "import json\n",
    "\n",
    "sess = sagemaker.Session()\n",
    "bucket = sess.default_bucket()\n",
    "role = sagemaker.get_execution_role()\n",
    "region = boto3.Session().region_name\n",
    "\n",
    "sm = boto3.Session().client(service_name=\"sagemaker\", region_name=region)"
   ]
  },
  {
   "cell_type": "markdown",
   "metadata": {},
   "source": [
    "# Training Data"
   ]
  },
  {
   "cell_type": "code",
   "execution_count": 43,
   "metadata": {
    "tags": []
   },
   "outputs": [
    {
     "name": "stdout",
     "output_type": "stream",
     "text": [
      "s3://sagemaker-us-east-1-478947633708/data_nans/traindataautopilot_nans.csv\n"
     ]
    }
   ],
   "source": [
    "print(autopilot_train_nans_s3_uri)"
   ]
  },
  {
   "cell_type": "code",
   "execution_count": 44,
   "metadata": {
    "tags": []
   },
   "outputs": [
    {
     "name": "stdout",
     "output_type": "stream",
     "text": [
      "2023-04-04 00:14:55       6218 traindataautopilot_nans.csv\n"
     ]
    }
   ],
   "source": [
    "!aws s3 ls $autopilot_train_nans_s3_uri"
   ]
  },
  {
   "cell_type": "markdown",
   "metadata": {},
   "source": [
    "## See our prepared training data which we use as input for Autopilot"
   ]
  },
  {
   "cell_type": "code",
   "execution_count": 45,
   "metadata": {
    "tags": []
   },
   "outputs": [
    {
     "name": "stdout",
     "output_type": "stream",
     "text": [
      "download: s3://sagemaker-us-east-1-478947633708/data_nans/traindataautopilot_nans.csv to tmp/traindataautopilot_nans.csv\n"
     ]
    }
   ],
   "source": [
    "!aws s3 cp $autopilot_train_nans_s3_uri ./tmp/"
   ]
  },
  {
   "cell_type": "code",
   "execution_count": 46,
   "metadata": {
    "tags": []
   },
   "outputs": [
    {
     "data": {
      "text/html": [
       "<div>\n",
       "<style scoped>\n",
       "    .dataframe tbody tr th:only-of-type {\n",
       "        vertical-align: middle;\n",
       "    }\n",
       "\n",
       "    .dataframe tbody tr th {\n",
       "        vertical-align: top;\n",
       "    }\n",
       "\n",
       "    .dataframe thead th {\n",
       "        text-align: right;\n",
       "    }\n",
       "</style>\n",
       "<table border=\"1\" class=\"dataframe\">\n",
       "  <thead>\n",
       "    <tr style=\"text-align: right;\">\n",
       "      <th></th>\n",
       "      <th>Date</th>\n",
       "      <th>num_stays</th>\n",
       "      <th>TotalAirlineTripstoDC</th>\n",
       "      <th>TotalAirlinePassengerstoDC</th>\n",
       "      <th>TotalAmericanTravelers</th>\n",
       "      <th>PercentofAmericanswhoTraveled</th>\n",
       "      <th>TotalTripsbyAmericans</th>\n",
       "      <th>income_total</th>\n",
       "    </tr>\n",
       "  </thead>\n",
       "  <tbody>\n",
       "    <tr>\n",
       "      <th>0</th>\n",
       "      <td>2009-05-01</td>\n",
       "      <td>2</td>\n",
       "      <td>NaN</td>\n",
       "      <td>NaN</td>\n",
       "      <td>NaN</td>\n",
       "      <td>NaN</td>\n",
       "      <td>NaN</td>\n",
       "      <td>NaN</td>\n",
       "    </tr>\n",
       "    <tr>\n",
       "      <th>1</th>\n",
       "      <td>2009-06-01</td>\n",
       "      <td>2</td>\n",
       "      <td>NaN</td>\n",
       "      <td>NaN</td>\n",
       "      <td>NaN</td>\n",
       "      <td>NaN</td>\n",
       "      <td>NaN</td>\n",
       "      <td>NaN</td>\n",
       "    </tr>\n",
       "    <tr>\n",
       "      <th>2</th>\n",
       "      <td>2009-08-01</td>\n",
       "      <td>1</td>\n",
       "      <td>NaN</td>\n",
       "      <td>NaN</td>\n",
       "      <td>NaN</td>\n",
       "      <td>NaN</td>\n",
       "      <td>NaN</td>\n",
       "      <td>NaN</td>\n",
       "    </tr>\n",
       "    <tr>\n",
       "      <th>3</th>\n",
       "      <td>2009-09-01</td>\n",
       "      <td>1</td>\n",
       "      <td>NaN</td>\n",
       "      <td>NaN</td>\n",
       "      <td>NaN</td>\n",
       "      <td>NaN</td>\n",
       "      <td>NaN</td>\n",
       "      <td>NaN</td>\n",
       "    </tr>\n",
       "    <tr>\n",
       "      <th>4</th>\n",
       "      <td>2009-10-01</td>\n",
       "      <td>2</td>\n",
       "      <td>NaN</td>\n",
       "      <td>NaN</td>\n",
       "      <td>NaN</td>\n",
       "      <td>NaN</td>\n",
       "      <td>NaN</td>\n",
       "      <td>NaN</td>\n",
       "    </tr>\n",
       "  </tbody>\n",
       "</table>\n",
       "</div>"
      ],
      "text/plain": [
       "         Date  num_stays  TotalAirlineTripstoDC  TotalAirlinePassengerstoDC  \\\n",
       "0  2009-05-01          2                    NaN                         NaN   \n",
       "1  2009-06-01          2                    NaN                         NaN   \n",
       "2  2009-08-01          1                    NaN                         NaN   \n",
       "3  2009-09-01          1                    NaN                         NaN   \n",
       "4  2009-10-01          2                    NaN                         NaN   \n",
       "\n",
       "   TotalAmericanTravelers  PercentofAmericanswhoTraveled  \\\n",
       "0                     NaN                            NaN   \n",
       "1                     NaN                            NaN   \n",
       "2                     NaN                            NaN   \n",
       "3                     NaN                            NaN   \n",
       "4                     NaN                            NaN   \n",
       "\n",
       "   TotalTripsbyAmericans  income_total  \n",
       "0                    NaN           NaN  \n",
       "1                    NaN           NaN  \n",
       "2                    NaN           NaN  \n",
       "3                    NaN           NaN  \n",
       "4                    NaN           NaN  "
      ]
     },
     "execution_count": 46,
     "metadata": {},
     "output_type": "execute_result"
    }
   ],
   "source": [
    "import csv\n",
    "\n",
    "df = pd.read_csv(\"tmp/traindataautopilot_nans.csv\")\n",
    "df.head()"
   ]
  },
  {
   "cell_type": "markdown",
   "metadata": {},
   "source": [
    "# Setup the S3 Location for the Autopilot-Generated Assets \n",
    "This include Jupyter Notebooks (Analysis), Python Scripts (Feature Engineering), and Trained Models."
   ]
  },
  {
   "cell_type": "code",
   "execution_count": 47,
   "metadata": {
    "tags": []
   },
   "outputs": [
    {
     "name": "stdout",
     "output_type": "stream",
     "text": [
      "s3://sagemaker-us-east-1-478947633708/models/autopilot\n"
     ]
    }
   ],
   "source": [
    "prefix_model_output = \"models/autopilot\"\n",
    "\n",
    "model_output_s3_uri = \"s3://{}/{}\".format(bucket, prefix_model_output)\n",
    "\n",
    "print(model_output_s3_uri)"
   ]
  },
  {
   "cell_type": "code",
   "execution_count": 48,
   "metadata": {
    "tags": []
   },
   "outputs": [],
   "source": [
    "max_candidates = 3\n",
    "\n",
    "job_config = {\n",
    "    \"CompletionCriteria\": {\n",
    "        \"MaxRuntimePerTrainingJobInSeconds\": 900,\n",
    "        \"MaxCandidates\": max_candidates,\n",
    "        \"MaxAutoMLJobRuntimeInSeconds\": 5400,\n",
    "    },\n",
    "}\n",
    "\n",
    "input_data_config = [\n",
    "    {\n",
    "        \"DataSource\": {\"S3DataSource\": {\"S3DataType\": \"S3Prefix\", \"S3Uri\": \"{}\".format(autopilot_train_nans_s3_uri)}},\n",
    "        \"TargetAttributeName\": \"TotalAirlineTripstoDC\",\n",
    "    }\n",
    "]\n",
    "\n",
    "output_data_config = {\"S3OutputPath\": \"{}\".format(model_output_s3_uri)}"
   ]
  },
  {
   "cell_type": "markdown",
   "metadata": {},
   "source": [
    "# Check For Existing Autopilot Jobs"
   ]
  },
  {
   "cell_type": "code",
   "execution_count": 49,
   "metadata": {
    "tags": []
   },
   "outputs": [],
   "source": [
    "existing_jobs_response = sm.list_auto_ml_jobs()"
   ]
  },
  {
   "cell_type": "code",
   "execution_count": 50,
   "metadata": {
    "tags": []
   },
   "outputs": [
    {
     "name": "stdout",
     "output_type": "stream",
     "text": [
      "[INFO] You have 0 Autopilot job(s) currently running << Should be 0 jobs.\n"
     ]
    }
   ],
   "source": [
    "num_existing_jobs = 0\n",
    "running_jobs = 0\n",
    "\n",
    "if \"AutoMLJobSummaries\" in existing_jobs_response.keys():\n",
    "    job_list = existing_jobs_response[\"AutoMLJobSummaries\"]\n",
    "    num_existing_jobs = len(job_list)\n",
    "    # print('[INFO] You already created {} Autopilot job(s) in this account.'.format(num_existing_jobs))\n",
    "    for j in job_list:\n",
    "        if \"AutoMLJobStatus\" in j.keys():\n",
    "            if j[\"AutoMLJobStatus\"] == \"InProgress\":\n",
    "                running_jobs = running_jobs + 1\n",
    "    print(\"[INFO] You have {} Autopilot job(s) currently running << Should be 0 jobs.\".format(running_jobs))\n",
    "else:\n",
    "    print(\"[OK] Please continue.\")"
   ]
  },
  {
   "cell_type": "markdown",
   "metadata": {},
   "source": [
    "# Launch the SageMaker Autopilot Job"
   ]
  },
  {
   "cell_type": "code",
   "execution_count": 51,
   "metadata": {
    "tags": []
   },
   "outputs": [],
   "source": [
    "from time import gmtime, strftime, sleep"
   ]
  },
  {
   "cell_type": "code",
   "execution_count": 52,
   "metadata": {
    "tags": []
   },
   "outputs": [],
   "source": [
    "%store -r auto_ml_job_name\n",
    "\n",
    "try:\n",
    "    auto_ml_job_name\n",
    "except NameError:\n",
    "    timestamp_suffix = strftime(\"%d-%H-%M-%S\", gmtime())\n",
    "    auto_ml_job_name = \"automl-dm-\" + timestamp_suffix\n",
    "    print(\"Created AutoMLJobName: \" + auto_ml_job_name)"
   ]
  },
  {
   "cell_type": "code",
   "execution_count": 53,
   "metadata": {
    "tags": []
   },
   "outputs": [
    {
     "name": "stdout",
     "output_type": "stream",
     "text": [
      "automl-dm-03-01-52-28\n"
     ]
    }
   ],
   "source": [
    "print(auto_ml_job_name)"
   ]
  },
  {
   "cell_type": "code",
   "execution_count": 54,
   "metadata": {
    "tags": []
   },
   "outputs": [
    {
     "name": "stdout",
     "output_type": "stream",
     "text": [
      "Stored 'auto_ml_job_name' (str)\n"
     ]
    }
   ],
   "source": [
    "%store auto_ml_job_name"
   ]
  },
  {
   "cell_type": "code",
   "execution_count": 55,
   "metadata": {
    "tags": []
   },
   "outputs": [
    {
     "ename": "ClientError",
     "evalue": "An error occurred (ValidationException) when calling the CreateAutoMLJob operation: Dataset is not large enough: expected minimum number of rows is 500 but only 157 were found.",
     "output_type": "error",
     "traceback": [
      "\u001b[0;31m---------------------------------------------------------------------------\u001b[0m",
      "\u001b[0;31mClientError\u001b[0m                               Traceback (most recent call last)",
      "\u001b[0;32m<ipython-input-55-2a1e71460881>\u001b[0m in \u001b[0;36m<module>\u001b[0;34m\u001b[0m\n\u001b[1;32m      4\u001b[0m             \u001b[0mOutputDataConfig\u001b[0m\u001b[0;34m=\u001b[0m\u001b[0moutput_data_config\u001b[0m\u001b[0;34m,\u001b[0m\u001b[0;34m\u001b[0m\u001b[0;34m\u001b[0m\u001b[0m\n\u001b[1;32m      5\u001b[0m             \u001b[0mAutoMLJobConfig\u001b[0m\u001b[0;34m=\u001b[0m\u001b[0mjob_config\u001b[0m\u001b[0;34m,\u001b[0m\u001b[0;34m\u001b[0m\u001b[0;34m\u001b[0m\u001b[0m\n\u001b[0;32m----> 6\u001b[0;31m             \u001b[0mRoleArn\u001b[0m\u001b[0;34m=\u001b[0m\u001b[0mrole\u001b[0m\u001b[0;34m,\u001b[0m\u001b[0;34m\u001b[0m\u001b[0;34m\u001b[0m\u001b[0m\n\u001b[0m\u001b[1;32m      7\u001b[0m )\n",
      "\u001b[0;32m/opt/conda/lib/python3.7/site-packages/botocore/client.py\u001b[0m in \u001b[0;36m_api_call\u001b[0;34m(self, *args, **kwargs)\u001b[0m\n\u001b[1;32m    528\u001b[0m                 )\n\u001b[1;32m    529\u001b[0m             \u001b[0;31m# The \"self\" in this scope is referring to the BaseClient.\u001b[0m\u001b[0;34m\u001b[0m\u001b[0;34m\u001b[0m\u001b[0;34m\u001b[0m\u001b[0m\n\u001b[0;32m--> 530\u001b[0;31m             \u001b[0;32mreturn\u001b[0m \u001b[0mself\u001b[0m\u001b[0;34m.\u001b[0m\u001b[0m_make_api_call\u001b[0m\u001b[0;34m(\u001b[0m\u001b[0moperation_name\u001b[0m\u001b[0;34m,\u001b[0m \u001b[0mkwargs\u001b[0m\u001b[0;34m)\u001b[0m\u001b[0;34m\u001b[0m\u001b[0;34m\u001b[0m\u001b[0m\n\u001b[0m\u001b[1;32m    531\u001b[0m \u001b[0;34m\u001b[0m\u001b[0m\n\u001b[1;32m    532\u001b[0m         \u001b[0m_api_call\u001b[0m\u001b[0;34m.\u001b[0m\u001b[0m__name__\u001b[0m \u001b[0;34m=\u001b[0m \u001b[0mstr\u001b[0m\u001b[0;34m(\u001b[0m\u001b[0mpy_operation_name\u001b[0m\u001b[0;34m)\u001b[0m\u001b[0;34m\u001b[0m\u001b[0;34m\u001b[0m\u001b[0m\n",
      "\u001b[0;32m/opt/conda/lib/python3.7/site-packages/botocore/client.py\u001b[0m in \u001b[0;36m_make_api_call\u001b[0;34m(self, operation_name, api_params)\u001b[0m\n\u001b[1;32m    958\u001b[0m             \u001b[0merror_code\u001b[0m \u001b[0;34m=\u001b[0m \u001b[0mparsed_response\u001b[0m\u001b[0;34m.\u001b[0m\u001b[0mget\u001b[0m\u001b[0;34m(\u001b[0m\u001b[0;34m\"Error\"\u001b[0m\u001b[0;34m,\u001b[0m \u001b[0;34m{\u001b[0m\u001b[0;34m}\u001b[0m\u001b[0;34m)\u001b[0m\u001b[0;34m.\u001b[0m\u001b[0mget\u001b[0m\u001b[0;34m(\u001b[0m\u001b[0;34m\"Code\"\u001b[0m\u001b[0;34m)\u001b[0m\u001b[0;34m\u001b[0m\u001b[0;34m\u001b[0m\u001b[0m\n\u001b[1;32m    959\u001b[0m             \u001b[0merror_class\u001b[0m \u001b[0;34m=\u001b[0m \u001b[0mself\u001b[0m\u001b[0;34m.\u001b[0m\u001b[0mexceptions\u001b[0m\u001b[0;34m.\u001b[0m\u001b[0mfrom_code\u001b[0m\u001b[0;34m(\u001b[0m\u001b[0merror_code\u001b[0m\u001b[0;34m)\u001b[0m\u001b[0;34m\u001b[0m\u001b[0;34m\u001b[0m\u001b[0m\n\u001b[0;32m--> 960\u001b[0;31m             \u001b[0;32mraise\u001b[0m \u001b[0merror_class\u001b[0m\u001b[0;34m(\u001b[0m\u001b[0mparsed_response\u001b[0m\u001b[0;34m,\u001b[0m \u001b[0moperation_name\u001b[0m\u001b[0;34m)\u001b[0m\u001b[0;34m\u001b[0m\u001b[0;34m\u001b[0m\u001b[0m\n\u001b[0m\u001b[1;32m    961\u001b[0m         \u001b[0;32melse\u001b[0m\u001b[0;34m:\u001b[0m\u001b[0;34m\u001b[0m\u001b[0;34m\u001b[0m\u001b[0m\n\u001b[1;32m    962\u001b[0m             \u001b[0;32mreturn\u001b[0m \u001b[0mparsed_response\u001b[0m\u001b[0;34m\u001b[0m\u001b[0;34m\u001b[0m\u001b[0m\n",
      "\u001b[0;31mClientError\u001b[0m: An error occurred (ValidationException) when calling the CreateAutoMLJob operation: Dataset is not large enough: expected minimum number of rows is 500 but only 157 were found."
     ]
    }
   ],
   "source": [
    "sm.create_auto_ml_job(\n",
    "            AutoMLJobName=auto_ml_job_name,\n",
    "            InputDataConfig=input_data_config,\n",
    "            OutputDataConfig=output_data_config,\n",
    "            AutoMLJobConfig=job_config,\n",
    "            RoleArn=role,\n",
    ")"
   ]
  },
  {
   "cell_type": "markdown",
   "metadata": {},
   "source": [
    "# Release Resources"
   ]
  },
  {
   "cell_type": "code",
   "execution_count": null,
   "metadata": {},
   "outputs": [],
   "source": [
    "%%html\n",
    "\n",
    "<p><b>Shutting down your kernel for this notebook to release resources.</b></p>\n",
    "<button class=\"sm-command-button\" data-commandlinker-command=\"kernelmenu:shutdown\" style=\"display:none;\">Shutdown Kernel</button>\n",
    "        \n",
    "<script>\n",
    "try {\n",
    "    els = document.getElementsByClassName(\"sm-command-button\");\n",
    "    els[0].click();\n",
    "}\n",
    "catch(err) {\n",
    "    // NoOp\n",
    "}    \n",
    "</script>"
   ]
  },
  {
   "cell_type": "code",
   "execution_count": null,
   "metadata": {
    "tags": []
   },
   "outputs": [],
   "source": [
    "%%javascript\n",
    "\n",
    "try {\n",
    "    Jupyter.notebook.save_checkpoint();\n",
    "    Jupyter.notebook.session.delete();\n",
    "}\n",
    "catch(err) {\n",
    "    // NoOp\n",
    "}"
   ]
  }
 ],
 "metadata": {
  "availableInstances": [
   {
    "_defaultOrder": 0,
    "_isFastLaunch": true,
    "category": "General purpose",
    "gpuNum": 0,
    "hideHardwareSpecs": false,
    "memoryGiB": 4,
    "name": "ml.t3.medium",
    "vcpuNum": 2
   },
   {
    "_defaultOrder": 1,
    "_isFastLaunch": false,
    "category": "General purpose",
    "gpuNum": 0,
    "hideHardwareSpecs": false,
    "memoryGiB": 8,
    "name": "ml.t3.large",
    "vcpuNum": 2
   },
   {
    "_defaultOrder": 2,
    "_isFastLaunch": false,
    "category": "General purpose",
    "gpuNum": 0,
    "hideHardwareSpecs": false,
    "memoryGiB": 16,
    "name": "ml.t3.xlarge",
    "vcpuNum": 4
   },
   {
    "_defaultOrder": 3,
    "_isFastLaunch": false,
    "category": "General purpose",
    "gpuNum": 0,
    "hideHardwareSpecs": false,
    "memoryGiB": 32,
    "name": "ml.t3.2xlarge",
    "vcpuNum": 8
   },
   {
    "_defaultOrder": 4,
    "_isFastLaunch": true,
    "category": "General purpose",
    "gpuNum": 0,
    "hideHardwareSpecs": false,
    "memoryGiB": 8,
    "name": "ml.m5.large",
    "vcpuNum": 2
   },
   {
    "_defaultOrder": 5,
    "_isFastLaunch": false,
    "category": "General purpose",
    "gpuNum": 0,
    "hideHardwareSpecs": false,
    "memoryGiB": 16,
    "name": "ml.m5.xlarge",
    "vcpuNum": 4
   },
   {
    "_defaultOrder": 6,
    "_isFastLaunch": false,
    "category": "General purpose",
    "gpuNum": 0,
    "hideHardwareSpecs": false,
    "memoryGiB": 32,
    "name": "ml.m5.2xlarge",
    "vcpuNum": 8
   },
   {
    "_defaultOrder": 7,
    "_isFastLaunch": false,
    "category": "General purpose",
    "gpuNum": 0,
    "hideHardwareSpecs": false,
    "memoryGiB": 64,
    "name": "ml.m5.4xlarge",
    "vcpuNum": 16
   },
   {
    "_defaultOrder": 8,
    "_isFastLaunch": false,
    "category": "General purpose",
    "gpuNum": 0,
    "hideHardwareSpecs": false,
    "memoryGiB": 128,
    "name": "ml.m5.8xlarge",
    "vcpuNum": 32
   },
   {
    "_defaultOrder": 9,
    "_isFastLaunch": false,
    "category": "General purpose",
    "gpuNum": 0,
    "hideHardwareSpecs": false,
    "memoryGiB": 192,
    "name": "ml.m5.12xlarge",
    "vcpuNum": 48
   },
   {
    "_defaultOrder": 10,
    "_isFastLaunch": false,
    "category": "General purpose",
    "gpuNum": 0,
    "hideHardwareSpecs": false,
    "memoryGiB": 256,
    "name": "ml.m5.16xlarge",
    "vcpuNum": 64
   },
   {
    "_defaultOrder": 11,
    "_isFastLaunch": false,
    "category": "General purpose",
    "gpuNum": 0,
    "hideHardwareSpecs": false,
    "memoryGiB": 384,
    "name": "ml.m5.24xlarge",
    "vcpuNum": 96
   },
   {
    "_defaultOrder": 12,
    "_isFastLaunch": false,
    "category": "General purpose",
    "gpuNum": 0,
    "hideHardwareSpecs": false,
    "memoryGiB": 8,
    "name": "ml.m5d.large",
    "vcpuNum": 2
   },
   {
    "_defaultOrder": 13,
    "_isFastLaunch": false,
    "category": "General purpose",
    "gpuNum": 0,
    "hideHardwareSpecs": false,
    "memoryGiB": 16,
    "name": "ml.m5d.xlarge",
    "vcpuNum": 4
   },
   {
    "_defaultOrder": 14,
    "_isFastLaunch": false,
    "category": "General purpose",
    "gpuNum": 0,
    "hideHardwareSpecs": false,
    "memoryGiB": 32,
    "name": "ml.m5d.2xlarge",
    "vcpuNum": 8
   },
   {
    "_defaultOrder": 15,
    "_isFastLaunch": false,
    "category": "General purpose",
    "gpuNum": 0,
    "hideHardwareSpecs": false,
    "memoryGiB": 64,
    "name": "ml.m5d.4xlarge",
    "vcpuNum": 16
   },
   {
    "_defaultOrder": 16,
    "_isFastLaunch": false,
    "category": "General purpose",
    "gpuNum": 0,
    "hideHardwareSpecs": false,
    "memoryGiB": 128,
    "name": "ml.m5d.8xlarge",
    "vcpuNum": 32
   },
   {
    "_defaultOrder": 17,
    "_isFastLaunch": false,
    "category": "General purpose",
    "gpuNum": 0,
    "hideHardwareSpecs": false,
    "memoryGiB": 192,
    "name": "ml.m5d.12xlarge",
    "vcpuNum": 48
   },
   {
    "_defaultOrder": 18,
    "_isFastLaunch": false,
    "category": "General purpose",
    "gpuNum": 0,
    "hideHardwareSpecs": false,
    "memoryGiB": 256,
    "name": "ml.m5d.16xlarge",
    "vcpuNum": 64
   },
   {
    "_defaultOrder": 19,
    "_isFastLaunch": false,
    "category": "General purpose",
    "gpuNum": 0,
    "hideHardwareSpecs": false,
    "memoryGiB": 384,
    "name": "ml.m5d.24xlarge",
    "vcpuNum": 96
   },
   {
    "_defaultOrder": 20,
    "_isFastLaunch": false,
    "category": "General purpose",
    "gpuNum": 0,
    "hideHardwareSpecs": true,
    "memoryGiB": 0,
    "name": "ml.geospatial.interactive",
    "supportedImageNames": [
     "sagemaker-geospatial-v1-0"
    ],
    "vcpuNum": 0
   },
   {
    "_defaultOrder": 21,
    "_isFastLaunch": true,
    "category": "Compute optimized",
    "gpuNum": 0,
    "hideHardwareSpecs": false,
    "memoryGiB": 4,
    "name": "ml.c5.large",
    "vcpuNum": 2
   },
   {
    "_defaultOrder": 22,
    "_isFastLaunch": false,
    "category": "Compute optimized",
    "gpuNum": 0,
    "hideHardwareSpecs": false,
    "memoryGiB": 8,
    "name": "ml.c5.xlarge",
    "vcpuNum": 4
   },
   {
    "_defaultOrder": 23,
    "_isFastLaunch": false,
    "category": "Compute optimized",
    "gpuNum": 0,
    "hideHardwareSpecs": false,
    "memoryGiB": 16,
    "name": "ml.c5.2xlarge",
    "vcpuNum": 8
   },
   {
    "_defaultOrder": 24,
    "_isFastLaunch": false,
    "category": "Compute optimized",
    "gpuNum": 0,
    "hideHardwareSpecs": false,
    "memoryGiB": 32,
    "name": "ml.c5.4xlarge",
    "vcpuNum": 16
   },
   {
    "_defaultOrder": 25,
    "_isFastLaunch": false,
    "category": "Compute optimized",
    "gpuNum": 0,
    "hideHardwareSpecs": false,
    "memoryGiB": 72,
    "name": "ml.c5.9xlarge",
    "vcpuNum": 36
   },
   {
    "_defaultOrder": 26,
    "_isFastLaunch": false,
    "category": "Compute optimized",
    "gpuNum": 0,
    "hideHardwareSpecs": false,
    "memoryGiB": 96,
    "name": "ml.c5.12xlarge",
    "vcpuNum": 48
   },
   {
    "_defaultOrder": 27,
    "_isFastLaunch": false,
    "category": "Compute optimized",
    "gpuNum": 0,
    "hideHardwareSpecs": false,
    "memoryGiB": 144,
    "name": "ml.c5.18xlarge",
    "vcpuNum": 72
   },
   {
    "_defaultOrder": 28,
    "_isFastLaunch": false,
    "category": "Compute optimized",
    "gpuNum": 0,
    "hideHardwareSpecs": false,
    "memoryGiB": 192,
    "name": "ml.c5.24xlarge",
    "vcpuNum": 96
   },
   {
    "_defaultOrder": 29,
    "_isFastLaunch": true,
    "category": "Accelerated computing",
    "gpuNum": 1,
    "hideHardwareSpecs": false,
    "memoryGiB": 16,
    "name": "ml.g4dn.xlarge",
    "vcpuNum": 4
   },
   {
    "_defaultOrder": 30,
    "_isFastLaunch": false,
    "category": "Accelerated computing",
    "gpuNum": 1,
    "hideHardwareSpecs": false,
    "memoryGiB": 32,
    "name": "ml.g4dn.2xlarge",
    "vcpuNum": 8
   },
   {
    "_defaultOrder": 31,
    "_isFastLaunch": false,
    "category": "Accelerated computing",
    "gpuNum": 1,
    "hideHardwareSpecs": false,
    "memoryGiB": 64,
    "name": "ml.g4dn.4xlarge",
    "vcpuNum": 16
   },
   {
    "_defaultOrder": 32,
    "_isFastLaunch": false,
    "category": "Accelerated computing",
    "gpuNum": 1,
    "hideHardwareSpecs": false,
    "memoryGiB": 128,
    "name": "ml.g4dn.8xlarge",
    "vcpuNum": 32
   },
   {
    "_defaultOrder": 33,
    "_isFastLaunch": false,
    "category": "Accelerated computing",
    "gpuNum": 4,
    "hideHardwareSpecs": false,
    "memoryGiB": 192,
    "name": "ml.g4dn.12xlarge",
    "vcpuNum": 48
   },
   {
    "_defaultOrder": 34,
    "_isFastLaunch": false,
    "category": "Accelerated computing",
    "gpuNum": 1,
    "hideHardwareSpecs": false,
    "memoryGiB": 256,
    "name": "ml.g4dn.16xlarge",
    "vcpuNum": 64
   },
   {
    "_defaultOrder": 35,
    "_isFastLaunch": false,
    "category": "Accelerated computing",
    "gpuNum": 1,
    "hideHardwareSpecs": false,
    "memoryGiB": 61,
    "name": "ml.p3.2xlarge",
    "vcpuNum": 8
   },
   {
    "_defaultOrder": 36,
    "_isFastLaunch": false,
    "category": "Accelerated computing",
    "gpuNum": 4,
    "hideHardwareSpecs": false,
    "memoryGiB": 244,
    "name": "ml.p3.8xlarge",
    "vcpuNum": 32
   },
   {
    "_defaultOrder": 37,
    "_isFastLaunch": false,
    "category": "Accelerated computing",
    "gpuNum": 8,
    "hideHardwareSpecs": false,
    "memoryGiB": 488,
    "name": "ml.p3.16xlarge",
    "vcpuNum": 64
   },
   {
    "_defaultOrder": 38,
    "_isFastLaunch": false,
    "category": "Accelerated computing",
    "gpuNum": 8,
    "hideHardwareSpecs": false,
    "memoryGiB": 768,
    "name": "ml.p3dn.24xlarge",
    "vcpuNum": 96
   },
   {
    "_defaultOrder": 39,
    "_isFastLaunch": false,
    "category": "Memory Optimized",
    "gpuNum": 0,
    "hideHardwareSpecs": false,
    "memoryGiB": 16,
    "name": "ml.r5.large",
    "vcpuNum": 2
   },
   {
    "_defaultOrder": 40,
    "_isFastLaunch": false,
    "category": "Memory Optimized",
    "gpuNum": 0,
    "hideHardwareSpecs": false,
    "memoryGiB": 32,
    "name": "ml.r5.xlarge",
    "vcpuNum": 4
   },
   {
    "_defaultOrder": 41,
    "_isFastLaunch": false,
    "category": "Memory Optimized",
    "gpuNum": 0,
    "hideHardwareSpecs": false,
    "memoryGiB": 64,
    "name": "ml.r5.2xlarge",
    "vcpuNum": 8
   },
   {
    "_defaultOrder": 42,
    "_isFastLaunch": false,
    "category": "Memory Optimized",
    "gpuNum": 0,
    "hideHardwareSpecs": false,
    "memoryGiB": 128,
    "name": "ml.r5.4xlarge",
    "vcpuNum": 16
   },
   {
    "_defaultOrder": 43,
    "_isFastLaunch": false,
    "category": "Memory Optimized",
    "gpuNum": 0,
    "hideHardwareSpecs": false,
    "memoryGiB": 256,
    "name": "ml.r5.8xlarge",
    "vcpuNum": 32
   },
   {
    "_defaultOrder": 44,
    "_isFastLaunch": false,
    "category": "Memory Optimized",
    "gpuNum": 0,
    "hideHardwareSpecs": false,
    "memoryGiB": 384,
    "name": "ml.r5.12xlarge",
    "vcpuNum": 48
   },
   {
    "_defaultOrder": 45,
    "_isFastLaunch": false,
    "category": "Memory Optimized",
    "gpuNum": 0,
    "hideHardwareSpecs": false,
    "memoryGiB": 512,
    "name": "ml.r5.16xlarge",
    "vcpuNum": 64
   },
   {
    "_defaultOrder": 46,
    "_isFastLaunch": false,
    "category": "Memory Optimized",
    "gpuNum": 0,
    "hideHardwareSpecs": false,
    "memoryGiB": 768,
    "name": "ml.r5.24xlarge",
    "vcpuNum": 96
   },
   {
    "_defaultOrder": 47,
    "_isFastLaunch": false,
    "category": "Accelerated computing",
    "gpuNum": 1,
    "hideHardwareSpecs": false,
    "memoryGiB": 16,
    "name": "ml.g5.xlarge",
    "vcpuNum": 4
   },
   {
    "_defaultOrder": 48,
    "_isFastLaunch": false,
    "category": "Accelerated computing",
    "gpuNum": 1,
    "hideHardwareSpecs": false,
    "memoryGiB": 32,
    "name": "ml.g5.2xlarge",
    "vcpuNum": 8
   },
   {
    "_defaultOrder": 49,
    "_isFastLaunch": false,
    "category": "Accelerated computing",
    "gpuNum": 1,
    "hideHardwareSpecs": false,
    "memoryGiB": 64,
    "name": "ml.g5.4xlarge",
    "vcpuNum": 16
   },
   {
    "_defaultOrder": 50,
    "_isFastLaunch": false,
    "category": "Accelerated computing",
    "gpuNum": 1,
    "hideHardwareSpecs": false,
    "memoryGiB": 128,
    "name": "ml.g5.8xlarge",
    "vcpuNum": 32
   },
   {
    "_defaultOrder": 51,
    "_isFastLaunch": false,
    "category": "Accelerated computing",
    "gpuNum": 1,
    "hideHardwareSpecs": false,
    "memoryGiB": 256,
    "name": "ml.g5.16xlarge",
    "vcpuNum": 64
   },
   {
    "_defaultOrder": 52,
    "_isFastLaunch": false,
    "category": "Accelerated computing",
    "gpuNum": 4,
    "hideHardwareSpecs": false,
    "memoryGiB": 192,
    "name": "ml.g5.12xlarge",
    "vcpuNum": 48
   },
   {
    "_defaultOrder": 53,
    "_isFastLaunch": false,
    "category": "Accelerated computing",
    "gpuNum": 4,
    "hideHardwareSpecs": false,
    "memoryGiB": 384,
    "name": "ml.g5.24xlarge",
    "vcpuNum": 96
   },
   {
    "_defaultOrder": 54,
    "_isFastLaunch": false,
    "category": "Accelerated computing",
    "gpuNum": 8,
    "hideHardwareSpecs": false,
    "memoryGiB": 768,
    "name": "ml.g5.48xlarge",
    "vcpuNum": 192
   }
  ],
  "instance_type": "ml.t3.medium",
  "kernelspec": {
   "display_name": "Python 3 (Data Science)",
   "language": "python",
   "name": "python3__SAGEMAKER_INTERNAL__arn:aws:sagemaker:us-east-1:081325390199:image/datascience-1.0"
  },
  "language_info": {
   "codemirror_mode": {
    "name": "ipython",
    "version": 3
   },
   "file_extension": ".py",
   "mimetype": "text/x-python",
   "name": "python",
   "nbconvert_exporter": "python",
   "pygments_lexer": "ipython3",
   "version": "3.7.10"
  }
 },
 "nbformat": 4,
 "nbformat_minor": 4
}
