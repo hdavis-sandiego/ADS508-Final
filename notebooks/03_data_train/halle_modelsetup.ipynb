{
 "cells": [
  {
   "cell_type": "code",
   "execution_count": 2,
   "id": "4c2c1932-c85a-4d77-9331-1b02e6b71046",
   "metadata": {
    "tags": []
   },
   "outputs": [],
   "source": [
    "import boto3\n",
    "import sagemaker\n",
    "import csv\n",
    "import pandas as pd\n",
    "\n",
    "sagemaker_session = sagemaker.Session()\n",
    "role = sagemaker.get_execution_role()\n",
    "bucket = sagemaker_session.default_bucket()\n",
    "region = boto3.Session().region_name\n",
    "\n",
    "sm = boto3.Session().client(service_name=\"sagemaker\", region_name=region)"
   ]
  },
  {
   "cell_type": "code",
   "execution_count": 3,
   "id": "dfbe6cff-3974-4c5d-93cc-969a5afa0d00",
   "metadata": {
    "tags": []
   },
   "outputs": [
    {
     "name": "stdout",
     "output_type": "stream",
     "text": [
      "download failed: s3://aurelia-resort-data/model_train/XGboost Forecast//output/xgboost-2023-04-03-21-24-52-673/profiler-output/framework/training_job_end.ts to data_csv/XGboost Forecast/output/xgboost-2023-04-03-21-24-52-673/profiler-output/framework/training_job_end.ts An error occurred (AccessDenied) when calling the GetObject operation: The ciphertext refers to a customer master key that does not exist, does not exist in this region, or you are not allowed to access.\n",
      "download failed: s3://aurelia-resort-data/model_train/XGboost Forecast//output/xgboost-2023-04-03-21-24-52-673/profiler-output/system/incremental/2023040321/1680557220.algo-1.json to data_csv/XGboost Forecast/output/xgboost-2023-04-03-21-24-52-673/profiler-output/system/incremental/2023040321/1680557220.algo-1.json An error occurred (AccessDenied) when calling the GetObject operation: The ciphertext refers to a customer master key that does not exist, does not exist in this region, or you are not allowed to access.\n",
      "download failed: s3://aurelia-resort-data/model_train/XGboost Forecast//output/xgboost-2023-04-03-21-24-52-673/profiler-output/system/incremental/2023040321/1680557160.algo-1.json to data_csv/XGboost Forecast/output/xgboost-2023-04-03-21-24-52-673/profiler-output/system/incremental/2023040321/1680557160.algo-1.json An error occurred (AccessDenied) when calling the GetObject operation: The ciphertext refers to a customer master key that does not exist, does not exist in this region, or you are not allowed to access.\n",
      "download failed: s3://aurelia-resort-data/model_train/XGboost Forecast//output/xgboost-2023-04-03-21-29-45-722/profiler-output/system/training_job_end.ts to data_csv/XGboost Forecast/output/xgboost-2023-04-03-21-29-45-722/profiler-output/system/training_job_end.ts An error occurred (AccessDenied) when calling the GetObject operation: The ciphertext refers to a customer master key that does not exist, does not exist in this region, or you are not allowed to access.\n",
      "download failed: s3://aurelia-resort-data/model_train/XGboost Forecast//output/xgboost-2023-04-03-21-38-52-753/profiler-output/system/incremental/2023040321/1680558000.algo-1.json to data_csv/XGboost Forecast/output/xgboost-2023-04-03-21-38-52-753/profiler-output/system/incremental/2023040321/1680558000.algo-1.json An error occurred (AccessDenied) when calling the GetObject operation: The ciphertext refers to a customer master key that does not exist, does not exist in this region, or you are not allowed to access.\n",
      "download failed: s3://aurelia-resort-data/model_train/XGboost Forecast//output/xgboost-2023-04-03-21-24-52-673/profiler-output/system/training_job_end.ts to data_csv/XGboost Forecast/output/xgboost-2023-04-03-21-24-52-673/profiler-output/system/training_job_end.ts An error occurred (AccessDenied) when calling the GetObject operation: The ciphertext refers to a customer master key that does not exist, does not exist in this region, or you are not allowed to access.\n",
      "download failed: s3://aurelia-resort-data/model_train/XGboost Forecast//output/xgboost-2023-04-03-21-29-45-722/profiler-output/system/incremental/2023040321/1680557460.algo-1.json to data_csv/XGboost Forecast/output/xgboost-2023-04-03-21-29-45-722/profiler-output/system/incremental/2023040321/1680557460.algo-1.json An error occurred (AccessDenied) when calling the GetObject operation: The ciphertext refers to a customer master key that does not exist, does not exist in this region, or you are not allowed to access.\n",
      "download failed: s3://aurelia-resort-data/model_train/XGboost Forecast//output/xgboost-2023-04-03-21-38-52-753/profiler-output/system/training_job_end.ts to data_csv/XGboost Forecast/output/xgboost-2023-04-03-21-38-52-753/profiler-output/system/training_job_end.ts An error occurred (AccessDenied) when calling the GetObject operation: The ciphertext refers to a customer master key that does not exist, does not exist in this region, or you are not allowed to access.\n",
      "download failed: s3://aurelia-resort-data/model_train/XGboost Forecast//output/xgboost-2023-04-03-21-38-52-753/profiler-output/system/incremental/2023040321/1680558060.algo-1.json to data_csv/XGboost Forecast/output/xgboost-2023-04-03-21-38-52-753/profiler-output/system/incremental/2023040321/1680558060.algo-1.json An error occurred (AccessDenied) when calling the GetObject operation: The ciphertext refers to a customer master key that does not exist, does not exist in this region, or you are not allowed to access.\n",
      "download failed: s3://aurelia-resort-data/model_train/XGboost Forecast//output/xgboost-2023-04-03-21-38-52-753/profiler-output/system/incremental/2023040321/1680557940.algo-1.json to data_csv/XGboost Forecast/output/xgboost-2023-04-03-21-38-52-753/profiler-output/system/incremental/2023040321/1680557940.algo-1.json An error occurred (AccessDenied) when calling the GetObject operation: The ciphertext refers to a customer master key that does not exist, does not exist in this region, or you are not allowed to access.\n",
      "download failed: s3://aurelia-resort-data/model_train/XGboost Forecast//output/xgboost-2023-04-03-21-38-52-753/profiler-output/framework/training_job_end.ts to data_csv/XGboost Forecast/output/xgboost-2023-04-03-21-38-52-753/profiler-output/framework/training_job_end.ts An error occurred (AccessDenied) when calling the GetObject operation: The ciphertext refers to a customer master key that does not exist, does not exist in this region, or you are not allowed to access.\n",
      "download failed: s3://aurelia-resort-data/model_train/XGboost Forecast//output/xgboost-2023-04-03-22-30-51-083/profiler-output/system/training_job_end.ts to data_csv/XGboost Forecast/output/xgboost-2023-04-03-22-30-51-083/profiler-output/system/training_job_end.ts An error occurred (AccessDenied) when calling the GetObject operation: The ciphertext refers to a customer master key that does not exist, does not exist in this region, or you are not allowed to access.\n",
      "download failed: s3://aurelia-resort-data/model_train/XGboost Forecast//output/xgboost-2023-04-03-22-30-51-083/profiler-output/framework/training_job_end.ts to data_csv/XGboost Forecast/output/xgboost-2023-04-03-22-30-51-083/profiler-output/framework/training_job_end.ts An error occurred (AccessDenied) when calling the GetObject operation: The ciphertext refers to a customer master key that does not exist, does not exist in this region, or you are not allowed to access.\n",
      "download failed: s3://aurelia-resort-data/model_train/XGboost Forecast//output/xgboost-2023-04-03-21-29-45-722/profiler-output/framework/training_job_end.ts to data_csv/XGboost Forecast/output/xgboost-2023-04-03-21-29-45-722/profiler-output/framework/training_job_end.ts An error occurred (AccessDenied) when calling the GetObject operation: The ciphertext refers to a customer master key that does not exist, does not exist in this region, or you are not allowed to access.\n",
      "download failed: s3://aurelia-resort-data/model_train/XGboost Forecast//output/xgboost-2023-04-03-21-29-45-722/profiler-output/system/incremental/2023040321/1680557520.algo-1.json to data_csv/XGboost Forecast/output/xgboost-2023-04-03-21-29-45-722/profiler-output/system/incremental/2023040321/1680557520.algo-1.json An error occurred (AccessDenied) when calling the GetObject operation: The ciphertext refers to a customer master key that does not exist, does not exist in this region, or you are not allowed to access.\n",
      "download failed: s3://aurelia-resort-data/model_train/XGboost Forecast//output/xgboost-2023-04-03-22-39-30-352/profiler-output/system/training_job_end.ts to data_csv/XGboost Forecast/output/xgboost-2023-04-03-22-39-30-352/profiler-output/system/training_job_end.ts An error occurred (AccessDenied) when calling the GetObject operation: The ciphertext refers to a customer master key that does not exist, does not exist in this region, or you are not allowed to access.\n",
      "download failed: s3://aurelia-resort-data/model_train/XGboost Forecast//output/xgboost-2023-04-03-22-39-30-352/profiler-output/framework/training_job_end.ts to data_csv/XGboost Forecast/output/xgboost-2023-04-03-22-39-30-352/profiler-output/framework/training_job_end.ts An error occurred (AccessDenied) when calling the GetObject operation: The ciphertext refers to a customer master key that does not exist, does not exist in this region, or you are not allowed to access.\n",
      "download failed: s3://aurelia-resort-data/model_train/XGboost Forecast//output/xgboost-2023-04-03-22-39-30-352/profiler-output/system/incremental/2023040322/1680561720.algo-1.json to data_csv/XGboost Forecast/output/xgboost-2023-04-03-22-39-30-352/profiler-output/system/incremental/2023040322/1680561720.algo-1.json An error occurred (AccessDenied) when calling the GetObject operation: The ciphertext refers to a customer master key that does not exist, does not exist in this region, or you are not allowed to access.\n",
      "download failed: s3://aurelia-resort-data/model_train/XGboost Forecast//output/xgboost-2023-04-03-22-30-51-083/profiler-output/system/incremental/2023040322/1680561120.algo-1.json to data_csv/XGboost Forecast/output/xgboost-2023-04-03-22-30-51-083/profiler-output/system/incremental/2023040322/1680561120.algo-1.json An error occurred (AccessDenied) when calling the GetObject operation: The ciphertext refers to a customer master key that does not exist, does not exist in this region, or you are not allowed to access.\n",
      "download failed: s3://aurelia-resort-data/model_train/XGboost Forecast//output/xgboost-2023-04-03-22-39-30-352/profiler-output/system/incremental/2023040322/1680561660.algo-1.json to data_csv/XGboost Forecast/output/xgboost-2023-04-03-22-39-30-352/profiler-output/system/incremental/2023040322/1680561660.algo-1.json An error occurred (AccessDenied) when calling the GetObject operation: The ciphertext refers to a customer master key that does not exist, does not exist in this region, or you are not allowed to access.\n",
      "download failed: s3://aurelia-resort-data/model_train/XGboost Forecast//output/xgboost-2023-04-03-22-30-51-083/profiler-output/system/incremental/2023040322/1680561180.algo-1.json to data_csv/XGboost Forecast/output/xgboost-2023-04-03-22-30-51-083/profiler-output/system/incremental/2023040322/1680561180.algo-1.json An error occurred (AccessDenied) when calling the GetObject operation: The ciphertext refers to a customer master key that does not exist, does not exist in this region, or you are not allowed to access.\n",
      "download failed: s3://aurelia-resort-data/model_train/XGboost Forecast//output/xgboost-2023-04-03-22-48-14-556/profiler-output/system/incremental/2023040322/1680562200.algo-1.json to data_csv/XGboost Forecast/output/xgboost-2023-04-03-22-48-14-556/profiler-output/system/incremental/2023040322/1680562200.algo-1.json An error occurred (AccessDenied) when calling the GetObject operation: The ciphertext refers to a customer master key that does not exist, does not exist in this region, or you are not allowed to access.\n",
      "download failed: s3://aurelia-resort-data/model_train/XGboost Forecast//output/xgboost-2023-04-03-22-48-14-556/profiler-output/system/incremental/2023040322/1680562140.algo-1.json to data_csv/XGboost Forecast/output/xgboost-2023-04-03-22-48-14-556/profiler-output/system/incremental/2023040322/1680562140.algo-1.json An error occurred (AccessDenied) when calling the GetObject operation: The ciphertext refers to a customer master key that does not exist, does not exist in this region, or you are not allowed to access.\n",
      "download failed: s3://aurelia-resort-data/model_train/XGboost Forecast//output/xgboost-2023-04-03-22-48-14-556/profiler-output/framework/training_job_end.ts to data_csv/XGboost Forecast/output/xgboost-2023-04-03-22-48-14-556/profiler-output/framework/training_job_end.ts An error occurred (AccessDenied) when calling the GetObject operation: The ciphertext refers to a customer master key that does not exist, does not exist in this region, or you are not allowed to access.\n",
      "download failed: s3://aurelia-resort-data/model_train/XGboost Forecast//output/xgboost-2023-04-03-22-48-14-556/profiler-output/system/training_job_end.ts to data_csv/XGboost Forecast/output/xgboost-2023-04-03-22-48-14-556/profiler-output/system/training_job_end.ts An error occurred (AccessDenied) when calling the GetObject operation: The ciphertext refers to a customer master key that does not exist, does not exist in this region, or you are not allowed to access.\n",
      "download failed: s3://aurelia-resort-data/model_train/XGboost Forecast//output/xgboost-2023-04-03-22-50-10-111/profiler-output/framework/training_job_end.ts to data_csv/XGboost Forecast/output/xgboost-2023-04-03-22-50-10-111/profiler-output/framework/training_job_end.ts An error occurred (AccessDenied) when calling the GetObject operation: The ciphertext refers to a customer master key that does not exist, does not exist in this region, or you are not allowed to access.\n",
      "download failed: s3://aurelia-resort-data/model_train/XGboost Forecast//output/xgboost-2023-04-03-22-50-10-111/profiler-output/system/training_job_end.ts to data_csv/XGboost Forecast/output/xgboost-2023-04-03-22-50-10-111/profiler-output/system/training_job_end.ts An error occurred (AccessDenied) when calling the GetObject operation: The ciphertext refers to a customer master key that does not exist, does not exist in this region, or you are not allowed to access.\n",
      "download failed: s3://aurelia-resort-data/model_train/XGboost Forecast//output/xgboost-2023-04-03-22-50-10-111/profiler-output/system/incremental/2023040322/1680562260.algo-1.json to data_csv/XGboost Forecast/output/xgboost-2023-04-03-22-50-10-111/profiler-output/system/incremental/2023040322/1680562260.algo-1.json An error occurred (AccessDenied) when calling the GetObject operation: The ciphertext refers to a customer master key that does not exist, does not exist in this region, or you are not allowed to access.\n",
      "download failed: s3://aurelia-resort-data/model_train/XGboost Forecast//output/xgboost-2023-04-03-22-50-10-111/profiler-output/system/incremental/2023040322/1680562320.algo-1.json to data_csv/XGboost Forecast/output/xgboost-2023-04-03-22-50-10-111/profiler-output/system/incremental/2023040322/1680562320.algo-1.json An error occurred (AccessDenied) when calling the GetObject operation: The ciphertext refers to a customer master key that does not exist, does not exist in this region, or you are not allowed to access.\n",
      "download failed: s3://aurelia-resort-data/model_train/XGboost Forecast//output/xgboost-2023-04-03-23-08-17-253/profiler-output/framework/training_job_end.ts to data_csv/XGboost Forecast/output/xgboost-2023-04-03-23-08-17-253/profiler-output/framework/training_job_end.ts An error occurred (AccessDenied) when calling the GetObject operation: The ciphertext refers to a customer master key that does not exist, does not exist in this region, or you are not allowed to access.\n",
      "download failed: s3://aurelia-resort-data/model_train/XGboost Forecast//output/xgboost-2023-04-03-23-08-17-253/profiler-output/system/training_job_end.ts to data_csv/XGboost Forecast/output/xgboost-2023-04-03-23-08-17-253/profiler-output/system/training_job_end.ts An error occurred (AccessDenied) when calling the GetObject operation: The ciphertext refers to a customer master key that does not exist, does not exist in this region, or you are not allowed to access.\n",
      "download failed: s3://aurelia-resort-data/model_train/XGboost Forecast//output/xgboost-2023-04-03-22-39-30-352/profiler-output/system/incremental/2023040322/1680561600.algo-1.json to data_csv/XGboost Forecast/output/xgboost-2023-04-03-22-39-30-352/profiler-output/system/incremental/2023040322/1680561600.algo-1.json An error occurred (AccessDenied) when calling the GetObject operation: The ciphertext refers to a customer master key that does not exist, does not exist in this region, or you are not allowed to access.\n",
      "download failed: s3://aurelia-resort-data/model_train/XGboost Forecast//output/xgboost-2023-04-03-23-08-17-253/profiler-output/system/incremental/2023040323/1680563340.algo-1.json to data_csv/XGboost Forecast/output/xgboost-2023-04-03-23-08-17-253/profiler-output/system/incremental/2023040323/1680563340.algo-1.json An error occurred (AccessDenied) when calling the GetObject operation: The ciphertext refers to a customer master key that does not exist, does not exist in this region, or you are not allowed to access.\n",
      "download failed: s3://aurelia-resort-data/model_train/XGboost Forecast//output/xgboost-2023-04-03-23-00-00-445/profiler-output/system/incremental/2023040323/1680563040.algo-1.json to data_csv/XGboost Forecast/output/xgboost-2023-04-03-23-00-00-445/profiler-output/system/incremental/2023040323/1680563040.algo-1.json An error occurred (AccessDenied) when calling the GetObject operation: The ciphertext refers to a customer master key that does not exist, does not exist in this region, or you are not allowed to access.\n",
      "download failed: s3://aurelia-resort-data/model_train/XGboost Forecast//output/xgboost-2023-04-03-23-08-17-253/profiler-output/system/incremental/2023040323/1680563400.algo-1.json to data_csv/XGboost Forecast/output/xgboost-2023-04-03-23-08-17-253/profiler-output/system/incremental/2023040323/1680563400.algo-1.json An error occurred (AccessDenied) when calling the GetObject operation: The ciphertext refers to a customer master key that does not exist, does not exist in this region, or you are not allowed to access.\n",
      "download failed: s3://aurelia-resort-data/model_train/XGboost Forecast//output/xgboost-2023-04-03-23-14-32-757/profiler-output/system/incremental/2023040323/1680563880.algo-1.json to data_csv/XGboost Forecast/output/xgboost-2023-04-03-23-14-32-757/profiler-output/system/incremental/2023040323/1680563880.algo-1.json An error occurred (AccessDenied) when calling the GetObject operation: The ciphertext refers to a customer master key that does not exist, does not exist in this region, or you are not allowed to access.\n",
      "download failed: s3://aurelia-resort-data/model_train/XGboost Forecast//output/xgboost-2023-04-03-23-00-00-445/profiler-output/framework/training_job_end.ts to data_csv/XGboost Forecast/output/xgboost-2023-04-03-23-00-00-445/profiler-output/framework/training_job_end.ts An error occurred (AccessDenied) when calling the GetObject operation: The ciphertext refers to a customer master key that does not exist, does not exist in this region, or you are not allowed to access.\n",
      "download failed: s3://aurelia-resort-data/model_train/XGboost Forecast//output/xgboost-2023-04-03-23-14-32-757/profiler-output/system/training_job_end.ts to data_csv/XGboost Forecast/output/xgboost-2023-04-03-23-14-32-757/profiler-output/system/training_job_end.ts An error occurred (AccessDenied) when calling the GetObject operation: The ciphertext refers to a customer master key that does not exist, does not exist in this region, or you are not allowed to access.\n",
      "download failed: s3://aurelia-resort-data/model_train/XGboost Forecast//output/xgboost-2023-04-03-23-08-17-253/profiler-output/system/incremental/2023040323/1680563460.algo-1.json to data_csv/XGboost Forecast/output/xgboost-2023-04-03-23-08-17-253/profiler-output/system/incremental/2023040323/1680563460.algo-1.json An error occurred (AccessDenied) when calling the GetObject operation: The ciphertext refers to a customer master key that does not exist, does not exist in this region, or you are not allowed to access.\n",
      "download failed: s3://aurelia-resort-data/model_train/XGboost Forecast//output/xgboost-2023-04-03-23-14-32-757/profiler-output/framework/training_job_end.ts to data_csv/XGboost Forecast/output/xgboost-2023-04-03-23-14-32-757/profiler-output/framework/training_job_end.ts An error occurred (AccessDenied) when calling the GetObject operation: The ciphertext refers to a customer master key that does not exist, does not exist in this region, or you are not allowed to access.\n",
      "download failed: s3://aurelia-resort-data/model_train/XGboost Forecast//output/xgboost-2023-04-03-23-00-00-445/profiler-output/system/training_job_end.ts to data_csv/XGboost Forecast/output/xgboost-2023-04-03-23-00-00-445/profiler-output/system/training_job_end.ts An error occurred (AccessDenied) when calling the GetObject operation: The ciphertext refers to a customer master key that does not exist, does not exist in this region, or you are not allowed to access.\n",
      "download failed: s3://aurelia-resort-data/model_train/XGboost Forecast//output/xgboost-2023-04-03-23-14-32-757/profiler-output/system/incremental/2023040323/1680563820.algo-1.json to data_csv/XGboost Forecast/output/xgboost-2023-04-03-23-14-32-757/profiler-output/system/incremental/2023040323/1680563820.algo-1.json An error occurred (AccessDenied) when calling the GetObject operation: The ciphertext refers to a customer master key that does not exist, does not exist in this region, or you are not allowed to access.\n",
      "download failed: s3://aurelia-resort-data/model_train/XGboost Forecast//output/xgboost-2023-04-03-23-14-32-757/profiler-output/system/incremental/2023040323/1680563760.algo-1.json to data_csv/XGboost Forecast/output/xgboost-2023-04-03-23-14-32-757/profiler-output/system/incremental/2023040323/1680563760.algo-1.json An error occurred (AccessDenied) when calling the GetObject operation: The ciphertext refers to a customer master key that does not exist, does not exist in this region, or you are not allowed to access.\n",
      "download failed: s3://aurelia-resort-data/model_train/XGboost Forecast//output/xgboost-2023-04-03-23-20-13-570/profiler-output/framework/training_job_end.ts to data_csv/XGboost Forecast/output/xgboost-2023-04-03-23-20-13-570/profiler-output/framework/training_job_end.ts An error occurred (AccessDenied) when calling the GetObject operation: The ciphertext refers to a customer master key that does not exist, does not exist in this region, or you are not allowed to access.\n",
      "download failed: s3://aurelia-resort-data/model_train/XGboost Forecast//output/xgboost-2023-04-03-23-20-13-570/profiler-output/system/incremental/2023040323/1680564120.algo-1.json to data_csv/XGboost Forecast/output/xgboost-2023-04-03-23-20-13-570/profiler-output/system/incremental/2023040323/1680564120.algo-1.json An error occurred (AccessDenied) when calling the GetObject operation: The ciphertext refers to a customer master key that does not exist, does not exist in this region, or you are not allowed to access.\n",
      "download failed: s3://aurelia-resort-data/model_train/XGboost Forecast//output/xgboost-2023-04-03-23-25-52-138/profiler-output/framework/training_job_end.ts to data_csv/XGboost Forecast/output/xgboost-2023-04-03-23-25-52-138/profiler-output/framework/training_job_end.ts An error occurred (AccessDenied) when calling the GetObject operation: The ciphertext refers to a customer master key that does not exist, does not exist in this region, or you are not allowed to access.\n",
      "download failed: s3://aurelia-resort-data/model_train/XGboost Forecast//output/xgboost-2023-04-03-23-25-52-138/profiler-output/system/incremental/2023040323/1680564540.algo-1.json to data_csv/XGboost Forecast/output/xgboost-2023-04-03-23-25-52-138/profiler-output/system/incremental/2023040323/1680564540.algo-1.json An error occurred (AccessDenied) when calling the GetObject operation: The ciphertext refers to a customer master key that does not exist, does not exist in this region, or you are not allowed to access.\n",
      "download failed: s3://aurelia-resort-data/model_train/XGboost Forecast//output/xgboost-2023-04-03-23-25-52-138/output/model.tar.gz to data_csv/XGboost Forecast/output/xgboost-2023-04-03-23-25-52-138/output/model.tar.gz An error occurred (AccessDenied) when calling the GetObject operation: The ciphertext refers to a customer master key that does not exist, does not exist in this region, or you are not allowed to access.\n",
      "download failed: s3://aurelia-resort-data/model_train/XGboost Forecast//output/xgboost-2023-04-03-23-25-52-138/profiler-output/system/incremental/2023040323/1680564420.algo-1.json to data_csv/XGboost Forecast/output/xgboost-2023-04-03-23-25-52-138/profiler-output/system/incremental/2023040323/1680564420.algo-1.json An error occurred (AccessDenied) when calling the GetObject operation: The ciphertext refers to a customer master key that does not exist, does not exist in this region, or you are not allowed to access.\n",
      "download failed: s3://aurelia-resort-data/model_train/XGboost Forecast//output/xgboost-2023-04-03-23-25-52-138/profiler-output/system/training_job_end.ts to data_csv/XGboost Forecast/output/xgboost-2023-04-03-23-25-52-138/profiler-output/system/training_job_end.ts An error occurred (AccessDenied) when calling the GetObject operation: The ciphertext refers to a customer master key that does not exist, does not exist in this region, or you are not allowed to access.\n",
      "download failed: s3://aurelia-resort-data/model_train/XGboost Forecast//output/xgboost-2023-04-03-23-20-13-570/profiler-output/system/incremental/2023040323/1680564180.algo-1.json to data_csv/XGboost Forecast/output/xgboost-2023-04-03-23-20-13-570/profiler-output/system/incremental/2023040323/1680564180.algo-1.json An error occurred (AccessDenied) when calling the GetObject operation: The ciphertext refers to a customer master key that does not exist, does not exist in this region, or you are not allowed to access.\n",
      "download failed: s3://aurelia-resort-data/model_train/XGboost Forecast//output/xgboost-2023-04-03-23-46-42-658/profiler-output/system/incremental/2023040323/1680565680.algo-1.json to data_csv/XGboost Forecast/output/xgboost-2023-04-03-23-46-42-658/profiler-output/system/incremental/2023040323/1680565680.algo-1.json An error occurred (AccessDenied) when calling the GetObject operation: The ciphertext refers to a customer master key that does not exist, does not exist in this region, or you are not allowed to access.\n",
      "download failed: s3://aurelia-resort-data/model_train/XGboost Forecast//output/xgboost-2023-04-03-23-20-13-570/profiler-output/system/incremental/2023040323/1680564060.algo-1.json to data_csv/XGboost Forecast/output/xgboost-2023-04-03-23-20-13-570/profiler-output/system/incremental/2023040323/1680564060.algo-1.json An error occurred (AccessDenied) when calling the GetObject operation: The ciphertext refers to a customer master key that does not exist, does not exist in this region, or you are not allowed to access.\n",
      "download failed: s3://aurelia-resort-data/model_train/XGboost Forecast//output/xgboost-2023-04-03-23-46-42-658/profiler-output/framework/training_job_end.ts to data_csv/XGboost Forecast/output/xgboost-2023-04-03-23-46-42-658/profiler-output/framework/training_job_end.ts An error occurred (AccessDenied) when calling the GetObject operation: The ciphertext refers to a customer master key that does not exist, does not exist in this region, or you are not allowed to access.\n",
      "download failed: s3://aurelia-resort-data/model_train/XGboost Forecast//output/xgboost-2023-04-03-23-46-42-658/profiler-output/system/training_job_end.ts to data_csv/XGboost Forecast/output/xgboost-2023-04-03-23-46-42-658/profiler-output/system/training_job_end.ts An error occurred (AccessDenied) when calling the GetObject operation: The ciphertext refers to a customer master key that does not exist, does not exist in this region, or you are not allowed to access.\n",
      "download failed: s3://aurelia-resort-data/model_train/XGboost Forecast//output/xgboost-2023-04-03-23-25-52-138/profiler-output/system/incremental/2023040323/1680564480.algo-1.json to data_csv/XGboost Forecast/output/xgboost-2023-04-03-23-25-52-138/profiler-output/system/incremental/2023040323/1680564480.algo-1.json An error occurred (AccessDenied) when calling the GetObject operation: The ciphertext refers to a customer master key that does not exist, does not exist in this region, or you are not allowed to access.\n",
      "download failed: s3://aurelia-resort-data/model_train/amazon_forecast/forecasting-deepar-2023-04-03-05-17-41-535/debug-output/training_job_end.ts to data_csv/amazon_forecast/forecasting-deepar-2023-04-03-05-17-41-535/debug-output/training_job_end.ts An error occurred (AccessDenied) when calling the GetObject operation: The ciphertext refers to a customer master key that does not exist, does not exist in this region, or you are not allowed to access.\n",
      "download failed: s3://aurelia-resort-data/model_train/XGboost Forecast//output/xgboost-2023-04-03-23-46-42-658/profiler-output/system/incremental/2023040323/1680565740.algo-1.json to data_csv/XGboost Forecast/output/xgboost-2023-04-03-23-46-42-658/profiler-output/system/incremental/2023040323/1680565740.algo-1.json An error occurred (AccessDenied) when calling the GetObject operation: The ciphertext refers to a customer master key that does not exist, does not exist in this region, or you are not allowed to access.\n",
      "download failed: s3://aurelia-resort-data/model_train/amazon_forecast/forecasting-deepar-2023-04-03-05-17-41-535/profiler-output/framework/training_job_end.ts to data_csv/amazon_forecast/forecasting-deepar-2023-04-03-05-17-41-535/profiler-output/framework/training_job_end.ts An error occurred (AccessDenied) when calling the GetObject operation: The ciphertext refers to a customer master key that does not exist, does not exist in this region, or you are not allowed to access.\n",
      "download failed: s3://aurelia-resort-data/model_train/amazon_forecast/forecasting-deepar-2023-04-03-05-17-41-535/profiler-output/system/training_job_end.ts to data_csv/amazon_forecast/forecasting-deepar-2023-04-03-05-17-41-535/profiler-output/system/training_job_end.ts An error occurred (AccessDenied) when calling the GetObject operation: The ciphertext refers to a customer master key that does not exist, does not exist in this region, or you are not allowed to access.\n",
      "download failed: s3://aurelia-resort-data/model_train/amazon_forecast/forecasting-deepar-2023-04-03-05-17-41-535/profiler-output/system/incremental/2023040305/1680499260.algo-1.json to data_csv/amazon_forecast/forecasting-deepar-2023-04-03-05-17-41-535/profiler-output/system/incremental/2023040305/1680499260.algo-1.json An error occurred (AccessDenied) when calling the GetObject operation: The ciphertext refers to a customer master key that does not exist, does not exist in this region, or you are not allowed to access.\n",
      "download failed: s3://aurelia-resort-data/model_train/XGboost Forecast//output/xgboost-2023-04-03-23-20-13-570/profiler-output/system/training_job_end.ts to data_csv/XGboost Forecast/output/xgboost-2023-04-03-23-20-13-570/profiler-output/system/training_job_end.ts An error occurred (AccessDenied) when calling the GetObject operation: The ciphertext refers to a customer master key that does not exist, does not exist in this region, or you are not allowed to access.\n",
      "download failed: s3://aurelia-resort-data/model_train/amazon_forecast/forecasting-deepar-2023-04-03-05-17-41-535/profiler-output/system/incremental/2023040305/1680499080.algo-1.json to data_csv/amazon_forecast/forecasting-deepar-2023-04-03-05-17-41-535/profiler-output/system/incremental/2023040305/1680499080.algo-1.json An error occurred (AccessDenied) when calling the GetObject operation: The ciphertext refers to a customer master key that does not exist, does not exist in this region, or you are not allowed to access.\n",
      "download failed: s3://aurelia-resort-data/model_train/amazon_forecast/forecasting-deepar-2023-04-03-05-26-10-347/debug-output/training_job_end.ts to data_csv/amazon_forecast/forecasting-deepar-2023-04-03-05-26-10-347/debug-output/training_job_end.ts An error occurred (AccessDenied) when calling the GetObject operation: The ciphertext refers to a customer master key that does not exist, does not exist in this region, or you are not allowed to access.\n",
      "download failed: s3://aurelia-resort-data/model_train/amazon_forecast/forecasting-deepar-2023-04-03-05-26-10-347/profiler-output/framework/training_job_end.ts to data_csv/amazon_forecast/forecasting-deepar-2023-04-03-05-26-10-347/profiler-output/framework/training_job_end.ts An error occurred (AccessDenied) when calling the GetObject operation: The ciphertext refers to a customer master key that does not exist, does not exist in this region, or you are not allowed to access.\n",
      "download failed: s3://aurelia-resort-data/model_train/amazon_forecast/forecasting-deepar-2023-04-03-05-17-41-535/profiler-output/system/incremental/2023040305/1680499140.algo-1.json to data_csv/amazon_forecast/forecasting-deepar-2023-04-03-05-17-41-535/profiler-output/system/incremental/2023040305/1680499140.algo-1.json An error occurred (AccessDenied) when calling the GetObject operation: The ciphertext refers to a customer master key that does not exist, does not exist in this region, or you are not allowed to access.\n",
      "download failed: s3://aurelia-resort-data/model_train/amazon_forecast/forecasting-deepar-2023-04-03-05-26-10-347/profiler-output/system/incremental/2023040305/1680499680.algo-1.json to data_csv/amazon_forecast/forecasting-deepar-2023-04-03-05-26-10-347/profiler-output/system/incremental/2023040305/1680499680.algo-1.json An error occurred (AccessDenied) when calling the GetObject operation: The ciphertext refers to a customer master key that does not exist, does not exist in this region, or you are not allowed to access.\n",
      "download failed: s3://aurelia-resort-data/model_train/amazon_forecast/forecasting-deepar-2023-04-03-05-26-10-347/profiler-output/system/training_job_end.ts to data_csv/amazon_forecast/forecasting-deepar-2023-04-03-05-26-10-347/profiler-output/system/training_job_end.ts An error occurred (AccessDenied) when calling the GetObject operation: The ciphertext refers to a customer master key that does not exist, does not exist in this region, or you are not allowed to access.\n",
      "download: s3://aurelia-resort-data/model_train/data_csv/test.csv to data_csv/data_csv/test.csv\n",
      "download: s3://aurelia-resort-data/model_train/data_csv/test_nans.csv to data_csv/data_csv/test_nans.csv\n",
      "download failed: s3://aurelia-resort-data/model_train/amazon_forecast/forecasting-deepar-2023-04-03-05-26-10-347/profiler-output/system/incremental/2023040305/1680499740.algo-1.json to data_csv/amazon_forecast/forecasting-deepar-2023-04-03-05-26-10-347/profiler-output/system/incremental/2023040305/1680499740.algo-1.json An error occurred (AccessDenied) when calling the GetObject operation: The ciphertext refers to a customer master key that does not exist, does not exist in this region, or you are not allowed to access.\n",
      "download failed: s3://aurelia-resort-data/model_train/deepAR/output/deepar-hotel-2023-04-02-22-43-53-696/debug-output/training_job_end.ts to data_csv/deepAR/output/deepar-hotel-2023-04-02-22-43-53-696/debug-output/training_job_end.ts An error occurred (AccessDenied) when calling the GetObject operation: The ciphertext refers to a customer master key that does not exist, does not exist in this region, or you are not allowed to access.\n",
      "download failed: s3://aurelia-resort-data/model_train/amazon_forecast/forecasting-deepar-2023-04-03-05-17-41-535/profiler-output/system/incremental/2023040305/1680499200.algo-1.json to data_csv/amazon_forecast/forecasting-deepar-2023-04-03-05-17-41-535/profiler-output/system/incremental/2023040305/1680499200.algo-1.json An error occurred (AccessDenied) when calling the GetObject operation: The ciphertext refers to a customer master key that does not exist, does not exist in this region, or you are not allowed to access.\n",
      "download: s3://aurelia-resort-data/model_train/data_csv/train.csv to data_csv/data_csv/train.csv\n",
      "download failed: s3://aurelia-resort-data/model_train/amazon_forecast/forecasting-deepar-2023-04-03-05-26-10-347/profiler-output/system/incremental/2023040305/1680499620.algo-1.json to data_csv/amazon_forecast/forecasting-deepar-2023-04-03-05-26-10-347/profiler-output/system/incremental/2023040305/1680499620.algo-1.json An error occurred (AccessDenied) when calling the GetObject operation: The ciphertext refers to a customer master key that does not exist, does not exist in this region, or you are not allowed to access.\n",
      "download failed: s3://aurelia-resort-data/model_train/deepAR/output/deepar-hotel-2023-04-02-22-43-53-696/profiler-output/system/incremental/2023040222/1680475500.algo-1.json to data_csv/deepAR/output/deepar-hotel-2023-04-02-22-43-53-696/profiler-output/system/incremental/2023040222/1680475500.algo-1.json An error occurred (AccessDenied) when calling the GetObject operation: The ciphertext refers to a customer master key that does not exist, does not exist in this region, or you are not allowed to access.\n",
      "download: s3://aurelia-resort-data/model_train/data_csv/train_nans.csv to data_csv/data_csv/train_nans.csv\n",
      "download failed: s3://aurelia-resort-data/model_train/deepAR/output/deepar-hotel-2023-04-02-22-43-53-696/profiler-output/system/incremental/2023040222/1680475620.algo-1.json to data_csv/deepAR/output/deepar-hotel-2023-04-02-22-43-53-696/profiler-output/system/incremental/2023040222/1680475620.algo-1.json An error occurred (AccessDenied) when calling the GetObject operation: The ciphertext refers to a customer master key that does not exist, does not exist in this region, or you are not allowed to access.\n",
      "download failed: s3://aurelia-resort-data/model_train/deepAR/output/deepar-hotel-2023-04-02-22-43-53-696/profiler-output/framework/training_job_end.ts to data_csv/deepAR/output/deepar-hotel-2023-04-02-22-43-53-696/profiler-output/framework/training_job_end.ts An error occurred (AccessDenied) when calling the GetObject operation: The ciphertext refers to a customer master key that does not exist, does not exist in this region, or you are not allowed to access.\n",
      "download failed: s3://aurelia-resort-data/model_train/deepAR/output/deepar-hotel-2023-04-02-22-43-53-696/profiler-output/system/incremental/2023040222/1680475560.algo-1.json to data_csv/deepAR/output/deepar-hotel-2023-04-02-22-43-53-696/profiler-output/system/incremental/2023040222/1680475560.algo-1.json An error occurred (AccessDenied) when calling the GetObject operation: The ciphertext refers to a customer master key that does not exist, does not exist in this region, or you are not allowed to access.\n",
      "download failed: s3://aurelia-resort-data/model_train/deepAR/output/deepar-hotel-2023-04-02-22-43-53-696/profiler-output/system/training_job_end.ts to data_csv/deepAR/output/deepar-hotel-2023-04-02-22-43-53-696/profiler-output/system/training_job_end.ts An error occurred (AccessDenied) when calling the GetObject operation: The ciphertext refers to a customer master key that does not exist, does not exist in this region, or you are not allowed to access.\n",
      "download failed: s3://aurelia-resort-data/model_train/deepAR/output/deepar-hotel-2023-04-02-22-49-04-715/debug-output/training_job_end.ts to data_csv/deepAR/output/deepar-hotel-2023-04-02-22-49-04-715/debug-output/training_job_end.ts An error occurred (AccessDenied) when calling the GetObject operation: The ciphertext refers to a customer master key that does not exist, does not exist in this region, or you are not allowed to access.\n",
      "download failed: s3://aurelia-resort-data/model_train/deepAR/output/deepar-hotel-2023-04-02-22-49-04-715/profiler-output/system/training_job_end.ts to data_csv/deepAR/output/deepar-hotel-2023-04-02-22-49-04-715/profiler-output/system/training_job_end.ts An error occurred (AccessDenied) when calling the GetObject operation: The ciphertext refers to a customer master key that does not exist, does not exist in this region, or you are not allowed to access.\n",
      "download failed: s3://aurelia-resort-data/model_train/deepAR/output/deepar-hotel-2023-04-02-22-49-04-715/profiler-output/system/incremental/2023040222/1680475920.algo-1.json to data_csv/deepAR/output/deepar-hotel-2023-04-02-22-49-04-715/profiler-output/system/incremental/2023040222/1680475920.algo-1.json An error occurred (AccessDenied) when calling the GetObject operation: The ciphertext refers to a customer master key that does not exist, does not exist in this region, or you are not allowed to access.\n",
      "download failed: s3://aurelia-resort-data/model_train/deepAR/output/deepar-hotel-2023-04-02-22-49-04-715/profiler-output/system/incremental/2023040222/1680475860.algo-1.json to data_csv/deepAR/output/deepar-hotel-2023-04-02-22-49-04-715/profiler-output/system/incremental/2023040222/1680475860.algo-1.json An error occurred (AccessDenied) when calling the GetObject operation: The ciphertext refers to a customer master key that does not exist, does not exist in this region, or you are not allowed to access.\n",
      "download failed: s3://aurelia-resort-data/model_train/deepAR/output/deepar-hotel-2023-04-02-23-15-32-396/profiler-output/system/incremental/2023040223/1680477360.algo-1.json to data_csv/deepAR/output/deepar-hotel-2023-04-02-23-15-32-396/profiler-output/system/incremental/2023040223/1680477360.algo-1.json An error occurred (AccessDenied) when calling the GetObject operation: The ciphertext refers to a customer master key that does not exist, does not exist in this region, or you are not allowed to access.\n",
      "download failed: s3://aurelia-resort-data/model_train/deepAR/output/deepar-hotel-2023-04-02-22-49-04-715/profiler-output/framework/training_job_end.ts to data_csv/deepAR/output/deepar-hotel-2023-04-02-22-49-04-715/profiler-output/framework/training_job_end.ts An error occurred (AccessDenied) when calling the GetObject operation: The ciphertext refers to a customer master key that does not exist, does not exist in this region, or you are not allowed to access.\n",
      "download failed: s3://aurelia-resort-data/model_train/deepAR/output/deepar-hotel-2023-04-02-22-49-04-715/profiler-output/system/incremental/2023040222/1680475800.algo-1.json to data_csv/deepAR/output/deepar-hotel-2023-04-02-22-49-04-715/profiler-output/system/incremental/2023040222/1680475800.algo-1.json An error occurred (AccessDenied) when calling the GetObject operation: The ciphertext refers to a customer master key that does not exist, does not exist in this region, or you are not allowed to access.\n",
      "download failed: s3://aurelia-resort-data/model_train/deepAR/output/deepar-hotel-2023-04-02-23-25-06-536/debug-output/training_job_end.ts to data_csv/deepAR/output/deepar-hotel-2023-04-02-23-25-06-536/debug-output/training_job_end.ts An error occurred (AccessDenied) when calling the GetObject operation: The ciphertext refers to a customer master key that does not exist, does not exist in this region, or you are not allowed to access.\n",
      "download failed: s3://aurelia-resort-data/model_train/deepAR/output/deepar-hotel-2023-04-02-23-15-32-396/profiler-output/system/incremental/2023040223/1680477480.algo-1.json to data_csv/deepAR/output/deepar-hotel-2023-04-02-23-15-32-396/profiler-output/system/incremental/2023040223/1680477480.algo-1.json An error occurred (AccessDenied) when calling the GetObject operation: The ciphertext refers to a customer master key that does not exist, does not exist in this region, or you are not allowed to access.\n",
      "download failed: s3://aurelia-resort-data/model_train/deepAR/output/deepar-hotel-2023-04-02-23-15-32-396/profiler-output/system/incremental/2023040223/1680477420.algo-1.json to data_csv/deepAR/output/deepar-hotel-2023-04-02-23-15-32-396/profiler-output/system/incremental/2023040223/1680477420.algo-1.json An error occurred (AccessDenied) when calling the GetObject operation: The ciphertext refers to a customer master key that does not exist, does not exist in this region, or you are not allowed to access.\n",
      "download failed: s3://aurelia-resort-data/model_train/deepAR/output/deepar-hotel-2023-04-02-23-15-32-396/profiler-output/system/training_job_end.ts to data_csv/deepAR/output/deepar-hotel-2023-04-02-23-15-32-396/profiler-output/system/training_job_end.ts An error occurred (AccessDenied) when calling the GetObject operation: The ciphertext refers to a customer master key that does not exist, does not exist in this region, or you are not allowed to access.\n",
      "download failed: s3://aurelia-resort-data/model_train/deepAR/output/deepar-hotel-2023-04-02-23-15-32-396/debug-output/training_job_end.ts to data_csv/deepAR/output/deepar-hotel-2023-04-02-23-15-32-396/debug-output/training_job_end.ts An error occurred (AccessDenied) when calling the GetObject operation: The ciphertext refers to a customer master key that does not exist, does not exist in this region, or you are not allowed to access.\n",
      "download failed: s3://aurelia-resort-data/model_train/deepAR/output/deepar-hotel-2023-04-02-23-25-06-536/profiler-output/framework/training_job_end.ts to data_csv/deepAR/output/deepar-hotel-2023-04-02-23-25-06-536/profiler-output/framework/training_job_end.ts An error occurred (AccessDenied) when calling the GetObject operation: The ciphertext refers to a customer master key that does not exist, does not exist in this region, or you are not allowed to access.\n",
      "download failed: s3://aurelia-resort-data/model_train/deepAR/output/deepar-hotel-2023-04-02-23-25-06-536/profiler-output/system/incremental/2023040223/1680478080.algo-1.json to data_csv/deepAR/output/deepar-hotel-2023-04-02-23-25-06-536/profiler-output/system/incremental/2023040223/1680478080.algo-1.json An error occurred (AccessDenied) when calling the GetObject operation: The ciphertext refers to a customer master key that does not exist, does not exist in this region, or you are not allowed to access.\n",
      "download failed: s3://aurelia-resort-data/model_train/deepAR/output/deepar-hotel-2023-04-02-23-25-06-536/profiler-output/system/incremental/2023040223/1680477960.algo-1.json to data_csv/deepAR/output/deepar-hotel-2023-04-02-23-25-06-536/profiler-output/system/incremental/2023040223/1680477960.algo-1.json An error occurred (AccessDenied) when calling the GetObject operation: The ciphertext refers to a customer master key that does not exist, does not exist in this region, or you are not allowed to access.\n",
      "download failed: s3://aurelia-resort-data/model_train/deepAR/output/deepar-hotel-2023-04-02-23-39-31-397/profiler-output/framework/training_job_end.ts to data_csv/deepAR/output/deepar-hotel-2023-04-02-23-39-31-397/profiler-output/framework/training_job_end.ts An error occurred (AccessDenied) when calling the GetObject operation: The ciphertext refers to a customer master key that does not exist, does not exist in this region, or you are not allowed to access.\n",
      "download failed: s3://aurelia-resort-data/model_train/deepAR/output/deepar-hotel-2023-04-02-23-39-31-397/debug-output/training_job_end.ts to data_csv/deepAR/output/deepar-hotel-2023-04-02-23-39-31-397/debug-output/training_job_end.ts An error occurred (AccessDenied) when calling the GetObject operation: The ciphertext refers to a customer master key that does not exist, does not exist in this region, or you are not allowed to access.\n",
      "download failed: s3://aurelia-resort-data/model_train/deepAR/output/deepar-hotel-2023-04-02-23-25-06-536/profiler-output/system/incremental/2023040223/1680478020.algo-1.json to data_csv/deepAR/output/deepar-hotel-2023-04-02-23-25-06-536/profiler-output/system/incremental/2023040223/1680478020.algo-1.json An error occurred (AccessDenied) when calling the GetObject operation: The ciphertext refers to a customer master key that does not exist, does not exist in this region, or you are not allowed to access.\n",
      "download failed: s3://aurelia-resort-data/model_train/deepAR/output/deepar-hotel-2023-04-02-23-15-32-396/profiler-output/framework/training_job_end.ts to data_csv/deepAR/output/deepar-hotel-2023-04-02-23-15-32-396/profiler-output/framework/training_job_end.ts An error occurred (AccessDenied) when calling the GetObject operation: The ciphertext refers to a customer master key that does not exist, does not exist in this region, or you are not allowed to access.\n",
      "download failed: s3://aurelia-resort-data/model_train/deepAR/output/deepar-hotel-2023-04-02-23-39-31-397/profiler-output/system/training_job_end.ts to data_csv/deepAR/output/deepar-hotel-2023-04-02-23-39-31-397/profiler-output/system/training_job_end.ts An error occurred (AccessDenied) when calling the GetObject operation: The ciphertext refers to a customer master key that does not exist, does not exist in this region, or you are not allowed to access.\n",
      "download failed: s3://aurelia-resort-data/model_train/deepAR/output/deepar-hotel-2023-04-02-23-25-06-536/profiler-output/system/training_job_end.ts to data_csv/deepAR/output/deepar-hotel-2023-04-02-23-25-06-536/profiler-output/system/training_job_end.ts An error occurred (AccessDenied) when calling the GetObject operation: The ciphertext refers to a customer master key that does not exist, does not exist in this region, or you are not allowed to access.\n",
      "download failed: s3://aurelia-resort-data/model_train/deepAR/output/deepar-hotel-2023-04-02-23-39-31-397/profiler-output/system/incremental/2023040223/1680478800.algo-1.json to data_csv/deepAR/output/deepar-hotel-2023-04-02-23-39-31-397/profiler-output/system/incremental/2023040223/1680478800.algo-1.json An error occurred (AccessDenied) when calling the GetObject operation: The ciphertext refers to a customer master key that does not exist, does not exist in this region, or you are not allowed to access.\n",
      "download failed: s3://aurelia-resort-data/model_train/deepAR/output/deepar-hotel-2023-04-02-23-43-31-466/profiler-output/system/training_job_end.ts to data_csv/deepAR/output/deepar-hotel-2023-04-02-23-43-31-466/profiler-output/system/training_job_end.ts An error occurred (AccessDenied) when calling the GetObject operation: The ciphertext refers to a customer master key that does not exist, does not exist in this region, or you are not allowed to access.\n",
      "download failed: s3://aurelia-resort-data/model_train/deepAR/output/deepar-hotel-2023-04-02-23-43-31-466/profiler-output/system/incremental/2023040223/1680479100.algo-1.json to data_csv/deepAR/output/deepar-hotel-2023-04-02-23-43-31-466/profiler-output/system/incremental/2023040223/1680479100.algo-1.json An error occurred (AccessDenied) when calling the GetObject operation: The ciphertext refers to a customer master key that does not exist, does not exist in this region, or you are not allowed to access.\n",
      "download failed: s3://aurelia-resort-data/model_train/deepAR/output/deepar-hotel-2023-04-02-23-39-31-397/profiler-output/system/incremental/2023040223/1680478920.algo-1.json to data_csv/deepAR/output/deepar-hotel-2023-04-02-23-39-31-397/profiler-output/system/incremental/2023040223/1680478920.algo-1.json An error occurred (AccessDenied) when calling the GetObject operation: The ciphertext refers to a customer master key that does not exist, does not exist in this region, or you are not allowed to access.\n",
      "download failed: s3://aurelia-resort-data/model_train/deepAR/output/deepar-hotel-2023-04-02-23-43-31-466/profiler-output/framework/training_job_end.ts to data_csv/deepAR/output/deepar-hotel-2023-04-02-23-43-31-466/profiler-output/framework/training_job_end.ts An error occurred (AccessDenied) when calling the GetObject operation: The ciphertext refers to a customer master key that does not exist, does not exist in this region, or you are not allowed to access.\n",
      "download failed: s3://aurelia-resort-data/model_train/deepAR/output/deepar-hotel-2023-04-02-23-39-31-397/profiler-output/system/incremental/2023040223/1680478860.algo-1.json to data_csv/deepAR/output/deepar-hotel-2023-04-02-23-39-31-397/profiler-output/system/incremental/2023040223/1680478860.algo-1.json An error occurred (AccessDenied) when calling the GetObject operation: The ciphertext refers to a customer master key that does not exist, does not exist in this region, or you are not allowed to access.\n",
      "download failed: s3://aurelia-resort-data/model_train/deepAR/output/deepar-hotel-2023-04-02-23-43-31-466/debug-output/training_job_end.ts to data_csv/deepAR/output/deepar-hotel-2023-04-02-23-43-31-466/debug-output/training_job_end.ts An error occurred (AccessDenied) when calling the GetObject operation: The ciphertext refers to a customer master key that does not exist, does not exist in this region, or you are not allowed to access.\n",
      "download failed: s3://aurelia-resort-data/model_train/deepAR/output/deepar-hotel-2023-04-02-23-43-31-466/profiler-output/system/incremental/2023040223/1680479160.algo-1.json to data_csv/deepAR/output/deepar-hotel-2023-04-02-23-43-31-466/profiler-output/system/incremental/2023040223/1680479160.algo-1.json An error occurred (AccessDenied) when calling the GetObject operation: The ciphertext refers to a customer master key that does not exist, does not exist in this region, or you are not allowed to access.\n",
      "download failed: s3://aurelia-resort-data/model_train/deepAR/output/deepar-hotel-2023-04-03-00-58-23-662/profiler-output/framework/training_job_end.ts to data_csv/deepAR/output/deepar-hotel-2023-04-03-00-58-23-662/profiler-output/framework/training_job_end.ts An error occurred (AccessDenied) when calling the GetObject operation: The ciphertext refers to a customer master key that does not exist, does not exist in this region, or you are not allowed to access.\n",
      "download failed: s3://aurelia-resort-data/model_train/deepAR/output/deepar-hotel-2023-04-03-00-58-23-662/profiler-output/system/incremental/2023040300/1680483540.algo-1.json to data_csv/deepAR/output/deepar-hotel-2023-04-03-00-58-23-662/profiler-output/system/incremental/2023040300/1680483540.algo-1.json An error occurred (AccessDenied) when calling the GetObject operation: The ciphertext refers to a customer master key that does not exist, does not exist in this region, or you are not allowed to access.\n",
      "download failed: s3://aurelia-resort-data/model_train/deepAR/output/deepar-hotel-2023-04-03-00-58-23-662/profiler-output/system/incremental/2023040301/1680483600.algo-1.json to data_csv/deepAR/output/deepar-hotel-2023-04-03-00-58-23-662/profiler-output/system/incremental/2023040301/1680483600.algo-1.json An error occurred (AccessDenied) when calling the GetObject operation: The ciphertext refers to a customer master key that does not exist, does not exist in this region, or you are not allowed to access.\n",
      "download failed: s3://aurelia-resort-data/model_train/deepAR/output/deepar-hotel-2023-04-03-00-58-23-662/debug-output/training_job_end.ts to data_csv/deepAR/output/deepar-hotel-2023-04-03-00-58-23-662/debug-output/training_job_end.ts An error occurred (AccessDenied) when calling the GetObject operation: The ciphertext refers to a customer master key that does not exist, does not exist in this region, or you are not allowed to access.\n",
      "download failed: s3://aurelia-resort-data/model_train/deepAR/output/deepar-hotel-2023-04-03-00-58-23-662/profiler-output/system/training_job_end.ts to data_csv/deepAR/output/deepar-hotel-2023-04-03-00-58-23-662/profiler-output/system/training_job_end.ts An error occurred (AccessDenied) when calling the GetObject operation: The ciphertext refers to a customer master key that does not exist, does not exist in this region, or you are not allowed to access.\n",
      "download failed: s3://aurelia-resort-data/model_train/deepAR/output/deepar-hotel-2023-04-03-00-58-23-662/profiler-output/system/incremental/2023040301/1680483660.algo-1.json to data_csv/deepAR/output/deepar-hotel-2023-04-03-00-58-23-662/profiler-output/system/incremental/2023040301/1680483660.algo-1.json An error occurred (AccessDenied) when calling the GetObject operation: The ciphertext refers to a customer master key that does not exist, does not exist in this region, or you are not allowed to access.\n",
      "download failed: s3://aurelia-resort-data/model_train/deepAR/output/deepar-hotel-2023-04-03-01-07-11-351/profiler-output/system/training_job_end.ts to data_csv/deepAR/output/deepar-hotel-2023-04-03-01-07-11-351/profiler-output/system/training_job_end.ts An error occurred (AccessDenied) when calling the GetObject operation: The ciphertext refers to a customer master key that does not exist, does not exist in this region, or you are not allowed to access.\n",
      "download failed: s3://aurelia-resort-data/model_train/deepAR/output/deepar-hotel-2023-04-03-01-07-11-351/profiler-output/system/incremental/2023040301/1680484140.algo-1.json to data_csv/deepAR/output/deepar-hotel-2023-04-03-01-07-11-351/profiler-output/system/incremental/2023040301/1680484140.algo-1.json An error occurred (AccessDenied) when calling the GetObject operation: The ciphertext refers to a customer master key that does not exist, does not exist in this region, or you are not allowed to access.\n",
      "download failed: s3://aurelia-resort-data/model_train/deepAR/output/deepar-hotel-2023-04-03-01-07-11-351/profiler-output/framework/training_job_end.ts to data_csv/deepAR/output/deepar-hotel-2023-04-03-01-07-11-351/profiler-output/framework/training_job_end.ts An error occurred (AccessDenied) when calling the GetObject operation: The ciphertext refers to a customer master key that does not exist, does not exist in this region, or you are not allowed to access.\n",
      "download failed: s3://aurelia-resort-data/model_train/deepAR/output/deepar-hotel-2023-04-03-01-14-27-197/profiler-output/system/incremental/2023040301/1680484500.algo-1.json to data_csv/deepAR/output/deepar-hotel-2023-04-03-01-14-27-197/profiler-output/system/incremental/2023040301/1680484500.algo-1.json An error occurred (AccessDenied) when calling the GetObject operation: The ciphertext refers to a customer master key that does not exist, does not exist in this region, or you are not allowed to access.\n",
      "download failed: s3://aurelia-resort-data/model_train/deepAR/output/deepar-hotel-2023-04-03-01-14-27-197/profiler-output/system/incremental/2023040301/1680484620.algo-1.json to data_csv/deepAR/output/deepar-hotel-2023-04-03-01-14-27-197/profiler-output/system/incremental/2023040301/1680484620.algo-1.json An error occurred (AccessDenied) when calling the GetObject operation: The ciphertext refers to a customer master key that does not exist, does not exist in this region, or you are not allowed to access.\n",
      "download failed: s3://aurelia-resort-data/model_train/deepAR/output/deepar-hotel-2023-04-03-01-07-11-351/debug-output/training_job_end.ts to data_csv/deepAR/output/deepar-hotel-2023-04-03-01-07-11-351/debug-output/training_job_end.ts An error occurred (AccessDenied) when calling the GetObject operation: The ciphertext refers to a customer master key that does not exist, does not exist in this region, or you are not allowed to access.\n",
      "download failed: s3://aurelia-resort-data/model_train/deepAR/output/deepar-hotel-2023-04-03-01-07-11-351/profiler-output/system/incremental/2023040301/1680484080.algo-1.json to data_csv/deepAR/output/deepar-hotel-2023-04-03-01-07-11-351/profiler-output/system/incremental/2023040301/1680484080.algo-1.json An error occurred (AccessDenied) when calling the GetObject operation: The ciphertext refers to a customer master key that does not exist, does not exist in this region, or you are not allowed to access.\n",
      "download failed: s3://aurelia-resort-data/model_train/deepAR/output/deepar-hotel-2023-04-03-01-14-27-197/profiler-output/framework/training_job_end.ts to data_csv/deepAR/output/deepar-hotel-2023-04-03-01-14-27-197/profiler-output/framework/training_job_end.ts An error occurred (AccessDenied) when calling the GetObject operation: The ciphertext refers to a customer master key that does not exist, does not exist in this region, or you are not allowed to access.\n",
      "download failed: s3://aurelia-resort-data/model_train/deepAR/output/deepar-hotel-2023-04-03-01-14-27-197/profiler-output/system/training_job_end.ts to data_csv/deepAR/output/deepar-hotel-2023-04-03-01-14-27-197/profiler-output/system/training_job_end.ts An error occurred (AccessDenied) when calling the GetObject operation: The ciphertext refers to a customer master key that does not exist, does not exist in this region, or you are not allowed to access.\n",
      "download failed: s3://aurelia-resort-data/model_train/deepAR/output/deepar-hotel-2023-04-03-01-14-27-197/profiler-output/system/incremental/2023040301/1680484560.algo-1.json to data_csv/deepAR/output/deepar-hotel-2023-04-03-01-14-27-197/profiler-output/system/incremental/2023040301/1680484560.algo-1.json An error occurred (AccessDenied) when calling the GetObject operation: The ciphertext refers to a customer master key that does not exist, does not exist in this region, or you are not allowed to access.\n",
      "download failed: s3://aurelia-resort-data/model_train/deepAR/output/deepar-hotel-2023-04-03-01-14-27-197/debug-output/training_job_end.ts to data_csv/deepAR/output/deepar-hotel-2023-04-03-01-14-27-197/debug-output/training_job_end.ts An error occurred (AccessDenied) when calling the GetObject operation: The ciphertext refers to a customer master key that does not exist, does not exist in this region, or you are not allowed to access.\n",
      "download failed: s3://aurelia-resort-data/model_train/deepAR/output/deepar-hotel-2023-04-03-01-35-45-003/profiler-output/framework/training_job_end.ts to data_csv/deepAR/output/deepar-hotel-2023-04-03-01-35-45-003/profiler-output/framework/training_job_end.ts An error occurred (AccessDenied) when calling the GetObject operation: The ciphertext refers to a customer master key that does not exist, does not exist in this region, or you are not allowed to access.\n",
      "download failed: s3://aurelia-resort-data/model_train/deepAR/output/deepar-hotel-2023-04-03-01-35-45-003/profiler-output/system/incremental/2023040301/1680485880.algo-1.json to data_csv/deepAR/output/deepar-hotel-2023-04-03-01-35-45-003/profiler-output/system/incremental/2023040301/1680485880.algo-1.json An error occurred (AccessDenied) when calling the GetObject operation: The ciphertext refers to a customer master key that does not exist, does not exist in this region, or you are not allowed to access.\n",
      "download failed: s3://aurelia-resort-data/model_train/deepAR/output/deepar-hotel-2023-04-03-01-35-45-003/profiler-output/system/training_job_end.ts to data_csv/deepAR/output/deepar-hotel-2023-04-03-01-35-45-003/profiler-output/system/training_job_end.ts An error occurred (AccessDenied) when calling the GetObject operation: The ciphertext refers to a customer master key that does not exist, does not exist in this region, or you are not allowed to access.\n",
      "download failed: s3://aurelia-resort-data/model_train/deepAR/output/deepar-hotel-2023-04-03-01-35-45-003/profiler-output/system/incremental/2023040301/1680485940.algo-1.json to data_csv/deepAR/output/deepar-hotel-2023-04-03-01-35-45-003/profiler-output/system/incremental/2023040301/1680485940.algo-1.json An error occurred (AccessDenied) when calling the GetObject operation: The ciphertext refers to a customer master key that does not exist, does not exist in this region, or you are not allowed to access.\n",
      "download failed: s3://aurelia-resort-data/model_train/deepAR/output/deepar-hotel-2023-04-03-01-35-45-003/profiler-output/system/incremental/2023040301/1680485820.algo-1.json to data_csv/deepAR/output/deepar-hotel-2023-04-03-01-35-45-003/profiler-output/system/incremental/2023040301/1680485820.algo-1.json An error occurred (AccessDenied) when calling the GetObject operation: The ciphertext refers to a customer master key that does not exist, does not exist in this region, or you are not allowed to access.\n",
      "download failed: s3://aurelia-resort-data/model_train/deepAR/output/deepar-hotel-2023-04-03-01-35-45-003/debug-output/training_job_end.ts to data_csv/deepAR/output/deepar-hotel-2023-04-03-01-35-45-003/debug-output/training_job_end.ts An error occurred (AccessDenied) when calling the GetObject operation: The ciphertext refers to a customer master key that does not exist, does not exist in this region, or you are not allowed to access.\n",
      "download failed: s3://aurelia-resort-data/model_train/deepAR/output/deepar-hotel-2023-04-03-23-04-24-691/profiler-output/system/incremental/2023040323/1680563220.algo-1.json to data_csv/deepAR/output/deepar-hotel-2023-04-03-23-04-24-691/profiler-output/system/incremental/2023040323/1680563220.algo-1.json An error occurred (AccessDenied) when calling the GetObject operation: The ciphertext refers to a customer master key that does not exist, does not exist in this region, or you are not allowed to access.\n",
      "download failed: s3://aurelia-resort-data/model_train/deepAR/output/deepar-hotel-2023-04-03-23-04-24-691/profiler-output/framework/training_job_end.ts to data_csv/deepAR/output/deepar-hotel-2023-04-03-23-04-24-691/profiler-output/framework/training_job_end.ts An error occurred (AccessDenied) when calling the GetObject operation: The ciphertext refers to a customer master key that does not exist, does not exist in this region, or you are not allowed to access.\n",
      "download failed: s3://aurelia-resort-data/model_train/deepAR/output/deepar-hotel-2023-04-03-23-04-24-691/profiler-output/system/incremental/2023040323/1680563100.algo-1.json to data_csv/deepAR/output/deepar-hotel-2023-04-03-23-04-24-691/profiler-output/system/incremental/2023040323/1680563100.algo-1.json An error occurred (AccessDenied) when calling the GetObject operation: The ciphertext refers to a customer master key that does not exist, does not exist in this region, or you are not allowed to access.\n",
      "download failed: s3://aurelia-resort-data/model_train/deepAR/output/deepar-hotel-2023-04-03-23-04-24-691/profiler-output/system/incremental/2023040323/1680563160.algo-1.json to data_csv/deepAR/output/deepar-hotel-2023-04-03-23-04-24-691/profiler-output/system/incremental/2023040323/1680563160.algo-1.json An error occurred (AccessDenied) when calling the GetObject operation: The ciphertext refers to a customer master key that does not exist, does not exist in this region, or you are not allowed to access.\n",
      "download failed: s3://aurelia-resort-data/model_train/deepAR/output/deepar-hotel-2023-04-03-23-04-24-691/profiler-output/system/incremental/2023040323/1680563280.algo-1.json to data_csv/deepAR/output/deepar-hotel-2023-04-03-23-04-24-691/profiler-output/system/incremental/2023040323/1680563280.algo-1.json An error occurred (AccessDenied) when calling the GetObject operation: The ciphertext refers to a customer master key that does not exist, does not exist in this region, or you are not allowed to access.\n",
      "download failed: s3://aurelia-resort-data/model_train/deepAR/output/deepar-hotel-2023-04-03-23-04-24-691/debug-output/training_job_end.ts to data_csv/deepAR/output/deepar-hotel-2023-04-03-23-04-24-691/debug-output/training_job_end.ts An error occurred (AccessDenied) when calling the GetObject operation: The ciphertext refers to a customer master key that does not exist, does not exist in this region, or you are not allowed to access.\n",
      "download failed: s3://aurelia-resort-data/model_train/deepAR/output/deepar-hotel-2023-04-03-23-12-55-980/profiler-output/system/training_job_end.ts to data_csv/deepAR/output/deepar-hotel-2023-04-03-23-12-55-980/profiler-output/system/training_job_end.ts An error occurred (AccessDenied) when calling the GetObject operation: The ciphertext refers to a customer master key that does not exist, does not exist in this region, or you are not allowed to access.\n",
      "download failed: s3://aurelia-resort-data/model_train/deepAR/output/deepar-hotel-2023-04-03-23-04-24-691/profiler-output/system/training_job_end.ts to data_csv/deepAR/output/deepar-hotel-2023-04-03-23-04-24-691/profiler-output/system/training_job_end.ts An error occurred (AccessDenied) when calling the GetObject operation: The ciphertext refers to a customer master key that does not exist, does not exist in this region, or you are not allowed to access.\n",
      "download failed: s3://aurelia-resort-data/model_train/deepAR/output/deepar-hotel-2023-04-03-23-12-55-980/profiler-output/framework/training_job_end.ts to data_csv/deepAR/output/deepar-hotel-2023-04-03-23-12-55-980/profiler-output/framework/training_job_end.ts An error occurred (AccessDenied) when calling the GetObject operation: The ciphertext refers to a customer master key that does not exist, does not exist in this region, or you are not allowed to access.\n",
      "download failed: s3://aurelia-resort-data/model_train/deepAR/output/deepar-hotel-2023-04-03-23-19-16-821/debug-output/training_job_end.ts to data_csv/deepAR/output/deepar-hotel-2023-04-03-23-19-16-821/debug-output/training_job_end.ts An error occurred (AccessDenied) when calling the GetObject operation: The ciphertext refers to a customer master key that does not exist, does not exist in this region, or you are not allowed to access.\n",
      "download failed: s3://aurelia-resort-data/model_train/deepAR/output/deepar-hotel-2023-04-03-23-12-55-980/profiler-output/system/incremental/2023040323/1680563700.algo-1.json to data_csv/deepAR/output/deepar-hotel-2023-04-03-23-12-55-980/profiler-output/system/incremental/2023040323/1680563700.algo-1.json An error occurred (AccessDenied) when calling the GetObject operation: The ciphertext refers to a customer master key that does not exist, does not exist in this region, or you are not allowed to access.\n",
      "download failed: s3://aurelia-resort-data/model_train/deepAR/output/deepar-hotel-2023-04-03-23-19-16-821/profiler-output/framework/training_job_end.ts to data_csv/deepAR/output/deepar-hotel-2023-04-03-23-19-16-821/profiler-output/framework/training_job_end.ts An error occurred (AccessDenied) when calling the GetObject operation: The ciphertext refers to a customer master key that does not exist, does not exist in this region, or you are not allowed to access.\n",
      "download failed: s3://aurelia-resort-data/model_train/deepAR/output/deepar-hotel-2023-04-03-23-12-55-980/profiler-output/system/incremental/2023040323/1680563640.algo-1.json to data_csv/deepAR/output/deepar-hotel-2023-04-03-23-12-55-980/profiler-output/system/incremental/2023040323/1680563640.algo-1.json An error occurred (AccessDenied) when calling the GetObject operation: The ciphertext refers to a customer master key that does not exist, does not exist in this region, or you are not allowed to access.\n",
      "download failed: s3://aurelia-resort-data/model_train/deepAR/output/deepar-hotel-2023-04-03-23-12-55-980/profiler-output/system/incremental/2023040323/1680563760.algo-1.json to data_csv/deepAR/output/deepar-hotel-2023-04-03-23-12-55-980/profiler-output/system/incremental/2023040323/1680563760.algo-1.json An error occurred (AccessDenied) when calling the GetObject operation: The ciphertext refers to a customer master key that does not exist, does not exist in this region, or you are not allowed to access.\n",
      "download failed: s3://aurelia-resort-data/model_train/deepAR/output/deepar-hotel-2023-04-03-23-19-16-821/profiler-output/system/training_job_end.ts to data_csv/deepAR/output/deepar-hotel-2023-04-03-23-19-16-821/profiler-output/system/training_job_end.ts An error occurred (AccessDenied) when calling the GetObject operation: The ciphertext refers to a customer master key that does not exist, does not exist in this region, or you are not allowed to access.\n",
      "download failed: s3://aurelia-resort-data/model_train/deepAR/output/deepar-hotel-2023-04-03-23-19-16-821/profiler-output/system/incremental/2023040323/1680564000.algo-1.json to data_csv/deepAR/output/deepar-hotel-2023-04-03-23-19-16-821/profiler-output/system/incremental/2023040323/1680564000.algo-1.json An error occurred (AccessDenied) when calling the GetObject operation: The ciphertext refers to a customer master key that does not exist, does not exist in this region, or you are not allowed to access.\n",
      "download failed: s3://aurelia-resort-data/model_train/deepAR/output/deepar-hotel-2023-04-03-23-12-55-980/debug-output/training_job_end.ts to data_csv/deepAR/output/deepar-hotel-2023-04-03-23-12-55-980/debug-output/training_job_end.ts An error occurred (AccessDenied) when calling the GetObject operation: The ciphertext refers to a customer master key that does not exist, does not exist in this region, or you are not allowed to access.\n",
      "download failed: s3://aurelia-resort-data/model_train/deepAR/output/deepar-hotel-2023-04-03-23-27-47-475/debug-output/training_job_end.ts to data_csv/deepAR/output/deepar-hotel-2023-04-03-23-27-47-475/debug-output/training_job_end.ts An error occurred (AccessDenied) when calling the GetObject operation: The ciphertext refers to a customer master key that does not exist, does not exist in this region, or you are not allowed to access.\n",
      "download failed: s3://aurelia-resort-data/model_train/deepAR/output/deepar-hotel-2023-04-03-23-19-16-821/profiler-output/system/incremental/2023040323/1680564120.algo-1.json to data_csv/deepAR/output/deepar-hotel-2023-04-03-23-19-16-821/profiler-output/system/incremental/2023040323/1680564120.algo-1.json An error occurred (AccessDenied) when calling the GetObject operation: The ciphertext refers to a customer master key that does not exist, does not exist in this region, or you are not allowed to access.\n",
      "download failed: s3://aurelia-resort-data/model_train/deepAR/output/deepar-hotel-2023-04-03-23-23-45-178/debug-output/training_job_end.ts to data_csv/deepAR/output/deepar-hotel-2023-04-03-23-23-45-178/debug-output/training_job_end.ts An error occurred (AccessDenied) when calling the GetObject operation: The ciphertext refers to a customer master key that does not exist, does not exist in this region, or you are not allowed to access.\n",
      "download failed: s3://aurelia-resort-data/model_train/deepAR/output/deepar-hotel-2023-04-03-23-23-45-178/profiler-output/system/incremental/2023040323/1680564300.algo-1.json to data_csv/deepAR/output/deepar-hotel-2023-04-03-23-23-45-178/profiler-output/system/incremental/2023040323/1680564300.algo-1.json An error occurred (AccessDenied) when calling the GetObject operation: The ciphertext refers to a customer master key that does not exist, does not exist in this region, or you are not allowed to access.\n",
      "download failed: s3://aurelia-resort-data/model_train/deepAR/output/deepar-hotel-2023-04-03-23-23-45-178/profiler-output/framework/training_job_end.ts to data_csv/deepAR/output/deepar-hotel-2023-04-03-23-23-45-178/profiler-output/framework/training_job_end.ts An error occurred (AccessDenied) when calling the GetObject operation: The ciphertext refers to a customer master key that does not exist, does not exist in this region, or you are not allowed to access.\n",
      "download failed: s3://aurelia-resort-data/model_train/deepAR/output/deepar-hotel-2023-04-03-23-27-47-475/profiler-output/system/training_job_end.ts to data_csv/deepAR/output/deepar-hotel-2023-04-03-23-27-47-475/profiler-output/system/training_job_end.ts An error occurred (AccessDenied) when calling the GetObject operation: The ciphertext refers to a customer master key that does not exist, does not exist in this region, or you are not allowed to access.\n",
      "download failed: s3://aurelia-resort-data/model_train/deepAR/output/deepar-hotel-2023-04-03-23-27-47-475/profiler-output/framework/training_job_end.ts to data_csv/deepAR/output/deepar-hotel-2023-04-03-23-27-47-475/profiler-output/framework/training_job_end.ts An error occurred (AccessDenied) when calling the GetObject operation: The ciphertext refers to a customer master key that does not exist, does not exist in this region, or you are not allowed to access.\n",
      "download failed: s3://aurelia-resort-data/model_train/deepAR/output/deepar-hotel-2023-04-03-23-32-55-031/debug-output/training_job_end.ts to data_csv/deepAR/output/deepar-hotel-2023-04-03-23-32-55-031/debug-output/training_job_end.ts An error occurred (AccessDenied) when calling the GetObject operation: The ciphertext refers to a customer master key that does not exist, does not exist in this region, or you are not allowed to access.\n",
      "download failed: s3://aurelia-resort-data/model_train/deepAR/output/deepar-hotel-2023-04-03-23-23-45-178/profiler-output/system/incremental/2023040323/1680564360.algo-1.json to data_csv/deepAR/output/deepar-hotel-2023-04-03-23-23-45-178/profiler-output/system/incremental/2023040323/1680564360.algo-1.json An error occurred (AccessDenied) when calling the GetObject operation: The ciphertext refers to a customer master key that does not exist, does not exist in this region, or you are not allowed to access.\n",
      "download failed: s3://aurelia-resort-data/model_train/deepAR/output/deepar-hotel-2023-04-03-23-32-55-031/output/model.tar.gz to data_csv/deepAR/output/deepar-hotel-2023-04-03-23-32-55-031/output/model.tar.gz An error occurred (AccessDenied) when calling the GetObject operation: The ciphertext refers to a customer master key that does not exist, does not exist in this region, or you are not allowed to access.\n",
      "download failed: s3://aurelia-resort-data/model_train/deepAR/output/deepar-hotel-2023-04-03-23-19-16-821/profiler-output/system/incremental/2023040323/1680564060.algo-1.json to data_csv/deepAR/output/deepar-hotel-2023-04-03-23-19-16-821/profiler-output/system/incremental/2023040323/1680564060.algo-1.json An error occurred (AccessDenied) when calling the GetObject operation: The ciphertext refers to a customer master key that does not exist, does not exist in this region, or you are not allowed to access.\n",
      "download failed: s3://aurelia-resort-data/model_train/deepAR/output/deepar-hotel-2023-04-03-23-27-47-475/profiler-output/system/incremental/2023040323/1680564540.algo-1.json to data_csv/deepAR/output/deepar-hotel-2023-04-03-23-27-47-475/profiler-output/system/incremental/2023040323/1680564540.algo-1.json An error occurred (AccessDenied) when calling the GetObject operation: The ciphertext refers to a customer master key that does not exist, does not exist in this region, or you are not allowed to access.\n",
      "download failed: s3://aurelia-resort-data/model_train/deepAR/output/deepar-hotel-2023-04-03-23-23-45-178/profiler-output/system/training_job_end.ts to data_csv/deepAR/output/deepar-hotel-2023-04-03-23-23-45-178/profiler-output/system/training_job_end.ts An error occurred (AccessDenied) when calling the GetObject operation: The ciphertext refers to a customer master key that does not exist, does not exist in this region, or you are not allowed to access.\n",
      "download: s3://aurelia-resort-data/model_train/deepAR/test.json to data_csv/deepAR/test.json\n",
      "download failed: s3://aurelia-resort-data/model_train/deepAR/output/deepar-hotel-2023-04-03-23-27-47-475/profiler-output/system/incremental/2023040323/1680564600.algo-1.json to data_csv/deepAR/output/deepar-hotel-2023-04-03-23-27-47-475/profiler-output/system/incremental/2023040323/1680564600.algo-1.json An error occurred (AccessDenied) when calling the GetObject operation: The ciphertext refers to a customer master key that does not exist, does not exist in this region, or you are not allowed to access.\n",
      "download failed: s3://aurelia-resort-data/model_train/deepAR/output/deepar-hotel-2023-04-03-23-32-55-031/profiler-output/system/incremental/2023040323/1680564900.algo-1.json to data_csv/deepAR/output/deepar-hotel-2023-04-03-23-32-55-031/profiler-output/system/incremental/2023040323/1680564900.algo-1.json An error occurred (AccessDenied) when calling the GetObject operation: The ciphertext refers to a customer master key that does not exist, does not exist in this region, or you are not allowed to access.\n",
      "download failed: s3://aurelia-resort-data/model_train/deepAR/output/deepar-hotel-2023-04-03-23-32-55-031/profiler-output/system/incremental/2023040323/1680564840.algo-1.json to data_csv/deepAR/output/deepar-hotel-2023-04-03-23-32-55-031/profiler-output/system/incremental/2023040323/1680564840.algo-1.json An error occurred (AccessDenied) when calling the GetObject operation: The ciphertext refers to a customer master key that does not exist, does not exist in this region, or you are not allowed to access.\n",
      "download failed: s3://aurelia-resort-data/model_train/deepAR/output/deepar-hotel-2023-04-03-23-32-55-031/profiler-output/system/training_job_end.ts to data_csv/deepAR/output/deepar-hotel-2023-04-03-23-32-55-031/profiler-output/system/training_job_end.ts An error occurred (AccessDenied) when calling the GetObject operation: The ciphertext refers to a customer master key that does not exist, does not exist in this region, or you are not allowed to access.\n",
      "download failed: s3://aurelia-resort-data/model_train/deepAR/output/deepar-hotel-2023-04-03-23-32-55-031/profiler-output/system/incremental/2023040323/1680564960.algo-1.json to data_csv/deepAR/output/deepar-hotel-2023-04-03-23-32-55-031/profiler-output/system/incremental/2023040323/1680564960.algo-1.json An error occurred (AccessDenied) when calling the GetObject operation: The ciphertext refers to a customer master key that does not exist, does not exist in this region, or you are not allowed to access.\n",
      "download: s3://aurelia-resort-data/model_train/deepAR/train.json to data_csv/deepAR/train.json\n",
      "download failed: s3://aurelia-resort-data/model_train/deepAR/output/deepar-hotel-2023-04-03-23-32-55-031/profiler-output/system/incremental/2023040323/1680565020.algo-1.json to data_csv/deepAR/output/deepar-hotel-2023-04-03-23-32-55-031/profiler-output/system/incremental/2023040323/1680565020.algo-1.json An error occurred (AccessDenied) when calling the GetObject operation: The ciphertext refers to a customer master key that does not exist, does not exist in this region, or you are not allowed to access.\n",
      "download failed: s3://aurelia-resort-data/model_train/deepAR/output/deepar-hotel-2023-04-03-23-32-55-031/profiler-output/framework/training_job_end.ts to data_csv/deepAR/output/deepar-hotel-2023-04-03-23-32-55-031/profiler-output/framework/training_job_end.ts An error occurred (AccessDenied) when calling the GetObject operation: The ciphertext refers to a customer master key that does not exist, does not exist in this region, or you are not allowed to access.\n"
     ]
    }
   ],
   "source": [
    "!aws s3 cp --recursive s3://aurelia-resort-data/model_train ./data_csv"
   ]
  },
  {
   "cell_type": "code",
   "execution_count": 25,
   "id": "83bc04c4-d4df-47a7-a4fe-bc9d8ba17f01",
   "metadata": {
    "tags": []
   },
   "outputs": [],
   "source": [
    "train = pd.read_csv(\"data_csv/data_csv/train.csv\")\n",
    "test = pd.read_csv(\"data_csv/data_csv/test_nans.csv\")"
   ]
  },
  {
   "cell_type": "code",
   "execution_count": 27,
   "id": "8aada319-424e-4bb0-ae5c-4a30f4bbba3d",
   "metadata": {
    "tags": []
   },
   "outputs": [
    {
     "data": {
      "text/plain": [
       "(24, 8)"
      ]
     },
     "execution_count": 27,
     "metadata": {},
     "output_type": "execute_result"
    }
   ],
   "source": [
    "train.shape"
   ]
  },
  {
   "cell_type": "code",
   "execution_count": 10,
   "id": "808e9e6c-80f5-443c-8457-f3831d67a858",
   "metadata": {
    "tags": []
   },
   "outputs": [],
   "source": [
    "autopilot_train_path = \"./traindataautopilot_nans.csv\"\n",
    "train.to_csv(autopilot_train_path, index=False, header=True)"
   ]
  },
  {
   "cell_type": "code",
   "execution_count": 19,
   "id": "217a28ac-eef4-42a6-b006-3eb8a2735a9f",
   "metadata": {
    "tags": []
   },
   "outputs": [
    {
     "data": {
      "text/plain": [
       "'s3://sagemaker-us-east-1-478947633708/data_nans/traindataautopilot_nans.csv'"
      ]
     },
     "execution_count": 19,
     "metadata": {},
     "output_type": "execute_result"
    }
   ],
   "source": [
    "train_s3_prefix = \"data_nans\"\n",
    "autopilot_train_nans_s3_uri = sagemaker_session.upload_data(path=autopilot_train_path, key_prefix=train_s3_prefix)\n",
    "autopilot_train_nans_s3_uri"
   ]
  },
  {
   "cell_type": "code",
   "execution_count": 20,
   "id": "ad5770b8-b7eb-4b87-ba6a-b4b2ca1e4755",
   "metadata": {
    "tags": []
   },
   "outputs": [
    {
     "name": "stdout",
     "output_type": "stream",
     "text": [
      "2023-04-04 00:14:55       6218 traindataautopilot_nans.csv\n"
     ]
    }
   ],
   "source": [
    "!aws s3 ls $autopilot_train_nans_s3_uri"
   ]
  },
  {
   "cell_type": "code",
   "execution_count": 21,
   "id": "963fd7fa-7418-475e-bc38-4a5dda10b4e4",
   "metadata": {},
   "outputs": [
    {
     "name": "stdout",
     "output_type": "stream",
     "text": [
      "Stored 'autopilot_train_nans_s3_uri' (str)\n"
     ]
    }
   ],
   "source": [
    "%store autopilot_train_nans_s3_uri"
   ]
  },
  {
   "cell_type": "code",
   "execution_count": 22,
   "id": "4af0df59-1ef9-4324-ac5e-caa8de97f10a",
   "metadata": {},
   "outputs": [
    {
     "name": "stdout",
     "output_type": "stream",
     "text": [
      "Stored variables and their in-db values:\n",
      "auto_ml_job_name                        -> 'automl-dm-03-01-52-28'\n",
      "autopilot_train_nans_s3_uri             -> 's3://sagemaker-us-east-1-478947633708/data_nans/t\n",
      "autopilot_train_s3_uri                  -> 's3://sagemaker-us-east-1-478947633708/data_nans/t\n",
      "bookings_grouped                        ->          Date  total_bookings\n",
      "0  2014-10-01       \n",
      "cancellations_grouped                   ->          Date  cancellations\n",
      "0  2014-10-01        \n",
      "finaldf                                 -> Empty DataFrame\n",
      "Columns: [Date, TotalIncome, Total\n",
      "income_grouped                          ->          Date  income_by_year\n",
      "0  1953-01-01       \n",
      "income_value_grouped                    ->          Date  income_total\n",
      "0  1953-01-01         \n",
      "listings_clean                          ->    month_year  num_listings\n",
      "0     2022-12         \n",
      "listings_date                           ->          Date  num_listings\n",
      "0  2022-12-01         \n",
      "reviews_clean                           ->     month_year  num_stays\n",
      "0      2009-05          \n",
      "reviews_date                            ->           Date  num_stays\n",
      "0   2009-05-01          \n",
      "setup_dependencies_passed               -> True\n",
      "setup_iam_roles_passed                  -> True\n",
      "setup_instance_check_passed             -> True\n",
      "setup_s3_bucket_passed                  -> True\n",
      "travelstats                             ->          Date  TotalAirlineTripstoDC  TotalAirline\n"
     ]
    }
   ],
   "source": [
    "%store"
   ]
  },
  {
   "cell_type": "code",
   "execution_count": null,
   "id": "2baf5cce-1fad-4bb2-8405-916a5930ffb8",
   "metadata": {},
   "outputs": [],
   "source": []
  }
 ],
 "metadata": {
  "availableInstances": [
   {
    "_defaultOrder": 0,
    "_isFastLaunch": true,
    "category": "General purpose",
    "gpuNum": 0,
    "hideHardwareSpecs": false,
    "memoryGiB": 4,
    "name": "ml.t3.medium",
    "vcpuNum": 2
   },
   {
    "_defaultOrder": 1,
    "_isFastLaunch": false,
    "category": "General purpose",
    "gpuNum": 0,
    "hideHardwareSpecs": false,
    "memoryGiB": 8,
    "name": "ml.t3.large",
    "vcpuNum": 2
   },
   {
    "_defaultOrder": 2,
    "_isFastLaunch": false,
    "category": "General purpose",
    "gpuNum": 0,
    "hideHardwareSpecs": false,
    "memoryGiB": 16,
    "name": "ml.t3.xlarge",
    "vcpuNum": 4
   },
   {
    "_defaultOrder": 3,
    "_isFastLaunch": false,
    "category": "General purpose",
    "gpuNum": 0,
    "hideHardwareSpecs": false,
    "memoryGiB": 32,
    "name": "ml.t3.2xlarge",
    "vcpuNum": 8
   },
   {
    "_defaultOrder": 4,
    "_isFastLaunch": true,
    "category": "General purpose",
    "gpuNum": 0,
    "hideHardwareSpecs": false,
    "memoryGiB": 8,
    "name": "ml.m5.large",
    "vcpuNum": 2
   },
   {
    "_defaultOrder": 5,
    "_isFastLaunch": false,
    "category": "General purpose",
    "gpuNum": 0,
    "hideHardwareSpecs": false,
    "memoryGiB": 16,
    "name": "ml.m5.xlarge",
    "vcpuNum": 4
   },
   {
    "_defaultOrder": 6,
    "_isFastLaunch": false,
    "category": "General purpose",
    "gpuNum": 0,
    "hideHardwareSpecs": false,
    "memoryGiB": 32,
    "name": "ml.m5.2xlarge",
    "vcpuNum": 8
   },
   {
    "_defaultOrder": 7,
    "_isFastLaunch": false,
    "category": "General purpose",
    "gpuNum": 0,
    "hideHardwareSpecs": false,
    "memoryGiB": 64,
    "name": "ml.m5.4xlarge",
    "vcpuNum": 16
   },
   {
    "_defaultOrder": 8,
    "_isFastLaunch": false,
    "category": "General purpose",
    "gpuNum": 0,
    "hideHardwareSpecs": false,
    "memoryGiB": 128,
    "name": "ml.m5.8xlarge",
    "vcpuNum": 32
   },
   {
    "_defaultOrder": 9,
    "_isFastLaunch": false,
    "category": "General purpose",
    "gpuNum": 0,
    "hideHardwareSpecs": false,
    "memoryGiB": 192,
    "name": "ml.m5.12xlarge",
    "vcpuNum": 48
   },
   {
    "_defaultOrder": 10,
    "_isFastLaunch": false,
    "category": "General purpose",
    "gpuNum": 0,
    "hideHardwareSpecs": false,
    "memoryGiB": 256,
    "name": "ml.m5.16xlarge",
    "vcpuNum": 64
   },
   {
    "_defaultOrder": 11,
    "_isFastLaunch": false,
    "category": "General purpose",
    "gpuNum": 0,
    "hideHardwareSpecs": false,
    "memoryGiB": 384,
    "name": "ml.m5.24xlarge",
    "vcpuNum": 96
   },
   {
    "_defaultOrder": 12,
    "_isFastLaunch": false,
    "category": "General purpose",
    "gpuNum": 0,
    "hideHardwareSpecs": false,
    "memoryGiB": 8,
    "name": "ml.m5d.large",
    "vcpuNum": 2
   },
   {
    "_defaultOrder": 13,
    "_isFastLaunch": false,
    "category": "General purpose",
    "gpuNum": 0,
    "hideHardwareSpecs": false,
    "memoryGiB": 16,
    "name": "ml.m5d.xlarge",
    "vcpuNum": 4
   },
   {
    "_defaultOrder": 14,
    "_isFastLaunch": false,
    "category": "General purpose",
    "gpuNum": 0,
    "hideHardwareSpecs": false,
    "memoryGiB": 32,
    "name": "ml.m5d.2xlarge",
    "vcpuNum": 8
   },
   {
    "_defaultOrder": 15,
    "_isFastLaunch": false,
    "category": "General purpose",
    "gpuNum": 0,
    "hideHardwareSpecs": false,
    "memoryGiB": 64,
    "name": "ml.m5d.4xlarge",
    "vcpuNum": 16
   },
   {
    "_defaultOrder": 16,
    "_isFastLaunch": false,
    "category": "General purpose",
    "gpuNum": 0,
    "hideHardwareSpecs": false,
    "memoryGiB": 128,
    "name": "ml.m5d.8xlarge",
    "vcpuNum": 32
   },
   {
    "_defaultOrder": 17,
    "_isFastLaunch": false,
    "category": "General purpose",
    "gpuNum": 0,
    "hideHardwareSpecs": false,
    "memoryGiB": 192,
    "name": "ml.m5d.12xlarge",
    "vcpuNum": 48
   },
   {
    "_defaultOrder": 18,
    "_isFastLaunch": false,
    "category": "General purpose",
    "gpuNum": 0,
    "hideHardwareSpecs": false,
    "memoryGiB": 256,
    "name": "ml.m5d.16xlarge",
    "vcpuNum": 64
   },
   {
    "_defaultOrder": 19,
    "_isFastLaunch": false,
    "category": "General purpose",
    "gpuNum": 0,
    "hideHardwareSpecs": false,
    "memoryGiB": 384,
    "name": "ml.m5d.24xlarge",
    "vcpuNum": 96
   },
   {
    "_defaultOrder": 20,
    "_isFastLaunch": false,
    "category": "General purpose",
    "gpuNum": 0,
    "hideHardwareSpecs": true,
    "memoryGiB": 0,
    "name": "ml.geospatial.interactive",
    "supportedImageNames": [
     "sagemaker-geospatial-v1-0"
    ],
    "vcpuNum": 0
   },
   {
    "_defaultOrder": 21,
    "_isFastLaunch": true,
    "category": "Compute optimized",
    "gpuNum": 0,
    "hideHardwareSpecs": false,
    "memoryGiB": 4,
    "name": "ml.c5.large",
    "vcpuNum": 2
   },
   {
    "_defaultOrder": 22,
    "_isFastLaunch": false,
    "category": "Compute optimized",
    "gpuNum": 0,
    "hideHardwareSpecs": false,
    "memoryGiB": 8,
    "name": "ml.c5.xlarge",
    "vcpuNum": 4
   },
   {
    "_defaultOrder": 23,
    "_isFastLaunch": false,
    "category": "Compute optimized",
    "gpuNum": 0,
    "hideHardwareSpecs": false,
    "memoryGiB": 16,
    "name": "ml.c5.2xlarge",
    "vcpuNum": 8
   },
   {
    "_defaultOrder": 24,
    "_isFastLaunch": false,
    "category": "Compute optimized",
    "gpuNum": 0,
    "hideHardwareSpecs": false,
    "memoryGiB": 32,
    "name": "ml.c5.4xlarge",
    "vcpuNum": 16
   },
   {
    "_defaultOrder": 25,
    "_isFastLaunch": false,
    "category": "Compute optimized",
    "gpuNum": 0,
    "hideHardwareSpecs": false,
    "memoryGiB": 72,
    "name": "ml.c5.9xlarge",
    "vcpuNum": 36
   },
   {
    "_defaultOrder": 26,
    "_isFastLaunch": false,
    "category": "Compute optimized",
    "gpuNum": 0,
    "hideHardwareSpecs": false,
    "memoryGiB": 96,
    "name": "ml.c5.12xlarge",
    "vcpuNum": 48
   },
   {
    "_defaultOrder": 27,
    "_isFastLaunch": false,
    "category": "Compute optimized",
    "gpuNum": 0,
    "hideHardwareSpecs": false,
    "memoryGiB": 144,
    "name": "ml.c5.18xlarge",
    "vcpuNum": 72
   },
   {
    "_defaultOrder": 28,
    "_isFastLaunch": false,
    "category": "Compute optimized",
    "gpuNum": 0,
    "hideHardwareSpecs": false,
    "memoryGiB": 192,
    "name": "ml.c5.24xlarge",
    "vcpuNum": 96
   },
   {
    "_defaultOrder": 29,
    "_isFastLaunch": true,
    "category": "Accelerated computing",
    "gpuNum": 1,
    "hideHardwareSpecs": false,
    "memoryGiB": 16,
    "name": "ml.g4dn.xlarge",
    "vcpuNum": 4
   },
   {
    "_defaultOrder": 30,
    "_isFastLaunch": false,
    "category": "Accelerated computing",
    "gpuNum": 1,
    "hideHardwareSpecs": false,
    "memoryGiB": 32,
    "name": "ml.g4dn.2xlarge",
    "vcpuNum": 8
   },
   {
    "_defaultOrder": 31,
    "_isFastLaunch": false,
    "category": "Accelerated computing",
    "gpuNum": 1,
    "hideHardwareSpecs": false,
    "memoryGiB": 64,
    "name": "ml.g4dn.4xlarge",
    "vcpuNum": 16
   },
   {
    "_defaultOrder": 32,
    "_isFastLaunch": false,
    "category": "Accelerated computing",
    "gpuNum": 1,
    "hideHardwareSpecs": false,
    "memoryGiB": 128,
    "name": "ml.g4dn.8xlarge",
    "vcpuNum": 32
   },
   {
    "_defaultOrder": 33,
    "_isFastLaunch": false,
    "category": "Accelerated computing",
    "gpuNum": 4,
    "hideHardwareSpecs": false,
    "memoryGiB": 192,
    "name": "ml.g4dn.12xlarge",
    "vcpuNum": 48
   },
   {
    "_defaultOrder": 34,
    "_isFastLaunch": false,
    "category": "Accelerated computing",
    "gpuNum": 1,
    "hideHardwareSpecs": false,
    "memoryGiB": 256,
    "name": "ml.g4dn.16xlarge",
    "vcpuNum": 64
   },
   {
    "_defaultOrder": 35,
    "_isFastLaunch": false,
    "category": "Accelerated computing",
    "gpuNum": 1,
    "hideHardwareSpecs": false,
    "memoryGiB": 61,
    "name": "ml.p3.2xlarge",
    "vcpuNum": 8
   },
   {
    "_defaultOrder": 36,
    "_isFastLaunch": false,
    "category": "Accelerated computing",
    "gpuNum": 4,
    "hideHardwareSpecs": false,
    "memoryGiB": 244,
    "name": "ml.p3.8xlarge",
    "vcpuNum": 32
   },
   {
    "_defaultOrder": 37,
    "_isFastLaunch": false,
    "category": "Accelerated computing",
    "gpuNum": 8,
    "hideHardwareSpecs": false,
    "memoryGiB": 488,
    "name": "ml.p3.16xlarge",
    "vcpuNum": 64
   },
   {
    "_defaultOrder": 38,
    "_isFastLaunch": false,
    "category": "Accelerated computing",
    "gpuNum": 8,
    "hideHardwareSpecs": false,
    "memoryGiB": 768,
    "name": "ml.p3dn.24xlarge",
    "vcpuNum": 96
   },
   {
    "_defaultOrder": 39,
    "_isFastLaunch": false,
    "category": "Memory Optimized",
    "gpuNum": 0,
    "hideHardwareSpecs": false,
    "memoryGiB": 16,
    "name": "ml.r5.large",
    "vcpuNum": 2
   },
   {
    "_defaultOrder": 40,
    "_isFastLaunch": false,
    "category": "Memory Optimized",
    "gpuNum": 0,
    "hideHardwareSpecs": false,
    "memoryGiB": 32,
    "name": "ml.r5.xlarge",
    "vcpuNum": 4
   },
   {
    "_defaultOrder": 41,
    "_isFastLaunch": false,
    "category": "Memory Optimized",
    "gpuNum": 0,
    "hideHardwareSpecs": false,
    "memoryGiB": 64,
    "name": "ml.r5.2xlarge",
    "vcpuNum": 8
   },
   {
    "_defaultOrder": 42,
    "_isFastLaunch": false,
    "category": "Memory Optimized",
    "gpuNum": 0,
    "hideHardwareSpecs": false,
    "memoryGiB": 128,
    "name": "ml.r5.4xlarge",
    "vcpuNum": 16
   },
   {
    "_defaultOrder": 43,
    "_isFastLaunch": false,
    "category": "Memory Optimized",
    "gpuNum": 0,
    "hideHardwareSpecs": false,
    "memoryGiB": 256,
    "name": "ml.r5.8xlarge",
    "vcpuNum": 32
   },
   {
    "_defaultOrder": 44,
    "_isFastLaunch": false,
    "category": "Memory Optimized",
    "gpuNum": 0,
    "hideHardwareSpecs": false,
    "memoryGiB": 384,
    "name": "ml.r5.12xlarge",
    "vcpuNum": 48
   },
   {
    "_defaultOrder": 45,
    "_isFastLaunch": false,
    "category": "Memory Optimized",
    "gpuNum": 0,
    "hideHardwareSpecs": false,
    "memoryGiB": 512,
    "name": "ml.r5.16xlarge",
    "vcpuNum": 64
   },
   {
    "_defaultOrder": 46,
    "_isFastLaunch": false,
    "category": "Memory Optimized",
    "gpuNum": 0,
    "hideHardwareSpecs": false,
    "memoryGiB": 768,
    "name": "ml.r5.24xlarge",
    "vcpuNum": 96
   },
   {
    "_defaultOrder": 47,
    "_isFastLaunch": false,
    "category": "Accelerated computing",
    "gpuNum": 1,
    "hideHardwareSpecs": false,
    "memoryGiB": 16,
    "name": "ml.g5.xlarge",
    "vcpuNum": 4
   },
   {
    "_defaultOrder": 48,
    "_isFastLaunch": false,
    "category": "Accelerated computing",
    "gpuNum": 1,
    "hideHardwareSpecs": false,
    "memoryGiB": 32,
    "name": "ml.g5.2xlarge",
    "vcpuNum": 8
   },
   {
    "_defaultOrder": 49,
    "_isFastLaunch": false,
    "category": "Accelerated computing",
    "gpuNum": 1,
    "hideHardwareSpecs": false,
    "memoryGiB": 64,
    "name": "ml.g5.4xlarge",
    "vcpuNum": 16
   },
   {
    "_defaultOrder": 50,
    "_isFastLaunch": false,
    "category": "Accelerated computing",
    "gpuNum": 1,
    "hideHardwareSpecs": false,
    "memoryGiB": 128,
    "name": "ml.g5.8xlarge",
    "vcpuNum": 32
   },
   {
    "_defaultOrder": 51,
    "_isFastLaunch": false,
    "category": "Accelerated computing",
    "gpuNum": 1,
    "hideHardwareSpecs": false,
    "memoryGiB": 256,
    "name": "ml.g5.16xlarge",
    "vcpuNum": 64
   },
   {
    "_defaultOrder": 52,
    "_isFastLaunch": false,
    "category": "Accelerated computing",
    "gpuNum": 4,
    "hideHardwareSpecs": false,
    "memoryGiB": 192,
    "name": "ml.g5.12xlarge",
    "vcpuNum": 48
   },
   {
    "_defaultOrder": 53,
    "_isFastLaunch": false,
    "category": "Accelerated computing",
    "gpuNum": 4,
    "hideHardwareSpecs": false,
    "memoryGiB": 384,
    "name": "ml.g5.24xlarge",
    "vcpuNum": 96
   },
   {
    "_defaultOrder": 54,
    "_isFastLaunch": false,
    "category": "Accelerated computing",
    "gpuNum": 8,
    "hideHardwareSpecs": false,
    "memoryGiB": 768,
    "name": "ml.g5.48xlarge",
    "vcpuNum": 192
   }
  ],
  "instance_type": "ml.t3.medium",
  "kernelspec": {
   "display_name": "Python 3 (Data Science)",
   "language": "python",
   "name": "python3__SAGEMAKER_INTERNAL__arn:aws:sagemaker:us-east-1:081325390199:image/datascience-1.0"
  },
  "language_info": {
   "codemirror_mode": {
    "name": "ipython",
    "version": 3
   },
   "file_extension": ".py",
   "mimetype": "text/x-python",
   "name": "python",
   "nbconvert_exporter": "python",
   "pygments_lexer": "ipython3",
   "version": "3.7.10"
  }
 },
 "nbformat": 4,
 "nbformat_minor": 5
}
